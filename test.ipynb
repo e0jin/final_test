{
 "cells": [
  {
   "cell_type": "markdown",
   "id": "0d6c1981-c31d-4227-810a-65eb6bfd61fd",
   "metadata": {},
   "source": [
    "---\n",
    "title: \"기말고사연습\"\n",
    "author: \"김어진(학번)\"\n",
    "format: dashboard\n",
    "execute: \n",
    "  enabled: true\n",
    "  cache: false\n",
    "  freeze: false\n",
    "  error: true\n",
    "---"
   ]
  },
  {
   "cell_type": "code",
   "execution_count": null,
   "id": "dced894e-b5d9-4fcb-b9ee-6e14f044bf33",
   "metadata": {},
   "outputs": [],
   "source": [
    "```{python}\n",
    "#| output: false\n",
    "# 여기에 온갖코드를 넣음.\n",
    "# 1-(1),(2),(3) 에 대응하는 plotly figure를 아래와 같은 이름으로 저장\n",
    "# fig1 = ...\n",
    "# fig2 = ...\n",
    "# fig3 = ...\n",
    "```\n",
    "\n",
    "# NYCTaxi 1-(1),(2)\n",
    "\n",
    "```{python}\n",
    "#| title: 요일,시간에 따른 평균속력 시각화        \n",
    "#fig1.show()\n",
    "```\n",
    "\n",
    "```{python}\n",
    "#| title: 요일,시간에 따른 평균이동거리 시각화        \n",
    "#fig2.show()\n",
    "```\n",
    "# NYCTaxi 1-(3)\n",
    "\n",
    "```{python}\n",
    "#| title: 속력별 경로 시각화\n",
    "#fig3.show()\n",
    "```\n",
    "\n",
    "\n",
    "# 에너지사용량(지리정보시각화) 2-(1)\n",
    "# 에너지사용량(지리정보시각화) 2-(2)"
   ]
  },
  {
   "cell_type": "code",
   "execution_count": null,
   "id": "2e69efaf-c8bb-464e-bcd6-9035fea9d84f",
   "metadata": {},
   "outputs": [],
   "source": []
  }
 ],
 "metadata": {
  "kernelspec": {
   "display_name": "Python 3 (ipykernel)",
   "language": "python",
   "name": "python3"
  },
  "language_info": {
   "codemirror_mode": {
    "name": "ipython",
    "version": 3
   },
   "file_extension": ".py",
   "mimetype": "text/x-python",
   "name": "python",
   "nbconvert_exporter": "python",
   "pygments_lexer": "ipython3",
   "version": "3.10.13"
  }
 },
 "nbformat": 4,
 "nbformat_minor": 5
}
