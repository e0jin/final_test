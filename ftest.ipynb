{
 "cells": [
  {
   "cell_type": "raw",
   "id": "e40f3cf9-a40b-4841-8cc6-c5d5f3377336",
   "metadata": {},
   "source": [
    "---\n",
    "title: \"기말고사\"\n",
    "author: \"김어진\"\n",
    "format: dashboard\n",
    "execute: \n",
    "  enabled: true\n",
    "  cache: false\n",
    "  freeze: false\n",
    "  error: true\n",
    "---"
   ]
  },
  {
   "cell_type": "code",
   "execution_count": 65,
   "id": "dced894e-b5d9-4fcb-b9ee-6e14f044bf33",
   "metadata": {
    "scrolled": true
   },
   "outputs": [],
   "source": [
    "import numpy as np\n",
    "import pandas as pd\n",
    "import plotly.express as px\n",
    "import plotly.io as pio\n",
    "\n",
    "pd.options.plotting.backend = \"plotly\"\n",
    "pio.templates.default = \"plotly_white\"\n",
    "\n",
    "\n",
    "\n",
    "#| output: false\n",
    "# 여기에 온갖코드를 넣음.\n",
    "\n",
    "df = pd.read_csv(\"https://raw.githubusercontent.com/guebin/DV2023/main/posts/NYCTaxi.csv\").assign(\n",
    "    log_trip_duration = lambda df: np.log(df.trip_duration),\n",
    "    pickup_datetime = lambda df: df.pickup_datetime.apply(pd.to_datetime),\n",
    "    dropoff_datetime = lambda df: df.dropoff_datetime.apply(pd.to_datetime),\n",
    "    dist = lambda df: np.sqrt((df.pickup_latitude-df.dropoff_latitude)**2 + (df.pickup_longitude-df.dropoff_longitude)**2),\n",
    "    #---#\n",
    "    vendor_id = lambda df: df.vendor_id.map({1:'A',2:'B'})\n",
    ").assign(\n",
    "    speed = lambda df: df.dist / df.trip_duration,\n",
    "    pickup_hour = lambda df: df.pickup_datetime.dt.hour,\n",
    "    dropoff_hour = lambda df: df.dropoff_datetime.dt.hour,\n",
    "    dayofweek = lambda df: df.pickup_datetime.dt.dayofweek\n",
    ")\n",
    "\n",
    "\n",
    "tidydata1 = df_feature.pivot_table(\n",
    "    index = 'dayofweek',\n",
    "    columns = 'pickup_hour',\n",
    "    values = 'speed',\n",
    "    aggfunc = 'mean'\n",
    ").stack().reset_index().rename({0:'mean_speed'}, axis =1)\n",
    "\n",
    "\n",
    "\n",
    "df_small = df[::100].reset_index(drop=True)\n",
    "\n",
    "pcol = ['pickup_datetime', 'pickup_longitude', 'pickup_latitude', 'pickup_hour']\n",
    "dcol = ['dropoff_datetime', 'dropoff_longitude', 'dropoff_latitude', 'dropoff_hour']\n",
    "def transform(df):\n",
    "    pickup = df.loc[:,['id']+pcol].set_axis(['id', 'datetime', 'longitude', 'latitude', 'hour'],axis=1).assign(type = 'pickup')\n",
    "    dropoff = df.loc[:,['id']+dcol].set_axis(['id', 'datetime', 'longitude', 'latitude', 'hour'],axis=1).assign(type = 'dropoff')\n",
    "    return pd.concat([pickup,dropoff],axis=0)\n",
    "df_left = df_small.drop(pcol+dcol,axis=1)\n",
    "df_right = pd.concat([transform(df) for i, df in df_small.groupby('id')]).reset_index(drop=True)\n",
    "df_small2 = df_left.merge(df_right)\n",
    "tidydata3 = df_small2.sort_values('speed').assign(평균속력 = lambda df: pd.qcut(df.speed,4,labels=['매우느림','조금느림','조금빠름','매우빠름']))\n",
    "\n",
    "\n",
    "# 1-(1),(2),(3) 에 대응하는 plotly figure를 아래와 같은 이름으로 저장\n",
    "fig1 = px.density_heatmap(\n",
    "    data_frame = tidydata1,\n",
    "    x = 'pickup_hour',\n",
    "    y = 'dayofweek',\n",
    "    z = 'mean_speed',\n",
    "    nbinsx=24,\n",
    "    nbinsy=7,\n",
    "    height=300\n",
    ")\n",
    "\n",
    "# fig2 = ...\n",
    "\n",
    "fig3 = px.line_mapbox(\n",
    "    data_frame = tidydata3,\n",
    "    lat = 'latitude',\n",
    "    lon = 'longitude',\n",
    "    line_group = 'id',\n",
    "    color = '평균속력',\n",
    "    center = {'lat':40.7322, 'lon':-73.9052},\n",
    "    #---#\n",
    "    mapbox_style = 'carto-positron',\n",
    "    zoom=11,\n",
    ")\n",
    "scatter_data = px.scatter_mapbox(\n",
    "    data_frame = tidydata3,\n",
    "    lat = 'latitude',\n",
    "    lon = 'longitude',\n",
    "    size = 'passenger_count',\n",
    "    size_max = 10,\n",
    "    color = '평균속력',\n",
    "    #---#\n",
    "    mapbox_style = 'carto-positron',\n",
    "    zoom=11,\n",
    ").data\n",
    "for sd in scatter_data: \n",
    "    fig3.add_trace(sd)\n",
    "fig3.update_traces(\n",
    "    line={\n",
    "        'width':1\n",
    "    },\n",
    "    opacity=0.8\n",
    ")\n",
    "\n",
    "for i in range(150):\n",
    "    if fig3.data[i].mode == 'lines':\n",
    "        fig3.data[i]['name'] += ' (path)'\n",
    "    else:\n",
    "        fig3.data[i]['name'] += ' (pickup/dropoff)'\n",
    "    \n",
    "\n",
    "fig3.show(config={'scrollZoom':False})\n",
    "\n",
    "\n",
    "# NYCTaxi 1-(1),(2)\n",
    "\n",
    "\n",
    "#| title: 요일,시간에 따른 평균속력 시각화        \n",
    "#fig1.show()\n",
    "\n",
    "\n",
    "\n",
    "#| title: 요일,시간에 따른 평균이동거리 시각화        \n",
    "#fig2.show()\n",
    "\n",
    "# NYCTaxi 1-(3)\n",
    "\n",
    "\n",
    "#| title: 속력별 경로 시각화\n",
    "#fig3.show()\n",
    "\n",
    "\n",
    "\n",
    "# 에너지사용량(지리정보시각화) 2-(1)\n",
    "# 에너지사용량(지리정보시각화) 2-(2)"
   ]
  },
  {
   "cell_type": "code",
   "execution_count": 241,
   "id": "e3f5dc6a-9628-4ec1-a5fb-d4852f4ee09c",
   "metadata": {},
   "outputs": [],
   "source": [
    "df = pd.read_csv(\"https://raw.githubusercontent.com/guebin/DV2023/main/posts/NYCTaxi.csv\").assign(\n",
    "    log_trip_duration = lambda df: np.log(df.trip_duration),\n",
    "    pickup_datetime = lambda df: df.pickup_datetime.apply(pd.to_datetime),\n",
    "    dropoff_datetime = lambda df: df.dropoff_datetime.apply(pd.to_datetime),\n",
    "    dist = lambda df: np.sqrt((df.pickup_latitude-df.dropoff_latitude)**2 + (df.pickup_longitude-df.dropoff_longitude)**2),\n",
    "    #---#\n",
    "    vendor_id = lambda df: df.vendor_id.map({1:'A',2:'B'})\n",
    ").assign(\n",
    "    speed = lambda df: df.dist / df.trip_duration,\n",
    "    pickup_hour = lambda df: df.pickup_datetime.dt.hour,\n",
    "    dropoff_hour = lambda df: df.dropoff_datetime.dt.hour,\n",
    "    dayofweek = lambda df: df.pickup_datetime.dt.dayofweek\n",
    ").assign(dayofweek = lambda df: df.dayofweek.map({0:'월',1:'화',2:'수',3:'목',4:'금',5:'토',6:'일'}))\n",
    "\n",
    "\n",
    "weekday_order = ['월', '화', '수', '목', '금', '토', '일']\n",
    "df['dayofweek'] = pd.Categorical(df['dayofweek'], categories=weekday_order, ordered=True)"
   ]
  },
  {
   "cell_type": "code",
   "execution_count": 264,
   "id": "2e69efaf-c8bb-464e-bcd6-9035fea9d84f",
   "metadata": {},
   "outputs": [
    {
     "data": {
      "application/vnd.plotly.v1+json": {
       "config": {
        "plotlyServerURL": "https://plot.ly"
       },
       "data": [
        {
         "coloraxis": "coloraxis",
         "histfunc": "sum",
         "hovertemplate": "pickup_hour=%{x}<br>dayofweek=%{y}<br>sum of speed_mean=%{z}<extra></extra>",
         "name": "",
         "nbinsx": 24,
         "nbinsy": 7,
         "type": "histogram2d",
         "x": [
          0,
          1,
          2,
          3,
          4,
          5,
          6,
          7,
          8,
          9,
          10,
          11,
          12,
          13,
          14,
          15,
          16,
          17,
          18,
          19,
          20,
          21,
          22,
          23,
          0,
          1,
          2,
          3,
          4,
          5,
          6,
          7,
          8,
          9,
          10,
          11,
          12,
          13,
          14,
          15,
          16,
          17,
          18,
          19,
          20,
          21,
          22,
          23,
          0,
          1,
          2,
          3,
          4,
          5,
          6,
          7,
          8,
          9,
          10,
          11,
          12,
          13,
          14,
          15,
          16,
          17,
          18,
          19,
          20,
          21,
          22,
          23,
          0,
          1,
          2,
          3,
          4,
          5,
          6,
          7,
          8,
          9,
          10,
          11,
          12,
          13,
          14,
          15,
          16,
          17,
          18,
          19,
          20,
          21,
          22,
          23,
          0,
          1,
          2,
          3,
          4,
          5,
          6,
          7,
          8,
          9,
          10,
          11,
          12,
          13,
          14,
          15,
          16,
          17,
          18,
          19,
          20,
          21,
          22,
          23,
          0,
          1,
          2,
          3,
          4,
          5,
          6,
          7,
          8,
          9,
          10,
          11,
          12,
          13,
          14,
          15,
          16,
          17,
          18,
          19,
          20,
          21,
          22,
          23,
          0,
          1,
          2,
          3,
          4,
          5,
          6,
          7,
          8,
          9,
          10,
          11,
          12,
          13,
          14,
          15,
          16,
          17,
          18,
          19,
          20,
          21,
          22,
          23
         ],
         "xaxis": "x",
         "xbingroup": "x",
         "y": [
          "월",
          "월",
          "월",
          "월",
          "월",
          "월",
          "월",
          "월",
          "월",
          "월",
          "월",
          "월",
          "월",
          "월",
          "월",
          "월",
          "월",
          "월",
          "월",
          "월",
          "월",
          "월",
          "월",
          "월",
          "화",
          "화",
          "화",
          "화",
          "화",
          "화",
          "화",
          "화",
          "화",
          "화",
          "화",
          "화",
          "화",
          "화",
          "화",
          "화",
          "화",
          "화",
          "화",
          "화",
          "화",
          "화",
          "화",
          "화",
          "수",
          "수",
          "수",
          "수",
          "수",
          "수",
          "수",
          "수",
          "수",
          "수",
          "수",
          "수",
          "수",
          "수",
          "수",
          "수",
          "수",
          "수",
          "수",
          "수",
          "수",
          "수",
          "수",
          "수",
          "목",
          "목",
          "목",
          "목",
          "목",
          "목",
          "목",
          "목",
          "목",
          "목",
          "목",
          "목",
          "목",
          "목",
          "목",
          "목",
          "목",
          "목",
          "목",
          "목",
          "목",
          "목",
          "목",
          "목",
          "금",
          "금",
          "금",
          "금",
          "금",
          "금",
          "금",
          "금",
          "금",
          "금",
          "금",
          "금",
          "금",
          "금",
          "금",
          "금",
          "금",
          "금",
          "금",
          "금",
          "금",
          "금",
          "금",
          "금",
          "토",
          "토",
          "토",
          "토",
          "토",
          "토",
          "토",
          "토",
          "토",
          "토",
          "토",
          "토",
          "토",
          "토",
          "토",
          "토",
          "토",
          "토",
          "토",
          "토",
          "토",
          "토",
          "토",
          "토",
          "일",
          "일",
          "일",
          "일",
          "일",
          "일",
          "일",
          "일",
          "일",
          "일",
          "일",
          "일",
          "일",
          "일",
          "일",
          "일",
          "일",
          "일",
          "일",
          "일",
          "일",
          "일",
          "일",
          "일"
         ],
         "yaxis": "y",
         "ybingroup": "y",
         "z": [
          6.192500620581454e-05,
          7.01657870423287e-05,
          4.722024947464294e-05,
          5.831838054486283e-05,
          7.501200117229855e-05,
          7.271806607809553e-05,
          5.82080690005862e-05,
          4.4350735375279734e-05,
          3.511552334477387e-05,
          2.997742168251701e-05,
          3.654893760953111e-05,
          3.567971201801838e-05,
          3.68351958924078e-05,
          3.626739408054189e-05,
          3.700353060885671e-05,
          3.416021507732824e-05,
          3.6374777610569375e-05,
          3.837000687649857e-05,
          3.687521512933487e-05,
          4.324538929618186e-05,
          4.7472294372555685e-05,
          4.6841728151185616e-05,
          5.075381481080666e-05,
          5.8369953650412785e-05,
          5.449040166377657e-05,
          5.371153739926472e-05,
          5.9327518000189613e-05,
          6.501232110857415e-05,
          6.09770720963975e-05,
          7.368294268979752e-05,
          5.296087558310268e-05,
          4.014571412064587e-05,
          3.0239910535490427e-05,
          3.0295735687408936e-05,
          2.8788144332399327e-05,
          3.1401137001383755e-05,
          3.1082537741861597e-05,
          3.2717081723126535e-05,
          3.3209439857716466e-05,
          3.0926922714119265e-05,
          3.490920149655713e-05,
          3.651160551548555e-05,
          3.5197765617747696e-05,
          4.084229687121748e-05,
          4.420867847885844e-05,
          4.604553865445799e-05,
          4.6374251298536607e-05,
          5.0336294998193645e-05,
          6.116378568153915e-05,
          5.95080286367072e-05,
          6.558620712482186e-05,
          6.827551865012208e-05,
          5.361846347616713e-05,
          6.279575915660333e-05,
          5.598712473866864e-05,
          4.077717937393523e-05,
          3.2903688520327856e-05,
          3.105778192517575e-05,
          3.096250909762546e-05,
          2.885125706597703e-05,
          2.8356901691793332e-05,
          3.2183704895910935e-05,
          3.2657360092844285e-05,
          3.2385313596706385e-05,
          3.513650692732357e-05,
          3.260243838756182e-05,
          3.426938006584745e-05,
          3.800713880661725e-05,
          4.463905911483369e-05,
          4.373551959756939e-05,
          4.390793462441752e-05,
          4.721072678728939e-05,
          5.184038313132204e-05,
          5.431164883830948e-05,
          6.564506227576916e-05,
          6.256305382134688e-05,
          6.557612348720275e-05,
          6.734676487404748e-05,
          5.566553665245741e-05,
          3.8891036987676096e-05,
          3.194733733068311e-05,
          3.058161299605332e-05,
          2.841971807469577e-05,
          3.139054878128309e-05,
          2.8072220637437904e-05,
          2.912536814022494e-05,
          3.0483574952789655e-05,
          3.0482516889906108e-05,
          3.2536089830653354e-05,
          3.190937308395514e-05,
          3.5171677707915996e-05,
          3.666518614712408e-05,
          4.115466120544063e-05,
          4.285079309064918e-05,
          4.454546790905556e-05,
          4.862714201534865e-05,
          4.889898395295332e-05,
          4.808840856559643e-05,
          4.878273252150626e-05,
          6.34974889800912e-05,
          6.419844452350097e-05,
          8.213525549634397e-05,
          5.5162509076601056e-05,
          4.3339251930531036e-05,
          3.3304999075313214e-05,
          3.012557127048596e-05,
          3.592488451595608e-05,
          3.0718583299376126e-05,
          2.9427012774861235e-05,
          3.454598391083255e-05,
          3.4045488976107045e-05,
          3.080162213079083e-05,
          3.485311718234654e-05,
          3.449227456730189e-05,
          3.7718419409648606e-05,
          3.553449344350005e-05,
          4.0243374440793287e-05,
          4.145330173617502e-05,
          3.966782648108991e-05,
          4.0172727931235506e-05,
          4.57447448153166e-05,
          4.3779793536928186e-05,
          4.813530120600683e-05,
          5.3113156583687176e-05,
          5.36954428774924e-05,
          5.789639394612405e-05,
          6.295669093404916e-05,
          5.823198976572878e-05,
          6.329730608490566e-05,
          4.538403845477675e-05,
          4.287566907836539e-05,
          4.012185557659054e-05,
          3.8568061286522577e-05,
          3.334539954204504e-05,
          3.817735599696121e-05,
          3.546830176689362e-05,
          3.670828647599709e-05,
          3.648929023122584e-05,
          3.583103523861355e-05,
          3.315983385198783e-05,
          3.5949554491412764e-05,
          3.945642365833438e-05,
          4.101380586816511e-05,
          3.869980757776298e-05,
          4.867451265381591e-05,
          4.5558581960528345e-05,
          5.371833554638321e-05,
          4.7426951540305794e-05,
          5.4501276502573515e-05,
          7.543749941217084e-05,
          7.952472316751356e-05,
          7.760794422122645e-05,
          5.849479587077e-05,
          4.551503691452916e-05,
          4.465601215456055e-05,
          4.5688966332788196e-05,
          4.496255086996648e-05,
          4.084005371383958e-05,
          3.917105541083395e-05,
          3.898352553179462e-05,
          3.6765405788468567e-05,
          4.2969895700655737e-05,
          3.965857969296879e-05,
          4.4004188079270204e-05,
          4.622882864080493e-05,
          5.028697201841166e-05,
          5.1209161076426195e-05,
          5.785112782340353e-05
         ]
        }
       ],
       "layout": {
        "autosize": true,
        "coloraxis": {
         "colorbar": {
          "title": {
           "text": "평균속력"
          }
         },
         "colorscale": [
          [
           0,
           "#0d0887"
          ],
          [
           0.1111111111111111,
           "#46039f"
          ],
          [
           0.2222222222222222,
           "#7201a8"
          ],
          [
           0.3333333333333333,
           "#9c179e"
          ],
          [
           0.4444444444444444,
           "#bd3786"
          ],
          [
           0.5555555555555556,
           "#d8576b"
          ],
          [
           0.6666666666666666,
           "#ed7953"
          ],
          [
           0.7777777777777778,
           "#fb9f3a"
          ],
          [
           0.8888888888888888,
           "#fdca26"
          ],
          [
           1,
           "#f0f921"
          ]
         ]
        },
        "legend": {
         "tracegroupgap": 0
        },
        "margin": {
         "t": 60
        },
        "template": {
         "data": {
          "bar": [
           {
            "error_x": {
             "color": "#2a3f5f"
            },
            "error_y": {
             "color": "#2a3f5f"
            },
            "marker": {
             "line": {
              "color": "white",
              "width": 0.5
             },
             "pattern": {
              "fillmode": "overlay",
              "size": 10,
              "solidity": 0.2
             }
            },
            "type": "bar"
           }
          ],
          "barpolar": [
           {
            "marker": {
             "line": {
              "color": "white",
              "width": 0.5
             },
             "pattern": {
              "fillmode": "overlay",
              "size": 10,
              "solidity": 0.2
             }
            },
            "type": "barpolar"
           }
          ],
          "carpet": [
           {
            "aaxis": {
             "endlinecolor": "#2a3f5f",
             "gridcolor": "#C8D4E3",
             "linecolor": "#C8D4E3",
             "minorgridcolor": "#C8D4E3",
             "startlinecolor": "#2a3f5f"
            },
            "baxis": {
             "endlinecolor": "#2a3f5f",
             "gridcolor": "#C8D4E3",
             "linecolor": "#C8D4E3",
             "minorgridcolor": "#C8D4E3",
             "startlinecolor": "#2a3f5f"
            },
            "type": "carpet"
           }
          ],
          "choropleth": [
           {
            "colorbar": {
             "outlinewidth": 0,
             "ticks": ""
            },
            "type": "choropleth"
           }
          ],
          "contour": [
           {
            "colorbar": {
             "outlinewidth": 0,
             "ticks": ""
            },
            "colorscale": [
             [
              0,
              "#0d0887"
             ],
             [
              0.1111111111111111,
              "#46039f"
             ],
             [
              0.2222222222222222,
              "#7201a8"
             ],
             [
              0.3333333333333333,
              "#9c179e"
             ],
             [
              0.4444444444444444,
              "#bd3786"
             ],
             [
              0.5555555555555556,
              "#d8576b"
             ],
             [
              0.6666666666666666,
              "#ed7953"
             ],
             [
              0.7777777777777778,
              "#fb9f3a"
             ],
             [
              0.8888888888888888,
              "#fdca26"
             ],
             [
              1,
              "#f0f921"
             ]
            ],
            "type": "contour"
           }
          ],
          "contourcarpet": [
           {
            "colorbar": {
             "outlinewidth": 0,
             "ticks": ""
            },
            "type": "contourcarpet"
           }
          ],
          "heatmap": [
           {
            "colorbar": {
             "outlinewidth": 0,
             "ticks": ""
            },
            "colorscale": [
             [
              0,
              "#0d0887"
             ],
             [
              0.1111111111111111,
              "#46039f"
             ],
             [
              0.2222222222222222,
              "#7201a8"
             ],
             [
              0.3333333333333333,
              "#9c179e"
             ],
             [
              0.4444444444444444,
              "#bd3786"
             ],
             [
              0.5555555555555556,
              "#d8576b"
             ],
             [
              0.6666666666666666,
              "#ed7953"
             ],
             [
              0.7777777777777778,
              "#fb9f3a"
             ],
             [
              0.8888888888888888,
              "#fdca26"
             ],
             [
              1,
              "#f0f921"
             ]
            ],
            "type": "heatmap"
           }
          ],
          "heatmapgl": [
           {
            "colorbar": {
             "outlinewidth": 0,
             "ticks": ""
            },
            "colorscale": [
             [
              0,
              "#0d0887"
             ],
             [
              0.1111111111111111,
              "#46039f"
             ],
             [
              0.2222222222222222,
              "#7201a8"
             ],
             [
              0.3333333333333333,
              "#9c179e"
             ],
             [
              0.4444444444444444,
              "#bd3786"
             ],
             [
              0.5555555555555556,
              "#d8576b"
             ],
             [
              0.6666666666666666,
              "#ed7953"
             ],
             [
              0.7777777777777778,
              "#fb9f3a"
             ],
             [
              0.8888888888888888,
              "#fdca26"
             ],
             [
              1,
              "#f0f921"
             ]
            ],
            "type": "heatmapgl"
           }
          ],
          "histogram": [
           {
            "marker": {
             "pattern": {
              "fillmode": "overlay",
              "size": 10,
              "solidity": 0.2
             }
            },
            "type": "histogram"
           }
          ],
          "histogram2d": [
           {
            "colorbar": {
             "outlinewidth": 0,
             "ticks": ""
            },
            "colorscale": [
             [
              0,
              "#0d0887"
             ],
             [
              0.1111111111111111,
              "#46039f"
             ],
             [
              0.2222222222222222,
              "#7201a8"
             ],
             [
              0.3333333333333333,
              "#9c179e"
             ],
             [
              0.4444444444444444,
              "#bd3786"
             ],
             [
              0.5555555555555556,
              "#d8576b"
             ],
             [
              0.6666666666666666,
              "#ed7953"
             ],
             [
              0.7777777777777778,
              "#fb9f3a"
             ],
             [
              0.8888888888888888,
              "#fdca26"
             ],
             [
              1,
              "#f0f921"
             ]
            ],
            "type": "histogram2d"
           }
          ],
          "histogram2dcontour": [
           {
            "colorbar": {
             "outlinewidth": 0,
             "ticks": ""
            },
            "colorscale": [
             [
              0,
              "#0d0887"
             ],
             [
              0.1111111111111111,
              "#46039f"
             ],
             [
              0.2222222222222222,
              "#7201a8"
             ],
             [
              0.3333333333333333,
              "#9c179e"
             ],
             [
              0.4444444444444444,
              "#bd3786"
             ],
             [
              0.5555555555555556,
              "#d8576b"
             ],
             [
              0.6666666666666666,
              "#ed7953"
             ],
             [
              0.7777777777777778,
              "#fb9f3a"
             ],
             [
              0.8888888888888888,
              "#fdca26"
             ],
             [
              1,
              "#f0f921"
             ]
            ],
            "type": "histogram2dcontour"
           }
          ],
          "mesh3d": [
           {
            "colorbar": {
             "outlinewidth": 0,
             "ticks": ""
            },
            "type": "mesh3d"
           }
          ],
          "parcoords": [
           {
            "line": {
             "colorbar": {
              "outlinewidth": 0,
              "ticks": ""
             }
            },
            "type": "parcoords"
           }
          ],
          "pie": [
           {
            "automargin": true,
            "type": "pie"
           }
          ],
          "scatter": [
           {
            "fillpattern": {
             "fillmode": "overlay",
             "size": 10,
             "solidity": 0.2
            },
            "type": "scatter"
           }
          ],
          "scatter3d": [
           {
            "line": {
             "colorbar": {
              "outlinewidth": 0,
              "ticks": ""
             }
            },
            "marker": {
             "colorbar": {
              "outlinewidth": 0,
              "ticks": ""
             }
            },
            "type": "scatter3d"
           }
          ],
          "scattercarpet": [
           {
            "marker": {
             "colorbar": {
              "outlinewidth": 0,
              "ticks": ""
             }
            },
            "type": "scattercarpet"
           }
          ],
          "scattergeo": [
           {
            "marker": {
             "colorbar": {
              "outlinewidth": 0,
              "ticks": ""
             }
            },
            "type": "scattergeo"
           }
          ],
          "scattergl": [
           {
            "marker": {
             "colorbar": {
              "outlinewidth": 0,
              "ticks": ""
             }
            },
            "type": "scattergl"
           }
          ],
          "scattermapbox": [
           {
            "marker": {
             "colorbar": {
              "outlinewidth": 0,
              "ticks": ""
             }
            },
            "type": "scattermapbox"
           }
          ],
          "scatterpolar": [
           {
            "marker": {
             "colorbar": {
              "outlinewidth": 0,
              "ticks": ""
             }
            },
            "type": "scatterpolar"
           }
          ],
          "scatterpolargl": [
           {
            "marker": {
             "colorbar": {
              "outlinewidth": 0,
              "ticks": ""
             }
            },
            "type": "scatterpolargl"
           }
          ],
          "scatterternary": [
           {
            "marker": {
             "colorbar": {
              "outlinewidth": 0,
              "ticks": ""
             }
            },
            "type": "scatterternary"
           }
          ],
          "surface": [
           {
            "colorbar": {
             "outlinewidth": 0,
             "ticks": ""
            },
            "colorscale": [
             [
              0,
              "#0d0887"
             ],
             [
              0.1111111111111111,
              "#46039f"
             ],
             [
              0.2222222222222222,
              "#7201a8"
             ],
             [
              0.3333333333333333,
              "#9c179e"
             ],
             [
              0.4444444444444444,
              "#bd3786"
             ],
             [
              0.5555555555555556,
              "#d8576b"
             ],
             [
              0.6666666666666666,
              "#ed7953"
             ],
             [
              0.7777777777777778,
              "#fb9f3a"
             ],
             [
              0.8888888888888888,
              "#fdca26"
             ],
             [
              1,
              "#f0f921"
             ]
            ],
            "type": "surface"
           }
          ],
          "table": [
           {
            "cells": {
             "fill": {
              "color": "#EBF0F8"
             },
             "line": {
              "color": "white"
             }
            },
            "header": {
             "fill": {
              "color": "#C8D4E3"
             },
             "line": {
              "color": "white"
             }
            },
            "type": "table"
           }
          ]
         },
         "layout": {
          "annotationdefaults": {
           "arrowcolor": "#2a3f5f",
           "arrowhead": 0,
           "arrowwidth": 1
          },
          "autotypenumbers": "strict",
          "coloraxis": {
           "colorbar": {
            "outlinewidth": 0,
            "ticks": ""
           }
          },
          "colorscale": {
           "diverging": [
            [
             0,
             "#8e0152"
            ],
            [
             0.1,
             "#c51b7d"
            ],
            [
             0.2,
             "#de77ae"
            ],
            [
             0.3,
             "#f1b6da"
            ],
            [
             0.4,
             "#fde0ef"
            ],
            [
             0.5,
             "#f7f7f7"
            ],
            [
             0.6,
             "#e6f5d0"
            ],
            [
             0.7,
             "#b8e186"
            ],
            [
             0.8,
             "#7fbc41"
            ],
            [
             0.9,
             "#4d9221"
            ],
            [
             1,
             "#276419"
            ]
           ],
           "sequential": [
            [
             0,
             "#0d0887"
            ],
            [
             0.1111111111111111,
             "#46039f"
            ],
            [
             0.2222222222222222,
             "#7201a8"
            ],
            [
             0.3333333333333333,
             "#9c179e"
            ],
            [
             0.4444444444444444,
             "#bd3786"
            ],
            [
             0.5555555555555556,
             "#d8576b"
            ],
            [
             0.6666666666666666,
             "#ed7953"
            ],
            [
             0.7777777777777778,
             "#fb9f3a"
            ],
            [
             0.8888888888888888,
             "#fdca26"
            ],
            [
             1,
             "#f0f921"
            ]
           ],
           "sequentialminus": [
            [
             0,
             "#0d0887"
            ],
            [
             0.1111111111111111,
             "#46039f"
            ],
            [
             0.2222222222222222,
             "#7201a8"
            ],
            [
             0.3333333333333333,
             "#9c179e"
            ],
            [
             0.4444444444444444,
             "#bd3786"
            ],
            [
             0.5555555555555556,
             "#d8576b"
            ],
            [
             0.6666666666666666,
             "#ed7953"
            ],
            [
             0.7777777777777778,
             "#fb9f3a"
            ],
            [
             0.8888888888888888,
             "#fdca26"
            ],
            [
             1,
             "#f0f921"
            ]
           ]
          },
          "colorway": [
           "#636efa",
           "#EF553B",
           "#00cc96",
           "#ab63fa",
           "#FFA15A",
           "#19d3f3",
           "#FF6692",
           "#B6E880",
           "#FF97FF",
           "#FECB52"
          ],
          "font": {
           "color": "#2a3f5f"
          },
          "geo": {
           "bgcolor": "white",
           "lakecolor": "white",
           "landcolor": "white",
           "showlakes": true,
           "showland": true,
           "subunitcolor": "#C8D4E3"
          },
          "hoverlabel": {
           "align": "left"
          },
          "hovermode": "closest",
          "mapbox": {
           "style": "light"
          },
          "paper_bgcolor": "white",
          "plot_bgcolor": "white",
          "polar": {
           "angularaxis": {
            "gridcolor": "#EBF0F8",
            "linecolor": "#EBF0F8",
            "ticks": ""
           },
           "bgcolor": "white",
           "radialaxis": {
            "gridcolor": "#EBF0F8",
            "linecolor": "#EBF0F8",
            "ticks": ""
           }
          },
          "scene": {
           "xaxis": {
            "backgroundcolor": "white",
            "gridcolor": "#DFE8F3",
            "gridwidth": 2,
            "linecolor": "#EBF0F8",
            "showbackground": true,
            "ticks": "",
            "zerolinecolor": "#EBF0F8"
           },
           "yaxis": {
            "backgroundcolor": "white",
            "gridcolor": "#DFE8F3",
            "gridwidth": 2,
            "linecolor": "#EBF0F8",
            "showbackground": true,
            "ticks": "",
            "zerolinecolor": "#EBF0F8"
           },
           "zaxis": {
            "backgroundcolor": "white",
            "gridcolor": "#DFE8F3",
            "gridwidth": 2,
            "linecolor": "#EBF0F8",
            "showbackground": true,
            "ticks": "",
            "zerolinecolor": "#EBF0F8"
           }
          },
          "shapedefaults": {
           "line": {
            "color": "#2a3f5f"
           }
          },
          "ternary": {
           "aaxis": {
            "gridcolor": "#DFE8F3",
            "linecolor": "#A2B1C6",
            "ticks": ""
           },
           "baxis": {
            "gridcolor": "#DFE8F3",
            "linecolor": "#A2B1C6",
            "ticks": ""
           },
           "bgcolor": "white",
           "caxis": {
            "gridcolor": "#DFE8F3",
            "linecolor": "#A2B1C6",
            "ticks": ""
           }
          },
          "title": {
           "x": 0.05
          },
          "xaxis": {
           "automargin": true,
           "gridcolor": "#EBF0F8",
           "linecolor": "#EBF0F8",
           "ticks": "",
           "title": {
            "standoff": 15
           },
           "zerolinecolor": "#EBF0F8",
           "zerolinewidth": 2
          },
          "yaxis": {
           "automargin": true,
           "gridcolor": "#EBF0F8",
           "linecolor": "#EBF0F8",
           "ticks": "",
           "title": {
            "standoff": 15
           },
           "zerolinecolor": "#EBF0F8",
           "zerolinewidth": 2
          }
         }
        },
        "xaxis": {
         "anchor": "y",
         "autorange": true,
         "domain": [
          0,
          1
         ],
         "range": [
          -0.5,
          23.5
         ],
         "title": {
          "text": "pickup 시간"
         },
         "type": "linear"
        },
        "yaxis": {
         "anchor": "x",
         "autorange": true,
         "domain": [
          0,
          1
         ],
         "range": [
          -0.5,
          6.5
         ],
         "title": {
          "text": "요일"
         },
         "type": "category"
        }
       }
      },
      "image/png": "[encoded data removed]",
      "text/html": [
       "<div>                            <div id=\"884da726-d134-46e0-b5ea-5535a431bb8d\" class=\"plotly-graph-div\" style=\"height:300px; width:100%;\"></div>            <script type=\"text/javascript\">                require([\"plotly\"], function(Plotly) {                    window.PLOTLYENV=window.PLOTLYENV || {};                                    if (document.getElementById(\"884da726-d134-46e0-b5ea-5535a431bb8d\")) {                    Plotly.newPlot(                        \"884da726-d134-46e0-b5ea-5535a431bb8d\",                        [{\"coloraxis\":\"coloraxis\",\"histfunc\":\"sum\",\"hovertemplate\":\"pickup_hour=%{x}\\u003cbr\\u003edayofweek=%{y}\\u003cbr\\u003esum of speed_mean=%{z}\\u003cextra\\u003e\\u003c\\u002fextra\\u003e\",\"name\":\"\",\"nbinsx\":24,\"nbinsy\":7,\"x\":[0,1,2,3,4,5,6,7,8,9,10,11,12,13,14,15,16,17,18,19,20,21,22,23,0,1,2,3,4,5,6,7,8,9,10,11,12,13,14,15,16,17,18,19,20,21,22,23,0,1,2,3,4,5,6,7,8,9,10,11,12,13,14,15,16,17,18,19,20,21,22,23,0,1,2,3,4,5,6,7,8,9,10,11,12,13,14,15,16,17,18,19,20,21,22,23,0,1,2,3,4,5,6,7,8,9,10,11,12,13,14,15,16,17,18,19,20,21,22,23,0,1,2,3,4,5,6,7,8,9,10,11,12,13,14,15,16,17,18,19,20,21,22,23,0,1,2,3,4,5,6,7,8,9,10,11,12,13,14,15,16,17,18,19,20,21,22,23],\"xaxis\":\"x\",\"xbingroup\":\"x\",\"y\":[\"\\uc6d4\",\"\\uc6d4\",\"\\uc6d4\",\"\\uc6d4\",\"\\uc6d4\",\"\\uc6d4\",\"\\uc6d4\",\"\\uc6d4\",\"\\uc6d4\",\"\\uc6d4\",\"\\uc6d4\",\"\\uc6d4\",\"\\uc6d4\",\"\\uc6d4\",\"\\uc6d4\",\"\\uc6d4\",\"\\uc6d4\",\"\\uc6d4\",\"\\uc6d4\",\"\\uc6d4\",\"\\uc6d4\",\"\\uc6d4\",\"\\uc6d4\",\"\\uc6d4\",\"\\ud654\",\"\\ud654\",\"\\ud654\",\"\\ud654\",\"\\ud654\",\"\\ud654\",\"\\ud654\",\"\\ud654\",\"\\ud654\",\"\\ud654\",\"\\ud654\",\"\\ud654\",\"\\ud654\",\"\\ud654\",\"\\ud654\",\"\\ud654\",\"\\ud654\",\"\\ud654\",\"\\ud654\",\"\\ud654\",\"\\ud654\",\"\\ud654\",\"\\ud654\",\"\\ud654\",\"\\uc218\",\"\\uc218\",\"\\uc218\",\"\\uc218\",\"\\uc218\",\"\\uc218\",\"\\uc218\",\"\\uc218\",\"\\uc218\",\"\\uc218\",\"\\uc218\",\"\\uc218\",\"\\uc218\",\"\\uc218\",\"\\uc218\",\"\\uc218\",\"\\uc218\",\"\\uc218\",\"\\uc218\",\"\\uc218\",\"\\uc218\",\"\\uc218\",\"\\uc218\",\"\\uc218\",\"\\ubaa9\",\"\\ubaa9\",\"\\ubaa9\",\"\\ubaa9\",\"\\ubaa9\",\"\\ubaa9\",\"\\ubaa9\",\"\\ubaa9\",\"\\ubaa9\",\"\\ubaa9\",\"\\ubaa9\",\"\\ubaa9\",\"\\ubaa9\",\"\\ubaa9\",\"\\ubaa9\",\"\\ubaa9\",\"\\ubaa9\",\"\\ubaa9\",\"\\ubaa9\",\"\\ubaa9\",\"\\ubaa9\",\"\\ubaa9\",\"\\ubaa9\",\"\\ubaa9\",\"\\uae08\",\"\\uae08\",\"\\uae08\",\"\\uae08\",\"\\uae08\",\"\\uae08\",\"\\uae08\",\"\\uae08\",\"\\uae08\",\"\\uae08\",\"\\uae08\",\"\\uae08\",\"\\uae08\",\"\\uae08\",\"\\uae08\",\"\\uae08\",\"\\uae08\",\"\\uae08\",\"\\uae08\",\"\\uae08\",\"\\uae08\",\"\\uae08\",\"\\uae08\",\"\\uae08\",\"\\ud1a0\",\"\\ud1a0\",\"\\ud1a0\",\"\\ud1a0\",\"\\ud1a0\",\"\\ud1a0\",\"\\ud1a0\",\"\\ud1a0\",\"\\ud1a0\",\"\\ud1a0\",\"\\ud1a0\",\"\\ud1a0\",\"\\ud1a0\",\"\\ud1a0\",\"\\ud1a0\",\"\\ud1a0\",\"\\ud1a0\",\"\\ud1a0\",\"\\ud1a0\",\"\\ud1a0\",\"\\ud1a0\",\"\\ud1a0\",\"\\ud1a0\",\"\\ud1a0\",\"\\uc77c\",\"\\uc77c\",\"\\uc77c\",\"\\uc77c\",\"\\uc77c\",\"\\uc77c\",\"\\uc77c\",\"\\uc77c\",\"\\uc77c\",\"\\uc77c\",\"\\uc77c\",\"\\uc77c\",\"\\uc77c\",\"\\uc77c\",\"\\uc77c\",\"\\uc77c\",\"\\uc77c\",\"\\uc77c\",\"\\uc77c\",\"\\uc77c\",\"\\uc77c\",\"\\uc77c\",\"\\uc77c\",\"\\uc77c\"],\"yaxis\":\"y\",\"ybingroup\":\"y\",\"z\":[6.192500620581454e-05,7.01657870423287e-05,4.722024947464294e-05,5.831838054486283e-05,7.501200117229855e-05,7.271806607809553e-05,5.82080690005862e-05,4.4350735375279734e-05,3.511552334477387e-05,2.997742168251701e-05,3.654893760953111e-05,3.567971201801838e-05,3.68351958924078e-05,3.626739408054189e-05,3.700353060885671e-05,3.416021507732824e-05,3.6374777610569375e-05,3.837000687649857e-05,3.687521512933487e-05,4.324538929618186e-05,4.7472294372555685e-05,4.6841728151185616e-05,5.075381481080666e-05,5.8369953650412785e-05,5.449040166377657e-05,5.371153739926472e-05,5.9327518000189613e-05,6.501232110857415e-05,6.09770720963975e-05,7.368294268979752e-05,5.296087558310268e-05,4.014571412064587e-05,3.0239910535490427e-05,3.0295735687408936e-05,2.8788144332399327e-05,3.1401137001383755e-05,3.1082537741861597e-05,3.2717081723126535e-05,3.3209439857716466e-05,3.0926922714119265e-05,3.490920149655713e-05,3.651160551548555e-05,3.5197765617747696e-05,4.084229687121748e-05,4.420867847885844e-05,4.604553865445799e-05,4.6374251298536607e-05,5.0336294998193645e-05,6.116378568153915e-05,5.95080286367072e-05,6.558620712482186e-05,6.827551865012208e-05,5.361846347616713e-05,6.279575915660333e-05,5.598712473866864e-05,4.077717937393523e-05,3.2903688520327856e-05,3.105778192517575e-05,3.096250909762546e-05,2.885125706597703e-05,2.8356901691793332e-05,3.2183704895910935e-05,3.2657360092844285e-05,3.2385313596706385e-05,3.513650692732357e-05,3.260243838756182e-05,3.426938006584745e-05,3.800713880661725e-05,4.463905911483369e-05,4.373551959756939e-05,4.390793462441752e-05,4.721072678728939e-05,5.184038313132204e-05,5.431164883830948e-05,6.564506227576916e-05,6.256305382134688e-05,6.557612348720275e-05,6.734676487404748e-05,5.566553665245741e-05,3.8891036987676096e-05,3.194733733068311e-05,3.058161299605332e-05,2.841971807469577e-05,3.139054878128309e-05,2.8072220637437904e-05,2.912536814022494e-05,3.0483574952789655e-05,3.0482516889906108e-05,3.2536089830653354e-05,3.190937308395514e-05,3.5171677707915996e-05,3.666518614712408e-05,4.115466120544063e-05,4.285079309064918e-05,4.454546790905556e-05,4.862714201534865e-05,4.889898395295332e-05,4.808840856559643e-05,4.878273252150626e-05,6.34974889800912e-05,6.419844452350097e-05,8.213525549634397e-05,5.5162509076601056e-05,4.3339251930531036e-05,3.3304999075313214e-05,3.012557127048596e-05,3.592488451595608e-05,3.0718583299376126e-05,2.9427012774861235e-05,3.454598391083255e-05,3.4045488976107045e-05,3.080162213079083e-05,3.485311718234654e-05,3.449227456730189e-05,3.7718419409648606e-05,3.553449344350005e-05,4.0243374440793287e-05,4.145330173617502e-05,3.966782648108991e-05,4.0172727931235506e-05,4.57447448153166e-05,4.3779793536928186e-05,4.813530120600683e-05,5.3113156583687176e-05,5.36954428774924e-05,5.789639394612405e-05,6.295669093404916e-05,5.823198976572878e-05,6.329730608490566e-05,4.538403845477675e-05,4.287566907836539e-05,4.012185557659054e-05,3.8568061286522577e-05,3.334539954204504e-05,3.817735599696121e-05,3.546830176689362e-05,3.670828647599709e-05,3.648929023122584e-05,3.583103523861355e-05,3.315983385198783e-05,3.5949554491412764e-05,3.945642365833438e-05,4.101380586816511e-05,3.869980757776298e-05,4.867451265381591e-05,4.5558581960528345e-05,5.371833554638321e-05,4.7426951540305794e-05,5.4501276502573515e-05,7.543749941217084e-05,7.952472316751356e-05,7.760794422122645e-05,5.849479587077e-05,4.551503691452916e-05,4.465601215456055e-05,4.5688966332788196e-05,4.496255086996648e-05,4.084005371383958e-05,3.917105541083395e-05,3.898352553179462e-05,3.6765405788468567e-05,4.2969895700655737e-05,3.965857969296879e-05,4.4004188079270204e-05,4.622882864080493e-05,5.028697201841166e-05,5.1209161076426195e-05,5.785112782340353e-05],\"type\":\"histogram2d\"}],                        {\"template\":{\"data\":{\"histogram2dcontour\":[{\"type\":\"histogram2dcontour\",\"colorbar\":{\"outlinewidth\":0,\"ticks\":\"\"},\"colorscale\":[[0.0,\"#0d0887\"],[0.1111111111111111,\"#46039f\"],[0.2222222222222222,\"#7201a8\"],[0.3333333333333333,\"#9c179e\"],[0.4444444444444444,\"#bd3786\"],[0.5555555555555556,\"#d8576b\"],[0.6666666666666666,\"#ed7953\"],[0.7777777777777778,\"#fb9f3a\"],[0.8888888888888888,\"#fdca26\"],[1.0,\"#f0f921\"]]}],\"choropleth\":[{\"type\":\"choropleth\",\"colorbar\":{\"outlinewidth\":0,\"ticks\":\"\"}}],\"histogram2d\":[{\"type\":\"histogram2d\",\"colorbar\":{\"outlinewidth\":0,\"ticks\":\"\"},\"colorscale\":[[0.0,\"#0d0887\"],[0.1111111111111111,\"#46039f\"],[0.2222222222222222,\"#7201a8\"],[0.3333333333333333,\"#9c179e\"],[0.4444444444444444,\"#bd3786\"],[0.5555555555555556,\"#d8576b\"],[0.6666666666666666,\"#ed7953\"],[0.7777777777777778,\"#fb9f3a\"],[0.8888888888888888,\"#fdca26\"],[1.0,\"#f0f921\"]]}],\"heatmap\":[{\"type\":\"heatmap\",\"colorbar\":{\"outlinewidth\":0,\"ticks\":\"\"},\"colorscale\":[[0.0,\"#0d0887\"],[0.1111111111111111,\"#46039f\"],[0.2222222222222222,\"#7201a8\"],[0.3333333333333333,\"#9c179e\"],[0.4444444444444444,\"#bd3786\"],[0.5555555555555556,\"#d8576b\"],[0.6666666666666666,\"#ed7953\"],[0.7777777777777778,\"#fb9f3a\"],[0.8888888888888888,\"#fdca26\"],[1.0,\"#f0f921\"]]}],\"heatmapgl\":[{\"type\":\"heatmapgl\",\"colorbar\":{\"outlinewidth\":0,\"ticks\":\"\"},\"colorscale\":[[0.0,\"#0d0887\"],[0.1111111111111111,\"#46039f\"],[0.2222222222222222,\"#7201a8\"],[0.3333333333333333,\"#9c179e\"],[0.4444444444444444,\"#bd3786\"],[0.5555555555555556,\"#d8576b\"],[0.6666666666666666,\"#ed7953\"],[0.7777777777777778,\"#fb9f3a\"],[0.8888888888888888,\"#fdca26\"],[1.0,\"#f0f921\"]]}],\"contourcarpet\":[{\"type\":\"contourcarpet\",\"colorbar\":{\"outlinewidth\":0,\"ticks\":\"\"}}],\"contour\":[{\"type\":\"contour\",\"colorbar\":{\"outlinewidth\":0,\"ticks\":\"\"},\"colorscale\":[[0.0,\"#0d0887\"],[0.1111111111111111,\"#46039f\"],[0.2222222222222222,\"#7201a8\"],[0.3333333333333333,\"#9c179e\"],[0.4444444444444444,\"#bd3786\"],[0.5555555555555556,\"#d8576b\"],[0.6666666666666666,\"#ed7953\"],[0.7777777777777778,\"#fb9f3a\"],[0.8888888888888888,\"#fdca26\"],[1.0,\"#f0f921\"]]}],\"surface\":[{\"type\":\"surface\",\"colorbar\":{\"outlinewidth\":0,\"ticks\":\"\"},\"colorscale\":[[0.0,\"#0d0887\"],[0.1111111111111111,\"#46039f\"],[0.2222222222222222,\"#7201a8\"],[0.3333333333333333,\"#9c179e\"],[0.4444444444444444,\"#bd3786\"],[0.5555555555555556,\"#d8576b\"],[0.6666666666666666,\"#ed7953\"],[0.7777777777777778,\"#fb9f3a\"],[0.8888888888888888,\"#fdca26\"],[1.0,\"#f0f921\"]]}],\"mesh3d\":[{\"type\":\"mesh3d\",\"colorbar\":{\"outlinewidth\":0,\"ticks\":\"\"}}],\"scatter\":[{\"fillpattern\":{\"fillmode\":\"overlay\",\"size\":10,\"solidity\":0.2},\"type\":\"scatter\"}],\"parcoords\":[{\"type\":\"parcoords\",\"line\":{\"colorbar\":{\"outlinewidth\":0,\"ticks\":\"\"}}}],\"scatterpolargl\":[{\"type\":\"scatterpolargl\",\"marker\":{\"colorbar\":{\"outlinewidth\":0,\"ticks\":\"\"}}}],\"bar\":[{\"error_x\":{\"color\":\"#2a3f5f\"},\"error_y\":{\"color\":\"#2a3f5f\"},\"marker\":{\"line\":{\"color\":\"white\",\"width\":0.5},\"pattern\":{\"fillmode\":\"overlay\",\"size\":10,\"solidity\":0.2}},\"type\":\"bar\"}],\"scattergeo\":[{\"type\":\"scattergeo\",\"marker\":{\"colorbar\":{\"outlinewidth\":0,\"ticks\":\"\"}}}],\"scatterpolar\":[{\"type\":\"scatterpolar\",\"marker\":{\"colorbar\":{\"outlinewidth\":0,\"ticks\":\"\"}}}],\"histogram\":[{\"marker\":{\"pattern\":{\"fillmode\":\"overlay\",\"size\":10,\"solidity\":0.2}},\"type\":\"histogram\"}],\"scattergl\":[{\"type\":\"scattergl\",\"marker\":{\"colorbar\":{\"outlinewidth\":0,\"ticks\":\"\"}}}],\"scatter3d\":[{\"type\":\"scatter3d\",\"line\":{\"colorbar\":{\"outlinewidth\":0,\"ticks\":\"\"}},\"marker\":{\"colorbar\":{\"outlinewidth\":0,\"ticks\":\"\"}}}],\"scattermapbox\":[{\"type\":\"scattermapbox\",\"marker\":{\"colorbar\":{\"outlinewidth\":0,\"ticks\":\"\"}}}],\"scatterternary\":[{\"type\":\"scatterternary\",\"marker\":{\"colorbar\":{\"outlinewidth\":0,\"ticks\":\"\"}}}],\"scattercarpet\":[{\"type\":\"scattercarpet\",\"marker\":{\"colorbar\":{\"outlinewidth\":0,\"ticks\":\"\"}}}],\"carpet\":[{\"aaxis\":{\"endlinecolor\":\"#2a3f5f\",\"gridcolor\":\"#C8D4E3\",\"linecolor\":\"#C8D4E3\",\"minorgridcolor\":\"#C8D4E3\",\"startlinecolor\":\"#2a3f5f\"},\"baxis\":{\"endlinecolor\":\"#2a3f5f\",\"gridcolor\":\"#C8D4E3\",\"linecolor\":\"#C8D4E3\",\"minorgridcolor\":\"#C8D4E3\",\"startlinecolor\":\"#2a3f5f\"},\"type\":\"carpet\"}],\"table\":[{\"cells\":{\"fill\":{\"color\":\"#EBF0F8\"},\"line\":{\"color\":\"white\"}},\"header\":{\"fill\":{\"color\":\"#C8D4E3\"},\"line\":{\"color\":\"white\"}},\"type\":\"table\"}],\"barpolar\":[{\"marker\":{\"line\":{\"color\":\"white\",\"width\":0.5},\"pattern\":{\"fillmode\":\"overlay\",\"size\":10,\"solidity\":0.2}},\"type\":\"barpolar\"}],\"pie\":[{\"automargin\":true,\"type\":\"pie\"}]},\"layout\":{\"autotypenumbers\":\"strict\",\"colorway\":[\"#636efa\",\"#EF553B\",\"#00cc96\",\"#ab63fa\",\"#FFA15A\",\"#19d3f3\",\"#FF6692\",\"#B6E880\",\"#FF97FF\",\"#FECB52\"],\"font\":{\"color\":\"#2a3f5f\"},\"hovermode\":\"closest\",\"hoverlabel\":{\"align\":\"left\"},\"paper_bgcolor\":\"white\",\"plot_bgcolor\":\"white\",\"polar\":{\"bgcolor\":\"white\",\"angularaxis\":{\"gridcolor\":\"#EBF0F8\",\"linecolor\":\"#EBF0F8\",\"ticks\":\"\"},\"radialaxis\":{\"gridcolor\":\"#EBF0F8\",\"linecolor\":\"#EBF0F8\",\"ticks\":\"\"}},\"ternary\":{\"bgcolor\":\"white\",\"aaxis\":{\"gridcolor\":\"#DFE8F3\",\"linecolor\":\"#A2B1C6\",\"ticks\":\"\"},\"baxis\":{\"gridcolor\":\"#DFE8F3\",\"linecolor\":\"#A2B1C6\",\"ticks\":\"\"},\"caxis\":{\"gridcolor\":\"#DFE8F3\",\"linecolor\":\"#A2B1C6\",\"ticks\":\"\"}},\"coloraxis\":{\"colorbar\":{\"outlinewidth\":0,\"ticks\":\"\"}},\"colorscale\":{\"sequential\":[[0.0,\"#0d0887\"],[0.1111111111111111,\"#46039f\"],[0.2222222222222222,\"#7201a8\"],[0.3333333333333333,\"#9c179e\"],[0.4444444444444444,\"#bd3786\"],[0.5555555555555556,\"#d8576b\"],[0.6666666666666666,\"#ed7953\"],[0.7777777777777778,\"#fb9f3a\"],[0.8888888888888888,\"#fdca26\"],[1.0,\"#f0f921\"]],\"sequentialminus\":[[0.0,\"#0d0887\"],[0.1111111111111111,\"#46039f\"],[0.2222222222222222,\"#7201a8\"],[0.3333333333333333,\"#9c179e\"],[0.4444444444444444,\"#bd3786\"],[0.5555555555555556,\"#d8576b\"],[0.6666666666666666,\"#ed7953\"],[0.7777777777777778,\"#fb9f3a\"],[0.8888888888888888,\"#fdca26\"],[1.0,\"#f0f921\"]],\"diverging\":[[0,\"#8e0152\"],[0.1,\"#c51b7d\"],[0.2,\"#de77ae\"],[0.3,\"#f1b6da\"],[0.4,\"#fde0ef\"],[0.5,\"#f7f7f7\"],[0.6,\"#e6f5d0\"],[0.7,\"#b8e186\"],[0.8,\"#7fbc41\"],[0.9,\"#4d9221\"],[1,\"#276419\"]]},\"xaxis\":{\"gridcolor\":\"#EBF0F8\",\"linecolor\":\"#EBF0F8\",\"ticks\":\"\",\"title\":{\"standoff\":15},\"zerolinecolor\":\"#EBF0F8\",\"automargin\":true,\"zerolinewidth\":2},\"yaxis\":{\"gridcolor\":\"#EBF0F8\",\"linecolor\":\"#EBF0F8\",\"ticks\":\"\",\"title\":{\"standoff\":15},\"zerolinecolor\":\"#EBF0F8\",\"automargin\":true,\"zerolinewidth\":2},\"scene\":{\"xaxis\":{\"backgroundcolor\":\"white\",\"gridcolor\":\"#DFE8F3\",\"linecolor\":\"#EBF0F8\",\"showbackground\":true,\"ticks\":\"\",\"zerolinecolor\":\"#EBF0F8\",\"gridwidth\":2},\"yaxis\":{\"backgroundcolor\":\"white\",\"gridcolor\":\"#DFE8F3\",\"linecolor\":\"#EBF0F8\",\"showbackground\":true,\"ticks\":\"\",\"zerolinecolor\":\"#EBF0F8\",\"gridwidth\":2},\"zaxis\":{\"backgroundcolor\":\"white\",\"gridcolor\":\"#DFE8F3\",\"linecolor\":\"#EBF0F8\",\"showbackground\":true,\"ticks\":\"\",\"zerolinecolor\":\"#EBF0F8\",\"gridwidth\":2}},\"shapedefaults\":{\"line\":{\"color\":\"#2a3f5f\"}},\"annotationdefaults\":{\"arrowcolor\":\"#2a3f5f\",\"arrowhead\":0,\"arrowwidth\":1},\"geo\":{\"bgcolor\":\"white\",\"landcolor\":\"white\",\"subunitcolor\":\"#C8D4E3\",\"showland\":true,\"showlakes\":true,\"lakecolor\":\"white\"},\"title\":{\"x\":0.05},\"mapbox\":{\"style\":\"light\"}}},\"xaxis\":{\"anchor\":\"y\",\"domain\":[0.0,1.0],\"title\":{\"text\":\"pickup \\uc2dc\\uac04\"}},\"yaxis\":{\"anchor\":\"x\",\"domain\":[0.0,1.0],\"title\":{\"text\":\"\\uc694\\uc77c\"}},\"coloraxis\":{\"colorbar\":{\"title\":{\"text\":\"\\ud3c9\\uade0\\uc18d\\ub825\"}},\"colorscale\":[[0.0,\"#0d0887\"],[0.1111111111111111,\"#46039f\"],[0.2222222222222222,\"#7201a8\"],[0.3333333333333333,\"#9c179e\"],[0.4444444444444444,\"#bd3786\"],[0.5555555555555556,\"#d8576b\"],[0.6666666666666666,\"#ed7953\"],[0.7777777777777778,\"#fb9f3a\"],[0.8888888888888888,\"#fdca26\"],[1.0,\"#f0f921\"]]},\"legend\":{\"tracegroupgap\":0},\"margin\":{\"t\":60},\"height\":300},                        {\"responsive\": true}                    ).then(function(){\n",
       "                            \n",
       "var gd = document.getElementById('884da726-d134-46e0-b5ea-5535a431bb8d');\n",
       "var x = new MutationObserver(function (mutations, observer) {{\n",
       "        var display = window.getComputedStyle(gd).display;\n",
       "        if (!display || display === 'none') {{\n",
       "            console.log([gd, 'removed!']);\n",
       "            Plotly.purge(gd);\n",
       "            observer.disconnect();\n",
       "        }}\n",
       "}});\n",
       "\n",
       "// Listen for the removal of the full notebook cells\n",
       "var notebookContainer = gd.closest('#notebook-container');\n",
       "if (notebookContainer) {{\n",
       "    x.observe(notebookContainer, {childList: true});\n",
       "}}\n",
       "\n",
       "// Listen for the clearing of the current output cell\n",
       "var outputEl = gd.closest('.output');\n",
       "if (outputEl) {{\n",
       "    x.observe(outputEl, {childList: true});\n",
       "}}\n",
       "\n",
       "                        })                };                });            </script>        </div>"
      ]
     },
     "metadata": {},
     "output_type": "display_data"
    }
   ],
   "source": [
    "#요일, 시간에 따른 평균속력 시각화 \n",
    "# dayofweek, pickup_hour, speed_mean\n",
    "tidydata1 = df.pivot_table(\n",
    "    index = 'dayofweek',\n",
    "    columns = 'pickup_hour',\n",
    "    values = 'speed',\n",
    "    aggfunc = 'mean'\n",
    ").stack().reset_index()\\\n",
    ".rename({0:'speed_mean'}, axis =1)\n",
    "\n",
    "fig1 = px.density_heatmap(\n",
    "    data_frame = tidydata1,\n",
    "    x = 'pickup_hour',\n",
    "    y = 'dayofweek',\n",
    "    z = 'speed_mean',\n",
    "    nbinsx=24,\n",
    "    nbinsy=7,\n",
    "    height=300\n",
    "    \n",
    ")\n",
    "\n",
    "fig1.update_xaxes(title_text='pickup 시간')\n",
    "fig1.update_yaxes(title_text='요일')\n",
    "fig1.update_coloraxes(colorbar_title_text='평균속력')\n",
    "\n",
    "fig1.show()"
   ]
  },
  {
   "cell_type": "code",
   "execution_count": 263,
   "id": "cb3cda01-5315-4937-90eb-3b9ffc74db50",
   "metadata": {},
   "outputs": [
    {
     "data": {
      "application/vnd.plotly.v1+json": {
       "config": {
        "plotlyServerURL": "https://plot.ly"
       },
       "data": [
        {
         "coloraxis": "coloraxis",
         "histfunc": "sum",
         "hovertemplate": "pickup_hour=%{x}<br>dayofweek=%{y}<br>sum of dist_mean=%{z}<extra></extra>",
         "name": "",
         "nbinsx": 24,
         "nbinsy": 7,
         "type": "histogram2d",
         "x": [
          0,
          1,
          2,
          3,
          4,
          5,
          6,
          7,
          8,
          9,
          10,
          11,
          12,
          13,
          14,
          15,
          16,
          17,
          18,
          19,
          20,
          21,
          22,
          23,
          0,
          1,
          2,
          3,
          4,
          5,
          6,
          7,
          8,
          9,
          10,
          11,
          12,
          13,
          14,
          15,
          16,
          17,
          18,
          19,
          20,
          21,
          22,
          23,
          0,
          1,
          2,
          3,
          4,
          5,
          6,
          7,
          8,
          9,
          10,
          11,
          12,
          13,
          14,
          15,
          16,
          17,
          18,
          19,
          20,
          21,
          22,
          23,
          0,
          1,
          2,
          3,
          4,
          5,
          6,
          7,
          8,
          9,
          10,
          11,
          12,
          13,
          14,
          15,
          16,
          17,
          18,
          19,
          20,
          21,
          22,
          23,
          0,
          1,
          2,
          3,
          4,
          5,
          6,
          7,
          8,
          9,
          10,
          11,
          12,
          13,
          14,
          15,
          16,
          17,
          18,
          19,
          20,
          21,
          22,
          23,
          0,
          1,
          2,
          3,
          4,
          5,
          6,
          7,
          8,
          9,
          10,
          11,
          12,
          13,
          14,
          15,
          16,
          17,
          18,
          19,
          20,
          21,
          22,
          23,
          0,
          1,
          2,
          3,
          4,
          5,
          6,
          7,
          8,
          9,
          10,
          11,
          12,
          13,
          14,
          15,
          16,
          17,
          18,
          19,
          20,
          21,
          22,
          23
         ],
         "xaxis": "x",
         "xbingroup": "x",
         "y": [
          "월",
          "월",
          "월",
          "월",
          "월",
          "월",
          "월",
          "월",
          "월",
          "월",
          "월",
          "월",
          "월",
          "월",
          "월",
          "월",
          "월",
          "월",
          "월",
          "월",
          "월",
          "월",
          "월",
          "월",
          "화",
          "화",
          "화",
          "화",
          "화",
          "화",
          "화",
          "화",
          "화",
          "화",
          "화",
          "화",
          "화",
          "화",
          "화",
          "화",
          "화",
          "화",
          "화",
          "화",
          "화",
          "화",
          "화",
          "화",
          "수",
          "수",
          "수",
          "수",
          "수",
          "수",
          "수",
          "수",
          "수",
          "수",
          "수",
          "수",
          "수",
          "수",
          "수",
          "수",
          "수",
          "수",
          "수",
          "수",
          "수",
          "수",
          "수",
          "수",
          "목",
          "목",
          "목",
          "목",
          "목",
          "목",
          "목",
          "목",
          "목",
          "목",
          "목",
          "목",
          "목",
          "목",
          "목",
          "목",
          "목",
          "목",
          "목",
          "목",
          "목",
          "목",
          "목",
          "목",
          "금",
          "금",
          "금",
          "금",
          "금",
          "금",
          "금",
          "금",
          "금",
          "금",
          "금",
          "금",
          "금",
          "금",
          "금",
          "금",
          "금",
          "금",
          "금",
          "금",
          "금",
          "금",
          "금",
          "금",
          "토",
          "토",
          "토",
          "토",
          "토",
          "토",
          "토",
          "토",
          "토",
          "토",
          "토",
          "토",
          "토",
          "토",
          "토",
          "토",
          "토",
          "토",
          "토",
          "토",
          "토",
          "토",
          "토",
          "토",
          "일",
          "일",
          "일",
          "일",
          "일",
          "일",
          "일",
          "일",
          "일",
          "일",
          "일",
          "일",
          "일",
          "일",
          "일",
          "일",
          "일",
          "일",
          "일",
          "일",
          "일",
          "일",
          "일",
          "일"
         ],
         "yaxis": "y",
         "ybingroup": "y",
         "z": [
          0.03715809838079698,
          0.05200302769060466,
          0.03454166059277303,
          0.05596315189409232,
          0.07063039696986095,
          0.06426270786989556,
          0.034490535452775584,
          0.032737782045627016,
          0.03271897536089555,
          0.022300252808707045,
          0.036457711731007814,
          0.03259913640889305,
          0.03791273701584093,
          0.031148218766055,
          0.03073260549089396,
          0.03561671744114983,
          0.045856793688758724,
          0.03489709547473452,
          0.03206766072125966,
          0.030931047636591467,
          0.03478322182868066,
          0.03504153532967092,
          0.039807563106260796,
          0.041753717014843476,
          0.04549263088199272,
          0.026491866724439015,
          0.05237136448088479,
          0.042291832373646004,
          0.03189731490250098,
          0.052113797374228325,
          0.03625948497196739,
          0.036995698246546305,
          0.026760267886113808,
          0.027077751296383516,
          0.026826090075304745,
          0.034316439823832576,
          0.03498805312265091,
          0.035544501630472854,
          0.03838823500419107,
          0.02821292607678347,
          0.03586750914515103,
          0.03883433324239985,
          0.02572514272219912,
          0.033088420498453834,
          0.036793867026316575,
          0.03320750581322103,
          0.03796506613207811,
          0.0441184974197329,
          0.06189425076297976,
          0.039073634201646286,
          0.04027817512479525,
          0.045001889217295234,
          0.02712641035763739,
          0.04090444437849963,
          0.03554282147884122,
          0.026562429760155624,
          0.028137832185748304,
          0.028848291392458557,
          0.03436772147280834,
          0.028384887815572114,
          0.029861333110209855,
          0.03094931538110388,
          0.04105512493816869,
          0.030896039734749265,
          0.0383327715434659,
          0.0440284327758578,
          0.034202250485253306,
          0.033418178249557354,
          0.037728969952857336,
          0.04105665766647581,
          0.03501931863015318,
          0.04053196598643651,
          0.04370735751553739,
          0.0417765374180669,
          0.046409338050018074,
          0.05493347173018719,
          0.061569806741913605,
          0.046512677925574106,
          0.05250827412143831,
          0.03531027339163442,
          0.029133885897888828,
          0.029901509572592543,
          0.027772390194162014,
          0.02858396613665924,
          0.02919986838270981,
          0.0317612270262194,
          0.03471946142251515,
          0.03516035201971669,
          0.032241751574696526,
          0.028428726680918188,
          0.030790591800766605,
          0.0276523888329859,
          0.03442330713780692,
          0.0468108838653546,
          0.03680314709375805,
          0.04528582049448872,
          0.03941914483917277,
          0.041799452835402005,
          0.02747939721328583,
          0.04467300794711169,
          0.06040430813029304,
          0.07023081911325425,
          0.038559495853808044,
          0.036675286599085095,
          0.032616090198524406,
          0.022036573919088698,
          0.0390431164668389,
          0.030196453798128214,
          0.02723147055623086,
          0.03293566054375842,
          0.043647154028390374,
          0.03415901588979847,
          0.03676054346801498,
          0.03317075478918968,
          0.027736605265520214,
          0.0327639608191616,
          0.03269130293295594,
          0.03259886897954823,
          0.03289081100831811,
          0.0341054864926265,
          0.036707167535579545,
          0.03566950941170107,
          0.0380489921489175,
          0.03696210181836352,
          0.04587911863822203,
          0.04823124935776199,
          0.04423147111534784,
          0.03502778652413812,
          0.05684438361280244,
          0.02883829437172897,
          0.03135331752009965,
          0.029968986432524772,
          0.030354061779279694,
          0.02574892204102297,
          0.03185745950220361,
          0.03626576223452341,
          0.031655929237335456,
          0.03446797731080265,
          0.03424314095287038,
          0.026601148073475155,
          0.029834599637768515,
          0.028572862569402776,
          0.034023159026747324,
          0.03508011042417724,
          0.039962176173149275,
          0.0384030605806378,
          0.03932604021053794,
          0.037395030232690134,
          0.03617073372297567,
          0.0819519990101009,
          0.08455383063086612,
          0.07728771678955991,
          0.040662783558606266,
          0.02651724954324167,
          0.024978445983095104,
          0.035339142705562855,
          0.04011498662915437,
          0.03072317013788322,
          0.039420942718037456,
          0.041070572515632585,
          0.041828181994856564,
          0.04344609099751088,
          0.031280398092728846,
          0.033589561605802655,
          0.042991760551657536,
          0.04127852982142265,
          0.03989386796977483,
          0.04541865114558133
         ]
        }
       ],
       "layout": {
        "autosize": true,
        "coloraxis": {
         "colorbar": {
          "title": {
           "text": "평균이동거리"
          }
         },
         "colorscale": [
          [
           0,
           "#0d0887"
          ],
          [
           0.1111111111111111,
           "#46039f"
          ],
          [
           0.2222222222222222,
           "#7201a8"
          ],
          [
           0.3333333333333333,
           "#9c179e"
          ],
          [
           0.4444444444444444,
           "#bd3786"
          ],
          [
           0.5555555555555556,
           "#d8576b"
          ],
          [
           0.6666666666666666,
           "#ed7953"
          ],
          [
           0.7777777777777778,
           "#fb9f3a"
          ],
          [
           0.8888888888888888,
           "#fdca26"
          ],
          [
           1,
           "#f0f921"
          ]
         ]
        },
        "legend": {
         "tracegroupgap": 0
        },
        "margin": {
         "t": 60
        },
        "template": {
         "data": {
          "bar": [
           {
            "error_x": {
             "color": "#2a3f5f"
            },
            "error_y": {
             "color": "#2a3f5f"
            },
            "marker": {
             "line": {
              "color": "white",
              "width": 0.5
             },
             "pattern": {
              "fillmode": "overlay",
              "size": 10,
              "solidity": 0.2
             }
            },
            "type": "bar"
           }
          ],
          "barpolar": [
           {
            "marker": {
             "line": {
              "color": "white",
              "width": 0.5
             },
             "pattern": {
              "fillmode": "overlay",
              "size": 10,
              "solidity": 0.2
             }
            },
            "type": "barpolar"
           }
          ],
          "carpet": [
           {
            "aaxis": {
             "endlinecolor": "#2a3f5f",
             "gridcolor": "#C8D4E3",
             "linecolor": "#C8D4E3",
             "minorgridcolor": "#C8D4E3",
             "startlinecolor": "#2a3f5f"
            },
            "baxis": {
             "endlinecolor": "#2a3f5f",
             "gridcolor": "#C8D4E3",
             "linecolor": "#C8D4E3",
             "minorgridcolor": "#C8D4E3",
             "startlinecolor": "#2a3f5f"
            },
            "type": "carpet"
           }
          ],
          "choropleth": [
           {
            "colorbar": {
             "outlinewidth": 0,
             "ticks": ""
            },
            "type": "choropleth"
           }
          ],
          "contour": [
           {
            "colorbar": {
             "outlinewidth": 0,
             "ticks": ""
            },
            "colorscale": [
             [
              0,
              "#0d0887"
             ],
             [
              0.1111111111111111,
              "#46039f"
             ],
             [
              0.2222222222222222,
              "#7201a8"
             ],
             [
              0.3333333333333333,
              "#9c179e"
             ],
             [
              0.4444444444444444,
              "#bd3786"
             ],
             [
              0.5555555555555556,
              "#d8576b"
             ],
             [
              0.6666666666666666,
              "#ed7953"
             ],
             [
              0.7777777777777778,
              "#fb9f3a"
             ],
             [
              0.8888888888888888,
              "#fdca26"
             ],
             [
              1,
              "#f0f921"
             ]
            ],
            "type": "contour"
           }
          ],
          "contourcarpet": [
           {
            "colorbar": {
             "outlinewidth": 0,
             "ticks": ""
            },
            "type": "contourcarpet"
           }
          ],
          "heatmap": [
           {
            "colorbar": {
             "outlinewidth": 0,
             "ticks": ""
            },
            "colorscale": [
             [
              0,
              "#0d0887"
             ],
             [
              0.1111111111111111,
              "#46039f"
             ],
             [
              0.2222222222222222,
              "#7201a8"
             ],
             [
              0.3333333333333333,
              "#9c179e"
             ],
             [
              0.4444444444444444,
              "#bd3786"
             ],
             [
              0.5555555555555556,
              "#d8576b"
             ],
             [
              0.6666666666666666,
              "#ed7953"
             ],
             [
              0.7777777777777778,
              "#fb9f3a"
             ],
             [
              0.8888888888888888,
              "#fdca26"
             ],
             [
              1,
              "#f0f921"
             ]
            ],
            "type": "heatmap"
           }
          ],
          "heatmapgl": [
           {
            "colorbar": {
             "outlinewidth": 0,
             "ticks": ""
            },
            "colorscale": [
             [
              0,
              "#0d0887"
             ],
             [
              0.1111111111111111,
              "#46039f"
             ],
             [
              0.2222222222222222,
              "#7201a8"
             ],
             [
              0.3333333333333333,
              "#9c179e"
             ],
             [
              0.4444444444444444,
              "#bd3786"
             ],
             [
              0.5555555555555556,
              "#d8576b"
             ],
             [
              0.6666666666666666,
              "#ed7953"
             ],
             [
              0.7777777777777778,
              "#fb9f3a"
             ],
             [
              0.8888888888888888,
              "#fdca26"
             ],
             [
              1,
              "#f0f921"
             ]
            ],
            "type": "heatmapgl"
           }
          ],
          "histogram": [
           {
            "marker": {
             "pattern": {
              "fillmode": "overlay",
              "size": 10,
              "solidity": 0.2
             }
            },
            "type": "histogram"
           }
          ],
          "histogram2d": [
           {
            "colorbar": {
             "outlinewidth": 0,
             "ticks": ""
            },
            "colorscale": [
             [
              0,
              "#0d0887"
             ],
             [
              0.1111111111111111,
              "#46039f"
             ],
             [
              0.2222222222222222,
              "#7201a8"
             ],
             [
              0.3333333333333333,
              "#9c179e"
             ],
             [
              0.4444444444444444,
              "#bd3786"
             ],
             [
              0.5555555555555556,
              "#d8576b"
             ],
             [
              0.6666666666666666,
              "#ed7953"
             ],
             [
              0.7777777777777778,
              "#fb9f3a"
             ],
             [
              0.8888888888888888,
              "#fdca26"
             ],
             [
              1,
              "#f0f921"
             ]
            ],
            "type": "histogram2d"
           }
          ],
          "histogram2dcontour": [
           {
            "colorbar": {
             "outlinewidth": 0,
             "ticks": ""
            },
            "colorscale": [
             [
              0,
              "#0d0887"
             ],
             [
              0.1111111111111111,
              "#46039f"
             ],
             [
              0.2222222222222222,
              "#7201a8"
             ],
             [
              0.3333333333333333,
              "#9c179e"
             ],
             [
              0.4444444444444444,
              "#bd3786"
             ],
             [
              0.5555555555555556,
              "#d8576b"
             ],
             [
              0.6666666666666666,
              "#ed7953"
             ],
             [
              0.7777777777777778,
              "#fb9f3a"
             ],
             [
              0.8888888888888888,
              "#fdca26"
             ],
             [
              1,
              "#f0f921"
             ]
            ],
            "type": "histogram2dcontour"
           }
          ],
          "mesh3d": [
           {
            "colorbar": {
             "outlinewidth": 0,
             "ticks": ""
            },
            "type": "mesh3d"
           }
          ],
          "parcoords": [
           {
            "line": {
             "colorbar": {
              "outlinewidth": 0,
              "ticks": ""
             }
            },
            "type": "parcoords"
           }
          ],
          "pie": [
           {
            "automargin": true,
            "type": "pie"
           }
          ],
          "scatter": [
           {
            "fillpattern": {
             "fillmode": "overlay",
             "size": 10,
             "solidity": 0.2
            },
            "type": "scatter"
           }
          ],
          "scatter3d": [
           {
            "line": {
             "colorbar": {
              "outlinewidth": 0,
              "ticks": ""
             }
            },
            "marker": {
             "colorbar": {
              "outlinewidth": 0,
              "ticks": ""
             }
            },
            "type": "scatter3d"
           }
          ],
          "scattercarpet": [
           {
            "marker": {
             "colorbar": {
              "outlinewidth": 0,
              "ticks": ""
             }
            },
            "type": "scattercarpet"
           }
          ],
          "scattergeo": [
           {
            "marker": {
             "colorbar": {
              "outlinewidth": 0,
              "ticks": ""
             }
            },
            "type": "scattergeo"
           }
          ],
          "scattergl": [
           {
            "marker": {
             "colorbar": {
              "outlinewidth": 0,
              "ticks": ""
             }
            },
            "type": "scattergl"
           }
          ],
          "scattermapbox": [
           {
            "marker": {
             "colorbar": {
              "outlinewidth": 0,
              "ticks": ""
             }
            },
            "type": "scattermapbox"
           }
          ],
          "scatterpolar": [
           {
            "marker": {
             "colorbar": {
              "outlinewidth": 0,
              "ticks": ""
             }
            },
            "type": "scatterpolar"
           }
          ],
          "scatterpolargl": [
           {
            "marker": {
             "colorbar": {
              "outlinewidth": 0,
              "ticks": ""
             }
            },
            "type": "scatterpolargl"
           }
          ],
          "scatterternary": [
           {
            "marker": {
             "colorbar": {
              "outlinewidth": 0,
              "ticks": ""
             }
            },
            "type": "scatterternary"
           }
          ],
          "surface": [
           {
            "colorbar": {
             "outlinewidth": 0,
             "ticks": ""
            },
            "colorscale": [
             [
              0,
              "#0d0887"
             ],
             [
              0.1111111111111111,
              "#46039f"
             ],
             [
              0.2222222222222222,
              "#7201a8"
             ],
             [
              0.3333333333333333,
              "#9c179e"
             ],
             [
              0.4444444444444444,
              "#bd3786"
             ],
             [
              0.5555555555555556,
              "#d8576b"
             ],
             [
              0.6666666666666666,
              "#ed7953"
             ],
             [
              0.7777777777777778,
              "#fb9f3a"
             ],
             [
              0.8888888888888888,
              "#fdca26"
             ],
             [
              1,
              "#f0f921"
             ]
            ],
            "type": "surface"
           }
          ],
          "table": [
           {
            "cells": {
             "fill": {
              "color": "#EBF0F8"
             },
             "line": {
              "color": "white"
             }
            },
            "header": {
             "fill": {
              "color": "#C8D4E3"
             },
             "line": {
              "color": "white"
             }
            },
            "type": "table"
           }
          ]
         },
         "layout": {
          "annotationdefaults": {
           "arrowcolor": "#2a3f5f",
           "arrowhead": 0,
           "arrowwidth": 1
          },
          "autotypenumbers": "strict",
          "coloraxis": {
           "colorbar": {
            "outlinewidth": 0,
            "ticks": ""
           }
          },
          "colorscale": {
           "diverging": [
            [
             0,
             "#8e0152"
            ],
            [
             0.1,
             "#c51b7d"
            ],
            [
             0.2,
             "#de77ae"
            ],
            [
             0.3,
             "#f1b6da"
            ],
            [
             0.4,
             "#fde0ef"
            ],
            [
             0.5,
             "#f7f7f7"
            ],
            [
             0.6,
             "#e6f5d0"
            ],
            [
             0.7,
             "#b8e186"
            ],
            [
             0.8,
             "#7fbc41"
            ],
            [
             0.9,
             "#4d9221"
            ],
            [
             1,
             "#276419"
            ]
           ],
           "sequential": [
            [
             0,
             "#0d0887"
            ],
            [
             0.1111111111111111,
             "#46039f"
            ],
            [
             0.2222222222222222,
             "#7201a8"
            ],
            [
             0.3333333333333333,
             "#9c179e"
            ],
            [
             0.4444444444444444,
             "#bd3786"
            ],
            [
             0.5555555555555556,
             "#d8576b"
            ],
            [
             0.6666666666666666,
             "#ed7953"
            ],
            [
             0.7777777777777778,
             "#fb9f3a"
            ],
            [
             0.8888888888888888,
             "#fdca26"
            ],
            [
             1,
             "#f0f921"
            ]
           ],
           "sequentialminus": [
            [
             0,
             "#0d0887"
            ],
            [
             0.1111111111111111,
             "#46039f"
            ],
            [
             0.2222222222222222,
             "#7201a8"
            ],
            [
             0.3333333333333333,
             "#9c179e"
            ],
            [
             0.4444444444444444,
             "#bd3786"
            ],
            [
             0.5555555555555556,
             "#d8576b"
            ],
            [
             0.6666666666666666,
             "#ed7953"
            ],
            [
             0.7777777777777778,
             "#fb9f3a"
            ],
            [
             0.8888888888888888,
             "#fdca26"
            ],
            [
             1,
             "#f0f921"
            ]
           ]
          },
          "colorway": [
           "#636efa",
           "#EF553B",
           "#00cc96",
           "#ab63fa",
           "#FFA15A",
           "#19d3f3",
           "#FF6692",
           "#B6E880",
           "#FF97FF",
           "#FECB52"
          ],
          "font": {
           "color": "#2a3f5f"
          },
          "geo": {
           "bgcolor": "white",
           "lakecolor": "white",
           "landcolor": "white",
           "showlakes": true,
           "showland": true,
           "subunitcolor": "#C8D4E3"
          },
          "hoverlabel": {
           "align": "left"
          },
          "hovermode": "closest",
          "mapbox": {
           "style": "light"
          },
          "paper_bgcolor": "white",
          "plot_bgcolor": "white",
          "polar": {
           "angularaxis": {
            "gridcolor": "#EBF0F8",
            "linecolor": "#EBF0F8",
            "ticks": ""
           },
           "bgcolor": "white",
           "radialaxis": {
            "gridcolor": "#EBF0F8",
            "linecolor": "#EBF0F8",
            "ticks": ""
           }
          },
          "scene": {
           "xaxis": {
            "backgroundcolor": "white",
            "gridcolor": "#DFE8F3",
            "gridwidth": 2,
            "linecolor": "#EBF0F8",
            "showbackground": true,
            "ticks": "",
            "zerolinecolor": "#EBF0F8"
           },
           "yaxis": {
            "backgroundcolor": "white",
            "gridcolor": "#DFE8F3",
            "gridwidth": 2,
            "linecolor": "#EBF0F8",
            "showbackground": true,
            "ticks": "",
            "zerolinecolor": "#EBF0F8"
           },
           "zaxis": {
            "backgroundcolor": "white",
            "gridcolor": "#DFE8F3",
            "gridwidth": 2,
            "linecolor": "#EBF0F8",
            "showbackground": true,
            "ticks": "",
            "zerolinecolor": "#EBF0F8"
           }
          },
          "shapedefaults": {
           "line": {
            "color": "#2a3f5f"
           }
          },
          "ternary": {
           "aaxis": {
            "gridcolor": "#DFE8F3",
            "linecolor": "#A2B1C6",
            "ticks": ""
           },
           "baxis": {
            "gridcolor": "#DFE8F3",
            "linecolor": "#A2B1C6",
            "ticks": ""
           },
           "bgcolor": "white",
           "caxis": {
            "gridcolor": "#DFE8F3",
            "linecolor": "#A2B1C6",
            "ticks": ""
           }
          },
          "title": {
           "x": 0.05
          },
          "xaxis": {
           "automargin": true,
           "gridcolor": "#EBF0F8",
           "linecolor": "#EBF0F8",
           "ticks": "",
           "title": {
            "standoff": 15
           },
           "zerolinecolor": "#EBF0F8",
           "zerolinewidth": 2
          },
          "yaxis": {
           "automargin": true,
           "gridcolor": "#EBF0F8",
           "linecolor": "#EBF0F8",
           "ticks": "",
           "title": {
            "standoff": 15
           },
           "zerolinecolor": "#EBF0F8",
           "zerolinewidth": 2
          }
         }
        },
        "xaxis": {
         "anchor": "y",
         "autorange": true,
         "domain": [
          0,
          1
         ],
         "range": [
          -0.5,
          23.5
         ],
         "title": {
          "text": "pickup 시간"
         },
         "type": "linear"
        },
        "yaxis": {
         "anchor": "x",
         "autorange": true,
         "domain": [
          0,
          1
         ],
         "range": [
          -0.5,
          6.5
         ],
         "title": {
          "text": "요일"
         },
         "type": "category"
        }
       }
      },
      "image/png": "[encoded data removed]",
      "text/html": [
       "<div>                            <div id=\"f1dce74e-d811-4d89-a154-929a85a419c7\" class=\"plotly-graph-div\" style=\"height:300px; width:100%;\"></div>            <script type=\"text/javascript\">                require([\"plotly\"], function(Plotly) {                    window.PLOTLYENV=window.PLOTLYENV || {};                                    if (document.getElementById(\"f1dce74e-d811-4d89-a154-929a85a419c7\")) {                    Plotly.newPlot(                        \"f1dce74e-d811-4d89-a154-929a85a419c7\",                        [{\"coloraxis\":\"coloraxis\",\"histfunc\":\"sum\",\"hovertemplate\":\"pickup_hour=%{x}\\u003cbr\\u003edayofweek=%{y}\\u003cbr\\u003esum of dist_mean=%{z}\\u003cextra\\u003e\\u003c\\u002fextra\\u003e\",\"name\":\"\",\"nbinsx\":24,\"nbinsy\":7,\"x\":[0,1,2,3,4,5,6,7,8,9,10,11,12,13,14,15,16,17,18,19,20,21,22,23,0,1,2,3,4,5,6,7,8,9,10,11,12,13,14,15,16,17,18,19,20,21,22,23,0,1,2,3,4,5,6,7,8,9,10,11,12,13,14,15,16,17,18,19,20,21,22,23,0,1,2,3,4,5,6,7,8,9,10,11,12,13,14,15,16,17,18,19,20,21,22,23,0,1,2,3,4,5,6,7,8,9,10,11,12,13,14,15,16,17,18,19,20,21,22,23,0,1,2,3,4,5,6,7,8,9,10,11,12,13,14,15,16,17,18,19,20,21,22,23,0,1,2,3,4,5,6,7,8,9,10,11,12,13,14,15,16,17,18,19,20,21,22,23],\"xaxis\":\"x\",\"xbingroup\":\"x\",\"y\":[\"\\uc6d4\",\"\\uc6d4\",\"\\uc6d4\",\"\\uc6d4\",\"\\uc6d4\",\"\\uc6d4\",\"\\uc6d4\",\"\\uc6d4\",\"\\uc6d4\",\"\\uc6d4\",\"\\uc6d4\",\"\\uc6d4\",\"\\uc6d4\",\"\\uc6d4\",\"\\uc6d4\",\"\\uc6d4\",\"\\uc6d4\",\"\\uc6d4\",\"\\uc6d4\",\"\\uc6d4\",\"\\uc6d4\",\"\\uc6d4\",\"\\uc6d4\",\"\\uc6d4\",\"\\ud654\",\"\\ud654\",\"\\ud654\",\"\\ud654\",\"\\ud654\",\"\\ud654\",\"\\ud654\",\"\\ud654\",\"\\ud654\",\"\\ud654\",\"\\ud654\",\"\\ud654\",\"\\ud654\",\"\\ud654\",\"\\ud654\",\"\\ud654\",\"\\ud654\",\"\\ud654\",\"\\ud654\",\"\\ud654\",\"\\ud654\",\"\\ud654\",\"\\ud654\",\"\\ud654\",\"\\uc218\",\"\\uc218\",\"\\uc218\",\"\\uc218\",\"\\uc218\",\"\\uc218\",\"\\uc218\",\"\\uc218\",\"\\uc218\",\"\\uc218\",\"\\uc218\",\"\\uc218\",\"\\uc218\",\"\\uc218\",\"\\uc218\",\"\\uc218\",\"\\uc218\",\"\\uc218\",\"\\uc218\",\"\\uc218\",\"\\uc218\",\"\\uc218\",\"\\uc218\",\"\\uc218\",\"\\ubaa9\",\"\\ubaa9\",\"\\ubaa9\",\"\\ubaa9\",\"\\ubaa9\",\"\\ubaa9\",\"\\ubaa9\",\"\\ubaa9\",\"\\ubaa9\",\"\\ubaa9\",\"\\ubaa9\",\"\\ubaa9\",\"\\ubaa9\",\"\\ubaa9\",\"\\ubaa9\",\"\\ubaa9\",\"\\ubaa9\",\"\\ubaa9\",\"\\ubaa9\",\"\\ubaa9\",\"\\ubaa9\",\"\\ubaa9\",\"\\ubaa9\",\"\\ubaa9\",\"\\uae08\",\"\\uae08\",\"\\uae08\",\"\\uae08\",\"\\uae08\",\"\\uae08\",\"\\uae08\",\"\\uae08\",\"\\uae08\",\"\\uae08\",\"\\uae08\",\"\\uae08\",\"\\uae08\",\"\\uae08\",\"\\uae08\",\"\\uae08\",\"\\uae08\",\"\\uae08\",\"\\uae08\",\"\\uae08\",\"\\uae08\",\"\\uae08\",\"\\uae08\",\"\\uae08\",\"\\ud1a0\",\"\\ud1a0\",\"\\ud1a0\",\"\\ud1a0\",\"\\ud1a0\",\"\\ud1a0\",\"\\ud1a0\",\"\\ud1a0\",\"\\ud1a0\",\"\\ud1a0\",\"\\ud1a0\",\"\\ud1a0\",\"\\ud1a0\",\"\\ud1a0\",\"\\ud1a0\",\"\\ud1a0\",\"\\ud1a0\",\"\\ud1a0\",\"\\ud1a0\",\"\\ud1a0\",\"\\ud1a0\",\"\\ud1a0\",\"\\ud1a0\",\"\\ud1a0\",\"\\uc77c\",\"\\uc77c\",\"\\uc77c\",\"\\uc77c\",\"\\uc77c\",\"\\uc77c\",\"\\uc77c\",\"\\uc77c\",\"\\uc77c\",\"\\uc77c\",\"\\uc77c\",\"\\uc77c\",\"\\uc77c\",\"\\uc77c\",\"\\uc77c\",\"\\uc77c\",\"\\uc77c\",\"\\uc77c\",\"\\uc77c\",\"\\uc77c\",\"\\uc77c\",\"\\uc77c\",\"\\uc77c\",\"\\uc77c\"],\"yaxis\":\"y\",\"ybingroup\":\"y\",\"z\":[0.03715809838079698,0.05200302769060466,0.03454166059277303,0.05596315189409232,0.07063039696986095,0.06426270786989556,0.034490535452775584,0.032737782045627016,0.03271897536089555,0.022300252808707045,0.036457711731007814,0.03259913640889305,0.03791273701584093,0.031148218766055,0.03073260549089396,0.03561671744114983,0.045856793688758724,0.03489709547473452,0.03206766072125966,0.030931047636591467,0.03478322182868066,0.03504153532967092,0.039807563106260796,0.041753717014843476,0.04549263088199272,0.026491866724439015,0.05237136448088479,0.042291832373646004,0.03189731490250098,0.052113797374228325,0.03625948497196739,0.036995698246546305,0.026760267886113808,0.027077751296383516,0.026826090075304745,0.034316439823832576,0.03498805312265091,0.035544501630472854,0.03838823500419107,0.02821292607678347,0.03586750914515103,0.03883433324239985,0.02572514272219912,0.033088420498453834,0.036793867026316575,0.03320750581322103,0.03796506613207811,0.0441184974197329,0.06189425076297976,0.039073634201646286,0.04027817512479525,0.045001889217295234,0.02712641035763739,0.04090444437849963,0.03554282147884122,0.026562429760155624,0.028137832185748304,0.028848291392458557,0.03436772147280834,0.028384887815572114,0.029861333110209855,0.03094931538110388,0.04105512493816869,0.030896039734749265,0.0383327715434659,0.0440284327758578,0.034202250485253306,0.033418178249557354,0.037728969952857336,0.04105665766647581,0.03501931863015318,0.04053196598643651,0.04370735751553739,0.0417765374180669,0.046409338050018074,0.05493347173018719,0.061569806741913605,0.046512677925574106,0.05250827412143831,0.03531027339163442,0.029133885897888828,0.029901509572592543,0.027772390194162014,0.02858396613665924,0.02919986838270981,0.0317612270262194,0.03471946142251515,0.03516035201971669,0.032241751574696526,0.028428726680918188,0.030790591800766605,0.0276523888329859,0.03442330713780692,0.0468108838653546,0.03680314709375805,0.04528582049448872,0.03941914483917277,0.041799452835402005,0.02747939721328583,0.04467300794711169,0.06040430813029304,0.07023081911325425,0.038559495853808044,0.036675286599085095,0.032616090198524406,0.022036573919088698,0.0390431164668389,0.030196453798128214,0.02723147055623086,0.03293566054375842,0.043647154028390374,0.03415901588979847,0.03676054346801498,0.03317075478918968,0.027736605265520214,0.0327639608191616,0.03269130293295594,0.03259886897954823,0.03289081100831811,0.0341054864926265,0.036707167535579545,0.03566950941170107,0.0380489921489175,0.03696210181836352,0.04587911863822203,0.04823124935776199,0.04423147111534784,0.03502778652413812,0.05684438361280244,0.02883829437172897,0.03135331752009965,0.029968986432524772,0.030354061779279694,0.02574892204102297,0.03185745950220361,0.03626576223452341,0.031655929237335456,0.03446797731080265,0.03424314095287038,0.026601148073475155,0.029834599637768515,0.028572862569402776,0.034023159026747324,0.03508011042417724,0.039962176173149275,0.0384030605806378,0.03932604021053794,0.037395030232690134,0.03617073372297567,0.0819519990101009,0.08455383063086612,0.07728771678955991,0.040662783558606266,0.02651724954324167,0.024978445983095104,0.035339142705562855,0.04011498662915437,0.03072317013788322,0.039420942718037456,0.041070572515632585,0.041828181994856564,0.04344609099751088,0.031280398092728846,0.033589561605802655,0.042991760551657536,0.04127852982142265,0.03989386796977483,0.04541865114558133],\"type\":\"histogram2d\"}],                        {\"template\":{\"data\":{\"histogram2dcontour\":[{\"type\":\"histogram2dcontour\",\"colorbar\":{\"outlinewidth\":0,\"ticks\":\"\"},\"colorscale\":[[0.0,\"#0d0887\"],[0.1111111111111111,\"#46039f\"],[0.2222222222222222,\"#7201a8\"],[0.3333333333333333,\"#9c179e\"],[0.4444444444444444,\"#bd3786\"],[0.5555555555555556,\"#d8576b\"],[0.6666666666666666,\"#ed7953\"],[0.7777777777777778,\"#fb9f3a\"],[0.8888888888888888,\"#fdca26\"],[1.0,\"#f0f921\"]]}],\"choropleth\":[{\"type\":\"choropleth\",\"colorbar\":{\"outlinewidth\":0,\"ticks\":\"\"}}],\"histogram2d\":[{\"type\":\"histogram2d\",\"colorbar\":{\"outlinewidth\":0,\"ticks\":\"\"},\"colorscale\":[[0.0,\"#0d0887\"],[0.1111111111111111,\"#46039f\"],[0.2222222222222222,\"#7201a8\"],[0.3333333333333333,\"#9c179e\"],[0.4444444444444444,\"#bd3786\"],[0.5555555555555556,\"#d8576b\"],[0.6666666666666666,\"#ed7953\"],[0.7777777777777778,\"#fb9f3a\"],[0.8888888888888888,\"#fdca26\"],[1.0,\"#f0f921\"]]}],\"heatmap\":[{\"type\":\"heatmap\",\"colorbar\":{\"outlinewidth\":0,\"ticks\":\"\"},\"colorscale\":[[0.0,\"#0d0887\"],[0.1111111111111111,\"#46039f\"],[0.2222222222222222,\"#7201a8\"],[0.3333333333333333,\"#9c179e\"],[0.4444444444444444,\"#bd3786\"],[0.5555555555555556,\"#d8576b\"],[0.6666666666666666,\"#ed7953\"],[0.7777777777777778,\"#fb9f3a\"],[0.8888888888888888,\"#fdca26\"],[1.0,\"#f0f921\"]]}],\"heatmapgl\":[{\"type\":\"heatmapgl\",\"colorbar\":{\"outlinewidth\":0,\"ticks\":\"\"},\"colorscale\":[[0.0,\"#0d0887\"],[0.1111111111111111,\"#46039f\"],[0.2222222222222222,\"#7201a8\"],[0.3333333333333333,\"#9c179e\"],[0.4444444444444444,\"#bd3786\"],[0.5555555555555556,\"#d8576b\"],[0.6666666666666666,\"#ed7953\"],[0.7777777777777778,\"#fb9f3a\"],[0.8888888888888888,\"#fdca26\"],[1.0,\"#f0f921\"]]}],\"contourcarpet\":[{\"type\":\"contourcarpet\",\"colorbar\":{\"outlinewidth\":0,\"ticks\":\"\"}}],\"contour\":[{\"type\":\"contour\",\"colorbar\":{\"outlinewidth\":0,\"ticks\":\"\"},\"colorscale\":[[0.0,\"#0d0887\"],[0.1111111111111111,\"#46039f\"],[0.2222222222222222,\"#7201a8\"],[0.3333333333333333,\"#9c179e\"],[0.4444444444444444,\"#bd3786\"],[0.5555555555555556,\"#d8576b\"],[0.6666666666666666,\"#ed7953\"],[0.7777777777777778,\"#fb9f3a\"],[0.8888888888888888,\"#fdca26\"],[1.0,\"#f0f921\"]]}],\"surface\":[{\"type\":\"surface\",\"colorbar\":{\"outlinewidth\":0,\"ticks\":\"\"},\"colorscale\":[[0.0,\"#0d0887\"],[0.1111111111111111,\"#46039f\"],[0.2222222222222222,\"#7201a8\"],[0.3333333333333333,\"#9c179e\"],[0.4444444444444444,\"#bd3786\"],[0.5555555555555556,\"#d8576b\"],[0.6666666666666666,\"#ed7953\"],[0.7777777777777778,\"#fb9f3a\"],[0.8888888888888888,\"#fdca26\"],[1.0,\"#f0f921\"]]}],\"mesh3d\":[{\"type\":\"mesh3d\",\"colorbar\":{\"outlinewidth\":0,\"ticks\":\"\"}}],\"scatter\":[{\"fillpattern\":{\"fillmode\":\"overlay\",\"size\":10,\"solidity\":0.2},\"type\":\"scatter\"}],\"parcoords\":[{\"type\":\"parcoords\",\"line\":{\"colorbar\":{\"outlinewidth\":0,\"ticks\":\"\"}}}],\"scatterpolargl\":[{\"type\":\"scatterpolargl\",\"marker\":{\"colorbar\":{\"outlinewidth\":0,\"ticks\":\"\"}}}],\"bar\":[{\"error_x\":{\"color\":\"#2a3f5f\"},\"error_y\":{\"color\":\"#2a3f5f\"},\"marker\":{\"line\":{\"color\":\"white\",\"width\":0.5},\"pattern\":{\"fillmode\":\"overlay\",\"size\":10,\"solidity\":0.2}},\"type\":\"bar\"}],\"scattergeo\":[{\"type\":\"scattergeo\",\"marker\":{\"colorbar\":{\"outlinewidth\":0,\"ticks\":\"\"}}}],\"scatterpolar\":[{\"type\":\"scatterpolar\",\"marker\":{\"colorbar\":{\"outlinewidth\":0,\"ticks\":\"\"}}}],\"histogram\":[{\"marker\":{\"pattern\":{\"fillmode\":\"overlay\",\"size\":10,\"solidity\":0.2}},\"type\":\"histogram\"}],\"scattergl\":[{\"type\":\"scattergl\",\"marker\":{\"colorbar\":{\"outlinewidth\":0,\"ticks\":\"\"}}}],\"scatter3d\":[{\"type\":\"scatter3d\",\"line\":{\"colorbar\":{\"outlinewidth\":0,\"ticks\":\"\"}},\"marker\":{\"colorbar\":{\"outlinewidth\":0,\"ticks\":\"\"}}}],\"scattermapbox\":[{\"type\":\"scattermapbox\",\"marker\":{\"colorbar\":{\"outlinewidth\":0,\"ticks\":\"\"}}}],\"scatterternary\":[{\"type\":\"scatterternary\",\"marker\":{\"colorbar\":{\"outlinewidth\":0,\"ticks\":\"\"}}}],\"scattercarpet\":[{\"type\":\"scattercarpet\",\"marker\":{\"colorbar\":{\"outlinewidth\":0,\"ticks\":\"\"}}}],\"carpet\":[{\"aaxis\":{\"endlinecolor\":\"#2a3f5f\",\"gridcolor\":\"#C8D4E3\",\"linecolor\":\"#C8D4E3\",\"minorgridcolor\":\"#C8D4E3\",\"startlinecolor\":\"#2a3f5f\"},\"baxis\":{\"endlinecolor\":\"#2a3f5f\",\"gridcolor\":\"#C8D4E3\",\"linecolor\":\"#C8D4E3\",\"minorgridcolor\":\"#C8D4E3\",\"startlinecolor\":\"#2a3f5f\"},\"type\":\"carpet\"}],\"table\":[{\"cells\":{\"fill\":{\"color\":\"#EBF0F8\"},\"line\":{\"color\":\"white\"}},\"header\":{\"fill\":{\"color\":\"#C8D4E3\"},\"line\":{\"color\":\"white\"}},\"type\":\"table\"}],\"barpolar\":[{\"marker\":{\"line\":{\"color\":\"white\",\"width\":0.5},\"pattern\":{\"fillmode\":\"overlay\",\"size\":10,\"solidity\":0.2}},\"type\":\"barpolar\"}],\"pie\":[{\"automargin\":true,\"type\":\"pie\"}]},\"layout\":{\"autotypenumbers\":\"strict\",\"colorway\":[\"#636efa\",\"#EF553B\",\"#00cc96\",\"#ab63fa\",\"#FFA15A\",\"#19d3f3\",\"#FF6692\",\"#B6E880\",\"#FF97FF\",\"#FECB52\"],\"font\":{\"color\":\"#2a3f5f\"},\"hovermode\":\"closest\",\"hoverlabel\":{\"align\":\"left\"},\"paper_bgcolor\":\"white\",\"plot_bgcolor\":\"white\",\"polar\":{\"bgcolor\":\"white\",\"angularaxis\":{\"gridcolor\":\"#EBF0F8\",\"linecolor\":\"#EBF0F8\",\"ticks\":\"\"},\"radialaxis\":{\"gridcolor\":\"#EBF0F8\",\"linecolor\":\"#EBF0F8\",\"ticks\":\"\"}},\"ternary\":{\"bgcolor\":\"white\",\"aaxis\":{\"gridcolor\":\"#DFE8F3\",\"linecolor\":\"#A2B1C6\",\"ticks\":\"\"},\"baxis\":{\"gridcolor\":\"#DFE8F3\",\"linecolor\":\"#A2B1C6\",\"ticks\":\"\"},\"caxis\":{\"gridcolor\":\"#DFE8F3\",\"linecolor\":\"#A2B1C6\",\"ticks\":\"\"}},\"coloraxis\":{\"colorbar\":{\"outlinewidth\":0,\"ticks\":\"\"}},\"colorscale\":{\"sequential\":[[0.0,\"#0d0887\"],[0.1111111111111111,\"#46039f\"],[0.2222222222222222,\"#7201a8\"],[0.3333333333333333,\"#9c179e\"],[0.4444444444444444,\"#bd3786\"],[0.5555555555555556,\"#d8576b\"],[0.6666666666666666,\"#ed7953\"],[0.7777777777777778,\"#fb9f3a\"],[0.8888888888888888,\"#fdca26\"],[1.0,\"#f0f921\"]],\"sequentialminus\":[[0.0,\"#0d0887\"],[0.1111111111111111,\"#46039f\"],[0.2222222222222222,\"#7201a8\"],[0.3333333333333333,\"#9c179e\"],[0.4444444444444444,\"#bd3786\"],[0.5555555555555556,\"#d8576b\"],[0.6666666666666666,\"#ed7953\"],[0.7777777777777778,\"#fb9f3a\"],[0.8888888888888888,\"#fdca26\"],[1.0,\"#f0f921\"]],\"diverging\":[[0,\"#8e0152\"],[0.1,\"#c51b7d\"],[0.2,\"#de77ae\"],[0.3,\"#f1b6da\"],[0.4,\"#fde0ef\"],[0.5,\"#f7f7f7\"],[0.6,\"#e6f5d0\"],[0.7,\"#b8e186\"],[0.8,\"#7fbc41\"],[0.9,\"#4d9221\"],[1,\"#276419\"]]},\"xaxis\":{\"gridcolor\":\"#EBF0F8\",\"linecolor\":\"#EBF0F8\",\"ticks\":\"\",\"title\":{\"standoff\":15},\"zerolinecolor\":\"#EBF0F8\",\"automargin\":true,\"zerolinewidth\":2},\"yaxis\":{\"gridcolor\":\"#EBF0F8\",\"linecolor\":\"#EBF0F8\",\"ticks\":\"\",\"title\":{\"standoff\":15},\"zerolinecolor\":\"#EBF0F8\",\"automargin\":true,\"zerolinewidth\":2},\"scene\":{\"xaxis\":{\"backgroundcolor\":\"white\",\"gridcolor\":\"#DFE8F3\",\"linecolor\":\"#EBF0F8\",\"showbackground\":true,\"ticks\":\"\",\"zerolinecolor\":\"#EBF0F8\",\"gridwidth\":2},\"yaxis\":{\"backgroundcolor\":\"white\",\"gridcolor\":\"#DFE8F3\",\"linecolor\":\"#EBF0F8\",\"showbackground\":true,\"ticks\":\"\",\"zerolinecolor\":\"#EBF0F8\",\"gridwidth\":2},\"zaxis\":{\"backgroundcolor\":\"white\",\"gridcolor\":\"#DFE8F3\",\"linecolor\":\"#EBF0F8\",\"showbackground\":true,\"ticks\":\"\",\"zerolinecolor\":\"#EBF0F8\",\"gridwidth\":2}},\"shapedefaults\":{\"line\":{\"color\":\"#2a3f5f\"}},\"annotationdefaults\":{\"arrowcolor\":\"#2a3f5f\",\"arrowhead\":0,\"arrowwidth\":1},\"geo\":{\"bgcolor\":\"white\",\"landcolor\":\"white\",\"subunitcolor\":\"#C8D4E3\",\"showland\":true,\"showlakes\":true,\"lakecolor\":\"white\"},\"title\":{\"x\":0.05},\"mapbox\":{\"style\":\"light\"}}},\"xaxis\":{\"anchor\":\"y\",\"domain\":[0.0,1.0],\"title\":{\"text\":\"pickup \\uc2dc\\uac04\"}},\"yaxis\":{\"anchor\":\"x\",\"domain\":[0.0,1.0],\"title\":{\"text\":\"\\uc694\\uc77c\"}},\"coloraxis\":{\"colorbar\":{\"title\":{\"text\":\"\\ud3c9\\uade0\\uc774\\ub3d9\\uac70\\ub9ac\"}},\"colorscale\":[[0.0,\"#0d0887\"],[0.1111111111111111,\"#46039f\"],[0.2222222222222222,\"#7201a8\"],[0.3333333333333333,\"#9c179e\"],[0.4444444444444444,\"#bd3786\"],[0.5555555555555556,\"#d8576b\"],[0.6666666666666666,\"#ed7953\"],[0.7777777777777778,\"#fb9f3a\"],[0.8888888888888888,\"#fdca26\"],[1.0,\"#f0f921\"]]},\"legend\":{\"tracegroupgap\":0},\"margin\":{\"t\":60},\"height\":300},                        {\"responsive\": true}                    ).then(function(){\n",
       "                            \n",
       "var gd = document.getElementById('f1dce74e-d811-4d89-a154-929a85a419c7');\n",
       "var x = new MutationObserver(function (mutations, observer) {{\n",
       "        var display = window.getComputedStyle(gd).display;\n",
       "        if (!display || display === 'none') {{\n",
       "            console.log([gd, 'removed!']);\n",
       "            Plotly.purge(gd);\n",
       "            observer.disconnect();\n",
       "        }}\n",
       "}});\n",
       "\n",
       "// Listen for the removal of the full notebook cells\n",
       "var notebookContainer = gd.closest('#notebook-container');\n",
       "if (notebookContainer) {{\n",
       "    x.observe(notebookContainer, {childList: true});\n",
       "}}\n",
       "\n",
       "// Listen for the clearing of the current output cell\n",
       "var outputEl = gd.closest('.output');\n",
       "if (outputEl) {{\n",
       "    x.observe(outputEl, {childList: true});\n",
       "}}\n",
       "\n",
       "                        })                };                });            </script>        </div>"
      ]
     },
     "metadata": {},
     "output_type": "display_data"
    }
   ],
   "source": [
    "#요일,시간에 따른 평균이동거리 시각화 \n",
    "tidydata2 = df.pivot_table(\n",
    "    index = 'dayofweek',\n",
    "    columns = 'pickup_hour',\n",
    "    values = 'dist',\n",
    "    aggfunc = 'mean'\n",
    ").stack().reset_index().rename({0:'dist_mean'},axis =1)\n",
    "\n",
    "\n",
    "# layout2 = {\n",
    "#     'xaxis':{'title':'pickup 시간'},\n",
    "#     'yaxis':{'title':'요일'},   \n",
    "# }\n",
    "\n",
    "fig2 =px.density_heatmap(\n",
    "    data_frame = tidydata2,\n",
    "    x = 'pickup_hour',\n",
    "    y = 'dayofweek',\n",
    "    z = 'dist_mean',\n",
    "    nbinsx=24,\n",
    "    nbinsy=7,\n",
    "    height=300\n",
    ")\n",
    "fig2.update_xaxes(title_text='pickup 시간')\n",
    "fig2.update_yaxes(title_text='요일')\n",
    "fig2.update_coloraxes(colorbar_title_text='평균이동거리')\n",
    "\n",
    "fig2.show()"
   ]
  },
  {
   "cell_type": "code",
   "execution_count": 249,
   "id": "4863cf7c-3b5a-47dc-8211-5235483a3508",
   "metadata": {},
   "outputs": [
    {
     "data": {
      "text/html": [
       "<div>\n",
       "<style scoped>\n",
       "    .dataframe tbody tr th:only-of-type {\n",
       "        vertical-align: middle;\n",
       "    }\n",
       "\n",
       "    .dataframe tbody tr th {\n",
       "        vertical-align: top;\n",
       "    }\n",
       "\n",
       "    .dataframe thead th {\n",
       "        text-align: right;\n",
       "    }\n",
       "</style>\n",
       "<table border=\"1\" class=\"dataframe\">\n",
       "  <thead>\n",
       "    <tr style=\"text-align: right;\">\n",
       "      <th></th>\n",
       "      <th>id</th>\n",
       "      <th>vendor_id</th>\n",
       "      <th>pickup_datetime</th>\n",
       "      <th>dropoff_datetime</th>\n",
       "      <th>passenger_count</th>\n",
       "      <th>pickup_longitude</th>\n",
       "      <th>pickup_latitude</th>\n",
       "      <th>dropoff_longitude</th>\n",
       "      <th>dropoff_latitude</th>\n",
       "      <th>store_and_fwd_flag</th>\n",
       "      <th>trip_duration</th>\n",
       "      <th>log_trip_duration</th>\n",
       "      <th>dist</th>\n",
       "      <th>speed</th>\n",
       "      <th>pickup_hour</th>\n",
       "      <th>dropoff_hour</th>\n",
       "      <th>dayofweek</th>\n",
       "    </tr>\n",
       "  </thead>\n",
       "  <tbody>\n",
       "    <tr>\n",
       "      <th>0</th>\n",
       "      <td>id2875421</td>\n",
       "      <td>B</td>\n",
       "      <td>2016-03-14 17:24:55</td>\n",
       "      <td>2016-03-14 17:32:30</td>\n",
       "      <td>1</td>\n",
       "      <td>-73.982155</td>\n",
       "      <td>40.767937</td>\n",
       "      <td>-73.964630</td>\n",
       "      <td>40.765602</td>\n",
       "      <td>N</td>\n",
       "      <td>455</td>\n",
       "      <td>6.120297</td>\n",
       "      <td>0.017680</td>\n",
       "      <td>0.000039</td>\n",
       "      <td>17</td>\n",
       "      <td>17</td>\n",
       "      <td>월</td>\n",
       "    </tr>\n",
       "    <tr>\n",
       "      <th>1</th>\n",
       "      <td>id3667993</td>\n",
       "      <td>B</td>\n",
       "      <td>2016-01-03 04:18:57</td>\n",
       "      <td>2016-01-03 04:27:03</td>\n",
       "      <td>1</td>\n",
       "      <td>-73.980522</td>\n",
       "      <td>40.730530</td>\n",
       "      <td>-73.997993</td>\n",
       "      <td>40.746220</td>\n",
       "      <td>N</td>\n",
       "      <td>486</td>\n",
       "      <td>6.186209</td>\n",
       "      <td>0.023482</td>\n",
       "      <td>0.000048</td>\n",
       "      <td>4</td>\n",
       "      <td>4</td>\n",
       "      <td>일</td>\n",
       "    </tr>\n",
       "    <tr>\n",
       "      <th>2</th>\n",
       "      <td>id2002463</td>\n",
       "      <td>B</td>\n",
       "      <td>2016-01-14 12:28:56</td>\n",
       "      <td>2016-01-14 12:37:17</td>\n",
       "      <td>1</td>\n",
       "      <td>-73.965652</td>\n",
       "      <td>40.768398</td>\n",
       "      <td>-73.960068</td>\n",
       "      <td>40.779308</td>\n",
       "      <td>N</td>\n",
       "      <td>501</td>\n",
       "      <td>6.216606</td>\n",
       "      <td>0.012256</td>\n",
       "      <td>0.000024</td>\n",
       "      <td>12</td>\n",
       "      <td>12</td>\n",
       "      <td>목</td>\n",
       "    </tr>\n",
       "    <tr>\n",
       "      <th>3</th>\n",
       "      <td>id1635353</td>\n",
       "      <td>B</td>\n",
       "      <td>2016-03-04 23:20:58</td>\n",
       "      <td>2016-03-04 23:49:29</td>\n",
       "      <td>5</td>\n",
       "      <td>-73.985092</td>\n",
       "      <td>40.759190</td>\n",
       "      <td>-73.962151</td>\n",
       "      <td>40.709850</td>\n",
       "      <td>N</td>\n",
       "      <td>1711</td>\n",
       "      <td>7.444833</td>\n",
       "      <td>0.054412</td>\n",
       "      <td>0.000032</td>\n",
       "      <td>23</td>\n",
       "      <td>23</td>\n",
       "      <td>금</td>\n",
       "    </tr>\n",
       "    <tr>\n",
       "      <th>4</th>\n",
       "      <td>id1850636</td>\n",
       "      <td>A</td>\n",
       "      <td>2016-02-05 00:21:28</td>\n",
       "      <td>2016-02-05 00:52:24</td>\n",
       "      <td>1</td>\n",
       "      <td>-73.994537</td>\n",
       "      <td>40.750439</td>\n",
       "      <td>-74.025719</td>\n",
       "      <td>40.631100</td>\n",
       "      <td>N</td>\n",
       "      <td>1856</td>\n",
       "      <td>7.526179</td>\n",
       "      <td>0.123345</td>\n",
       "      <td>0.000066</td>\n",
       "      <td>0</td>\n",
       "      <td>0</td>\n",
       "      <td>금</td>\n",
       "    </tr>\n",
       "    <tr>\n",
       "      <th>...</th>\n",
       "      <td>...</td>\n",
       "      <td>...</td>\n",
       "      <td>...</td>\n",
       "      <td>...</td>\n",
       "      <td>...</td>\n",
       "      <td>...</td>\n",
       "      <td>...</td>\n",
       "      <td>...</td>\n",
       "      <td>...</td>\n",
       "      <td>...</td>\n",
       "      <td>...</td>\n",
       "      <td>...</td>\n",
       "      <td>...</td>\n",
       "      <td>...</td>\n",
       "      <td>...</td>\n",
       "      <td>...</td>\n",
       "      <td>...</td>\n",
       "    </tr>\n",
       "    <tr>\n",
       "      <th>141</th>\n",
       "      <td>id0621879</td>\n",
       "      <td>A</td>\n",
       "      <td>2016-04-23 09:31:33</td>\n",
       "      <td>2016-04-23 09:51:33</td>\n",
       "      <td>1</td>\n",
       "      <td>-73.950783</td>\n",
       "      <td>40.743614</td>\n",
       "      <td>-74.006218</td>\n",
       "      <td>40.722729</td>\n",
       "      <td>N</td>\n",
       "      <td>1200</td>\n",
       "      <td>7.090077</td>\n",
       "      <td>0.059239</td>\n",
       "      <td>0.000049</td>\n",
       "      <td>9</td>\n",
       "      <td>9</td>\n",
       "      <td>토</td>\n",
       "    </tr>\n",
       "    <tr>\n",
       "      <th>142</th>\n",
       "      <td>id2587483</td>\n",
       "      <td>B</td>\n",
       "      <td>2016-03-28 12:59:58</td>\n",
       "      <td>2016-03-28 13:08:11</td>\n",
       "      <td>2</td>\n",
       "      <td>-73.953903</td>\n",
       "      <td>40.787079</td>\n",
       "      <td>-73.940842</td>\n",
       "      <td>40.792461</td>\n",
       "      <td>N</td>\n",
       "      <td>493</td>\n",
       "      <td>6.200509</td>\n",
       "      <td>0.014127</td>\n",
       "      <td>0.000029</td>\n",
       "      <td>12</td>\n",
       "      <td>13</td>\n",
       "      <td>월</td>\n",
       "    </tr>\n",
       "    <tr>\n",
       "      <th>143</th>\n",
       "      <td>id1030598</td>\n",
       "      <td>B</td>\n",
       "      <td>2016-03-03 11:44:24</td>\n",
       "      <td>2016-03-03 11:49:59</td>\n",
       "      <td>1</td>\n",
       "      <td>-74.005066</td>\n",
       "      <td>40.719143</td>\n",
       "      <td>-74.006065</td>\n",
       "      <td>40.735134</td>\n",
       "      <td>N</td>\n",
       "      <td>335</td>\n",
       "      <td>5.814131</td>\n",
       "      <td>0.016022</td>\n",
       "      <td>0.000048</td>\n",
       "      <td>11</td>\n",
       "      <td>11</td>\n",
       "      <td>목</td>\n",
       "    </tr>\n",
       "    <tr>\n",
       "      <th>144</th>\n",
       "      <td>id3094934</td>\n",
       "      <td>A</td>\n",
       "      <td>2016-03-21 09:53:40</td>\n",
       "      <td>2016-03-21 10:22:20</td>\n",
       "      <td>1</td>\n",
       "      <td>-73.986153</td>\n",
       "      <td>40.722431</td>\n",
       "      <td>-73.985977</td>\n",
       "      <td>40.762669</td>\n",
       "      <td>N</td>\n",
       "      <td>1720</td>\n",
       "      <td>7.450080</td>\n",
       "      <td>0.040238</td>\n",
       "      <td>0.000023</td>\n",
       "      <td>9</td>\n",
       "      <td>10</td>\n",
       "      <td>월</td>\n",
       "    </tr>\n",
       "    <tr>\n",
       "      <th>145</th>\n",
       "      <td>id0503659</td>\n",
       "      <td>B</td>\n",
       "      <td>2016-04-19 18:06:09</td>\n",
       "      <td>2016-04-19 18:23:09</td>\n",
       "      <td>2</td>\n",
       "      <td>-73.952209</td>\n",
       "      <td>40.784500</td>\n",
       "      <td>-73.966103</td>\n",
       "      <td>40.804832</td>\n",
       "      <td>N</td>\n",
       "      <td>1020</td>\n",
       "      <td>6.927558</td>\n",
       "      <td>0.024626</td>\n",
       "      <td>0.000024</td>\n",
       "      <td>18</td>\n",
       "      <td>18</td>\n",
       "      <td>화</td>\n",
       "    </tr>\n",
       "  </tbody>\n",
       "</table>\n",
       "<p>146 rows × 17 columns</p>\n",
       "</div>"
      ],
      "text/plain": [
       "            id vendor_id     pickup_datetime    dropoff_datetime  \\\n",
       "0    id2875421         B 2016-03-14 17:24:55 2016-03-14 17:32:30   \n",
       "1    id3667993         B 2016-01-03 04:18:57 2016-01-03 04:27:03   \n",
       "2    id2002463         B 2016-01-14 12:28:56 2016-01-14 12:37:17   \n",
       "3    id1635353         B 2016-03-04 23:20:58 2016-03-04 23:49:29   \n",
       "4    id1850636         A 2016-02-05 00:21:28 2016-02-05 00:52:24   \n",
       "..         ...       ...                 ...                 ...   \n",
       "141  id0621879         A 2016-04-23 09:31:33 2016-04-23 09:51:33   \n",
       "142  id2587483         B 2016-03-28 12:59:58 2016-03-28 13:08:11   \n",
       "143  id1030598         B 2016-03-03 11:44:24 2016-03-03 11:49:59   \n",
       "144  id3094934         A 2016-03-21 09:53:40 2016-03-21 10:22:20   \n",
       "145  id0503659         B 2016-04-19 18:06:09 2016-04-19 18:23:09   \n",
       "\n",
       "     passenger_count  pickup_longitude  pickup_latitude  dropoff_longitude  \\\n",
       "0                  1        -73.982155        40.767937         -73.964630   \n",
       "1                  1        -73.980522        40.730530         -73.997993   \n",
       "2                  1        -73.965652        40.768398         -73.960068   \n",
       "3                  5        -73.985092        40.759190         -73.962151   \n",
       "4                  1        -73.994537        40.750439         -74.025719   \n",
       "..               ...               ...              ...                ...   \n",
       "141                1        -73.950783        40.743614         -74.006218   \n",
       "142                2        -73.953903        40.787079         -73.940842   \n",
       "143                1        -74.005066        40.719143         -74.006065   \n",
       "144                1        -73.986153        40.722431         -73.985977   \n",
       "145                2        -73.952209        40.784500         -73.966103   \n",
       "\n",
       "     dropoff_latitude store_and_fwd_flag  trip_duration  log_trip_duration  \\\n",
       "0           40.765602                  N            455           6.120297   \n",
       "1           40.746220                  N            486           6.186209   \n",
       "2           40.779308                  N            501           6.216606   \n",
       "3           40.709850                  N           1711           7.444833   \n",
       "4           40.631100                  N           1856           7.526179   \n",
       "..                ...                ...            ...                ...   \n",
       "141         40.722729                  N           1200           7.090077   \n",
       "142         40.792461                  N            493           6.200509   \n",
       "143         40.735134                  N            335           5.814131   \n",
       "144         40.762669                  N           1720           7.450080   \n",
       "145         40.804832                  N           1020           6.927558   \n",
       "\n",
       "         dist     speed  pickup_hour  dropoff_hour dayofweek  \n",
       "0    0.017680  0.000039           17            17         월  \n",
       "1    0.023482  0.000048            4             4         일  \n",
       "2    0.012256  0.000024           12            12         목  \n",
       "3    0.054412  0.000032           23            23         금  \n",
       "4    0.123345  0.000066            0             0         금  \n",
       "..        ...       ...          ...           ...       ...  \n",
       "141  0.059239  0.000049            9             9         토  \n",
       "142  0.014127  0.000029           12            13         월  \n",
       "143  0.016022  0.000048           11            11         목  \n",
       "144  0.040238  0.000023            9            10         월  \n",
       "145  0.024626  0.000024           18            18         화  \n",
       "\n",
       "[146 rows x 17 columns]"
      ]
     },
     "execution_count": 249,
     "metadata": {},
     "output_type": "execute_result"
    }
   ],
   "source": [
    "df_small = df[::100].reset_index(drop=True)\n",
    "df_small"
   ]
  },
  {
   "cell_type": "code",
   "execution_count": 40,
   "id": "9d979bd2-6685-4d7a-a525-263346f523b5",
   "metadata": {},
   "outputs": [
    {
     "name": "stdout",
     "output_type": "stream",
     "text": [
      "0      (3.63e-05, 4.78e-05]\n",
      "1      (4.78e-05, 0.000109]\n",
      "2        (-0.001, 2.63e-05]\n",
      "3      (2.63e-05, 3.63e-05]\n",
      "4      (4.78e-05, 0.000109]\n",
      "               ...         \n",
      "141    (4.78e-05, 0.000109]\n",
      "142    (2.63e-05, 3.63e-05]\n",
      "143    (4.78e-05, 0.000109]\n",
      "144      (-0.001, 2.63e-05]\n",
      "145      (-0.001, 2.63e-05]\n",
      "Name: speed, Length: 146, dtype: category\n",
      "Categories (4, interval[float64, right]): [(-0.001, 2.63e-05] < (2.63e-05, 3.63e-05] < (3.63e-05, 4.78e-05] < (4.78e-05, 0.000109]]\n",
      "0      조금빠름\n",
      "1      매우빠름\n",
      "2      매우느림\n",
      "3      조금느림\n",
      "4      매우빠름\n",
      "       ... \n",
      "141    매우빠름\n",
      "142    조금느림\n",
      "143    매우빠름\n",
      "144    매우느림\n",
      "145    매우느림\n",
      "Name: speed, Length: 146, dtype: category\n",
      "Categories (4, object): ['매우느림' < '조금느림' < '조금빠름' < '매우빠름']\n"
     ]
    }
   ],
   "source": [
    "# 속력별 경로시각화 \n",
    "#속력을 quantile에 따라 4구간으로 나누고, 구간별 이동경로 대시보드에 시각화\n",
    "#color = speed_cut\n",
    "df_small \n",
    "print(pd.qcut(df_small['speed'], 4))\n",
    "print(pd.qcut(df_small['speed'], 4, labels = ['매우느림','조금느림','조금빠름','매우빠름']))"
   ]
  },
  {
   "cell_type": "code",
   "execution_count": 251,
   "id": "ad1561e0-1cd4-4954-82d5-40652b3d601f",
   "metadata": {},
   "outputs": [
    {
     "data": {
      "text/html": [
       "<div>\n",
       "<style scoped>\n",
       "    .dataframe tbody tr th:only-of-type {\n",
       "        vertical-align: middle;\n",
       "    }\n",
       "\n",
       "    .dataframe tbody tr th {\n",
       "        vertical-align: top;\n",
       "    }\n",
       "\n",
       "    .dataframe thead th {\n",
       "        text-align: right;\n",
       "    }\n",
       "</style>\n",
       "<table border=\"1\" class=\"dataframe\">\n",
       "  <thead>\n",
       "    <tr style=\"text-align: right;\">\n",
       "      <th></th>\n",
       "      <th>id</th>\n",
       "      <th>vendor_id</th>\n",
       "      <th>passenger_count</th>\n",
       "      <th>store_and_fwd_flag</th>\n",
       "      <th>trip_duration</th>\n",
       "      <th>log_trip_duration</th>\n",
       "      <th>dist</th>\n",
       "      <th>speed</th>\n",
       "      <th>dayofweek</th>\n",
       "      <th>datetime</th>\n",
       "      <th>longitude</th>\n",
       "      <th>latitude</th>\n",
       "      <th>hour</th>\n",
       "      <th>type</th>\n",
       "    </tr>\n",
       "  </thead>\n",
       "  <tbody>\n",
       "    <tr>\n",
       "      <th>0</th>\n",
       "      <td>id2875421</td>\n",
       "      <td>B</td>\n",
       "      <td>1</td>\n",
       "      <td>N</td>\n",
       "      <td>455</td>\n",
       "      <td>6.120297</td>\n",
       "      <td>0.017680</td>\n",
       "      <td>0.000039</td>\n",
       "      <td>월</td>\n",
       "      <td>2016-03-14 17:24:55</td>\n",
       "      <td>-73.982155</td>\n",
       "      <td>40.767937</td>\n",
       "      <td>17</td>\n",
       "      <td>pickup</td>\n",
       "    </tr>\n",
       "    <tr>\n",
       "      <th>1</th>\n",
       "      <td>id2875421</td>\n",
       "      <td>B</td>\n",
       "      <td>1</td>\n",
       "      <td>N</td>\n",
       "      <td>455</td>\n",
       "      <td>6.120297</td>\n",
       "      <td>0.017680</td>\n",
       "      <td>0.000039</td>\n",
       "      <td>월</td>\n",
       "      <td>2016-03-14 17:32:30</td>\n",
       "      <td>-73.964630</td>\n",
       "      <td>40.765602</td>\n",
       "      <td>17</td>\n",
       "      <td>dropoff</td>\n",
       "    </tr>\n",
       "    <tr>\n",
       "      <th>2</th>\n",
       "      <td>id3667993</td>\n",
       "      <td>B</td>\n",
       "      <td>1</td>\n",
       "      <td>N</td>\n",
       "      <td>486</td>\n",
       "      <td>6.186209</td>\n",
       "      <td>0.023482</td>\n",
       "      <td>0.000048</td>\n",
       "      <td>일</td>\n",
       "      <td>2016-01-03 04:18:57</td>\n",
       "      <td>-73.980522</td>\n",
       "      <td>40.730530</td>\n",
       "      <td>4</td>\n",
       "      <td>pickup</td>\n",
       "    </tr>\n",
       "    <tr>\n",
       "      <th>3</th>\n",
       "      <td>id3667993</td>\n",
       "      <td>B</td>\n",
       "      <td>1</td>\n",
       "      <td>N</td>\n",
       "      <td>486</td>\n",
       "      <td>6.186209</td>\n",
       "      <td>0.023482</td>\n",
       "      <td>0.000048</td>\n",
       "      <td>일</td>\n",
       "      <td>2016-01-03 04:27:03</td>\n",
       "      <td>-73.997993</td>\n",
       "      <td>40.746220</td>\n",
       "      <td>4</td>\n",
       "      <td>dropoff</td>\n",
       "    </tr>\n",
       "    <tr>\n",
       "      <th>4</th>\n",
       "      <td>id2002463</td>\n",
       "      <td>B</td>\n",
       "      <td>1</td>\n",
       "      <td>N</td>\n",
       "      <td>501</td>\n",
       "      <td>6.216606</td>\n",
       "      <td>0.012256</td>\n",
       "      <td>0.000024</td>\n",
       "      <td>목</td>\n",
       "      <td>2016-01-14 12:28:56</td>\n",
       "      <td>-73.965652</td>\n",
       "      <td>40.768398</td>\n",
       "      <td>12</td>\n",
       "      <td>pickup</td>\n",
       "    </tr>\n",
       "    <tr>\n",
       "      <th>...</th>\n",
       "      <td>...</td>\n",
       "      <td>...</td>\n",
       "      <td>...</td>\n",
       "      <td>...</td>\n",
       "      <td>...</td>\n",
       "      <td>...</td>\n",
       "      <td>...</td>\n",
       "      <td>...</td>\n",
       "      <td>...</td>\n",
       "      <td>...</td>\n",
       "      <td>...</td>\n",
       "      <td>...</td>\n",
       "      <td>...</td>\n",
       "      <td>...</td>\n",
       "    </tr>\n",
       "    <tr>\n",
       "      <th>287</th>\n",
       "      <td>id1030598</td>\n",
       "      <td>B</td>\n",
       "      <td>1</td>\n",
       "      <td>N</td>\n",
       "      <td>335</td>\n",
       "      <td>5.814131</td>\n",
       "      <td>0.016022</td>\n",
       "      <td>0.000048</td>\n",
       "      <td>목</td>\n",
       "      <td>2016-03-03 11:49:59</td>\n",
       "      <td>-74.006065</td>\n",
       "      <td>40.735134</td>\n",
       "      <td>11</td>\n",
       "      <td>dropoff</td>\n",
       "    </tr>\n",
       "    <tr>\n",
       "      <th>288</th>\n",
       "      <td>id3094934</td>\n",
       "      <td>A</td>\n",
       "      <td>1</td>\n",
       "      <td>N</td>\n",
       "      <td>1720</td>\n",
       "      <td>7.450080</td>\n",
       "      <td>0.040238</td>\n",
       "      <td>0.000023</td>\n",
       "      <td>월</td>\n",
       "      <td>2016-03-21 09:53:40</td>\n",
       "      <td>-73.986153</td>\n",
       "      <td>40.722431</td>\n",
       "      <td>9</td>\n",
       "      <td>pickup</td>\n",
       "    </tr>\n",
       "    <tr>\n",
       "      <th>289</th>\n",
       "      <td>id3094934</td>\n",
       "      <td>A</td>\n",
       "      <td>1</td>\n",
       "      <td>N</td>\n",
       "      <td>1720</td>\n",
       "      <td>7.450080</td>\n",
       "      <td>0.040238</td>\n",
       "      <td>0.000023</td>\n",
       "      <td>월</td>\n",
       "      <td>2016-03-21 10:22:20</td>\n",
       "      <td>-73.985977</td>\n",
       "      <td>40.762669</td>\n",
       "      <td>10</td>\n",
       "      <td>dropoff</td>\n",
       "    </tr>\n",
       "    <tr>\n",
       "      <th>290</th>\n",
       "      <td>id0503659</td>\n",
       "      <td>B</td>\n",
       "      <td>2</td>\n",
       "      <td>N</td>\n",
       "      <td>1020</td>\n",
       "      <td>6.927558</td>\n",
       "      <td>0.024626</td>\n",
       "      <td>0.000024</td>\n",
       "      <td>화</td>\n",
       "      <td>2016-04-19 18:06:09</td>\n",
       "      <td>-73.952209</td>\n",
       "      <td>40.784500</td>\n",
       "      <td>18</td>\n",
       "      <td>pickup</td>\n",
       "    </tr>\n",
       "    <tr>\n",
       "      <th>291</th>\n",
       "      <td>id0503659</td>\n",
       "      <td>B</td>\n",
       "      <td>2</td>\n",
       "      <td>N</td>\n",
       "      <td>1020</td>\n",
       "      <td>6.927558</td>\n",
       "      <td>0.024626</td>\n",
       "      <td>0.000024</td>\n",
       "      <td>화</td>\n",
       "      <td>2016-04-19 18:23:09</td>\n",
       "      <td>-73.966103</td>\n",
       "      <td>40.804832</td>\n",
       "      <td>18</td>\n",
       "      <td>dropoff</td>\n",
       "    </tr>\n",
       "  </tbody>\n",
       "</table>\n",
       "<p>292 rows × 14 columns</p>\n",
       "</div>"
      ],
      "text/plain": [
       "            id vendor_id  passenger_count store_and_fwd_flag  trip_duration  \\\n",
       "0    id2875421         B                1                  N            455   \n",
       "1    id2875421         B                1                  N            455   \n",
       "2    id3667993         B                1                  N            486   \n",
       "3    id3667993         B                1                  N            486   \n",
       "4    id2002463         B                1                  N            501   \n",
       "..         ...       ...              ...                ...            ...   \n",
       "287  id1030598         B                1                  N            335   \n",
       "288  id3094934         A                1                  N           1720   \n",
       "289  id3094934         A                1                  N           1720   \n",
       "290  id0503659         B                2                  N           1020   \n",
       "291  id0503659         B                2                  N           1020   \n",
       "\n",
       "     log_trip_duration      dist     speed dayofweek            datetime  \\\n",
       "0             6.120297  0.017680  0.000039         월 2016-03-14 17:24:55   \n",
       "1             6.120297  0.017680  0.000039         월 2016-03-14 17:32:30   \n",
       "2             6.186209  0.023482  0.000048         일 2016-01-03 04:18:57   \n",
       "3             6.186209  0.023482  0.000048         일 2016-01-03 04:27:03   \n",
       "4             6.216606  0.012256  0.000024         목 2016-01-14 12:28:56   \n",
       "..                 ...       ...       ...       ...                 ...   \n",
       "287           5.814131  0.016022  0.000048         목 2016-03-03 11:49:59   \n",
       "288           7.450080  0.040238  0.000023         월 2016-03-21 09:53:40   \n",
       "289           7.450080  0.040238  0.000023         월 2016-03-21 10:22:20   \n",
       "290           6.927558  0.024626  0.000024         화 2016-04-19 18:06:09   \n",
       "291           6.927558  0.024626  0.000024         화 2016-04-19 18:23:09   \n",
       "\n",
       "     longitude   latitude  hour     type  \n",
       "0   -73.982155  40.767937    17   pickup  \n",
       "1   -73.964630  40.765602    17  dropoff  \n",
       "2   -73.980522  40.730530     4   pickup  \n",
       "3   -73.997993  40.746220     4  dropoff  \n",
       "4   -73.965652  40.768398    12   pickup  \n",
       "..         ...        ...   ...      ...  \n",
       "287 -74.006065  40.735134    11  dropoff  \n",
       "288 -73.986153  40.722431     9   pickup  \n",
       "289 -73.985977  40.762669    10  dropoff  \n",
       "290 -73.952209  40.784500    18   pickup  \n",
       "291 -73.966103  40.804832    18  dropoff  \n",
       "\n",
       "[292 rows x 14 columns]"
      ]
     },
     "execution_count": 251,
     "metadata": {},
     "output_type": "execute_result"
    }
   ],
   "source": [
    "pcol = ['pickup_datetime', 'pickup_longitude', 'pickup_latitude', 'pickup_hour']\n",
    "dcol = ['dropoff_datetime', 'dropoff_longitude', 'dropoff_latitude', 'dropoff_hour']\n",
    "def transform(df):\n",
    "    pickup = df.loc[:,['id']+pcol].set_axis(['id', 'datetime', 'longitude', 'latitude', 'hour'],axis=1).assign(type = 'pickup')\n",
    "    dropoff = df.loc[:,['id']+dcol].set_axis(['id', 'datetime', 'longitude', 'latitude', 'hour'],axis=1).assign(type = 'dropoff')\n",
    "    return pd.concat([pickup,dropoff],axis=0)\n",
    "df_left = df_small.drop(pcol+dcol,axis=1)\n",
    "df_right = pd.concat([transform(df) for i, df in df_small.groupby('id')]).reset_index(drop=True)\n",
    "df_small2 = df_left.merge(df_right)\n",
    "df_small2"
   ]
  },
  {
   "cell_type": "code",
   "execution_count": 253,
   "id": "03ba826e-85bb-42e4-a4ec-39f300a44b7e",
   "metadata": {},
   "outputs": [
    {
     "data": {
      "text/html": [
       "<div>\n",
       "<style scoped>\n",
       "    .dataframe tbody tr th:only-of-type {\n",
       "        vertical-align: middle;\n",
       "    }\n",
       "\n",
       "    .dataframe tbody tr th {\n",
       "        vertical-align: top;\n",
       "    }\n",
       "\n",
       "    .dataframe thead th {\n",
       "        text-align: right;\n",
       "    }\n",
       "</style>\n",
       "<table border=\"1\" class=\"dataframe\">\n",
       "  <thead>\n",
       "    <tr style=\"text-align: right;\">\n",
       "      <th></th>\n",
       "      <th>id</th>\n",
       "      <th>vendor_id</th>\n",
       "      <th>passenger_count</th>\n",
       "      <th>store_and_fwd_flag</th>\n",
       "      <th>trip_duration</th>\n",
       "      <th>log_trip_duration</th>\n",
       "      <th>dist</th>\n",
       "      <th>speed</th>\n",
       "      <th>dayofweek</th>\n",
       "      <th>datetime</th>\n",
       "      <th>longitude</th>\n",
       "      <th>latitude</th>\n",
       "      <th>hour</th>\n",
       "      <th>type</th>\n",
       "      <th>speed_cut</th>\n",
       "    </tr>\n",
       "  </thead>\n",
       "  <tbody>\n",
       "    <tr>\n",
       "      <th>95</th>\n",
       "      <td>id1891478</td>\n",
       "      <td>B</td>\n",
       "      <td>2</td>\n",
       "      <td>N</td>\n",
       "      <td>398</td>\n",
       "      <td>5.986452</td>\n",
       "      <td>0.000000</td>\n",
       "      <td>0.000000e+00</td>\n",
       "      <td>월</td>\n",
       "      <td>2016-05-30 11:45:05</td>\n",
       "      <td>-73.970901</td>\n",
       "      <td>40.759830</td>\n",
       "      <td>11</td>\n",
       "      <td>dropoff</td>\n",
       "      <td>매우느림</td>\n",
       "    </tr>\n",
       "    <tr>\n",
       "      <th>94</th>\n",
       "      <td>id1891478</td>\n",
       "      <td>B</td>\n",
       "      <td>2</td>\n",
       "      <td>N</td>\n",
       "      <td>398</td>\n",
       "      <td>5.986452</td>\n",
       "      <td>0.000000</td>\n",
       "      <td>0.000000e+00</td>\n",
       "      <td>월</td>\n",
       "      <td>2016-05-30 11:38:27</td>\n",
       "      <td>-73.970901</td>\n",
       "      <td>40.759830</td>\n",
       "      <td>11</td>\n",
       "      <td>pickup</td>\n",
       "      <td>매우느림</td>\n",
       "    </tr>\n",
       "    <tr>\n",
       "      <th>38</th>\n",
       "      <td>id1395947</td>\n",
       "      <td>A</td>\n",
       "      <td>1</td>\n",
       "      <td>N</td>\n",
       "      <td>2192</td>\n",
       "      <td>7.692570</td>\n",
       "      <td>0.000391</td>\n",
       "      <td>1.785380e-07</td>\n",
       "      <td>토</td>\n",
       "      <td>2016-03-19 16:46:57</td>\n",
       "      <td>-73.981133</td>\n",
       "      <td>40.781685</td>\n",
       "      <td>16</td>\n",
       "      <td>pickup</td>\n",
       "      <td>매우느림</td>\n",
       "    </tr>\n",
       "    <tr>\n",
       "      <th>39</th>\n",
       "      <td>id1395947</td>\n",
       "      <td>A</td>\n",
       "      <td>1</td>\n",
       "      <td>N</td>\n",
       "      <td>2192</td>\n",
       "      <td>7.692570</td>\n",
       "      <td>0.000391</td>\n",
       "      <td>1.785380e-07</td>\n",
       "      <td>토</td>\n",
       "      <td>2016-03-19 17:23:29</td>\n",
       "      <td>-73.981201</td>\n",
       "      <td>40.781300</td>\n",
       "      <td>17</td>\n",
       "      <td>dropoff</td>\n",
       "      <td>매우느림</td>\n",
       "    </tr>\n",
       "    <tr>\n",
       "      <th>110</th>\n",
       "      <td>id0616736</td>\n",
       "      <td>B</td>\n",
       "      <td>2</td>\n",
       "      <td>N</td>\n",
       "      <td>884</td>\n",
       "      <td>6.784457</td>\n",
       "      <td>0.002722</td>\n",
       "      <td>3.078877e-06</td>\n",
       "      <td>화</td>\n",
       "      <td>2016-01-19 10:20:07</td>\n",
       "      <td>-73.969322</td>\n",
       "      <td>40.763519</td>\n",
       "      <td>10</td>\n",
       "      <td>pickup</td>\n",
       "      <td>매우느림</td>\n",
       "    </tr>\n",
       "    <tr>\n",
       "      <th>...</th>\n",
       "      <td>...</td>\n",
       "      <td>...</td>\n",
       "      <td>...</td>\n",
       "      <td>...</td>\n",
       "      <td>...</td>\n",
       "      <td>...</td>\n",
       "      <td>...</td>\n",
       "      <td>...</td>\n",
       "      <td>...</td>\n",
       "      <td>...</td>\n",
       "      <td>...</td>\n",
       "      <td>...</td>\n",
       "      <td>...</td>\n",
       "      <td>...</td>\n",
       "      <td>...</td>\n",
       "    </tr>\n",
       "    <tr>\n",
       "      <th>167</th>\n",
       "      <td>id3646444</td>\n",
       "      <td>A</td>\n",
       "      <td>1</td>\n",
       "      <td>N</td>\n",
       "      <td>2057</td>\n",
       "      <td>7.629004</td>\n",
       "      <td>0.210542</td>\n",
       "      <td>1.023540e-04</td>\n",
       "      <td>화</td>\n",
       "      <td>2016-05-24 01:22:51</td>\n",
       "      <td>-73.952194</td>\n",
       "      <td>40.781292</td>\n",
       "      <td>1</td>\n",
       "      <td>dropoff</td>\n",
       "      <td>매우빠름</td>\n",
       "    </tr>\n",
       "    <tr>\n",
       "      <th>218</th>\n",
       "      <td>id0345371</td>\n",
       "      <td>B</td>\n",
       "      <td>2</td>\n",
       "      <td>N</td>\n",
       "      <td>1630</td>\n",
       "      <td>7.396335</td>\n",
       "      <td>0.170436</td>\n",
       "      <td>1.045620e-04</td>\n",
       "      <td>일</td>\n",
       "      <td>2016-03-20 06:42:25</td>\n",
       "      <td>-73.781967</td>\n",
       "      <td>40.644691</td>\n",
       "      <td>6</td>\n",
       "      <td>pickup</td>\n",
       "      <td>매우빠름</td>\n",
       "    </tr>\n",
       "    <tr>\n",
       "      <th>219</th>\n",
       "      <td>id0345371</td>\n",
       "      <td>B</td>\n",
       "      <td>2</td>\n",
       "      <td>N</td>\n",
       "      <td>1630</td>\n",
       "      <td>7.396335</td>\n",
       "      <td>0.170436</td>\n",
       "      <td>1.045620e-04</td>\n",
       "      <td>일</td>\n",
       "      <td>2016-03-20 07:09:35</td>\n",
       "      <td>-73.939919</td>\n",
       "      <td>40.708721</td>\n",
       "      <td>7</td>\n",
       "      <td>dropoff</td>\n",
       "      <td>매우빠름</td>\n",
       "    </tr>\n",
       "    <tr>\n",
       "      <th>139</th>\n",
       "      <td>id2676557</td>\n",
       "      <td>A</td>\n",
       "      <td>1</td>\n",
       "      <td>N</td>\n",
       "      <td>97</td>\n",
       "      <td>4.574711</td>\n",
       "      <td>0.010579</td>\n",
       "      <td>1.090595e-04</td>\n",
       "      <td>수</td>\n",
       "      <td>2016-02-03 07:23:09</td>\n",
       "      <td>-73.978119</td>\n",
       "      <td>40.748184</td>\n",
       "      <td>7</td>\n",
       "      <td>dropoff</td>\n",
       "      <td>매우빠름</td>\n",
       "    </tr>\n",
       "    <tr>\n",
       "      <th>138</th>\n",
       "      <td>id2676557</td>\n",
       "      <td>A</td>\n",
       "      <td>1</td>\n",
       "      <td>N</td>\n",
       "      <td>97</td>\n",
       "      <td>4.574711</td>\n",
       "      <td>0.010579</td>\n",
       "      <td>1.090595e-04</td>\n",
       "      <td>수</td>\n",
       "      <td>2016-02-03 07:21:32</td>\n",
       "      <td>-73.983017</td>\n",
       "      <td>40.738808</td>\n",
       "      <td>7</td>\n",
       "      <td>pickup</td>\n",
       "      <td>매우빠름</td>\n",
       "    </tr>\n",
       "  </tbody>\n",
       "</table>\n",
       "<p>292 rows × 15 columns</p>\n",
       "</div>"
      ],
      "text/plain": [
       "            id vendor_id  passenger_count store_and_fwd_flag  trip_duration  \\\n",
       "95   id1891478         B                2                  N            398   \n",
       "94   id1891478         B                2                  N            398   \n",
       "38   id1395947         A                1                  N           2192   \n",
       "39   id1395947         A                1                  N           2192   \n",
       "110  id0616736         B                2                  N            884   \n",
       "..         ...       ...              ...                ...            ...   \n",
       "167  id3646444         A                1                  N           2057   \n",
       "218  id0345371         B                2                  N           1630   \n",
       "219  id0345371         B                2                  N           1630   \n",
       "139  id2676557         A                1                  N             97   \n",
       "138  id2676557         A                1                  N             97   \n",
       "\n",
       "     log_trip_duration      dist         speed dayofweek            datetime  \\\n",
       "95            5.986452  0.000000  0.000000e+00         월 2016-05-30 11:45:05   \n",
       "94            5.986452  0.000000  0.000000e+00         월 2016-05-30 11:38:27   \n",
       "38            7.692570  0.000391  1.785380e-07         토 2016-03-19 16:46:57   \n",
       "39            7.692570  0.000391  1.785380e-07         토 2016-03-19 17:23:29   \n",
       "110           6.784457  0.002722  3.078877e-06         화 2016-01-19 10:20:07   \n",
       "..                 ...       ...           ...       ...                 ...   \n",
       "167           7.629004  0.210542  1.023540e-04         화 2016-05-24 01:22:51   \n",
       "218           7.396335  0.170436  1.045620e-04         일 2016-03-20 06:42:25   \n",
       "219           7.396335  0.170436  1.045620e-04         일 2016-03-20 07:09:35   \n",
       "139           4.574711  0.010579  1.090595e-04         수 2016-02-03 07:23:09   \n",
       "138           4.574711  0.010579  1.090595e-04         수 2016-02-03 07:21:32   \n",
       "\n",
       "     longitude   latitude  hour     type speed_cut  \n",
       "95  -73.970901  40.759830    11  dropoff      매우느림  \n",
       "94  -73.970901  40.759830    11   pickup      매우느림  \n",
       "38  -73.981133  40.781685    16   pickup      매우느림  \n",
       "39  -73.981201  40.781300    17  dropoff      매우느림  \n",
       "110 -73.969322  40.763519    10   pickup      매우느림  \n",
       "..         ...        ...   ...      ...       ...  \n",
       "167 -73.952194  40.781292     1  dropoff      매우빠름  \n",
       "218 -73.781967  40.644691     6   pickup      매우빠름  \n",
       "219 -73.939919  40.708721     7  dropoff      매우빠름  \n",
       "139 -73.978119  40.748184     7  dropoff      매우빠름  \n",
       "138 -73.983017  40.738808     7   pickup      매우빠름  \n",
       "\n",
       "[292 rows x 15 columns]"
      ]
     },
     "execution_count": 253,
     "metadata": {},
     "output_type": "execute_result"
    }
   ],
   "source": [
    "tidydata3 = df_small2.sort_values('speed').assign(speed_cut = lambda df: pd.qcut(df.speed,4,labels=['매우느림','조금느림','조금빠름','매우빠름']))\n",
    "tidydata3"
   ]
  },
  {
   "cell_type": "code",
   "execution_count": 257,
   "id": "45476e51-ccf6-4dbf-b66c-7c2d90360e6a",
   "metadata": {},
   "outputs": [
    {
     "name": "stderr",
     "output_type": "stream",
     "text": [
      "/root/anaconda3/envs/dv2023/lib/python3.10/site-packages/plotly/express/_core.py:2044: FutureWarning:\n",
      "\n",
      "The default of observed=False is deprecated and will be changed to True in a future version of pandas. Pass observed=False to retain current behavior or observed=True to adopt the future default and silence this warning.\n",
      "\n",
      "/root/anaconda3/envs/dv2023/lib/python3.10/site-packages/plotly/express/_core.py:2044: FutureWarning:\n",
      "\n",
      "The default of observed=False is deprecated and will be changed to True in a future version of pandas. Pass observed=False to retain current behavior or observed=True to adopt the future default and silence this warning.\n",
      "\n"
     ]
    }
   ],
   "source": [
    "fig3 = px.line_mapbox(\n",
    "    data_frame = tidydata3,\n",
    "    lat = 'latitude',\n",
    "    lon = 'longitude',\n",
    "    line_group = 'id',\n",
    "    color = 'speed_cut',\n",
    "    center = {'lat':40.7322, 'lon':-73.9052},\n",
    "    #---#\n",
    "    mapbox_style = 'carto-positron',\n",
    "    zoom=11,\n",
    ")\n",
    "scatter_data = px.scatter_mapbox(\n",
    "    data_frame = tidydata3,\n",
    "    lat = 'latitude',\n",
    "    lon = 'longitude',\n",
    "    size = 'passenger_count',\n",
    "    size_max = 10,\n",
    "    color = 'speed_cut',\n",
    "    #---#\n",
    "    mapbox_style = 'carto-positron',\n",
    "    zoom=11,\n",
    ").data\n",
    "for sd in scatter_data: \n",
    "    fig3.add_trace(sd)\n",
    "fig3.update_traces(\n",
    "    line={\n",
    "        'width':1\n",
    "    },\n",
    "    opacity=0.8\n",
    ")\n",
    "\n",
    "fig3.update_layout(\n",
    "    legend_title_text='평균속력'\n",
    ")\n",
    "\n",
    "for i in range(150):\n",
    "    if fig3.data[i].mode == 'lines':\n",
    "        fig3.data[i]['name'] += ' (path)'\n",
    "    else:\n",
    "        fig3.data[i]['name'] += ' (pickup/dropoff)'\n",
    "    \n",
    "\n",
    "#fig3.show()"
   ]
  },
  {
   "cell_type": "code",
   "execution_count": 258,
   "id": "c1c0b97e-83b0-43a6-935b-a50140e76c12",
   "metadata": {},
   "outputs": [
    {
     "data": {
      "application/vnd.plotly.v1+json": {
       "config": {
        "plotlyServerURL": "https://plot.ly"
       },
       "data": [
        {
         "hovertemplate": "speed_cut=매우느림<br>id=id1891478<br>latitude=%{lat}<br>longitude=%{lon}<extra></extra>",
         "lat": [
          40.75983047485352,
          40.75983047485352
         ],
         "legendgroup": "매우느림",
         "line": {
          "color": "#636efa",
          "width": 1
         },
         "lon": [
          -73.97090148925781,
          -73.97090148925781
         ],
         "mode": "lines",
         "name": "매우느림 (path)",
         "opacity": 0.8,
         "showlegend": true,
         "subplot": "mapbox",
         "type": "scattermapbox"
        },
        {
         "hovertemplate": "speed_cut=매우느림<br>id=id1395947<br>latitude=%{lat}<br>longitude=%{lon}<extra></extra>",
         "lat": [
          40.78168487548828,
          40.781299591064446
         ],
         "legendgroup": "매우느림",
         "line": {
          "color": "#636efa",
          "width": 1
         },
         "lon": [
          -73.98113250732422,
          -73.981201171875
         ],
         "mode": "lines",
         "name": "매우느림 (path)",
         "opacity": 0.8,
         "showlegend": false,
         "subplot": "mapbox",
         "type": "scattermapbox"
        },
        {
         "hovertemplate": "speed_cut=매우느림<br>id=id0616736<br>latitude=%{lat}<br>longitude=%{lon}<extra></extra>",
         "lat": [
          40.763519287109375,
          40.761749267578125
         ],
         "legendgroup": "매우느림",
         "line": {
          "color": "#636efa",
          "width": 1
         },
         "lon": [
          -73.96932220458984,
          -73.97138977050781
         ],
         "mode": "lines",
         "name": "매우느림 (path)",
         "opacity": 0.8,
         "showlegend": false,
         "subplot": "mapbox",
         "type": "scattermapbox"
        },
        {
         "hovertemplate": "speed_cut=매우느림<br>id=id1509328<br>latitude=%{lat}<br>longitude=%{lon}<extra></extra>",
         "lat": [
          40.74432373046875,
          40.74211883544922
         ],
         "legendgroup": "매우느림",
         "line": {
          "color": "#636efa",
          "width": 1
         },
         "lon": [
          -73.98423767089844,
          -73.97466278076173
         ],
         "mode": "lines",
         "name": "매우느림 (path)",
         "opacity": 0.8,
         "showlegend": false,
         "subplot": "mapbox",
         "type": "scattermapbox"
        },
        {
         "hovertemplate": "speed_cut=매우느림<br>id=id3407848<br>latitude=%{lat}<br>longitude=%{lon}<extra></extra>",
         "lat": [
          40.70718383789063,
          40.70901870727539
         ],
         "legendgroup": "매우느림",
         "line": {
          "color": "#636efa",
          "width": 1
         },
         "lon": [
          -74.01651763916014,
          -74.0118637084961
         ],
         "mode": "lines",
         "name": "매우느림 (path)",
         "opacity": 0.8,
         "showlegend": false,
         "subplot": "mapbox",
         "type": "scattermapbox"
        },
        {
         "hovertemplate": "speed_cut=매우느림<br>id=id1485571<br>latitude=%{lat}<br>longitude=%{lon}<extra></extra>",
         "lat": [
          40.77495956420898,
          40.77154159545898
         ],
         "legendgroup": "매우느림",
         "line": {
          "color": "#636efa",
          "width": 1
         },
         "lon": [
          -73.98088073730467,
          -73.9818115234375
         ],
         "mode": "lines",
         "name": "매우느림 (path)",
         "opacity": 0.8,
         "showlegend": false,
         "subplot": "mapbox",
         "type": "scattermapbox"
        },
        {
         "hovertemplate": "speed_cut=매우느림<br>id=id0179765<br>latitude=%{lat}<br>longitude=%{lon}<extra></extra>",
         "lat": [
          40.72530364990234,
          40.71965026855469
         ],
         "legendgroup": "매우느림",
         "line": {
          "color": "#636efa",
          "width": 1
         },
         "lon": [
          -73.9925537109375,
          -73.9946060180664
         ],
         "mode": "lines",
         "name": "매우느림 (path)",
         "opacity": 0.8,
         "showlegend": false,
         "subplot": "mapbox",
         "type": "scattermapbox"
        },
        {
         "hovertemplate": "speed_cut=매우느림<br>id=id0500836<br>latitude=%{lat}<br>longitude=%{lon}<extra></extra>",
         "lat": [
          40.734371185302734,
          40.75623321533203
         ],
         "legendgroup": "매우느림",
         "line": {
          "color": "#636efa",
          "width": 1
         },
         "lon": [
          -73.98973846435547,
          -73.99331665039062
         ],
         "mode": "lines",
         "name": "매우느림 (path)",
         "opacity": 0.8,
         "showlegend": false,
         "subplot": "mapbox",
         "type": "scattermapbox"
        },
        {
         "hovertemplate": "speed_cut=매우느림<br>id=id1727712<br>latitude=%{lat}<br>longitude=%{lon}<extra></extra>",
         "lat": [
          40.739540100097656,
          40.735721588134766
         ],
         "legendgroup": "매우느림",
         "line": {
          "color": "#636efa",
          "width": 1
         },
         "lon": [
          -73.98706817626953,
          -73.98265838623048
         ],
         "mode": "lines",
         "name": "매우느림 (path)",
         "opacity": 0.8,
         "showlegend": false,
         "subplot": "mapbox",
         "type": "scattermapbox"
        },
        {
         "hovertemplate": "speed_cut=매우느림<br>id=id3810822<br>latitude=%{lat}<br>longitude=%{lon}<extra></extra>",
         "lat": [
          40.73308181762695,
          40.730018615722656
         ],
         "legendgroup": "매우느림",
         "line": {
          "color": "#636efa",
          "width": 1
         },
         "lon": [
          -74.00662231445312,
          -74.00050354003906
         ],
         "mode": "lines",
         "name": "매우느림 (path)",
         "opacity": 0.8,
         "showlegend": false,
         "subplot": "mapbox",
         "type": "scattermapbox"
        },
        {
         "hovertemplate": "speed_cut=매우느림<br>id=id3547943<br>latitude=%{lat}<br>longitude=%{lon}<extra></extra>",
         "lat": [
          40.776123046875,
          40.77534103393555
         ],
         "legendgroup": "매우느림",
         "line": {
          "color": "#636efa",
          "width": 1
         },
         "lon": [
          -73.96235656738281,
          -73.96501922607422
         ],
         "mode": "lines",
         "name": "매우느림 (path)",
         "opacity": 0.8,
         "showlegend": false,
         "subplot": "mapbox",
         "type": "scattermapbox"
        },
        {
         "hovertemplate": "speed_cut=매우느림<br>id=id2882780<br>latitude=%{lat}<br>longitude=%{lon}<extra></extra>",
         "lat": [
          40.777099609375,
          40.746826171875
         ],
         "legendgroup": "매우느림",
         "line": {
          "color": "#636efa",
          "width": 1
         },
         "lon": [
          -73.97775268554686,
          -73.99005889892578
         ],
         "mode": "lines",
         "name": "매우느림 (path)",
         "opacity": 0.8,
         "showlegend": false,
         "subplot": "mapbox",
         "type": "scattermapbox"
        },
        {
         "hovertemplate": "speed_cut=매우느림<br>id=id0092643<br>latitude=%{lat}<br>longitude=%{lon}<extra></extra>",
         "lat": [
          40.74722671508789,
          40.74184036254882
         ],
         "legendgroup": "매우느림",
         "line": {
          "color": "#636efa",
          "width": 1
         },
         "lon": [
          -73.9910430908203,
          -74.0008773803711
         ],
         "mode": "lines",
         "name": "매우느림 (path)",
         "opacity": 0.8,
         "showlegend": false,
         "subplot": "mapbox",
         "type": "scattermapbox"
        },
        {
         "hovertemplate": "speed_cut=매우느림<br>id=id0797253<br>latitude=%{lat}<br>longitude=%{lon}<extra></extra>",
         "lat": [
          40.7467155456543,
          40.75249862670898
         ],
         "legendgroup": "매우느림",
         "line": {
          "color": "#636efa",
          "width": 1
         },
         "lon": [
          -73.98993682861328,
          -73.97853851318358
         ],
         "mode": "lines",
         "name": "매우느림 (path)",
         "opacity": 0.8,
         "showlegend": false,
         "subplot": "mapbox",
         "type": "scattermapbox"
        },
        {
         "hovertemplate": "speed_cut=매우느림<br>id=id3758654<br>latitude=%{lat}<br>longitude=%{lon}<extra></extra>",
         "lat": [
          40.72389602661133,
          40.72259521484375
         ],
         "legendgroup": "매우느림",
         "line": {
          "color": "#636efa",
          "width": 1
         },
         "lon": [
          -74.00457000732422,
          -74.00528717041014
         ],
         "mode": "lines",
         "name": "매우느림 (path)",
         "opacity": 0.8,
         "showlegend": false,
         "subplot": "mapbox",
         "type": "scattermapbox"
        },
        {
         "hovertemplate": "speed_cut=매우느림<br>id=id3572411<br>latitude=%{lat}<br>longitude=%{lon}<extra></extra>",
         "lat": [
          40.76140594482422,
          40.76454162597656
         ],
         "legendgroup": "매우느림",
         "line": {
          "color": "#636efa",
          "width": 1
         },
         "lon": [
          -73.97090911865233,
          -73.97366333007811
         ],
         "mode": "lines",
         "name": "매우느림 (path)",
         "opacity": 0.8,
         "showlegend": false,
         "subplot": "mapbox",
         "type": "scattermapbox"
        },
        {
         "hovertemplate": "speed_cut=매우느림<br>id=id1710393<br>latitude=%{lat}<br>longitude=%{lon}<extra></extra>",
         "lat": [
          40.74169921875,
          40.744140625
         ],
         "legendgroup": "매우느림",
         "line": {
          "color": "#636efa",
          "width": 1
         },
         "lon": [
          -73.97492218017578,
          -73.97913360595702
         ],
         "mode": "lines",
         "name": "매우느림 (path)",
         "opacity": 0.8,
         "showlegend": false,
         "subplot": "mapbox",
         "type": "scattermapbox"
        },
        {
         "hovertemplate": "speed_cut=매우느림<br>id=id2113737<br>latitude=%{lat}<br>longitude=%{lon}<extra></extra>",
         "lat": [
          40.78596115112305,
          40.77871322631836
         ],
         "legendgroup": "매우느림",
         "line": {
          "color": "#636efa",
          "width": 1
         },
         "lon": [
          -73.97699737548828,
          -73.9814453125
         ],
         "mode": "lines",
         "name": "매우느림 (path)",
         "opacity": 0.8,
         "showlegend": false,
         "subplot": "mapbox",
         "type": "scattermapbox"
        },
        {
         "hovertemplate": "speed_cut=매우느림<br>id=id0297795<br>latitude=%{lat}<br>longitude=%{lon}<extra></extra>",
         "lat": [
          40.79790878295898,
          40.794048309326165
         ],
         "legendgroup": "매우느림",
         "line": {
          "color": "#636efa",
          "width": 1
         },
         "lon": [
          -73.97329711914062,
          -73.97196960449217
         ],
         "mode": "lines",
         "name": "매우느림 (path)",
         "opacity": 0.8,
         "showlegend": false,
         "subplot": "mapbox",
         "type": "scattermapbox"
        },
        {
         "hovertemplate": "speed_cut=매우느림<br>id=id1062824<br>latitude=%{lat}<br>longitude=%{lon}<extra></extra>",
         "lat": [
          40.75261306762695,
          40.76639175415039
         ],
         "legendgroup": "매우느림",
         "line": {
          "color": "#636efa",
          "width": 1
         },
         "lon": [
          -73.98545074462889,
          -73.96286010742188
         ],
         "mode": "lines",
         "name": "매우느림 (path)",
         "opacity": 0.8,
         "showlegend": false,
         "subplot": "mapbox",
         "type": "scattermapbox"
        },
        {
         "hovertemplate": "speed_cut=매우느림<br>id=id1625242<br>latitude=%{lat}<br>longitude=%{lon}<extra></extra>",
         "lat": [
          40.73777770996094,
          40.74677658081056
         ],
         "legendgroup": "매우느림",
         "line": {
          "color": "#636efa",
          "width": 1
         },
         "lon": [
          -73.99762725830078,
          -74.00828552246092
         ],
         "mode": "lines",
         "name": "매우느림 (path)",
         "opacity": 0.8,
         "showlegend": false,
         "subplot": "mapbox",
         "type": "scattermapbox"
        },
        {
         "hovertemplate": "speed_cut=매우느림<br>id=id3281834<br>latitude=%{lat}<br>longitude=%{lon}<extra></extra>",
         "lat": [
          40.74413299560546,
          40.7393684387207
         ],
         "legendgroup": "매우느림",
         "line": {
          "color": "#636efa",
          "width": 1
         },
         "lon": [
          -74.00689697265625,
          -74.00737762451173
         ],
         "mode": "lines",
         "name": "매우느림 (path)",
         "opacity": 0.8,
         "showlegend": false,
         "subplot": "mapbox",
         "type": "scattermapbox"
        },
        {
         "hovertemplate": "speed_cut=매우느림<br>id=id2916371<br>latitude=%{lat}<br>longitude=%{lon}<extra></extra>",
         "lat": [
          40.7302360534668,
          40.7324447631836
         ],
         "legendgroup": "매우느림",
         "line": {
          "color": "#636efa",
          "width": 1
         },
         "lon": [
          -73.99922180175781,
          -74.00647735595702
         ],
         "mode": "lines",
         "name": "매우느림 (path)",
         "opacity": 0.8,
         "showlegend": false,
         "subplot": "mapbox",
         "type": "scattermapbox"
        },
        {
         "hovertemplate": "speed_cut=매우느림<br>id=id0120497<br>latitude=%{lat}<br>longitude=%{lon}<extra></extra>",
         "lat": [
          40.72117233276367,
          40.74240493774414
         ],
         "legendgroup": "매우느림",
         "line": {
          "color": "#636efa",
          "width": 1
         },
         "lon": [
          -73.98760986328125,
          -74.00107574462889
         ],
         "mode": "lines",
         "name": "매우느림 (path)",
         "opacity": 0.8,
         "showlegend": false,
         "subplot": "mapbox",
         "type": "scattermapbox"
        },
        {
         "hovertemplate": "speed_cut=매우느림<br>id=id2054788<br>latitude=%{lat}<br>longitude=%{lon}<extra></extra>",
         "lat": [
          40.74275970458984,
          40.76290130615234
         ],
         "legendgroup": "매우느림",
         "line": {
          "color": "#636efa",
          "width": 1
         },
         "lon": [
          -73.97737884521484,
          -73.98320770263672
         ],
         "mode": "lines",
         "name": "매우느림 (path)",
         "opacity": 0.8,
         "showlegend": false,
         "subplot": "mapbox",
         "type": "scattermapbox"
        },
        {
         "hovertemplate": "speed_cut=매우느림<br>id=id3888107<br>latitude=%{lat}<br>longitude=%{lon}<extra></extra>",
         "lat": [
          40.757469177246094,
          40.771968841552734
         ],
         "legendgroup": "매우느림",
         "line": {
          "color": "#636efa",
          "width": 1
         },
         "lon": [
          -73.96942901611328,
          -73.9827423095703
         ],
         "mode": "lines",
         "name": "매우느림 (path)",
         "opacity": 0.8,
         "showlegend": false,
         "subplot": "mapbox",
         "type": "scattermapbox"
        },
        {
         "hovertemplate": "speed_cut=매우느림<br>id=id3094934<br>latitude=%{lat}<br>longitude=%{lon}<extra></extra>",
         "lat": [
          40.72243118286133,
          40.76266860961913
         ],
         "legendgroup": "매우느림",
         "line": {
          "color": "#636efa",
          "width": 1
         },
         "lon": [
          -73.98615264892578,
          -73.98597717285155
         ],
         "mode": "lines",
         "name": "매우느림 (path)",
         "opacity": 0.8,
         "showlegend": false,
         "subplot": "mapbox",
         "type": "scattermapbox"
        },
        {
         "hovertemplate": "speed_cut=매우느림<br>id=id0833022<br>latitude=%{lat}<br>longitude=%{lon}<extra></extra>",
         "lat": [
          40.79058837890625,
          40.79840850830078
         ],
         "legendgroup": "매우느림",
         "line": {
          "color": "#636efa",
          "width": 1
         },
         "lon": [
          -73.949951171875,
          -73.95243072509764
         ],
         "mode": "lines",
         "name": "매우느림 (path)",
         "opacity": 0.8,
         "showlegend": false,
         "subplot": "mapbox",
         "type": "scattermapbox"
        },
        {
         "hovertemplate": "speed_cut=매우느림<br>id=id3579875<br>latitude=%{lat}<br>longitude=%{lon}<extra></extra>",
         "lat": [
          40.76341247558594,
          40.71963119506836
         ],
         "legendgroup": "매우느림",
         "line": {
          "color": "#636efa",
          "width": 1
         },
         "lon": [
          -73.98194122314453,
          -73.99542999267578
         ],
         "mode": "lines",
         "name": "매우느림 (path)",
         "opacity": 0.8,
         "showlegend": false,
         "subplot": "mapbox",
         "type": "scattermapbox"
        },
        {
         "hovertemplate": "speed_cut=매우느림<br>id=id3508248<br>latitude=%{lat}<br>longitude=%{lon}<extra></extra>",
         "lat": [
          40.75000762939453,
          40.74380493164063
         ],
         "legendgroup": "매우느림",
         "line": {
          "color": "#636efa",
          "width": 1
         },
         "lon": [
          -73.99179077148438,
          -73.98795318603516
         ],
         "mode": "lines",
         "name": "매우느림 (path)",
         "opacity": 0.8,
         "showlegend": false,
         "subplot": "mapbox",
         "type": "scattermapbox"
        },
        {
         "hovertemplate": "speed_cut=매우느림<br>id=id1927858<br>latitude=%{lat}<br>longitude=%{lon}<extra></extra>",
         "lat": [
          40.761695861816406,
          40.74729537963867
         ],
         "legendgroup": "매우느림",
         "line": {
          "color": "#636efa",
          "width": 1
         },
         "lon": [
          -74.00177764892578,
          -73.98175048828125
         ],
         "mode": "lines",
         "name": "매우느림 (path)",
         "opacity": 0.8,
         "showlegend": false,
         "subplot": "mapbox",
         "type": "scattermapbox"
        },
        {
         "hovertemplate": "speed_cut=매우느림<br>id=id0833453<br>latitude=%{lat}<br>longitude=%{lon}<extra></extra>",
         "lat": [
          40.74566268920898,
          40.72234725952149
         ],
         "legendgroup": "매우느림",
         "line": {
          "color": "#636efa",
          "width": 1
         },
         "lon": [
          -73.98463439941406,
          -73.99722290039062
         ],
         "mode": "lines",
         "name": "매우느림 (path)",
         "opacity": 0.8,
         "showlegend": false,
         "subplot": "mapbox",
         "type": "scattermapbox"
        },
        {
         "hovertemplate": "speed_cut=매우느림<br>id=id0503659<br>latitude=%{lat}<br>longitude=%{lon}<extra></extra>",
         "lat": [
          40.78450012207031,
          40.804832458496094
         ],
         "legendgroup": "매우느림",
         "line": {
          "color": "#636efa",
          "width": 1
         },
         "lon": [
          -73.95220947265625,
          -73.96610260009764
         ],
         "mode": "lines",
         "name": "매우느림 (path)",
         "opacity": 0.8,
         "showlegend": false,
         "subplot": "mapbox",
         "type": "scattermapbox"
        },
        {
         "hovertemplate": "speed_cut=매우느림<br>id=id0261033<br>latitude=%{lat}<br>longitude=%{lon}<extra></extra>",
         "lat": [
          40.75505065917969,
          40.773868560791016
         ],
         "legendgroup": "매우느림",
         "line": {
          "color": "#636efa",
          "width": 1
         },
         "lon": [
          -73.97960662841797,
          -73.98236846923827
         ],
         "mode": "lines",
         "name": "매우느림 (path)",
         "opacity": 0.8,
         "showlegend": false,
         "subplot": "mapbox",
         "type": "scattermapbox"
        },
        {
         "hovertemplate": "speed_cut=매우느림<br>id=id2002463<br>latitude=%{lat}<br>longitude=%{lon}<extra></extra>",
         "lat": [
          40.7793083190918,
          40.7683982849121
         ],
         "legendgroup": "매우느림",
         "line": {
          "color": "#636efa",
          "width": 1
         },
         "lon": [
          -73.96006774902342,
          -73.9656524658203
         ],
         "mode": "lines",
         "name": "매우느림 (path)",
         "opacity": 0.8,
         "showlegend": false,
         "subplot": "mapbox",
         "type": "scattermapbox"
        },
        {
         "hovertemplate": "speed_cut=매우느림<br>id=id0660195<br>latitude=%{lat}<br>longitude=%{lon}<extra></extra>",
         "lat": [
          40.77922821044922,
          40.746257781982415
         ],
         "legendgroup": "매우느림",
         "line": {
          "color": "#636efa",
          "width": 1
         },
         "lon": [
          -73.95587921142578,
          -73.98580169677734
         ],
         "mode": "lines",
         "name": "매우느림 (path)",
         "opacity": 0.8,
         "showlegend": false,
         "subplot": "mapbox",
         "type": "scattermapbox"
        },
        {
         "hovertemplate": "speed_cut=매우느림<br>id=id1986470<br>latitude=%{lat}<br>longitude=%{lon}<extra></extra>",
         "lat": [
          40.743770599365234,
          40.75796890258789
         ],
         "legendgroup": "매우느림",
         "line": {
          "color": "#636efa",
          "width": 1
         },
         "lon": [
          -73.98335266113281,
          -73.98609161376953
         ],
         "mode": "lines",
         "name": "매우느림 (path)",
         "opacity": 0.8,
         "showlegend": false,
         "subplot": "mapbox",
         "type": "scattermapbox"
        },
        {
         "hovertemplate": "speed_cut=조금느림<br>id=id0767292<br>latitude=%{lat}<br>longitude=%{lon}<extra></extra>",
         "lat": [
          40.75085067749024,
          40.74156188964844
         ],
         "legendgroup": "조금느림",
         "line": {
          "color": "#EF553B",
          "width": 1
         },
         "lon": [
          -73.97830963134764,
          -73.993896484375
         ],
         "mode": "lines",
         "name": "조금느림 (path)",
         "opacity": 0.8,
         "showlegend": true,
         "subplot": "mapbox",
         "type": "scattermapbox"
        },
        {
         "hovertemplate": "speed_cut=조금느림<br>id=id0303696<br>latitude=%{lat}<br>longitude=%{lon}<extra></extra>",
         "lat": [
          40.763145446777344,
          40.76424789428711
         ],
         "legendgroup": "조금느림",
         "line": {
          "color": "#EF553B",
          "width": 1
         },
         "lon": [
          -73.96985626220702,
          -73.95646667480467
         ],
         "mode": "lines",
         "name": "조금느림 (path)",
         "opacity": 0.8,
         "showlegend": false,
         "subplot": "mapbox",
         "type": "scattermapbox"
        },
        {
         "hovertemplate": "speed_cut=조금느림<br>id=id1423063<br>latitude=%{lat}<br>longitude=%{lon}<extra></extra>",
         "lat": [
          40.76767349243164,
          40.777053833007805
         ],
         "legendgroup": "조금느림",
         "line": {
          "color": "#EF553B",
          "width": 1
         },
         "lon": [
          -73.98075866699219,
          -73.98257446289062
         ],
         "mode": "lines",
         "name": "조금느림 (path)",
         "opacity": 0.8,
         "showlegend": false,
         "subplot": "mapbox",
         "type": "scattermapbox"
        },
        {
         "hovertemplate": "speed_cut=조금느림<br>id=id2203238<br>latitude=%{lat}<br>longitude=%{lon}<extra></extra>",
         "lat": [
          40.73989868164063,
          40.730010986328125
         ],
         "legendgroup": "조금느림",
         "line": {
          "color": "#EF553B",
          "width": 1
         },
         "lon": [
          -73.98174285888672,
          -73.9792709350586
         ],
         "mode": "lines",
         "name": "조금느림 (path)",
         "opacity": 0.8,
         "showlegend": false,
         "subplot": "mapbox",
         "type": "scattermapbox"
        },
        {
         "hovertemplate": "speed_cut=조금느림<br>id=id3083921<br>latitude=%{lat}<br>longitude=%{lon}<extra></extra>",
         "lat": [
          40.763973236083984,
          40.76081848144531
         ],
         "legendgroup": "조금느림",
         "line": {
          "color": "#EF553B",
          "width": 1
         },
         "lon": [
          -73.99028778076173,
          -73.97960662841797
         ],
         "mode": "lines",
         "name": "조금느림 (path)",
         "opacity": 0.8,
         "showlegend": false,
         "subplot": "mapbox",
         "type": "scattermapbox"
        },
        {
         "hovertemplate": "speed_cut=조금느림<br>id=id0597402<br>latitude=%{lat}<br>longitude=%{lon}<extra></extra>",
         "lat": [
          40.760250091552734,
          40.79518127441406
         ],
         "legendgroup": "조금느림",
         "line": {
          "color": "#EF553B",
          "width": 1
         },
         "lon": [
          -73.96861267089844,
          -73.96575927734375
         ],
         "mode": "lines",
         "name": "조금느림 (path)",
         "opacity": 0.8,
         "showlegend": false,
         "subplot": "mapbox",
         "type": "scattermapbox"
        },
        {
         "hovertemplate": "speed_cut=조금느림<br>id=id1944291<br>latitude=%{lat}<br>longitude=%{lon}<extra></extra>",
         "lat": [
          40.756885528564446,
          40.74981689453125
         ],
         "legendgroup": "조금느림",
         "line": {
          "color": "#EF553B",
          "width": 1
         },
         "lon": [
          -73.9898910522461,
          -73.99140167236328
         ],
         "mode": "lines",
         "name": "조금느림 (path)",
         "opacity": 0.8,
         "showlegend": false,
         "subplot": "mapbox",
         "type": "scattermapbox"
        },
        {
         "hovertemplate": "speed_cut=조금느림<br>id=id2587483<br>latitude=%{lat}<br>longitude=%{lon}<extra></extra>",
         "lat": [
          40.79246139526367,
          40.78707885742188
         ],
         "legendgroup": "조금느림",
         "line": {
          "color": "#EF553B",
          "width": 1
         },
         "lon": [
          -73.94084167480467,
          -73.95390319824217
         ],
         "mode": "lines",
         "name": "조금느림 (path)",
         "opacity": 0.8,
         "showlegend": false,
         "subplot": "mapbox",
         "type": "scattermapbox"
        },
        {
         "hovertemplate": "speed_cut=조금느림<br>id=id3485263<br>latitude=%{lat}<br>longitude=%{lon}<extra></extra>",
         "lat": [
          40.73473739624024,
          40.7226448059082
         ],
         "legendgroup": "조금느림",
         "line": {
          "color": "#EF553B",
          "width": 1
         },
         "lon": [
          -74.0038833618164,
          -73.98736572265625
         ],
         "mode": "lines",
         "name": "조금느림 (path)",
         "opacity": 0.8,
         "showlegend": false,
         "subplot": "mapbox",
         "type": "scattermapbox"
        },
        {
         "hovertemplate": "speed_cut=조금느림<br>id=id2210145<br>latitude=%{lat}<br>longitude=%{lon}<extra></extra>",
         "lat": [
          40.75053024291992,
          40.75751876831056
         ],
         "legendgroup": "조금느림",
         "line": {
          "color": "#EF553B",
          "width": 1
         },
         "lon": [
          -73.98738098144531,
          -73.98204803466798
         ],
         "mode": "lines",
         "name": "조금느림 (path)",
         "opacity": 0.8,
         "showlegend": false,
         "subplot": "mapbox",
         "type": "scattermapbox"
        },
        {
         "hovertemplate": "speed_cut=조금느림<br>id=id3796079<br>latitude=%{lat}<br>longitude=%{lon}<extra></extra>",
         "lat": [
          40.7509651184082,
          40.74673461914063
         ],
         "legendgroup": "조금느림",
         "line": {
          "color": "#EF553B",
          "width": 1
         },
         "lon": [
          -73.97477722167967,
          -73.97140502929686
         ],
         "mode": "lines",
         "name": "조금느림 (path)",
         "opacity": 0.8,
         "showlegend": false,
         "subplot": "mapbox",
         "type": "scattermapbox"
        },
        {
         "hovertemplate": "speed_cut=조금느림<br>id=id2533481<br>latitude=%{lat}<br>longitude=%{lon}<extra></extra>",
         "lat": [
          40.73553085327149,
          40.76554107666016
         ],
         "legendgroup": "조금느림",
         "line": {
          "color": "#EF553B",
          "width": 1
         },
         "lon": [
          -73.98988342285155,
          -73.97640228271484
         ],
         "mode": "lines",
         "name": "조금느림 (path)",
         "opacity": 0.8,
         "showlegend": false,
         "subplot": "mapbox",
         "type": "scattermapbox"
        },
        {
         "hovertemplate": "speed_cut=조금느림<br>id=id2237068<br>latitude=%{lat}<br>longitude=%{lon}<extra></extra>",
         "lat": [
          40.744510650634766,
          40.7564582824707
         ],
         "legendgroup": "조금느림",
         "line": {
          "color": "#EF553B",
          "width": 1
         },
         "lon": [
          -73.98111724853516,
          -74.00170135498048
         ],
         "mode": "lines",
         "name": "조금느림 (path)",
         "opacity": 0.8,
         "showlegend": false,
         "subplot": "mapbox",
         "type": "scattermapbox"
        },
        {
         "hovertemplate": "speed_cut=조금느림<br>id=id1635353<br>latitude=%{lat}<br>longitude=%{lon}<extra></extra>",
         "lat": [
          40.75918960571289,
          40.7098503112793
         ],
         "legendgroup": "조금느림",
         "line": {
          "color": "#EF553B",
          "width": 1
         },
         "lon": [
          -73.98509216308595,
          -73.96215057373048
         ],
         "mode": "lines",
         "name": "조금느림 (path)",
         "opacity": 0.8,
         "showlegend": false,
         "subplot": "mapbox",
         "type": "scattermapbox"
        },
        {
         "hovertemplate": "speed_cut=조금느림<br>id=id1365460<br>latitude=%{lat}<br>longitude=%{lon}<extra></extra>",
         "lat": [
          40.7630615234375,
          40.76905059814453
         ],
         "legendgroup": "조금느림",
         "line": {
          "color": "#EF553B",
          "width": 1
         },
         "lon": [
          -73.97570037841797,
          -73.98491668701173
         ],
         "mode": "lines",
         "name": "조금느림 (path)",
         "opacity": 0.8,
         "showlegend": false,
         "subplot": "mapbox",
         "type": "scattermapbox"
        },
        {
         "hovertemplate": "speed_cut=조금느림<br>id=id3611226<br>latitude=%{lat}<br>longitude=%{lon}<extra></extra>",
         "lat": [
          40.76215744018555,
          40.74748611450195
         ],
         "legendgroup": "조금느림",
         "line": {
          "color": "#EF553B",
          "width": 1
         },
         "lon": [
          -73.98597717285155,
          -73.97697448730467
         ],
         "mode": "lines",
         "name": "조금느림 (path)",
         "opacity": 0.8,
         "showlegend": false,
         "subplot": "mapbox",
         "type": "scattermapbox"
        },
        {
         "hovertemplate": "speed_cut=조금느림<br>id=id1018348<br>latitude=%{lat}<br>longitude=%{lon}<extra></extra>",
         "lat": [
          40.74530792236328,
          40.74227523803711
         ],
         "legendgroup": "조금느림",
         "line": {
          "color": "#EF553B",
          "width": 1
         },
         "lon": [
          -74.00784301757811,
          -73.98967742919923
         ],
         "mode": "lines",
         "name": "조금느림 (path)",
         "opacity": 0.8,
         "showlegend": false,
         "subplot": "mapbox",
         "type": "scattermapbox"
        },
        {
         "hovertemplate": "speed_cut=조금느림<br>id=id1160561<br>latitude=%{lat}<br>longitude=%{lon}<extra></extra>",
         "lat": [
          40.7457275390625,
          40.71868896484375
         ],
         "legendgroup": "조금느림",
         "line": {
          "color": "#EF553B",
          "width": 1
         },
         "lon": [
          -73.9908905029297,
          -74.0053482055664
         ],
         "mode": "lines",
         "name": "조금느림 (path)",
         "opacity": 0.8,
         "showlegend": false,
         "subplot": "mapbox",
         "type": "scattermapbox"
        },
        {
         "hovertemplate": "speed_cut=조금느림<br>id=id2939661<br>latitude=%{lat}<br>longitude=%{lon}<extra></extra>",
         "lat": [
          40.75412368774414,
          40.77298355102539
         ],
         "legendgroup": "조금느림",
         "line": {
          "color": "#EF553B",
          "width": 1
         },
         "lon": [
          -73.97389221191406,
          -73.9782943725586
         ],
         "mode": "lines",
         "name": "조금느림 (path)",
         "opacity": 0.8,
         "showlegend": false,
         "subplot": "mapbox",
         "type": "scattermapbox"
        },
        {
         "hovertemplate": "speed_cut=조금느림<br>id=id3120328<br>latitude=%{lat}<br>longitude=%{lon}<extra></extra>",
         "lat": [
          40.75320816040039,
          40.7714958190918
         ],
         "legendgroup": "조금느림",
         "line": {
          "color": "#EF553B",
          "width": 1
         },
         "lon": [
          -73.98626708984375,
          -73.95969390869139
         ],
         "mode": "lines",
         "name": "조금느림 (path)",
         "opacity": 0.8,
         "showlegend": false,
         "subplot": "mapbox",
         "type": "scattermapbox"
        },
        {
         "hovertemplate": "speed_cut=조금느림<br>id=id1139183<br>latitude=%{lat}<br>longitude=%{lon}<extra></extra>",
         "lat": [
          40.76899337768555,
          40.76704025268555
         ],
         "legendgroup": "조금느림",
         "line": {
          "color": "#EF553B",
          "width": 1
         },
         "lon": [
          -73.96334075927734,
          -73.95381164550781
         ],
         "mode": "lines",
         "name": "조금느림 (path)",
         "opacity": 0.8,
         "showlegend": false,
         "subplot": "mapbox",
         "type": "scattermapbox"
        },
        {
         "hovertemplate": "speed_cut=조금느림<br>id=id1188146<br>latitude=%{lat}<br>longitude=%{lon}<extra></extra>",
         "lat": [
          40.74298095703125,
          40.71076965332031
         ],
         "legendgroup": "조금느림",
         "line": {
          "color": "#EF553B",
          "width": 1
         },
         "lon": [
          -73.98845672607422,
          -74.01339721679686
         ],
         "mode": "lines",
         "name": "조금느림 (path)",
         "opacity": 0.8,
         "showlegend": false,
         "subplot": "mapbox",
         "type": "scattermapbox"
        },
        {
         "hovertemplate": "speed_cut=조금느림<br>id=id0092139<br>latitude=%{lat}<br>longitude=%{lon}<extra></extra>",
         "lat": [
          40.72407150268555,
          40.75766372680664
         ],
         "legendgroup": "조금느림",
         "line": {
          "color": "#EF553B",
          "width": 1
         },
         "lon": [
          -74.00241088867188,
          -73.98356628417967
         ],
         "mode": "lines",
         "name": "조금느림 (path)",
         "opacity": 0.8,
         "showlegend": false,
         "subplot": "mapbox",
         "type": "scattermapbox"
        },
        {
         "hovertemplate": "speed_cut=조금느림<br>id=id3264393<br>latitude=%{lat}<br>longitude=%{lon}<extra></extra>",
         "lat": [
          40.7665901184082,
          40.75624084472656
         ],
         "legendgroup": "조금느림",
         "line": {
          "color": "#EF553B",
          "width": 1
         },
         "lon": [
          -73.98652648925781,
          -73.97042846679686
         ],
         "mode": "lines",
         "name": "조금느림 (path)",
         "opacity": 0.8,
         "showlegend": false,
         "subplot": "mapbox",
         "type": "scattermapbox"
        },
        {
         "hovertemplate": "speed_cut=조금느림<br>id=id0951142<br>latitude=%{lat}<br>longitude=%{lon}<extra></extra>",
         "lat": [
          40.7463493347168,
          40.742500305175774
         ],
         "legendgroup": "조금느림",
         "line": {
          "color": "#EF553B",
          "width": 1
         },
         "lon": [
          -73.97167205810547,
          -73.97420501708984
         ],
         "mode": "lines",
         "name": "조금느림 (path)",
         "opacity": 0.8,
         "showlegend": false,
         "subplot": "mapbox",
         "type": "scattermapbox"
        },
        {
         "hovertemplate": "speed_cut=조금느림<br>id=id2046505<br>latitude=%{lat}<br>longitude=%{lon}<extra></extra>",
         "lat": [
          40.75112533569336,
          40.73820495605469
         ],
         "legendgroup": "조금느림",
         "line": {
          "color": "#EF553B",
          "width": 1
         },
         "lon": [
          -73.97836303710938,
          -73.98540496826173
         ],
         "mode": "lines",
         "name": "조금느림 (path)",
         "opacity": 0.8,
         "showlegend": false,
         "subplot": "mapbox",
         "type": "scattermapbox"
        },
        {
         "hovertemplate": "speed_cut=조금느림<br>id=id1495346<br>latitude=%{lat}<br>longitude=%{lon}<extra></extra>",
         "lat": [
          40.73915481567384,
          40.74427795410156
         ],
         "legendgroup": "조금느림",
         "line": {
          "color": "#EF553B",
          "width": 1
         },
         "lon": [
          -73.99610137939453,
          -73.98767852783203
         ],
         "mode": "lines",
         "name": "조금느림 (path)",
         "opacity": 0.8,
         "showlegend": false,
         "subplot": "mapbox",
         "type": "scattermapbox"
        },
        {
         "hovertemplate": "speed_cut=조금느림<br>id=id0623536<br>latitude=%{lat}<br>longitude=%{lon}<extra></extra>",
         "lat": [
          40.74463272094727,
          40.759124755859375
         ],
         "legendgroup": "조금느림",
         "line": {
          "color": "#EF553B",
          "width": 1
         },
         "lon": [
          -73.97919464111328,
          -73.97645568847656
         ],
         "mode": "lines",
         "name": "조금느림 (path)",
         "opacity": 0.8,
         "showlegend": false,
         "subplot": "mapbox",
         "type": "scattermapbox"
        },
        {
         "hovertemplate": "speed_cut=조금느림<br>id=id3578000<br>latitude=%{lat}<br>longitude=%{lon}<extra></extra>",
         "lat": [
          40.73919296264648,
          40.74143600463867
         ],
         "legendgroup": "조금느림",
         "line": {
          "color": "#EF553B",
          "width": 1
         },
         "lon": [
          -73.98406982421875,
          -73.95230865478516
         ],
         "mode": "lines",
         "name": "조금느림 (path)",
         "opacity": 0.8,
         "showlegend": false,
         "subplot": "mapbox",
         "type": "scattermapbox"
        },
        {
         "hovertemplate": "speed_cut=조금느림<br>id=id1194222<br>latitude=%{lat}<br>longitude=%{lon}<extra></extra>",
         "lat": [
          40.7253303527832,
          40.777881622314446
         ],
         "legendgroup": "조금느림",
         "line": {
          "color": "#EF553B",
          "width": 1
         },
         "lon": [
          -73.99237060546875,
          -73.98873138427734
         ],
         "mode": "lines",
         "name": "조금느림 (path)",
         "opacity": 0.8,
         "showlegend": false,
         "subplot": "mapbox",
         "type": "scattermapbox"
        },
        {
         "hovertemplate": "speed_cut=조금느림<br>id=id0049607<br>latitude=%{lat}<br>longitude=%{lon}<extra></extra>",
         "lat": [
          40.75419235229492,
          40.762859344482415
         ],
         "legendgroup": "조금느림",
         "line": {
          "color": "#EF553B",
          "width": 1
         },
         "lon": [
          -73.97592163085938,
          -73.98892211914062
         ],
         "mode": "lines",
         "name": "조금느림 (path)",
         "opacity": 0.8,
         "showlegend": false,
         "subplot": "mapbox",
         "type": "scattermapbox"
        },
        {
         "hovertemplate": "speed_cut=조금느림<br>id=id0890358<br>latitude=%{lat}<br>longitude=%{lon}<extra></extra>",
         "lat": [
          40.7617416381836,
          40.76359939575195
         ],
         "legendgroup": "조금느림",
         "line": {
          "color": "#EF553B",
          "width": 1
         },
         "lon": [
          -73.96864318847656,
          -73.98738861083984
         ],
         "mode": "lines",
         "name": "조금느림 (path)",
         "opacity": 0.8,
         "showlegend": false,
         "subplot": "mapbox",
         "type": "scattermapbox"
        },
        {
         "hovertemplate": "speed_cut=조금느림<br>id=id3825370<br>latitude=%{lat}<br>longitude=%{lon}<extra></extra>",
         "lat": [
          40.74908065795898,
          40.6697654724121
         ],
         "legendgroup": "조금느림",
         "line": {
          "color": "#EF553B",
          "width": 1
         },
         "lon": [
          -74.00839233398438,
          -73.97919464111328
         ],
         "mode": "lines",
         "name": "조금느림 (path)",
         "opacity": 0.8,
         "showlegend": false,
         "subplot": "mapbox",
         "type": "scattermapbox"
        },
        {
         "hovertemplate": "speed_cut=조금느림<br>id=id1604579<br>latitude=%{lat}<br>longitude=%{lon}<extra></extra>",
         "lat": [
          40.76555252075195,
          40.79889678955078
         ],
         "legendgroup": "조금느림",
         "line": {
          "color": "#EF553B",
          "width": 1
         },
         "lon": [
          -73.96790313720702,
          -73.96857452392578
         ],
         "mode": "lines",
         "name": "조금느림 (path)",
         "opacity": 0.8,
         "showlegend": false,
         "subplot": "mapbox",
         "type": "scattermapbox"
        },
        {
         "hovertemplate": "speed_cut=조금느림<br>id=id0051866<br>latitude=%{lat}<br>longitude=%{lon}<extra></extra>",
         "lat": [
          40.7724494934082,
          40.755836486816406
         ],
         "legendgroup": "조금느림",
         "line": {
          "color": "#EF553B",
          "width": 1
         },
         "lon": [
          -73.96265411376953,
          -73.9784927368164
         ],
         "mode": "lines",
         "name": "조금느림 (path)",
         "opacity": 0.8,
         "showlegend": false,
         "subplot": "mapbox",
         "type": "scattermapbox"
        },
        {
         "hovertemplate": "speed_cut=조금느림<br>id=id0622637<br>latitude=%{lat}<br>longitude=%{lon}<extra></extra>",
         "lat": [
          40.759868621826165,
          40.75054931640625
         ],
         "legendgroup": "조금느림",
         "line": {
          "color": "#EF553B",
          "width": 1
         },
         "lon": [
          -73.96180725097656,
          -73.97480010986328
         ],
         "mode": "lines",
         "name": "조금느림 (path)",
         "opacity": 0.8,
         "showlegend": false,
         "subplot": "mapbox",
         "type": "scattermapbox"
        },
        {
         "hovertemplate": "speed_cut=조금빠름<br>id=id1214191<br>latitude=%{lat}<br>longitude=%{lon}<extra></extra>",
         "lat": [
          40.74464797973633,
          40.72493362426758
         ],
         "legendgroup": "조금빠름",
         "line": {
          "color": "#00cc96",
          "width": 1
         },
         "lon": [
          -73.99140930175781,
          -73.9950942993164
         ],
         "mode": "lines",
         "name": "조금빠름 (path)",
         "opacity": 0.8,
         "showlegend": true,
         "subplot": "mapbox",
         "type": "scattermapbox"
        },
        {
         "hovertemplate": "speed_cut=조금빠름<br>id=id0213647<br>latitude=%{lat}<br>longitude=%{lon}<extra></extra>",
         "lat": [
          40.75567626953125,
          40.72474670410156
         ],
         "legendgroup": "조금빠름",
         "line": {
          "color": "#00cc96",
          "width": 1
         },
         "lon": [
          -73.96500396728516,
          -74.00196075439453
         ],
         "mode": "lines",
         "name": "조금빠름 (path)",
         "opacity": 0.8,
         "showlegend": false,
         "subplot": "mapbox",
         "type": "scattermapbox"
        },
        {
         "hovertemplate": "speed_cut=조금빠름<br>id=id0584615<br>latitude=%{lat}<br>longitude=%{lon}<extra></extra>",
         "lat": [
          40.755126953125,
          40.74041366577149
         ],
         "legendgroup": "조금빠름",
         "line": {
          "color": "#00cc96",
          "width": 1
         },
         "lon": [
          -73.9874267578125,
          -73.98683166503906
         ],
         "mode": "lines",
         "name": "조금빠름 (path)",
         "opacity": 0.8,
         "showlegend": false,
         "subplot": "mapbox",
         "type": "scattermapbox"
        },
        {
         "hovertemplate": "speed_cut=조금빠름<br>id=id0147704<br>latitude=%{lat}<br>longitude=%{lon}<extra></extra>",
         "lat": [
          40.655078887939446,
          40.7249755859375
         ],
         "legendgroup": "조금빠름",
         "line": {
          "color": "#00cc96",
          "width": 1
         },
         "lon": [
          -73.955322265625,
          -73.9844207763672
         ],
         "mode": "lines",
         "name": "조금빠름 (path)",
         "opacity": 0.8,
         "showlegend": false,
         "subplot": "mapbox",
         "type": "scattermapbox"
        },
        {
         "hovertemplate": "speed_cut=조금빠름<br>id=id3098811<br>latitude=%{lat}<br>longitude=%{lon}<extra></extra>",
         "lat": [
          40.73714065551758,
          40.72565841674805
         ],
         "legendgroup": "조금빠름",
         "line": {
          "color": "#00cc96",
          "width": 1
         },
         "lon": [
          -73.99044036865233,
          -73.99471282958984
         ],
         "mode": "lines",
         "name": "조금빠름 (path)",
         "opacity": 0.8,
         "showlegend": false,
         "subplot": "mapbox",
         "type": "scattermapbox"
        },
        {
         "hovertemplate": "speed_cut=조금빠름<br>id=id0255216<br>latitude=%{lat}<br>longitude=%{lon}<extra></extra>",
         "lat": [
          40.75128173828125,
          40.76827239990234
         ],
         "legendgroup": "조금빠름",
         "line": {
          "color": "#00cc96",
          "width": 1
         },
         "lon": [
          -73.93987274169923,
          -73.95292663574217
         ],
         "mode": "lines",
         "name": "조금빠름 (path)",
         "opacity": 0.8,
         "showlegend": false,
         "subplot": "mapbox",
         "type": "scattermapbox"
        },
        {
         "hovertemplate": "speed_cut=조금빠름<br>id=id1394748<br>latitude=%{lat}<br>longitude=%{lon}<extra></extra>",
         "lat": [
          40.67301177978516,
          40.73410034179688
         ],
         "legendgroup": "조금빠름",
         "line": {
          "color": "#00cc96",
          "width": 1
         },
         "lon": [
          -73.96280670166014,
          -73.9994888305664
         ],
         "mode": "lines",
         "name": "조금빠름 (path)",
         "opacity": 0.8,
         "showlegend": false,
         "subplot": "mapbox",
         "type": "scattermapbox"
        },
        {
         "hovertemplate": "speed_cut=조금빠름<br>id=id2875421<br>latitude=%{lat}<br>longitude=%{lon}<extra></extra>",
         "lat": [
          40.76793670654297,
          40.765602111816406
         ],
         "legendgroup": "조금빠름",
         "line": {
          "color": "#00cc96",
          "width": 1
         },
         "lon": [
          -73.98215484619139,
          -73.96463012695312
         ],
         "mode": "lines",
         "name": "조금빠름 (path)",
         "opacity": 0.8,
         "showlegend": false,
         "subplot": "mapbox",
         "type": "scattermapbox"
        },
        {
         "hovertemplate": "speed_cut=조금빠름<br>id=id2619890<br>latitude=%{lat}<br>longitude=%{lon}<extra></extra>",
         "lat": [
          40.77785873413086,
          40.75857162475586
         ],
         "legendgroup": "조금빠름",
         "line": {
          "color": "#00cc96",
          "width": 1
         },
         "lon": [
          -73.94394683837889,
          -73.96356964111328
         ],
         "mode": "lines",
         "name": "조금빠름 (path)",
         "opacity": 0.8,
         "showlegend": false,
         "subplot": "mapbox",
         "type": "scattermapbox"
        },
        {
         "hovertemplate": "speed_cut=조금빠름<br>id=id2003085<br>latitude=%{lat}<br>longitude=%{lon}<extra></extra>",
         "lat": [
          40.75810241699219,
          40.790283203125
         ],
         "legendgroup": "조금빠름",
         "line": {
          "color": "#00cc96",
          "width": 1
         },
         "lon": [
          -73.96311950683594,
          -73.96560668945312
         ],
         "mode": "lines",
         "name": "조금빠름 (path)",
         "opacity": 0.8,
         "showlegend": false,
         "subplot": "mapbox",
         "type": "scattermapbox"
        },
        {
         "hovertemplate": "speed_cut=조금빠름<br>id=id2966759<br>latitude=%{lat}<br>longitude=%{lon}<extra></extra>",
         "lat": [
          40.752891540527344,
          40.739990234375
         ],
         "legendgroup": "조금빠름",
         "line": {
          "color": "#00cc96",
          "width": 1
         },
         "lon": [
          -73.97013854980467,
          -73.98188781738281
         ],
         "mode": "lines",
         "name": "조금빠름 (path)",
         "opacity": 0.8,
         "showlegend": false,
         "subplot": "mapbox",
         "type": "scattermapbox"
        },
        {
         "hovertemplate": "speed_cut=조금빠름<br>id=id2673049<br>latitude=%{lat}<br>longitude=%{lon}<extra></extra>",
         "lat": [
          40.71483612060546,
          40.789600372314446
         ],
         "legendgroup": "조금빠름",
         "line": {
          "color": "#00cc96",
          "width": 1
         },
         "lon": [
          -74.0139389038086,
          -73.97001647949219
         ],
         "mode": "lines",
         "name": "조금빠름 (path)",
         "opacity": 0.8,
         "showlegend": false,
         "subplot": "mapbox",
         "type": "scattermapbox"
        },
        {
         "hovertemplate": "speed_cut=조금빠름<br>id=id0858054<br>latitude=%{lat}<br>longitude=%{lon}<extra></extra>",
         "lat": [
          40.77115631103516,
          40.766788482666016
         ],
         "legendgroup": "조금빠름",
         "line": {
          "color": "#00cc96",
          "width": 1
         },
         "lon": [
          -73.98324584960938,
          -73.96295928955078
         ],
         "mode": "lines",
         "name": "조금빠름 (path)",
         "opacity": 0.8,
         "showlegend": false,
         "subplot": "mapbox",
         "type": "scattermapbox"
        },
        {
         "hovertemplate": "speed_cut=조금빠름<br>id=id1049417<br>latitude=%{lat}<br>longitude=%{lon}<extra></extra>",
         "lat": [
          40.7891731262207,
          40.794429779052734
         ],
         "legendgroup": "조금빠름",
         "line": {
          "color": "#00cc96",
          "width": 1
         },
         "lon": [
          -73.9527587890625,
          -73.97160339355469
         ],
         "mode": "lines",
         "name": "조금빠름 (path)",
         "opacity": 0.8,
         "showlegend": false,
         "subplot": "mapbox",
         "type": "scattermapbox"
        },
        {
         "hovertemplate": "speed_cut=조금빠름<br>id=id0566979<br>latitude=%{lat}<br>longitude=%{lon}<extra></extra>",
         "lat": [
          40.79747772216797,
          40.80135726928711
         ],
         "legendgroup": "조금빠름",
         "line": {
          "color": "#00cc96",
          "width": 1
         },
         "lon": [
          -73.96974182128906,
          -73.95948791503906
         ],
         "mode": "lines",
         "name": "조금빠름 (path)",
         "opacity": 0.8,
         "showlegend": false,
         "subplot": "mapbox",
         "type": "scattermapbox"
        },
        {
         "hovertemplate": "speed_cut=조금빠름<br>id=id0434573<br>latitude=%{lat}<br>longitude=%{lon}<extra></extra>",
         "lat": [
          40.782241821289055,
          40.64473342895508
         ],
         "legendgroup": "조금빠름",
         "line": {
          "color": "#00cc96",
          "width": 1
         },
         "lon": [
          -73.94640350341797,
          -73.78192138671875
         ],
         "mode": "lines",
         "name": "조금빠름 (path)",
         "opacity": 0.8,
         "showlegend": false,
         "subplot": "mapbox",
         "type": "scattermapbox"
        },
        {
         "hovertemplate": "speed_cut=조금빠름<br>id=id0889544<br>latitude=%{lat}<br>longitude=%{lon}<extra></extra>",
         "lat": [
          40.7554817199707,
          40.74057769775391
         ],
         "legendgroup": "조금빠름",
         "line": {
          "color": "#00cc96",
          "width": 1
         },
         "lon": [
          -73.97085571289062,
          -73.97972869873048
         ],
         "mode": "lines",
         "name": "조금빠름 (path)",
         "opacity": 0.8,
         "showlegend": false,
         "subplot": "mapbox",
         "type": "scattermapbox"
        },
        {
         "hovertemplate": "speed_cut=조금빠름<br>id=id2357722<br>latitude=%{lat}<br>longitude=%{lon}<extra></extra>",
         "lat": [
          40.709976196289055,
          40.69548034667969
         ],
         "legendgroup": "조금빠름",
         "line": {
          "color": "#00cc96",
          "width": 1
         },
         "lon": [
          -74.00458526611328,
          -73.99742889404298
         ],
         "mode": "lines",
         "name": "조금빠름 (path)",
         "opacity": 0.8,
         "showlegend": false,
         "subplot": "mapbox",
         "type": "scattermapbox"
        },
        {
         "hovertemplate": "speed_cut=조금빠름<br>id=id3638105<br>latitude=%{lat}<br>longitude=%{lon}<extra></extra>",
         "lat": [
          40.68634033203125,
          40.72257232666016
         ],
         "legendgroup": "조금빠름",
         "line": {
          "color": "#00cc96",
          "width": 1
         },
         "lon": [
          -73.97468566894531,
          -74.00359344482422
         ],
         "mode": "lines",
         "name": "조금빠름 (path)",
         "opacity": 0.8,
         "showlegend": false,
         "subplot": "mapbox",
         "type": "scattermapbox"
        },
        {
         "hovertemplate": "speed_cut=조금빠름<br>id=id2322963<br>latitude=%{lat}<br>longitude=%{lon}<extra></extra>",
         "lat": [
          40.78654861450195,
          40.734493255615234
         ],
         "legendgroup": "조금빠름",
         "line": {
          "color": "#00cc96",
          "width": 1
         },
         "lon": [
          -73.97239685058595,
          -74.00151824951173
         ],
         "mode": "lines",
         "name": "조금빠름 (path)",
         "opacity": 0.8,
         "showlegend": false,
         "subplot": "mapbox",
         "type": "scattermapbox"
        },
        {
         "hovertemplate": "speed_cut=조금빠름<br>id=id0626677<br>latitude=%{lat}<br>longitude=%{lon}<extra></extra>",
         "lat": [
          40.78641128540039,
          40.77379989624024
         ],
         "legendgroup": "조금빠름",
         "line": {
          "color": "#00cc96",
          "width": 1
         },
         "lon": [
          -73.95282745361328,
          -73.97776794433594
         ],
         "mode": "lines",
         "name": "조금빠름 (path)",
         "opacity": 0.8,
         "showlegend": false,
         "subplot": "mapbox",
         "type": "scattermapbox"
        },
        {
         "hovertemplate": "speed_cut=조금빠름<br>id=id0372891<br>latitude=%{lat}<br>longitude=%{lon}<extra></extra>",
         "lat": [
          40.77749633789063,
          40.78201675415039
         ],
         "legendgroup": "조금빠름",
         "line": {
          "color": "#00cc96",
          "width": 1
         },
         "lon": [
          -73.9781494140625,
          -73.97631072998048
         ],
         "mode": "lines",
         "name": "조금빠름 (path)",
         "opacity": 0.8,
         "showlegend": false,
         "subplot": "mapbox",
         "type": "scattermapbox"
        },
        {
         "hovertemplate": "speed_cut=조금빠름<br>id=id1158393<br>latitude=%{lat}<br>longitude=%{lon}<extra></extra>",
         "lat": [
          40.761756896972656,
          40.76946258544922
         ],
         "legendgroup": "조금빠름",
         "line": {
          "color": "#00cc96",
          "width": 1
         },
         "lon": [
          -73.96741485595702,
          -73.92103576660156
         ],
         "mode": "lines",
         "name": "조금빠름 (path)",
         "opacity": 0.8,
         "showlegend": false,
         "subplot": "mapbox",
         "type": "scattermapbox"
        },
        {
         "hovertemplate": "speed_cut=조금빠름<br>id=id2529954<br>latitude=%{lat}<br>longitude=%{lon}<extra></extra>",
         "lat": [
          40.76385116577149,
          40.7640037536621
         ],
         "legendgroup": "조금빠름",
         "line": {
          "color": "#00cc96",
          "width": 1
         },
         "lon": [
          -73.96236419677734,
          -73.97434234619139
         ],
         "mode": "lines",
         "name": "조금빠름 (path)",
         "opacity": 0.8,
         "showlegend": false,
         "subplot": "mapbox",
         "type": "scattermapbox"
        },
        {
         "hovertemplate": "speed_cut=조금빠름<br>id=id1036174<br>latitude=%{lat}<br>longitude=%{lon}<extra></extra>",
         "lat": [
          40.750431060791016,
          40.78049087524414
         ],
         "legendgroup": "조금빠름",
         "line": {
          "color": "#00cc96",
          "width": 1
         },
         "lon": [
          -73.98802947998048,
          -73.94779968261719
         ],
         "mode": "lines",
         "name": "조금빠름 (path)",
         "opacity": 0.8,
         "showlegend": false,
         "subplot": "mapbox",
         "type": "scattermapbox"
        },
        {
         "hovertemplate": "speed_cut=조금빠름<br>id=id3572749<br>latitude=%{lat}<br>longitude=%{lon}<extra></extra>",
         "lat": [
          40.78279113769531,
          40.770069122314446
         ],
         "legendgroup": "조금빠름",
         "line": {
          "color": "#00cc96",
          "width": 1
         },
         "lon": [
          -73.95319366455078,
          -73.98792266845702
         ],
         "mode": "lines",
         "name": "조금빠름 (path)",
         "opacity": 0.8,
         "showlegend": false,
         "subplot": "mapbox",
         "type": "scattermapbox"
        },
        {
         "hovertemplate": "speed_cut=조금빠름<br>id=id3528412<br>latitude=%{lat}<br>longitude=%{lon}<extra></extra>",
         "lat": [
          40.785789489746094,
          40.77674865722656
         ],
         "legendgroup": "조금빠름",
         "line": {
          "color": "#00cc96",
          "width": 1
         },
         "lon": [
          -73.9532470703125,
          -73.95974731445312
         ],
         "mode": "lines",
         "name": "조금빠름 (path)",
         "opacity": 0.8,
         "showlegend": false,
         "subplot": "mapbox",
         "type": "scattermapbox"
        },
        {
         "hovertemplate": "speed_cut=조금빠름<br>id=id2302144<br>latitude=%{lat}<br>longitude=%{lon}<extra></extra>",
         "lat": [
          40.831321716308594,
          40.862701416015625
         ],
         "legendgroup": "조금빠름",
         "line": {
          "color": "#00cc96",
          "width": 1
         },
         "lon": [
          -73.89300537109375,
          -73.90413665771484
         ],
         "mode": "lines",
         "name": "조금빠름 (path)",
         "opacity": 0.8,
         "showlegend": false,
         "subplot": "mapbox",
         "type": "scattermapbox"
        },
        {
         "hovertemplate": "speed_cut=조금빠름<br>id=id3291602<br>latitude=%{lat}<br>longitude=%{lon}<extra></extra>",
         "lat": [
          40.75713348388672,
          40.7334213256836
         ],
         "legendgroup": "조금빠름",
         "line": {
          "color": "#00cc96",
          "width": 1
         },
         "lon": [
          -73.9832763671875,
          -74.00246429443358
         ],
         "mode": "lines",
         "name": "조금빠름 (path)",
         "opacity": 0.8,
         "showlegend": false,
         "subplot": "mapbox",
         "type": "scattermapbox"
        },
        {
         "hovertemplate": "speed_cut=조금빠름<br>id=id2438985<br>latitude=%{lat}<br>longitude=%{lon}<extra></extra>",
         "lat": [
          40.76800155639648,
          40.78261184692384
         ],
         "legendgroup": "조금빠름",
         "line": {
          "color": "#00cc96",
          "width": 1
         },
         "lon": [
          -73.97037506103516,
          -73.95343017578125
         ],
         "mode": "lines",
         "name": "조금빠름 (path)",
         "opacity": 0.8,
         "showlegend": false,
         "subplot": "mapbox",
         "type": "scattermapbox"
        },
        {
         "hovertemplate": "speed_cut=조금빠름<br>id=id2078977<br>latitude=%{lat}<br>longitude=%{lon}<extra></extra>",
         "lat": [
          40.76673126220703,
          40.805000305175774
         ],
         "legendgroup": "조금빠름",
         "line": {
          "color": "#00cc96",
          "width": 1
         },
         "lon": [
          -73.96306610107422,
          -73.93858337402342
         ],
         "mode": "lines",
         "name": "조금빠름 (path)",
         "opacity": 0.8,
         "showlegend": false,
         "subplot": "mapbox",
         "type": "scattermapbox"
        },
        {
         "hovertemplate": "speed_cut=조금빠름<br>id=id3730700<br>latitude=%{lat}<br>longitude=%{lon}<extra></extra>",
         "lat": [
          40.73417663574219,
          40.74989700317384
         ],
         "legendgroup": "조금빠름",
         "line": {
          "color": "#00cc96",
          "width": 1
         },
         "lon": [
          -73.99500274658203,
          -73.99164581298828
         ],
         "mode": "lines",
         "name": "조금빠름 (path)",
         "opacity": 0.8,
         "showlegend": false,
         "subplot": "mapbox",
         "type": "scattermapbox"
        },
        {
         "hovertemplate": "speed_cut=조금빠름<br>id=id3988208<br>latitude=%{lat}<br>longitude=%{lon}<extra></extra>",
         "lat": [
          40.78954315185546,
          40.79740524291992
         ],
         "legendgroup": "조금빠름",
         "line": {
          "color": "#00cc96",
          "width": 1
         },
         "lon": [
          -73.96743774414062,
          -73.94892883300781
         ],
         "mode": "lines",
         "name": "조금빠름 (path)",
         "opacity": 0.8,
         "showlegend": false,
         "subplot": "mapbox",
         "type": "scattermapbox"
        },
        {
         "hovertemplate": "speed_cut=조금빠름<br>id=id0243048<br>latitude=%{lat}<br>longitude=%{lon}<extra></extra>",
         "lat": [
          40.79996109008789,
          40.81560134887695
         ],
         "legendgroup": "조금빠름",
         "line": {
          "color": "#00cc96",
          "width": 1
         },
         "lon": [
          -73.9586410522461,
          -73.93981170654298
         ],
         "mode": "lines",
         "name": "조금빠름 (path)",
         "opacity": 0.8,
         "showlegend": false,
         "subplot": "mapbox",
         "type": "scattermapbox"
        },
        {
         "hovertemplate": "speed_cut=조금빠름<br>id=id2135926<br>latitude=%{lat}<br>longitude=%{lon}<extra></extra>",
         "lat": [
          40.764122009277344,
          40.74626541137695
         ],
         "legendgroup": "조금빠름",
         "line": {
          "color": "#00cc96",
          "width": 1
         },
         "lon": [
          -73.9558334350586,
          -73.97246551513672
         ],
         "mode": "lines",
         "name": "조금빠름 (path)",
         "opacity": 0.8,
         "showlegend": false,
         "subplot": "mapbox",
         "type": "scattermapbox"
        },
        {
         "hovertemplate": "speed_cut=조금빠름<br>id=id2700601<br>latitude=%{lat}<br>longitude=%{lon}<extra></extra>",
         "lat": [
          40.75947952270508,
          40.749908447265625
         ],
         "legendgroup": "조금빠름",
         "line": {
          "color": "#00cc96",
          "width": 1
         },
         "lon": [
          -73.99555969238281,
          -73.9881591796875
         ],
         "mode": "lines",
         "name": "조금빠름 (path)",
         "opacity": 0.8,
         "showlegend": false,
         "subplot": "mapbox",
         "type": "scattermapbox"
        },
        {
         "hovertemplate": "speed_cut=조금빠름<br>id=id1030598<br>latitude=%{lat}<br>longitude=%{lon}<extra></extra>",
         "lat": [
          40.73513412475586,
          40.71914291381836
         ],
         "legendgroup": "조금빠름",
         "line": {
          "color": "#00cc96",
          "width": 1
         },
         "lon": [
          -74.00606536865233,
          -74.00506591796875
         ],
         "mode": "lines",
         "name": "조금빠름 (path)",
         "opacity": 0.8,
         "showlegend": false,
         "subplot": "mapbox",
         "type": "scattermapbox"
        },
        {
         "hovertemplate": "speed_cut=매우빠름<br>id=id3667993<br>latitude=%{lat}<br>longitude=%{lon}<extra></extra>",
         "lat": [
          40.73052978515625,
          40.746219635009766
         ],
         "legendgroup": "매우빠름",
         "line": {
          "color": "#ab63fa",
          "width": 1
         },
         "lon": [
          -73.98052215576173,
          -73.99799346923827
         ],
         "mode": "lines",
         "name": "매우빠름 (path)",
         "opacity": 0.8,
         "showlegend": true,
         "subplot": "mapbox",
         "type": "scattermapbox"
        },
        {
         "hovertemplate": "speed_cut=매우빠름<br>id=id3091695<br>latitude=%{lat}<br>longitude=%{lon}<extra></extra>",
         "lat": [
          40.768253326416016,
          40.77399826049805
         ],
         "legendgroup": "매우빠름",
         "line": {
          "color": "#ab63fa",
          "width": 1
         },
         "lon": [
          -73.98240661621094,
          -73.95751190185547
         ],
         "mode": "lines",
         "name": "매우빠름 (path)",
         "opacity": 0.8,
         "showlegend": false,
         "subplot": "mapbox",
         "type": "scattermapbox"
        },
        {
         "hovertemplate": "speed_cut=매우빠름<br>id=id3545382<br>latitude=%{lat}<br>longitude=%{lon}<extra></extra>",
         "lat": [
          40.78382110595703,
          40.79136657714844
         ],
         "legendgroup": "매우빠름",
         "line": {
          "color": "#ab63fa",
          "width": 1
         },
         "lon": [
          -73.97989654541014,
          -73.97394561767578
         ],
         "mode": "lines",
         "name": "매우빠름 (path)",
         "opacity": 0.8,
         "showlegend": false,
         "subplot": "mapbox",
         "type": "scattermapbox"
        },
        {
         "hovertemplate": "speed_cut=매우빠름<br>id=id0621879<br>latitude=%{lat}<br>longitude=%{lon}<extra></extra>",
         "lat": [
          40.743614196777344,
          40.72272872924805
         ],
         "legendgroup": "매우빠름",
         "line": {
          "color": "#ab63fa",
          "width": 1
         },
         "lon": [
          -73.95078277587889,
          -74.00621795654298
         ],
         "mode": "lines",
         "name": "매우빠름 (path)",
         "opacity": 0.8,
         "showlegend": false,
         "subplot": "mapbox",
         "type": "scattermapbox"
        },
        {
         "hovertemplate": "speed_cut=매우빠름<br>id=id2995326<br>latitude=%{lat}<br>longitude=%{lon}<extra></extra>",
         "lat": [
          40.74108123779297,
          40.73556137084961
         ],
         "legendgroup": "매우빠름",
         "line": {
          "color": "#ab63fa",
          "width": 1
         },
         "lon": [
          -74.00586700439453,
          -73.99239349365233
         ],
         "mode": "lines",
         "name": "매우빠름 (path)",
         "opacity": 0.8,
         "showlegend": false,
         "subplot": "mapbox",
         "type": "scattermapbox"
        },
        {
         "hovertemplate": "speed_cut=매우빠름<br>id=id2341955<br>latitude=%{lat}<br>longitude=%{lon}<extra></extra>",
         "lat": [
          40.77948760986328,
          40.78915786743164
         ],
         "legendgroup": "매우빠름",
         "line": {
          "color": "#ab63fa",
          "width": 1
         },
         "lon": [
          -73.95057678222656,
          -73.94364166259764
         ],
         "mode": "lines",
         "name": "매우빠름 (path)",
         "opacity": 0.8,
         "showlegend": false,
         "subplot": "mapbox",
         "type": "scattermapbox"
        },
        {
         "hovertemplate": "speed_cut=매우빠름<br>id=id1973100<br>latitude=%{lat}<br>longitude=%{lon}<extra></extra>",
         "lat": [
          40.82606887817384,
          40.7630729675293
         ],
         "legendgroup": "매우빠름",
         "line": {
          "color": "#ab63fa",
          "width": 1
         },
         "lon": [
          -73.94337463378906,
          -73.98128509521484
         ],
         "mode": "lines",
         "name": "매우빠름 (path)",
         "opacity": 0.8,
         "showlegend": false,
         "subplot": "mapbox",
         "type": "scattermapbox"
        },
        {
         "hovertemplate": "speed_cut=매우빠름<br>id=id0151990<br>latitude=%{lat}<br>longitude=%{lon}<extra></extra>",
         "lat": [
          40.76192474365234,
          40.76654052734375
         ],
         "legendgroup": "매우빠름",
         "line": {
          "color": "#ab63fa",
          "width": 1
         },
         "lon": [
          -73.97914123535155,
          -73.99016571044923
         ],
         "mode": "lines",
         "name": "매우빠름 (path)",
         "opacity": 0.8,
         "showlegend": false,
         "subplot": "mapbox",
         "type": "scattermapbox"
        },
        {
         "hovertemplate": "speed_cut=매우빠름<br>id=id1745148<br>latitude=%{lat}<br>longitude=%{lon}<extra></extra>",
         "lat": [
          40.75484848022461,
          40.72767639160156
         ],
         "legendgroup": "매우빠름",
         "line": {
          "color": "#ab63fa",
          "width": 1
         },
         "lon": [
          -73.98343658447266,
          -74.00334930419923
         ],
         "mode": "lines",
         "name": "매우빠름 (path)",
         "opacity": 0.8,
         "showlegend": false,
         "subplot": "mapbox",
         "type": "scattermapbox"
        },
        {
         "hovertemplate": "speed_cut=매우빠름<br>id=id1006263<br>latitude=%{lat}<br>longitude=%{lon}<extra></extra>",
         "lat": [
          40.80038070678711,
          40.80709838867188
         ],
         "legendgroup": "매우빠름",
         "line": {
          "color": "#ab63fa",
          "width": 1
         },
         "lon": [
          -73.96750640869139,
          -73.95350646972656
         ],
         "mode": "lines",
         "name": "매우빠름 (path)",
         "opacity": 0.8,
         "showlegend": false,
         "subplot": "mapbox",
         "type": "scattermapbox"
        },
        {
         "hovertemplate": "speed_cut=매우빠름<br>id=id3100200<br>latitude=%{lat}<br>longitude=%{lon}<extra></extra>",
         "lat": [
          40.784122467041016,
          40.77589797973633
         ],
         "legendgroup": "매우빠름",
         "line": {
          "color": "#ab63fa",
          "width": 1
         },
         "lon": [
          -73.9544906616211,
          -73.96086883544923
         ],
         "mode": "lines",
         "name": "매우빠름 (path)",
         "opacity": 0.8,
         "showlegend": false,
         "subplot": "mapbox",
         "type": "scattermapbox"
        },
        {
         "hovertemplate": "speed_cut=매우빠름<br>id=id2484944<br>latitude=%{lat}<br>longitude=%{lon}<extra></extra>",
         "lat": [
          40.76678466796875,
          40.77938079833984
         ],
         "legendgroup": "매우빠름",
         "line": {
          "color": "#ab63fa",
          "width": 1
         },
         "lon": [
          -73.95954132080078,
          -73.94471740722656
         ],
         "mode": "lines",
         "name": "매우빠름 (path)",
         "opacity": 0.8,
         "showlegend": false,
         "subplot": "mapbox",
         "type": "scattermapbox"
        },
        {
         "hovertemplate": "speed_cut=매우빠름<br>id=id0294070<br>latitude=%{lat}<br>longitude=%{lon}<extra></extra>",
         "lat": [
          40.78065872192384,
          40.76536560058594
         ],
         "legendgroup": "매우빠름",
         "line": {
          "color": "#ab63fa",
          "width": 1
         },
         "lon": [
          -73.98385620117188,
          -73.9659652709961
         ],
         "mode": "lines",
         "name": "매우빠름 (path)",
         "opacity": 0.8,
         "showlegend": false,
         "subplot": "mapbox",
         "type": "scattermapbox"
        },
        {
         "hovertemplate": "speed_cut=매우빠름<br>id=id3088186<br>latitude=%{lat}<br>longitude=%{lon}<extra></extra>",
         "lat": [
          40.76067352294922,
          40.762725830078125
         ],
         "legendgroup": "매우빠름",
         "line": {
          "color": "#ab63fa",
          "width": 1
         },
         "lon": [
          -73.98724365234375,
          -73.92682647705078
         ],
         "mode": "lines",
         "name": "매우빠름 (path)",
         "opacity": 0.8,
         "showlegend": false,
         "subplot": "mapbox",
         "type": "scattermapbox"
        },
        {
         "hovertemplate": "speed_cut=매우빠름<br>id=id0429106<br>latitude=%{lat}<br>longitude=%{lon}<extra></extra>",
         "lat": [
          40.75593185424805,
          40.75823974609375
         ],
         "legendgroup": "매우빠름",
         "line": {
          "color": "#ab63fa",
          "width": 1
         },
         "lon": [
          -73.91887664794923,
          -73.98924255371094
         ],
         "mode": "lines",
         "name": "매우빠름 (path)",
         "opacity": 0.8,
         "showlegend": false,
         "subplot": "mapbox",
         "type": "scattermapbox"
        },
        {
         "hovertemplate": "speed_cut=매우빠름<br>id=id2843597<br>latitude=%{lat}<br>longitude=%{lon}<extra></extra>",
         "lat": [
          40.75821304321289,
          40.796680450439446
         ],
         "legendgroup": "매우빠름",
         "line": {
          "color": "#ab63fa",
          "width": 1
         },
         "lon": [
          -73.98886108398438,
          -73.96269226074217
         ],
         "mode": "lines",
         "name": "매우빠름 (path)",
         "opacity": 0.8,
         "showlegend": false,
         "subplot": "mapbox",
         "type": "scattermapbox"
        },
        {
         "hovertemplate": "speed_cut=매우빠름<br>id=id2583198<br>latitude=%{lat}<br>longitude=%{lon}<extra></extra>",
         "lat": [
          40.70578384399414,
          40.643508911132805
         ],
         "legendgroup": "매우빠름",
         "line": {
          "color": "#ab63fa",
          "width": 1
         },
         "lon": [
          -74.00952911376953,
          -73.79021453857422
         ],
         "mode": "lines",
         "name": "매우빠름 (path)",
         "opacity": 0.8,
         "showlegend": false,
         "subplot": "mapbox",
         "type": "scattermapbox"
        },
        {
         "hovertemplate": "speed_cut=매우빠름<br>id=id1322047<br>latitude=%{lat}<br>longitude=%{lon}<extra></extra>",
         "lat": [
          40.737281799316406,
          40.6446418762207
         ],
         "legendgroup": "매우빠름",
         "line": {
          "color": "#ab63fa",
          "width": 1
         },
         "lon": [
          -74.00069427490233,
          -73.77690124511719
         ],
         "mode": "lines",
         "name": "매우빠름 (path)",
         "opacity": 0.8,
         "showlegend": false,
         "subplot": "mapbox",
         "type": "scattermapbox"
        },
        {
         "hovertemplate": "speed_cut=매우빠름<br>id=id3388355<br>latitude=%{lat}<br>longitude=%{lon}<extra></extra>",
         "lat": [
          40.68381118774414,
          40.74114227294922
         ],
         "legendgroup": "매우빠름",
         "line": {
          "color": "#ab63fa",
          "width": 1
         },
         "lon": [
          -73.9951629638672,
          -73.99011993408203
         ],
         "mode": "lines",
         "name": "매우빠름 (path)",
         "opacity": 0.8,
         "showlegend": false,
         "subplot": "mapbox",
         "type": "scattermapbox"
        },
        {
         "hovertemplate": "speed_cut=매우빠름<br>id=id1850636<br>latitude=%{lat}<br>longitude=%{lon}<extra></extra>",
         "lat": [
          40.63109970092773,
          40.75043869018555
         ],
         "legendgroup": "매우빠름",
         "line": {
          "color": "#ab63fa",
          "width": 1
         },
         "lon": [
          -74.02571868896483,
          -73.99453735351561
         ],
         "mode": "lines",
         "name": "매우빠름 (path)",
         "opacity": 0.8,
         "showlegend": false,
         "subplot": "mapbox",
         "type": "scattermapbox"
        },
        {
         "hovertemplate": "speed_cut=매우빠름<br>id=id0037819<br>latitude=%{lat}<br>longitude=%{lon}<extra></extra>",
         "lat": [
          40.756568908691406,
          40.740058898925774
         ],
         "legendgroup": "매우빠름",
         "line": {
          "color": "#ab63fa",
          "width": 1
         },
         "lon": [
          -73.98641967773438,
          -73.99530029296875
         ],
         "mode": "lines",
         "name": "매우빠름 (path)",
         "opacity": 0.8,
         "showlegend": false,
         "subplot": "mapbox",
         "type": "scattermapbox"
        },
        {
         "hovertemplate": "speed_cut=매우빠름<br>id=id3716633<br>latitude=%{lat}<br>longitude=%{lon}<extra></extra>",
         "lat": [
          40.705509185791016,
          40.755401611328125
         ],
         "legendgroup": "매우빠름",
         "line": {
          "color": "#ab63fa",
          "width": 1
         },
         "lon": [
          -74.00707244873048,
          -73.96813201904298
         ],
         "mode": "lines",
         "name": "매우빠름 (path)",
         "opacity": 0.8,
         "showlegend": false,
         "subplot": "mapbox",
         "type": "scattermapbox"
        },
        {
         "hovertemplate": "speed_cut=매우빠름<br>id=id3666656<br>latitude=%{lat}<br>longitude=%{lon}<extra></extra>",
         "lat": [
          40.75309753417969,
          40.645286560058594
         ],
         "legendgroup": "매우빠름",
         "line": {
          "color": "#ab63fa",
          "width": 1
         },
         "lon": [
          -73.99340057373048,
          -73.7766876220703
         ],
         "mode": "lines",
         "name": "매우빠름 (path)",
         "opacity": 0.8,
         "showlegend": false,
         "subplot": "mapbox",
         "type": "scattermapbox"
        },
        {
         "hovertemplate": "speed_cut=매우빠름<br>id=id0739381<br>latitude=%{lat}<br>longitude=%{lon}<extra></extra>",
         "lat": [
          40.76717758178711,
          40.80809020996094
         ],
         "legendgroup": "매우빠름",
         "line": {
          "color": "#ab63fa",
          "width": 1
         },
         "lon": [
          -73.99046325683594,
          -73.9640121459961
         ],
         "mode": "lines",
         "name": "매우빠름 (path)",
         "opacity": 0.8,
         "showlegend": false,
         "subplot": "mapbox",
         "type": "scattermapbox"
        },
        {
         "hovertemplate": "speed_cut=매우빠름<br>id=id0787873<br>latitude=%{lat}<br>longitude=%{lon}<extra></extra>",
         "lat": [
          40.64693832397461,
          40.70998001098633
         ],
         "legendgroup": "매우빠름",
         "line": {
          "color": "#ab63fa",
          "width": 1
         },
         "lon": [
          -73.78984832763672,
          -74.005126953125
         ],
         "mode": "lines",
         "name": "매우빠름 (path)",
         "opacity": 0.8,
         "showlegend": false,
         "subplot": "mapbox",
         "type": "scattermapbox"
        },
        {
         "hovertemplate": "speed_cut=매우빠름<br>id=id0419095<br>latitude=%{lat}<br>longitude=%{lon}<extra></extra>",
         "lat": [
          40.744606018066406,
          40.768848419189446
         ],
         "legendgroup": "매우빠름",
         "line": {
          "color": "#ab63fa",
          "width": 1
         },
         "lon": [
          -73.97144317626953,
          -73.86279296875
         ],
         "mode": "lines",
         "name": "매우빠름 (path)",
         "opacity": 0.8,
         "showlegend": false,
         "subplot": "mapbox",
         "type": "scattermapbox"
        },
        {
         "hovertemplate": "speed_cut=매우빠름<br>id=id0480924<br>latitude=%{lat}<br>longitude=%{lon}<extra></extra>",
         "lat": [
          40.72843170166016,
          40.73809051513672
         ],
         "legendgroup": "매우빠름",
         "line": {
          "color": "#ab63fa",
          "width": 1
         },
         "lon": [
          -73.99981689453125,
          -74.05081176757811
         ],
         "mode": "lines",
         "name": "매우빠름 (path)",
         "opacity": 0.8,
         "showlegend": false,
         "subplot": "mapbox",
         "type": "scattermapbox"
        },
        {
         "hovertemplate": "speed_cut=매우빠름<br>id=id0271875<br>latitude=%{lat}<br>longitude=%{lon}<extra></extra>",
         "lat": [
          40.76412582397461,
          40.783740997314446
         ],
         "legendgroup": "매우빠름",
         "line": {
          "color": "#ab63fa",
          "width": 1
         },
         "lon": [
          -73.97107696533203,
          -73.95669555664062
         ],
         "mode": "lines",
         "name": "매우빠름 (path)",
         "opacity": 0.8,
         "showlegend": false,
         "subplot": "mapbox",
         "type": "scattermapbox"
        },
        {
         "hovertemplate": "speed_cut=매우빠름<br>id=id2723141<br>latitude=%{lat}<br>longitude=%{lon}<extra></extra>",
         "lat": [
          40.752979278564446,
          40.70758056640625
         ],
         "legendgroup": "매우빠름",
         "line": {
          "color": "#ab63fa",
          "width": 1
         },
         "lon": [
          -73.97933197021484,
          -74.00406646728516
         ],
         "mode": "lines",
         "name": "매우빠름 (path)",
         "opacity": 0.8,
         "showlegend": false,
         "subplot": "mapbox",
         "type": "scattermapbox"
        },
        {
         "hovertemplate": "speed_cut=매우빠름<br>id=id3457947<br>latitude=%{lat}<br>longitude=%{lon}<extra></extra>",
         "lat": [
          40.767120361328125,
          40.77658081054688
         ],
         "legendgroup": "매우빠름",
         "line": {
          "color": "#ab63fa",
          "width": 1
         },
         "lon": [
          -73.9688720703125,
          -73.96205139160156
         ],
         "mode": "lines",
         "name": "매우빠름 (path)",
         "opacity": 0.8,
         "showlegend": false,
         "subplot": "mapbox",
         "type": "scattermapbox"
        },
        {
         "hovertemplate": "speed_cut=매우빠름<br>id=id2035188<br>latitude=%{lat}<br>longitude=%{lon}<extra></extra>",
         "lat": [
          40.76887130737305,
          40.75527572631836
         ],
         "legendgroup": "매우빠름",
         "line": {
          "color": "#ab63fa",
          "width": 1
         },
         "lon": [
          -73.95445251464845,
          -73.96514892578125
         ],
         "mode": "lines",
         "name": "매우빠름 (path)",
         "opacity": 0.8,
         "showlegend": false,
         "subplot": "mapbox",
         "type": "scattermapbox"
        },
        {
         "hovertemplate": "speed_cut=매우빠름<br>id=id0453108<br>latitude=%{lat}<br>longitude=%{lon}<extra></extra>",
         "lat": [
          40.64477157592773,
          40.832279205322266
         ],
         "legendgroup": "매우빠름",
         "line": {
          "color": "#ab63fa",
          "width": 1
         },
         "lon": [
          -73.78182983398438,
          -73.94233703613281
         ],
         "mode": "lines",
         "name": "매우빠름 (path)",
         "opacity": 0.8,
         "showlegend": false,
         "subplot": "mapbox",
         "type": "scattermapbox"
        },
        {
         "hovertemplate": "speed_cut=매우빠름<br>id=id3413834<br>latitude=%{lat}<br>longitude=%{lon}<extra></extra>",
         "lat": [
          40.66177749633789,
          40.773601531982415
         ],
         "legendgroup": "매우빠름",
         "line": {
          "color": "#ab63fa",
          "width": 1
         },
         "lon": [
          -73.82536315917967,
          -73.87093353271484
         ],
         "mode": "lines",
         "name": "매우빠름 (path)",
         "opacity": 0.8,
         "showlegend": false,
         "subplot": "mapbox",
         "type": "scattermapbox"
        },
        {
         "hovertemplate": "speed_cut=매우빠름<br>id=id3646444<br>latitude=%{lat}<br>longitude=%{lon}<extra></extra>",
         "lat": [
          40.64687347412109,
          40.78129196166992
         ],
         "legendgroup": "매우빠름",
         "line": {
          "color": "#ab63fa",
          "width": 1
         },
         "lon": [
          -73.79014587402342,
          -73.9521942138672
         ],
         "mode": "lines",
         "name": "매우빠름 (path)",
         "opacity": 0.8,
         "showlegend": false,
         "subplot": "mapbox",
         "type": "scattermapbox"
        },
        {
         "hovertemplate": "speed_cut=매우빠름<br>id=id0345371<br>latitude=%{lat}<br>longitude=%{lon}<extra></extra>",
         "lat": [
          40.64469146728516,
          40.70872116088867
         ],
         "legendgroup": "매우빠름",
         "line": {
          "color": "#ab63fa",
          "width": 1
         },
         "lon": [
          -73.78196716308595,
          -73.9399185180664
         ],
         "mode": "lines",
         "name": "매우빠름 (path)",
         "opacity": 0.8,
         "showlegend": false,
         "subplot": "mapbox",
         "type": "scattermapbox"
        },
        {
         "hovertemplate": "speed_cut=매우빠름<br>id=id2676557<br>latitude=%{lat}<br>longitude=%{lon}<extra></extra>",
         "lat": [
          40.74818420410156,
          40.738807678222656
         ],
         "legendgroup": "매우빠름",
         "line": {
          "color": "#ab63fa",
          "width": 1
         },
         "lon": [
          -73.97811889648438,
          -73.98301696777342
         ],
         "mode": "lines",
         "name": "매우빠름 (path)",
         "opacity": 0.8,
         "showlegend": false,
         "subplot": "mapbox",
         "type": "scattermapbox"
        },
        {
         "hovertemplate": "speed_cut=매우느림<br>passenger_count=%{marker.size}<br>latitude=%{lat}<br>longitude=%{lon}<extra></extra>",
         "lat": [
          40.75983047485352,
          40.75983047485352,
          40.78168487548828,
          40.781299591064446,
          40.763519287109375,
          40.761749267578125,
          40.74432373046875,
          40.74211883544922,
          40.70718383789063,
          40.70901870727539,
          40.77495956420898,
          40.77154159545898,
          40.72530364990234,
          40.71965026855469,
          40.734371185302734,
          40.75623321533203,
          40.739540100097656,
          40.735721588134766,
          40.73308181762695,
          40.730018615722656,
          40.776123046875,
          40.77534103393555,
          40.777099609375,
          40.746826171875,
          40.74722671508789,
          40.74184036254882,
          40.7467155456543,
          40.75249862670898,
          40.72389602661133,
          40.72259521484375,
          40.76140594482422,
          40.76454162597656,
          40.74169921875,
          40.744140625,
          40.78596115112305,
          40.77871322631836,
          40.79790878295898,
          40.794048309326165,
          40.75261306762695,
          40.76639175415039,
          40.73777770996094,
          40.74677658081056,
          40.74413299560546,
          40.7393684387207,
          40.7302360534668,
          40.7324447631836,
          40.72117233276367,
          40.74240493774414,
          40.74275970458984,
          40.76290130615234,
          40.757469177246094,
          40.771968841552734,
          40.72243118286133,
          40.76266860961913,
          40.79058837890625,
          40.79840850830078,
          40.76341247558594,
          40.71963119506836,
          40.75000762939453,
          40.74380493164063,
          40.761695861816406,
          40.74729537963867,
          40.74566268920898,
          40.72234725952149,
          40.78450012207031,
          40.804832458496094,
          40.75505065917969,
          40.773868560791016,
          40.7793083190918,
          40.7683982849121,
          40.77922821044922,
          40.746257781982415,
          40.743770599365234,
          40.75796890258789
         ],
         "legendgroup": "매우느림",
         "line": {
          "width": 1
         },
         "lon": [
          -73.97090148925781,
          -73.97090148925781,
          -73.98113250732422,
          -73.981201171875,
          -73.96932220458984,
          -73.97138977050781,
          -73.98423767089844,
          -73.97466278076173,
          -74.01651763916014,
          -74.0118637084961,
          -73.98088073730467,
          -73.9818115234375,
          -73.9925537109375,
          -73.9946060180664,
          -73.98973846435547,
          -73.99331665039062,
          -73.98706817626953,
          -73.98265838623048,
          -74.00662231445312,
          -74.00050354003906,
          -73.96235656738281,
          -73.96501922607422,
          -73.97775268554686,
          -73.99005889892578,
          -73.9910430908203,
          -74.0008773803711,
          -73.98993682861328,
          -73.97853851318358,
          -74.00457000732422,
          -74.00528717041014,
          -73.97090911865233,
          -73.97366333007811,
          -73.97492218017578,
          -73.97913360595702,
          -73.97699737548828,
          -73.9814453125,
          -73.97329711914062,
          -73.97196960449217,
          -73.98545074462889,
          -73.96286010742188,
          -73.99762725830078,
          -74.00828552246092,
          -74.00689697265625,
          -74.00737762451173,
          -73.99922180175781,
          -74.00647735595702,
          -73.98760986328125,
          -74.00107574462889,
          -73.97737884521484,
          -73.98320770263672,
          -73.96942901611328,
          -73.9827423095703,
          -73.98615264892578,
          -73.98597717285155,
          -73.949951171875,
          -73.95243072509764,
          -73.98194122314453,
          -73.99542999267578,
          -73.99179077148438,
          -73.98795318603516,
          -74.00177764892578,
          -73.98175048828125,
          -73.98463439941406,
          -73.99722290039062,
          -73.95220947265625,
          -73.96610260009764,
          -73.97960662841797,
          -73.98236846923827,
          -73.96006774902342,
          -73.9656524658203,
          -73.95587921142578,
          -73.98580169677734,
          -73.98335266113281,
          -73.98609161376953
         ],
         "marker": {
          "color": "#636efa",
          "size": [
           2,
           2,
           1,
           1,
           2,
           2,
           2,
           2,
           1,
           1,
           2,
           2,
           2,
           2,
           1,
           1,
           1,
           1,
           1,
           1,
           1,
           1,
           1,
           1,
           2,
           2,
           1,
           1,
           1,
           1,
           1,
           1,
           1,
           1,
           1,
           1,
           1,
           1,
           1,
           1,
           1,
           1,
           1,
           1,
           1,
           1,
           1,
           1,
           1,
           1,
           1,
           1,
           1,
           1,
           1,
           1,
           1,
           1,
           1,
           1,
           1,
           1,
           2,
           2,
           2,
           2,
           4,
           4,
           1,
           1,
           5,
           5,
           1,
           1
          ],
          "sizemode": "area",
          "sizeref": 0.06
         },
         "mode": "markers",
         "name": "매우느림 (pickup/dropoff)",
         "opacity": 0.8,
         "showlegend": true,
         "subplot": "mapbox",
         "type": "scattermapbox"
        },
        {
         "hovertemplate": "speed_cut=조금느림<br>passenger_count=%{marker.size}<br>latitude=%{lat}<br>longitude=%{lon}<extra></extra>",
         "lat": [
          40.75085067749024,
          40.74156188964844,
          40.763145446777344,
          40.76424789428711,
          40.76767349243164,
          40.777053833007805,
          40.73989868164063,
          40.730010986328125,
          40.763973236083984,
          40.76081848144531,
          40.760250091552734,
          40.79518127441406,
          40.756885528564446,
          40.74981689453125,
          40.79246139526367,
          40.78707885742188,
          40.73473739624024,
          40.7226448059082,
          40.75053024291992,
          40.75751876831056,
          40.7509651184082,
          40.74673461914063,
          40.73553085327149,
          40.76554107666016,
          40.744510650634766,
          40.7564582824707,
          40.75918960571289,
          40.7098503112793,
          40.7630615234375,
          40.76905059814453,
          40.76215744018555,
          40.74748611450195,
          40.74530792236328,
          40.74227523803711,
          40.7457275390625,
          40.71868896484375,
          40.75412368774414,
          40.77298355102539,
          40.75320816040039,
          40.7714958190918,
          40.76899337768555,
          40.76704025268555,
          40.74298095703125,
          40.71076965332031,
          40.72407150268555,
          40.75766372680664,
          40.7665901184082,
          40.75624084472656,
          40.7463493347168,
          40.742500305175774,
          40.75112533569336,
          40.73820495605469,
          40.73915481567384,
          40.74427795410156,
          40.74463272094727,
          40.759124755859375,
          40.73919296264648,
          40.74143600463867,
          40.7253303527832,
          40.777881622314446,
          40.75419235229492,
          40.762859344482415,
          40.7617416381836,
          40.76359939575195,
          40.74908065795898,
          40.6697654724121,
          40.76555252075195,
          40.79889678955078,
          40.7724494934082,
          40.755836486816406,
          40.759868621826165,
          40.75054931640625
         ],
         "legendgroup": "조금느림",
         "line": {
          "width": 1
         },
         "lon": [
          -73.97830963134764,
          -73.993896484375,
          -73.96985626220702,
          -73.95646667480467,
          -73.98075866699219,
          -73.98257446289062,
          -73.98174285888672,
          -73.9792709350586,
          -73.99028778076173,
          -73.97960662841797,
          -73.96861267089844,
          -73.96575927734375,
          -73.9898910522461,
          -73.99140167236328,
          -73.94084167480467,
          -73.95390319824217,
          -74.0038833618164,
          -73.98736572265625,
          -73.98738098144531,
          -73.98204803466798,
          -73.97477722167967,
          -73.97140502929686,
          -73.98988342285155,
          -73.97640228271484,
          -73.98111724853516,
          -74.00170135498048,
          -73.98509216308595,
          -73.96215057373048,
          -73.97570037841797,
          -73.98491668701173,
          -73.98597717285155,
          -73.97697448730467,
          -74.00784301757811,
          -73.98967742919923,
          -73.9908905029297,
          -74.0053482055664,
          -73.97389221191406,
          -73.9782943725586,
          -73.98626708984375,
          -73.95969390869139,
          -73.96334075927734,
          -73.95381164550781,
          -73.98845672607422,
          -74.01339721679686,
          -74.00241088867188,
          -73.98356628417967,
          -73.98652648925781,
          -73.97042846679686,
          -73.97167205810547,
          -73.97420501708984,
          -73.97836303710938,
          -73.98540496826173,
          -73.99610137939453,
          -73.98767852783203,
          -73.97919464111328,
          -73.97645568847656,
          -73.98406982421875,
          -73.95230865478516,
          -73.99237060546875,
          -73.98873138427734,
          -73.97592163085938,
          -73.98892211914062,
          -73.96864318847656,
          -73.98738861083984,
          -74.00839233398438,
          -73.97919464111328,
          -73.96790313720702,
          -73.96857452392578,
          -73.96265411376953,
          -73.9784927368164,
          -73.96180725097656,
          -73.97480010986328
         ],
         "marker": {
          "color": "#EF553B",
          "size": [
           1,
           1,
           4,
           4,
           1,
           1,
           2,
           2,
           2,
           2,
           2,
           2,
           1,
           1,
           2,
           2,
           1,
           1,
           2,
           2,
           1,
           1,
           3,
           3,
           2,
           2,
           5,
           5,
           1,
           1,
           1,
           1,
           2,
           2,
           1,
           1,
           1,
           1,
           1,
           1,
           1,
           1,
           4,
           4,
           1,
           1,
           2,
           2,
           1,
           1,
           5,
           5,
           1,
           1,
           2,
           2,
           1,
           1,
           1,
           1,
           2,
           2,
           1,
           1,
           4,
           4,
           1,
           1,
           1,
           1,
           5,
           5
          ],
          "sizemode": "area",
          "sizeref": 0.06
         },
         "mode": "markers",
         "name": "조금느림 (pickup/dropoff)",
         "opacity": 0.8,
         "showlegend": true,
         "subplot": "mapbox",
         "type": "scattermapbox"
        },
        {
         "hovertemplate": "speed_cut=조금빠름<br>passenger_count=%{marker.size}<br>latitude=%{lat}<br>longitude=%{lon}<extra></extra>",
         "lat": [
          40.74464797973633,
          40.72493362426758,
          40.75567626953125,
          40.72474670410156,
          40.755126953125,
          40.74041366577149,
          40.655078887939446,
          40.7249755859375,
          40.73714065551758,
          40.72565841674805,
          40.75128173828125,
          40.76827239990234,
          40.67301177978516,
          40.73410034179688,
          40.76793670654297,
          40.765602111816406,
          40.77785873413086,
          40.75857162475586,
          40.75810241699219,
          40.790283203125,
          40.752891540527344,
          40.739990234375,
          40.71483612060546,
          40.789600372314446,
          40.77115631103516,
          40.766788482666016,
          40.7891731262207,
          40.794429779052734,
          40.79747772216797,
          40.80135726928711,
          40.782241821289055,
          40.64473342895508,
          40.7554817199707,
          40.74057769775391,
          40.709976196289055,
          40.69548034667969,
          40.68634033203125,
          40.72257232666016,
          40.78654861450195,
          40.734493255615234,
          40.78641128540039,
          40.77379989624024,
          40.77749633789063,
          40.78201675415039,
          40.761756896972656,
          40.76946258544922,
          40.76385116577149,
          40.7640037536621,
          40.750431060791016,
          40.78049087524414,
          40.78279113769531,
          40.770069122314446,
          40.785789489746094,
          40.77674865722656,
          40.831321716308594,
          40.862701416015625,
          40.75713348388672,
          40.7334213256836,
          40.76800155639648,
          40.78261184692384,
          40.76673126220703,
          40.805000305175774,
          40.73417663574219,
          40.74989700317384,
          40.78954315185546,
          40.79740524291992,
          40.79996109008789,
          40.81560134887695,
          40.764122009277344,
          40.74626541137695,
          40.75947952270508,
          40.749908447265625,
          40.73513412475586,
          40.71914291381836
         ],
         "legendgroup": "조금빠름",
         "line": {
          "width": 1
         },
         "lon": [
          -73.99140930175781,
          -73.9950942993164,
          -73.96500396728516,
          -74.00196075439453,
          -73.9874267578125,
          -73.98683166503906,
          -73.955322265625,
          -73.9844207763672,
          -73.99044036865233,
          -73.99471282958984,
          -73.93987274169923,
          -73.95292663574217,
          -73.96280670166014,
          -73.9994888305664,
          -73.98215484619139,
          -73.96463012695312,
          -73.94394683837889,
          -73.96356964111328,
          -73.96311950683594,
          -73.96560668945312,
          -73.97013854980467,
          -73.98188781738281,
          -74.0139389038086,
          -73.97001647949219,
          -73.98324584960938,
          -73.96295928955078,
          -73.9527587890625,
          -73.97160339355469,
          -73.96974182128906,
          -73.95948791503906,
          -73.94640350341797,
          -73.78192138671875,
          -73.97085571289062,
          -73.97972869873048,
          -74.00458526611328,
          -73.99742889404298,
          -73.97468566894531,
          -74.00359344482422,
          -73.97239685058595,
          -74.00151824951173,
          -73.95282745361328,
          -73.97776794433594,
          -73.9781494140625,
          -73.97631072998048,
          -73.96741485595702,
          -73.92103576660156,
          -73.96236419677734,
          -73.97434234619139,
          -73.98802947998048,
          -73.94779968261719,
          -73.95319366455078,
          -73.98792266845702,
          -73.9532470703125,
          -73.95974731445312,
          -73.89300537109375,
          -73.90413665771484,
          -73.9832763671875,
          -74.00246429443358,
          -73.97037506103516,
          -73.95343017578125,
          -73.96306610107422,
          -73.93858337402342,
          -73.99500274658203,
          -73.99164581298828,
          -73.96743774414062,
          -73.94892883300781,
          -73.9586410522461,
          -73.93981170654298,
          -73.9558334350586,
          -73.97246551513672,
          -73.99555969238281,
          -73.9881591796875,
          -74.00606536865233,
          -74.00506591796875
         ],
         "marker": {
          "color": "#00cc96",
          "size": [
           4,
           4,
           6,
           6,
           2,
           2,
           1,
           1,
           2,
           2,
           1,
           1,
           3,
           3,
           1,
           1,
           1,
           1,
           2,
           2,
           1,
           1,
           2,
           2,
           1,
           1,
           6,
           6,
           1,
           1,
           3,
           3,
           6,
           6,
           2,
           2,
           1,
           1,
           3,
           3,
           1,
           1,
           1,
           1,
           1,
           1,
           3,
           3,
           2,
           2,
           1,
           1,
           1,
           1,
           1,
           1,
           1,
           1,
           1,
           1,
           1,
           1,
           1,
           1,
           1,
           1,
           1,
           1,
           1,
           1,
           1,
           1,
           1,
           1
          ],
          "sizemode": "area",
          "sizeref": 0.06
         },
         "mode": "markers",
         "name": "조금빠름 (pickup/dropoff)",
         "opacity": 0.8,
         "showlegend": true,
         "subplot": "mapbox",
         "type": "scattermapbox"
        },
        {
         "hovertemplate": "speed_cut=매우빠름<br>passenger_count=%{marker.size}<br>latitude=%{lat}<br>longitude=%{lon}<extra></extra>",
         "lat": [
          40.73052978515625,
          40.746219635009766,
          40.768253326416016,
          40.77399826049805,
          40.78382110595703,
          40.79136657714844,
          40.743614196777344,
          40.72272872924805,
          40.74108123779297,
          40.73556137084961,
          40.77948760986328,
          40.78915786743164,
          40.82606887817384,
          40.7630729675293,
          40.76192474365234,
          40.76654052734375,
          40.75484848022461,
          40.72767639160156,
          40.80038070678711,
          40.80709838867188,
          40.784122467041016,
          40.77589797973633,
          40.76678466796875,
          40.77938079833984,
          40.78065872192384,
          40.76536560058594,
          40.76067352294922,
          40.762725830078125,
          40.75593185424805,
          40.75823974609375,
          40.75821304321289,
          40.796680450439446,
          40.70578384399414,
          40.643508911132805,
          40.737281799316406,
          40.6446418762207,
          40.68381118774414,
          40.74114227294922,
          40.63109970092773,
          40.75043869018555,
          40.756568908691406,
          40.740058898925774,
          40.705509185791016,
          40.755401611328125,
          40.75309753417969,
          40.645286560058594,
          40.76717758178711,
          40.80809020996094,
          40.64693832397461,
          40.70998001098633,
          40.744606018066406,
          40.768848419189446,
          40.72843170166016,
          40.73809051513672,
          40.76412582397461,
          40.783740997314446,
          40.752979278564446,
          40.70758056640625,
          40.767120361328125,
          40.77658081054688,
          40.76887130737305,
          40.75527572631836,
          40.64477157592773,
          40.832279205322266,
          40.66177749633789,
          40.773601531982415,
          40.64687347412109,
          40.78129196166992,
          40.64469146728516,
          40.70872116088867,
          40.74818420410156,
          40.738807678222656
         ],
         "legendgroup": "매우빠름",
         "line": {
          "width": 1
         },
         "lon": [
          -73.98052215576173,
          -73.99799346923827,
          -73.98240661621094,
          -73.95751190185547,
          -73.97989654541014,
          -73.97394561767578,
          -73.95078277587889,
          -74.00621795654298,
          -74.00586700439453,
          -73.99239349365233,
          -73.95057678222656,
          -73.94364166259764,
          -73.94337463378906,
          -73.98128509521484,
          -73.97914123535155,
          -73.99016571044923,
          -73.98343658447266,
          -74.00334930419923,
          -73.96750640869139,
          -73.95350646972656,
          -73.9544906616211,
          -73.96086883544923,
          -73.95954132080078,
          -73.94471740722656,
          -73.98385620117188,
          -73.9659652709961,
          -73.98724365234375,
          -73.92682647705078,
          -73.91887664794923,
          -73.98924255371094,
          -73.98886108398438,
          -73.96269226074217,
          -74.00952911376953,
          -73.79021453857422,
          -74.00069427490233,
          -73.77690124511719,
          -73.9951629638672,
          -73.99011993408203,
          -74.02571868896483,
          -73.99453735351561,
          -73.98641967773438,
          -73.99530029296875,
          -74.00707244873048,
          -73.96813201904298,
          -73.99340057373048,
          -73.7766876220703,
          -73.99046325683594,
          -73.9640121459961,
          -73.78984832763672,
          -74.005126953125,
          -73.97144317626953,
          -73.86279296875,
          -73.99981689453125,
          -74.05081176757811,
          -73.97107696533203,
          -73.95669555664062,
          -73.97933197021484,
          -74.00406646728516,
          -73.9688720703125,
          -73.96205139160156,
          -73.95445251464845,
          -73.96514892578125,
          -73.78182983398438,
          -73.94233703613281,
          -73.82536315917967,
          -73.87093353271484,
          -73.79014587402342,
          -73.9521942138672,
          -73.78196716308595,
          -73.9399185180664,
          -73.97811889648438,
          -73.98301696777342
         ],
         "marker": {
          "color": "#ab63fa",
          "size": [
           1,
           1,
           2,
           2,
           1,
           1,
           1,
           1,
           1,
           1,
           1,
           1,
           1,
           1,
           1,
           1,
           1,
           1,
           1,
           1,
           1,
           1,
           1,
           1,
           1,
           1,
           1,
           1,
           1,
           1,
           1,
           1,
           1,
           1,
           1,
           1,
           1,
           1,
           1,
           1,
           6,
           6,
           1,
           1,
           2,
           2,
           6,
           6,
           1,
           1,
           1,
           1,
           1,
           1,
           5,
           5,
           1,
           1,
           1,
           1,
           1,
           1,
           1,
           1,
           2,
           2,
           1,
           1,
           2,
           2,
           1,
           1
          ],
          "sizemode": "area",
          "sizeref": 0.06
         },
         "mode": "markers",
         "name": "매우빠름 (pickup/dropoff)",
         "opacity": 0.8,
         "showlegend": true,
         "subplot": "mapbox",
         "type": "scattermapbox"
        }
       ],
       "layout": {
        "autosize": true,
        "legend": {
         "title": {
          "text": "평균속력"
         },
         "tracegroupgap": 0
        },
        "mapbox": {
         "bearing": 0,
         "center": {
          "lat": 40.7322,
          "lon": -73.9052
         },
         "domain": {
          "x": [
           0,
           1
          ],
          "y": [
           0,
           1
          ]
         },
         "pitch": 0,
         "style": "carto-positron",
         "zoom": 11
        },
        "margin": {
         "t": 60
        },
        "template": {
         "data": {
          "bar": [
           {
            "error_x": {
             "color": "#2a3f5f"
            },
            "error_y": {
             "color": "#2a3f5f"
            },
            "marker": {
             "line": {
              "color": "white",
              "width": 0.5
             },
             "pattern": {
              "fillmode": "overlay",
              "size": 10,
              "solidity": 0.2
             }
            },
            "type": "bar"
           }
          ],
          "barpolar": [
           {
            "marker": {
             "line": {
              "color": "white",
              "width": 0.5
             },
             "pattern": {
              "fillmode": "overlay",
              "size": 10,
              "solidity": 0.2
             }
            },
            "type": "barpolar"
           }
          ],
          "carpet": [
           {
            "aaxis": {
             "endlinecolor": "#2a3f5f",
             "gridcolor": "#C8D4E3",
             "linecolor": "#C8D4E3",
             "minorgridcolor": "#C8D4E3",
             "startlinecolor": "#2a3f5f"
            },
            "baxis": {
             "endlinecolor": "#2a3f5f",
             "gridcolor": "#C8D4E3",
             "linecolor": "#C8D4E3",
             "minorgridcolor": "#C8D4E3",
             "startlinecolor": "#2a3f5f"
            },
            "type": "carpet"
           }
          ],
          "choropleth": [
           {
            "colorbar": {
             "outlinewidth": 0,
             "ticks": ""
            },
            "type": "choropleth"
           }
          ],
          "contour": [
           {
            "colorbar": {
             "outlinewidth": 0,
             "ticks": ""
            },
            "colorscale": [
             [
              0,
              "#0d0887"
             ],
             [
              0.1111111111111111,
              "#46039f"
             ],
             [
              0.2222222222222222,
              "#7201a8"
             ],
             [
              0.3333333333333333,
              "#9c179e"
             ],
             [
              0.4444444444444444,
              "#bd3786"
             ],
             [
              0.5555555555555556,
              "#d8576b"
             ],
             [
              0.6666666666666666,
              "#ed7953"
             ],
             [
              0.7777777777777778,
              "#fb9f3a"
             ],
             [
              0.8888888888888888,
              "#fdca26"
             ],
             [
              1,
              "#f0f921"
             ]
            ],
            "type": "contour"
           }
          ],
          "contourcarpet": [
           {
            "colorbar": {
             "outlinewidth": 0,
             "ticks": ""
            },
            "type": "contourcarpet"
           }
          ],
          "heatmap": [
           {
            "colorbar": {
             "outlinewidth": 0,
             "ticks": ""
            },
            "colorscale": [
             [
              0,
              "#0d0887"
             ],
             [
              0.1111111111111111,
              "#46039f"
             ],
             [
              0.2222222222222222,
              "#7201a8"
             ],
             [
              0.3333333333333333,
              "#9c179e"
             ],
             [
              0.4444444444444444,
              "#bd3786"
             ],
             [
              0.5555555555555556,
              "#d8576b"
             ],
             [
              0.6666666666666666,
              "#ed7953"
             ],
             [
              0.7777777777777778,
              "#fb9f3a"
             ],
             [
              0.8888888888888888,
              "#fdca26"
             ],
             [
              1,
              "#f0f921"
             ]
            ],
            "type": "heatmap"
           }
          ],
          "heatmapgl": [
           {
            "colorbar": {
             "outlinewidth": 0,
             "ticks": ""
            },
            "colorscale": [
             [
              0,
              "#0d0887"
             ],
             [
              0.1111111111111111,
              "#46039f"
             ],
             [
              0.2222222222222222,
              "#7201a8"
             ],
             [
              0.3333333333333333,
              "#9c179e"
             ],
             [
              0.4444444444444444,
              "#bd3786"
             ],
             [
              0.5555555555555556,
              "#d8576b"
             ],
             [
              0.6666666666666666,
              "#ed7953"
             ],
             [
              0.7777777777777778,
              "#fb9f3a"
             ],
             [
              0.8888888888888888,
              "#fdca26"
             ],
             [
              1,
              "#f0f921"
             ]
            ],
            "type": "heatmapgl"
           }
          ],
          "histogram": [
           {
            "marker": {
             "pattern": {
              "fillmode": "overlay",
              "size": 10,
              "solidity": 0.2
             }
            },
            "type": "histogram"
           }
          ],
          "histogram2d": [
           {
            "colorbar": {
             "outlinewidth": 0,
             "ticks": ""
            },
            "colorscale": [
             [
              0,
              "#0d0887"
             ],
             [
              0.1111111111111111,
              "#46039f"
             ],
             [
              0.2222222222222222,
              "#7201a8"
             ],
             [
              0.3333333333333333,
              "#9c179e"
             ],
             [
              0.4444444444444444,
              "#bd3786"
             ],
             [
              0.5555555555555556,
              "#d8576b"
             ],
             [
              0.6666666666666666,
              "#ed7953"
             ],
             [
              0.7777777777777778,
              "#fb9f3a"
             ],
             [
              0.8888888888888888,
              "#fdca26"
             ],
             [
              1,
              "#f0f921"
             ]
            ],
            "type": "histogram2d"
           }
          ],
          "histogram2dcontour": [
           {
            "colorbar": {
             "outlinewidth": 0,
             "ticks": ""
            },
            "colorscale": [
             [
              0,
              "#0d0887"
             ],
             [
              0.1111111111111111,
              "#46039f"
             ],
             [
              0.2222222222222222,
              "#7201a8"
             ],
             [
              0.3333333333333333,
              "#9c179e"
             ],
             [
              0.4444444444444444,
              "#bd3786"
             ],
             [
              0.5555555555555556,
              "#d8576b"
             ],
             [
              0.6666666666666666,
              "#ed7953"
             ],
             [
              0.7777777777777778,
              "#fb9f3a"
             ],
             [
              0.8888888888888888,
              "#fdca26"
             ],
             [
              1,
              "#f0f921"
             ]
            ],
            "type": "histogram2dcontour"
           }
          ],
          "mesh3d": [
           {
            "colorbar": {
             "outlinewidth": 0,
             "ticks": ""
            },
            "type": "mesh3d"
           }
          ],
          "parcoords": [
           {
            "line": {
             "colorbar": {
              "outlinewidth": 0,
              "ticks": ""
             }
            },
            "type": "parcoords"
           }
          ],
          "pie": [
           {
            "automargin": true,
            "type": "pie"
           }
          ],
          "scatter": [
           {
            "fillpattern": {
             "fillmode": "overlay",
             "size": 10,
             "solidity": 0.2
            },
            "type": "scatter"
           }
          ],
          "scatter3d": [
           {
            "line": {
             "colorbar": {
              "outlinewidth": 0,
              "ticks": ""
             }
            },
            "marker": {
             "colorbar": {
              "outlinewidth": 0,
              "ticks": ""
             }
            },
            "type": "scatter3d"
           }
          ],
          "scattercarpet": [
           {
            "marker": {
             "colorbar": {
              "outlinewidth": 0,
              "ticks": ""
             }
            },
            "type": "scattercarpet"
           }
          ],
          "scattergeo": [
           {
            "marker": {
             "colorbar": {
              "outlinewidth": 0,
              "ticks": ""
             }
            },
            "type": "scattergeo"
           }
          ],
          "scattergl": [
           {
            "marker": {
             "colorbar": {
              "outlinewidth": 0,
              "ticks": ""
             }
            },
            "type": "scattergl"
           }
          ],
          "scattermapbox": [
           {
            "marker": {
             "colorbar": {
              "outlinewidth": 0,
              "ticks": ""
             }
            },
            "type": "scattermapbox"
           }
          ],
          "scatterpolar": [
           {
            "marker": {
             "colorbar": {
              "outlinewidth": 0,
              "ticks": ""
             }
            },
            "type": "scatterpolar"
           }
          ],
          "scatterpolargl": [
           {
            "marker": {
             "colorbar": {
              "outlinewidth": 0,
              "ticks": ""
             }
            },
            "type": "scatterpolargl"
           }
          ],
          "scatterternary": [
           {
            "marker": {
             "colorbar": {
              "outlinewidth": 0,
              "ticks": ""
             }
            },
            "type": "scatterternary"
           }
          ],
          "surface": [
           {
            "colorbar": {
             "outlinewidth": 0,
             "ticks": ""
            },
            "colorscale": [
             [
              0,
              "#0d0887"
             ],
             [
              0.1111111111111111,
              "#46039f"
             ],
             [
              0.2222222222222222,
              "#7201a8"
             ],
             [
              0.3333333333333333,
              "#9c179e"
             ],
             [
              0.4444444444444444,
              "#bd3786"
             ],
             [
              0.5555555555555556,
              "#d8576b"
             ],
             [
              0.6666666666666666,
              "#ed7953"
             ],
             [
              0.7777777777777778,
              "#fb9f3a"
             ],
             [
              0.8888888888888888,
              "#fdca26"
             ],
             [
              1,
              "#f0f921"
             ]
            ],
            "type": "surface"
           }
          ],
          "table": [
           {
            "cells": {
             "fill": {
              "color": "#EBF0F8"
             },
             "line": {
              "color": "white"
             }
            },
            "header": {
             "fill": {
              "color": "#C8D4E3"
             },
             "line": {
              "color": "white"
             }
            },
            "type": "table"
           }
          ]
         },
         "layout": {
          "annotationdefaults": {
           "arrowcolor": "#2a3f5f",
           "arrowhead": 0,
           "arrowwidth": 1
          },
          "autotypenumbers": "strict",
          "coloraxis": {
           "colorbar": {
            "outlinewidth": 0,
            "ticks": ""
           }
          },
          "colorscale": {
           "diverging": [
            [
             0,
             "#8e0152"
            ],
            [
             0.1,
             "#c51b7d"
            ],
            [
             0.2,
             "#de77ae"
            ],
            [
             0.3,
             "#f1b6da"
            ],
            [
             0.4,
             "#fde0ef"
            ],
            [
             0.5,
             "#f7f7f7"
            ],
            [
             0.6,
             "#e6f5d0"
            ],
            [
             0.7,
             "#b8e186"
            ],
            [
             0.8,
             "#7fbc41"
            ],
            [
             0.9,
             "#4d9221"
            ],
            [
             1,
             "#276419"
            ]
           ],
           "sequential": [
            [
             0,
             "#0d0887"
            ],
            [
             0.1111111111111111,
             "#46039f"
            ],
            [
             0.2222222222222222,
             "#7201a8"
            ],
            [
             0.3333333333333333,
             "#9c179e"
            ],
            [
             0.4444444444444444,
             "#bd3786"
            ],
            [
             0.5555555555555556,
             "#d8576b"
            ],
            [
             0.6666666666666666,
             "#ed7953"
            ],
            [
             0.7777777777777778,
             "#fb9f3a"
            ],
            [
             0.8888888888888888,
             "#fdca26"
            ],
            [
             1,
             "#f0f921"
            ]
           ],
           "sequentialminus": [
            [
             0,
             "#0d0887"
            ],
            [
             0.1111111111111111,
             "#46039f"
            ],
            [
             0.2222222222222222,
             "#7201a8"
            ],
            [
             0.3333333333333333,
             "#9c179e"
            ],
            [
             0.4444444444444444,
             "#bd3786"
            ],
            [
             0.5555555555555556,
             "#d8576b"
            ],
            [
             0.6666666666666666,
             "#ed7953"
            ],
            [
             0.7777777777777778,
             "#fb9f3a"
            ],
            [
             0.8888888888888888,
             "#fdca26"
            ],
            [
             1,
             "#f0f921"
            ]
           ]
          },
          "colorway": [
           "#636efa",
           "#EF553B",
           "#00cc96",
           "#ab63fa",
           "#FFA15A",
           "#19d3f3",
           "#FF6692",
           "#B6E880",
           "#FF97FF",
           "#FECB52"
          ],
          "font": {
           "color": "#2a3f5f"
          },
          "geo": {
           "bgcolor": "white",
           "lakecolor": "white",
           "landcolor": "white",
           "showlakes": true,
           "showland": true,
           "subunitcolor": "#C8D4E3"
          },
          "hoverlabel": {
           "align": "left"
          },
          "hovermode": "closest",
          "mapbox": {
           "style": "light"
          },
          "paper_bgcolor": "white",
          "plot_bgcolor": "white",
          "polar": {
           "angularaxis": {
            "gridcolor": "#EBF0F8",
            "linecolor": "#EBF0F8",
            "ticks": ""
           },
           "bgcolor": "white",
           "radialaxis": {
            "gridcolor": "#EBF0F8",
            "linecolor": "#EBF0F8",
            "ticks": ""
           }
          },
          "scene": {
           "xaxis": {
            "backgroundcolor": "white",
            "gridcolor": "#DFE8F3",
            "gridwidth": 2,
            "linecolor": "#EBF0F8",
            "showbackground": true,
            "ticks": "",
            "zerolinecolor": "#EBF0F8"
           },
           "yaxis": {
            "backgroundcolor": "white",
            "gridcolor": "#DFE8F3",
            "gridwidth": 2,
            "linecolor": "#EBF0F8",
            "showbackground": true,
            "ticks": "",
            "zerolinecolor": "#EBF0F8"
           },
           "zaxis": {
            "backgroundcolor": "white",
            "gridcolor": "#DFE8F3",
            "gridwidth": 2,
            "linecolor": "#EBF0F8",
            "showbackground": true,
            "ticks": "",
            "zerolinecolor": "#EBF0F8"
           }
          },
          "shapedefaults": {
           "line": {
            "color": "#2a3f5f"
           }
          },
          "ternary": {
           "aaxis": {
            "gridcolor": "#DFE8F3",
            "linecolor": "#A2B1C6",
            "ticks": ""
           },
           "baxis": {
            "gridcolor": "#DFE8F3",
            "linecolor": "#A2B1C6",
            "ticks": ""
           },
           "bgcolor": "white",
           "caxis": {
            "gridcolor": "#DFE8F3",
            "linecolor": "#A2B1C6",
            "ticks": ""
           }
          },
          "title": {
           "x": 0.05
          },
          "xaxis": {
           "automargin": true,
           "gridcolor": "#EBF0F8",
           "linecolor": "#EBF0F8",
           "ticks": "",
           "title": {
            "standoff": 15
           },
           "zerolinecolor": "#EBF0F8",
           "zerolinewidth": 2
          },
          "yaxis": {
           "automargin": true,
           "gridcolor": "#EBF0F8",
           "linecolor": "#EBF0F8",
           "ticks": "",
           "title": {
            "standoff": 15
           },
           "zerolinecolor": "#EBF0F8",
           "zerolinewidth": 2
          }
         }
        }
       }
      },
      "image/png": "[encoded data removed]",
      "text/html": [
       "<div>                            <div id=\"bd1d46d0-4000-4c27-9a4c-915d10bb7e56\" class=\"plotly-graph-div\" style=\"height:525px; width:100%;\"></div>            <script type=\"text/javascript\">                require([\"plotly\"], function(Plotly) {                    window.PLOTLYENV=window.PLOTLYENV || {};                                    if (document.getElementById(\"bd1d46d0-4000-4c27-9a4c-915d10bb7e56\")) {                    Plotly.newPlot(                        \"bd1d46d0-4000-4c27-9a4c-915d10bb7e56\",                        [{\"hovertemplate\":\"speed_cut=\\ub9e4\\uc6b0\\ub290\\ub9bc\\u003cbr\\u003eid=id1891478\\u003cbr\\u003elatitude=%{lat}\\u003cbr\\u003elongitude=%{lon}\\u003cextra\\u003e\\u003c\\u002fextra\\u003e\",\"lat\":[40.75983047485352,40.75983047485352],\"legendgroup\":\"\\ub9e4\\uc6b0\\ub290\\ub9bc\",\"line\":{\"color\":\"#636efa\",\"width\":1},\"lon\":[-73.97090148925781,-73.97090148925781],\"mode\":\"lines\",\"name\":\"\\ub9e4\\uc6b0\\ub290\\ub9bc (path)\",\"showlegend\":true,\"subplot\":\"mapbox\",\"type\":\"scattermapbox\",\"opacity\":0.8},{\"hovertemplate\":\"speed_cut=\\ub9e4\\uc6b0\\ub290\\ub9bc\\u003cbr\\u003eid=id1395947\\u003cbr\\u003elatitude=%{lat}\\u003cbr\\u003elongitude=%{lon}\\u003cextra\\u003e\\u003c\\u002fextra\\u003e\",\"lat\":[40.78168487548828,40.781299591064446],\"legendgroup\":\"\\ub9e4\\uc6b0\\ub290\\ub9bc\",\"line\":{\"color\":\"#636efa\",\"width\":1},\"lon\":[-73.98113250732422,-73.981201171875],\"mode\":\"lines\",\"name\":\"\\ub9e4\\uc6b0\\ub290\\ub9bc (path)\",\"showlegend\":false,\"subplot\":\"mapbox\",\"type\":\"scattermapbox\",\"opacity\":0.8},{\"hovertemplate\":\"speed_cut=\\ub9e4\\uc6b0\\ub290\\ub9bc\\u003cbr\\u003eid=id0616736\\u003cbr\\u003elatitude=%{lat}\\u003cbr\\u003elongitude=%{lon}\\u003cextra\\u003e\\u003c\\u002fextra\\u003e\",\"lat\":[40.763519287109375,40.761749267578125],\"legendgroup\":\"\\ub9e4\\uc6b0\\ub290\\ub9bc\",\"line\":{\"color\":\"#636efa\",\"width\":1},\"lon\":[-73.96932220458984,-73.97138977050781],\"mode\":\"lines\",\"name\":\"\\ub9e4\\uc6b0\\ub290\\ub9bc (path)\",\"showlegend\":false,\"subplot\":\"mapbox\",\"type\":\"scattermapbox\",\"opacity\":0.8},{\"hovertemplate\":\"speed_cut=\\ub9e4\\uc6b0\\ub290\\ub9bc\\u003cbr\\u003eid=id1509328\\u003cbr\\u003elatitude=%{lat}\\u003cbr\\u003elongitude=%{lon}\\u003cextra\\u003e\\u003c\\u002fextra\\u003e\",\"lat\":[40.74432373046875,40.74211883544922],\"legendgroup\":\"\\ub9e4\\uc6b0\\ub290\\ub9bc\",\"line\":{\"color\":\"#636efa\",\"width\":1},\"lon\":[-73.98423767089844,-73.97466278076173],\"mode\":\"lines\",\"name\":\"\\ub9e4\\uc6b0\\ub290\\ub9bc (path)\",\"showlegend\":false,\"subplot\":\"mapbox\",\"type\":\"scattermapbox\",\"opacity\":0.8},{\"hovertemplate\":\"speed_cut=\\ub9e4\\uc6b0\\ub290\\ub9bc\\u003cbr\\u003eid=id3407848\\u003cbr\\u003elatitude=%{lat}\\u003cbr\\u003elongitude=%{lon}\\u003cextra\\u003e\\u003c\\u002fextra\\u003e\",\"lat\":[40.70718383789063,40.70901870727539],\"legendgroup\":\"\\ub9e4\\uc6b0\\ub290\\ub9bc\",\"line\":{\"color\":\"#636efa\",\"width\":1},\"lon\":[-74.01651763916014,-74.0118637084961],\"mode\":\"lines\",\"name\":\"\\ub9e4\\uc6b0\\ub290\\ub9bc (path)\",\"showlegend\":false,\"subplot\":\"mapbox\",\"type\":\"scattermapbox\",\"opacity\":0.8},{\"hovertemplate\":\"speed_cut=\\ub9e4\\uc6b0\\ub290\\ub9bc\\u003cbr\\u003eid=id1485571\\u003cbr\\u003elatitude=%{lat}\\u003cbr\\u003elongitude=%{lon}\\u003cextra\\u003e\\u003c\\u002fextra\\u003e\",\"lat\":[40.77495956420898,40.77154159545898],\"legendgroup\":\"\\ub9e4\\uc6b0\\ub290\\ub9bc\",\"line\":{\"color\":\"#636efa\",\"width\":1},\"lon\":[-73.98088073730467,-73.9818115234375],\"mode\":\"lines\",\"name\":\"\\ub9e4\\uc6b0\\ub290\\ub9bc (path)\",\"showlegend\":false,\"subplot\":\"mapbox\",\"type\":\"scattermapbox\",\"opacity\":0.8},{\"hovertemplate\":\"speed_cut=\\ub9e4\\uc6b0\\ub290\\ub9bc\\u003cbr\\u003eid=id0179765\\u003cbr\\u003elatitude=%{lat}\\u003cbr\\u003elongitude=%{lon}\\u003cextra\\u003e\\u003c\\u002fextra\\u003e\",\"lat\":[40.72530364990234,40.71965026855469],\"legendgroup\":\"\\ub9e4\\uc6b0\\ub290\\ub9bc\",\"line\":{\"color\":\"#636efa\",\"width\":1},\"lon\":[-73.9925537109375,-73.9946060180664],\"mode\":\"lines\",\"name\":\"\\ub9e4\\uc6b0\\ub290\\ub9bc (path)\",\"showlegend\":false,\"subplot\":\"mapbox\",\"type\":\"scattermapbox\",\"opacity\":0.8},{\"hovertemplate\":\"speed_cut=\\ub9e4\\uc6b0\\ub290\\ub9bc\\u003cbr\\u003eid=id0500836\\u003cbr\\u003elatitude=%{lat}\\u003cbr\\u003elongitude=%{lon}\\u003cextra\\u003e\\u003c\\u002fextra\\u003e\",\"lat\":[40.734371185302734,40.75623321533203],\"legendgroup\":\"\\ub9e4\\uc6b0\\ub290\\ub9bc\",\"line\":{\"color\":\"#636efa\",\"width\":1},\"lon\":[-73.98973846435547,-73.99331665039062],\"mode\":\"lines\",\"name\":\"\\ub9e4\\uc6b0\\ub290\\ub9bc (path)\",\"showlegend\":false,\"subplot\":\"mapbox\",\"type\":\"scattermapbox\",\"opacity\":0.8},{\"hovertemplate\":\"speed_cut=\\ub9e4\\uc6b0\\ub290\\ub9bc\\u003cbr\\u003eid=id1727712\\u003cbr\\u003elatitude=%{lat}\\u003cbr\\u003elongitude=%{lon}\\u003cextra\\u003e\\u003c\\u002fextra\\u003e\",\"lat\":[40.739540100097656,40.735721588134766],\"legendgroup\":\"\\ub9e4\\uc6b0\\ub290\\ub9bc\",\"line\":{\"color\":\"#636efa\",\"width\":1},\"lon\":[-73.98706817626953,-73.98265838623048],\"mode\":\"lines\",\"name\":\"\\ub9e4\\uc6b0\\ub290\\ub9bc (path)\",\"showlegend\":false,\"subplot\":\"mapbox\",\"type\":\"scattermapbox\",\"opacity\":0.8},{\"hovertemplate\":\"speed_cut=\\ub9e4\\uc6b0\\ub290\\ub9bc\\u003cbr\\u003eid=id3810822\\u003cbr\\u003elatitude=%{lat}\\u003cbr\\u003elongitude=%{lon}\\u003cextra\\u003e\\u003c\\u002fextra\\u003e\",\"lat\":[40.73308181762695,40.730018615722656],\"legendgroup\":\"\\ub9e4\\uc6b0\\ub290\\ub9bc\",\"line\":{\"color\":\"#636efa\",\"width\":1},\"lon\":[-74.00662231445312,-74.00050354003906],\"mode\":\"lines\",\"name\":\"\\ub9e4\\uc6b0\\ub290\\ub9bc (path)\",\"showlegend\":false,\"subplot\":\"mapbox\",\"type\":\"scattermapbox\",\"opacity\":0.8},{\"hovertemplate\":\"speed_cut=\\ub9e4\\uc6b0\\ub290\\ub9bc\\u003cbr\\u003eid=id3547943\\u003cbr\\u003elatitude=%{lat}\\u003cbr\\u003elongitude=%{lon}\\u003cextra\\u003e\\u003c\\u002fextra\\u003e\",\"lat\":[40.776123046875,40.77534103393555],\"legendgroup\":\"\\ub9e4\\uc6b0\\ub290\\ub9bc\",\"line\":{\"color\":\"#636efa\",\"width\":1},\"lon\":[-73.96235656738281,-73.96501922607422],\"mode\":\"lines\",\"name\":\"\\ub9e4\\uc6b0\\ub290\\ub9bc (path)\",\"showlegend\":false,\"subplot\":\"mapbox\",\"type\":\"scattermapbox\",\"opacity\":0.8},{\"hovertemplate\":\"speed_cut=\\ub9e4\\uc6b0\\ub290\\ub9bc\\u003cbr\\u003eid=id2882780\\u003cbr\\u003elatitude=%{lat}\\u003cbr\\u003elongitude=%{lon}\\u003cextra\\u003e\\u003c\\u002fextra\\u003e\",\"lat\":[40.777099609375,40.746826171875],\"legendgroup\":\"\\ub9e4\\uc6b0\\ub290\\ub9bc\",\"line\":{\"color\":\"#636efa\",\"width\":1},\"lon\":[-73.97775268554686,-73.99005889892578],\"mode\":\"lines\",\"name\":\"\\ub9e4\\uc6b0\\ub290\\ub9bc (path)\",\"showlegend\":false,\"subplot\":\"mapbox\",\"type\":\"scattermapbox\",\"opacity\":0.8},{\"hovertemplate\":\"speed_cut=\\ub9e4\\uc6b0\\ub290\\ub9bc\\u003cbr\\u003eid=id0092643\\u003cbr\\u003elatitude=%{lat}\\u003cbr\\u003elongitude=%{lon}\\u003cextra\\u003e\\u003c\\u002fextra\\u003e\",\"lat\":[40.74722671508789,40.74184036254882],\"legendgroup\":\"\\ub9e4\\uc6b0\\ub290\\ub9bc\",\"line\":{\"color\":\"#636efa\",\"width\":1},\"lon\":[-73.9910430908203,-74.0008773803711],\"mode\":\"lines\",\"name\":\"\\ub9e4\\uc6b0\\ub290\\ub9bc (path)\",\"showlegend\":false,\"subplot\":\"mapbox\",\"type\":\"scattermapbox\",\"opacity\":0.8},{\"hovertemplate\":\"speed_cut=\\ub9e4\\uc6b0\\ub290\\ub9bc\\u003cbr\\u003eid=id0797253\\u003cbr\\u003elatitude=%{lat}\\u003cbr\\u003elongitude=%{lon}\\u003cextra\\u003e\\u003c\\u002fextra\\u003e\",\"lat\":[40.7467155456543,40.75249862670898],\"legendgroup\":\"\\ub9e4\\uc6b0\\ub290\\ub9bc\",\"line\":{\"color\":\"#636efa\",\"width\":1},\"lon\":[-73.98993682861328,-73.97853851318358],\"mode\":\"lines\",\"name\":\"\\ub9e4\\uc6b0\\ub290\\ub9bc (path)\",\"showlegend\":false,\"subplot\":\"mapbox\",\"type\":\"scattermapbox\",\"opacity\":0.8},{\"hovertemplate\":\"speed_cut=\\ub9e4\\uc6b0\\ub290\\ub9bc\\u003cbr\\u003eid=id3758654\\u003cbr\\u003elatitude=%{lat}\\u003cbr\\u003elongitude=%{lon}\\u003cextra\\u003e\\u003c\\u002fextra\\u003e\",\"lat\":[40.72389602661133,40.72259521484375],\"legendgroup\":\"\\ub9e4\\uc6b0\\ub290\\ub9bc\",\"line\":{\"color\":\"#636efa\",\"width\":1},\"lon\":[-74.00457000732422,-74.00528717041014],\"mode\":\"lines\",\"name\":\"\\ub9e4\\uc6b0\\ub290\\ub9bc (path)\",\"showlegend\":false,\"subplot\":\"mapbox\",\"type\":\"scattermapbox\",\"opacity\":0.8},{\"hovertemplate\":\"speed_cut=\\ub9e4\\uc6b0\\ub290\\ub9bc\\u003cbr\\u003eid=id3572411\\u003cbr\\u003elatitude=%{lat}\\u003cbr\\u003elongitude=%{lon}\\u003cextra\\u003e\\u003c\\u002fextra\\u003e\",\"lat\":[40.76140594482422,40.76454162597656],\"legendgroup\":\"\\ub9e4\\uc6b0\\ub290\\ub9bc\",\"line\":{\"color\":\"#636efa\",\"width\":1},\"lon\":[-73.97090911865233,-73.97366333007811],\"mode\":\"lines\",\"name\":\"\\ub9e4\\uc6b0\\ub290\\ub9bc (path)\",\"showlegend\":false,\"subplot\":\"mapbox\",\"type\":\"scattermapbox\",\"opacity\":0.8},{\"hovertemplate\":\"speed_cut=\\ub9e4\\uc6b0\\ub290\\ub9bc\\u003cbr\\u003eid=id1710393\\u003cbr\\u003elatitude=%{lat}\\u003cbr\\u003elongitude=%{lon}\\u003cextra\\u003e\\u003c\\u002fextra\\u003e\",\"lat\":[40.74169921875,40.744140625],\"legendgroup\":\"\\ub9e4\\uc6b0\\ub290\\ub9bc\",\"line\":{\"color\":\"#636efa\",\"width\":1},\"lon\":[-73.97492218017578,-73.97913360595702],\"mode\":\"lines\",\"name\":\"\\ub9e4\\uc6b0\\ub290\\ub9bc (path)\",\"showlegend\":false,\"subplot\":\"mapbox\",\"type\":\"scattermapbox\",\"opacity\":0.8},{\"hovertemplate\":\"speed_cut=\\ub9e4\\uc6b0\\ub290\\ub9bc\\u003cbr\\u003eid=id2113737\\u003cbr\\u003elatitude=%{lat}\\u003cbr\\u003elongitude=%{lon}\\u003cextra\\u003e\\u003c\\u002fextra\\u003e\",\"lat\":[40.78596115112305,40.77871322631836],\"legendgroup\":\"\\ub9e4\\uc6b0\\ub290\\ub9bc\",\"line\":{\"color\":\"#636efa\",\"width\":1},\"lon\":[-73.97699737548828,-73.9814453125],\"mode\":\"lines\",\"name\":\"\\ub9e4\\uc6b0\\ub290\\ub9bc (path)\",\"showlegend\":false,\"subplot\":\"mapbox\",\"type\":\"scattermapbox\",\"opacity\":0.8},{\"hovertemplate\":\"speed_cut=\\ub9e4\\uc6b0\\ub290\\ub9bc\\u003cbr\\u003eid=id0297795\\u003cbr\\u003elatitude=%{lat}\\u003cbr\\u003elongitude=%{lon}\\u003cextra\\u003e\\u003c\\u002fextra\\u003e\",\"lat\":[40.79790878295898,40.794048309326165],\"legendgroup\":\"\\ub9e4\\uc6b0\\ub290\\ub9bc\",\"line\":{\"color\":\"#636efa\",\"width\":1},\"lon\":[-73.97329711914062,-73.97196960449217],\"mode\":\"lines\",\"name\":\"\\ub9e4\\uc6b0\\ub290\\ub9bc (path)\",\"showlegend\":false,\"subplot\":\"mapbox\",\"type\":\"scattermapbox\",\"opacity\":0.8},{\"hovertemplate\":\"speed_cut=\\ub9e4\\uc6b0\\ub290\\ub9bc\\u003cbr\\u003eid=id1062824\\u003cbr\\u003elatitude=%{lat}\\u003cbr\\u003elongitude=%{lon}\\u003cextra\\u003e\\u003c\\u002fextra\\u003e\",\"lat\":[40.75261306762695,40.76639175415039],\"legendgroup\":\"\\ub9e4\\uc6b0\\ub290\\ub9bc\",\"line\":{\"color\":\"#636efa\",\"width\":1},\"lon\":[-73.98545074462889,-73.96286010742188],\"mode\":\"lines\",\"name\":\"\\ub9e4\\uc6b0\\ub290\\ub9bc (path)\",\"showlegend\":false,\"subplot\":\"mapbox\",\"type\":\"scattermapbox\",\"opacity\":0.8},{\"hovertemplate\":\"speed_cut=\\ub9e4\\uc6b0\\ub290\\ub9bc\\u003cbr\\u003eid=id1625242\\u003cbr\\u003elatitude=%{lat}\\u003cbr\\u003elongitude=%{lon}\\u003cextra\\u003e\\u003c\\u002fextra\\u003e\",\"lat\":[40.73777770996094,40.74677658081056],\"legendgroup\":\"\\ub9e4\\uc6b0\\ub290\\ub9bc\",\"line\":{\"color\":\"#636efa\",\"width\":1},\"lon\":[-73.99762725830078,-74.00828552246092],\"mode\":\"lines\",\"name\":\"\\ub9e4\\uc6b0\\ub290\\ub9bc (path)\",\"showlegend\":false,\"subplot\":\"mapbox\",\"type\":\"scattermapbox\",\"opacity\":0.8},{\"hovertemplate\":\"speed_cut=\\ub9e4\\uc6b0\\ub290\\ub9bc\\u003cbr\\u003eid=id3281834\\u003cbr\\u003elatitude=%{lat}\\u003cbr\\u003elongitude=%{lon}\\u003cextra\\u003e\\u003c\\u002fextra\\u003e\",\"lat\":[40.74413299560546,40.7393684387207],\"legendgroup\":\"\\ub9e4\\uc6b0\\ub290\\ub9bc\",\"line\":{\"color\":\"#636efa\",\"width\":1},\"lon\":[-74.00689697265625,-74.00737762451173],\"mode\":\"lines\",\"name\":\"\\ub9e4\\uc6b0\\ub290\\ub9bc (path)\",\"showlegend\":false,\"subplot\":\"mapbox\",\"type\":\"scattermapbox\",\"opacity\":0.8},{\"hovertemplate\":\"speed_cut=\\ub9e4\\uc6b0\\ub290\\ub9bc\\u003cbr\\u003eid=id2916371\\u003cbr\\u003elatitude=%{lat}\\u003cbr\\u003elongitude=%{lon}\\u003cextra\\u003e\\u003c\\u002fextra\\u003e\",\"lat\":[40.7302360534668,40.7324447631836],\"legendgroup\":\"\\ub9e4\\uc6b0\\ub290\\ub9bc\",\"line\":{\"color\":\"#636efa\",\"width\":1},\"lon\":[-73.99922180175781,-74.00647735595702],\"mode\":\"lines\",\"name\":\"\\ub9e4\\uc6b0\\ub290\\ub9bc (path)\",\"showlegend\":false,\"subplot\":\"mapbox\",\"type\":\"scattermapbox\",\"opacity\":0.8},{\"hovertemplate\":\"speed_cut=\\ub9e4\\uc6b0\\ub290\\ub9bc\\u003cbr\\u003eid=id0120497\\u003cbr\\u003elatitude=%{lat}\\u003cbr\\u003elongitude=%{lon}\\u003cextra\\u003e\\u003c\\u002fextra\\u003e\",\"lat\":[40.72117233276367,40.74240493774414],\"legendgroup\":\"\\ub9e4\\uc6b0\\ub290\\ub9bc\",\"line\":{\"color\":\"#636efa\",\"width\":1},\"lon\":[-73.98760986328125,-74.00107574462889],\"mode\":\"lines\",\"name\":\"\\ub9e4\\uc6b0\\ub290\\ub9bc (path)\",\"showlegend\":false,\"subplot\":\"mapbox\",\"type\":\"scattermapbox\",\"opacity\":0.8},{\"hovertemplate\":\"speed_cut=\\ub9e4\\uc6b0\\ub290\\ub9bc\\u003cbr\\u003eid=id2054788\\u003cbr\\u003elatitude=%{lat}\\u003cbr\\u003elongitude=%{lon}\\u003cextra\\u003e\\u003c\\u002fextra\\u003e\",\"lat\":[40.74275970458984,40.76290130615234],\"legendgroup\":\"\\ub9e4\\uc6b0\\ub290\\ub9bc\",\"line\":{\"color\":\"#636efa\",\"width\":1},\"lon\":[-73.97737884521484,-73.98320770263672],\"mode\":\"lines\",\"name\":\"\\ub9e4\\uc6b0\\ub290\\ub9bc (path)\",\"showlegend\":false,\"subplot\":\"mapbox\",\"type\":\"scattermapbox\",\"opacity\":0.8},{\"hovertemplate\":\"speed_cut=\\ub9e4\\uc6b0\\ub290\\ub9bc\\u003cbr\\u003eid=id3888107\\u003cbr\\u003elatitude=%{lat}\\u003cbr\\u003elongitude=%{lon}\\u003cextra\\u003e\\u003c\\u002fextra\\u003e\",\"lat\":[40.757469177246094,40.771968841552734],\"legendgroup\":\"\\ub9e4\\uc6b0\\ub290\\ub9bc\",\"line\":{\"color\":\"#636efa\",\"width\":1},\"lon\":[-73.96942901611328,-73.9827423095703],\"mode\":\"lines\",\"name\":\"\\ub9e4\\uc6b0\\ub290\\ub9bc (path)\",\"showlegend\":false,\"subplot\":\"mapbox\",\"type\":\"scattermapbox\",\"opacity\":0.8},{\"hovertemplate\":\"speed_cut=\\ub9e4\\uc6b0\\ub290\\ub9bc\\u003cbr\\u003eid=id3094934\\u003cbr\\u003elatitude=%{lat}\\u003cbr\\u003elongitude=%{lon}\\u003cextra\\u003e\\u003c\\u002fextra\\u003e\",\"lat\":[40.72243118286133,40.76266860961913],\"legendgroup\":\"\\ub9e4\\uc6b0\\ub290\\ub9bc\",\"line\":{\"color\":\"#636efa\",\"width\":1},\"lon\":[-73.98615264892578,-73.98597717285155],\"mode\":\"lines\",\"name\":\"\\ub9e4\\uc6b0\\ub290\\ub9bc (path)\",\"showlegend\":false,\"subplot\":\"mapbox\",\"type\":\"scattermapbox\",\"opacity\":0.8},{\"hovertemplate\":\"speed_cut=\\ub9e4\\uc6b0\\ub290\\ub9bc\\u003cbr\\u003eid=id0833022\\u003cbr\\u003elatitude=%{lat}\\u003cbr\\u003elongitude=%{lon}\\u003cextra\\u003e\\u003c\\u002fextra\\u003e\",\"lat\":[40.79058837890625,40.79840850830078],\"legendgroup\":\"\\ub9e4\\uc6b0\\ub290\\ub9bc\",\"line\":{\"color\":\"#636efa\",\"width\":1},\"lon\":[-73.949951171875,-73.95243072509764],\"mode\":\"lines\",\"name\":\"\\ub9e4\\uc6b0\\ub290\\ub9bc (path)\",\"showlegend\":false,\"subplot\":\"mapbox\",\"type\":\"scattermapbox\",\"opacity\":0.8},{\"hovertemplate\":\"speed_cut=\\ub9e4\\uc6b0\\ub290\\ub9bc\\u003cbr\\u003eid=id3579875\\u003cbr\\u003elatitude=%{lat}\\u003cbr\\u003elongitude=%{lon}\\u003cextra\\u003e\\u003c\\u002fextra\\u003e\",\"lat\":[40.76341247558594,40.71963119506836],\"legendgroup\":\"\\ub9e4\\uc6b0\\ub290\\ub9bc\",\"line\":{\"color\":\"#636efa\",\"width\":1},\"lon\":[-73.98194122314453,-73.99542999267578],\"mode\":\"lines\",\"name\":\"\\ub9e4\\uc6b0\\ub290\\ub9bc (path)\",\"showlegend\":false,\"subplot\":\"mapbox\",\"type\":\"scattermapbox\",\"opacity\":0.8},{\"hovertemplate\":\"speed_cut=\\ub9e4\\uc6b0\\ub290\\ub9bc\\u003cbr\\u003eid=id3508248\\u003cbr\\u003elatitude=%{lat}\\u003cbr\\u003elongitude=%{lon}\\u003cextra\\u003e\\u003c\\u002fextra\\u003e\",\"lat\":[40.75000762939453,40.74380493164063],\"legendgroup\":\"\\ub9e4\\uc6b0\\ub290\\ub9bc\",\"line\":{\"color\":\"#636efa\",\"width\":1},\"lon\":[-73.99179077148438,-73.98795318603516],\"mode\":\"lines\",\"name\":\"\\ub9e4\\uc6b0\\ub290\\ub9bc (path)\",\"showlegend\":false,\"subplot\":\"mapbox\",\"type\":\"scattermapbox\",\"opacity\":0.8},{\"hovertemplate\":\"speed_cut=\\ub9e4\\uc6b0\\ub290\\ub9bc\\u003cbr\\u003eid=id1927858\\u003cbr\\u003elatitude=%{lat}\\u003cbr\\u003elongitude=%{lon}\\u003cextra\\u003e\\u003c\\u002fextra\\u003e\",\"lat\":[40.761695861816406,40.74729537963867],\"legendgroup\":\"\\ub9e4\\uc6b0\\ub290\\ub9bc\",\"line\":{\"color\":\"#636efa\",\"width\":1},\"lon\":[-74.00177764892578,-73.98175048828125],\"mode\":\"lines\",\"name\":\"\\ub9e4\\uc6b0\\ub290\\ub9bc (path)\",\"showlegend\":false,\"subplot\":\"mapbox\",\"type\":\"scattermapbox\",\"opacity\":0.8},{\"hovertemplate\":\"speed_cut=\\ub9e4\\uc6b0\\ub290\\ub9bc\\u003cbr\\u003eid=id0833453\\u003cbr\\u003elatitude=%{lat}\\u003cbr\\u003elongitude=%{lon}\\u003cextra\\u003e\\u003c\\u002fextra\\u003e\",\"lat\":[40.74566268920898,40.72234725952149],\"legendgroup\":\"\\ub9e4\\uc6b0\\ub290\\ub9bc\",\"line\":{\"color\":\"#636efa\",\"width\":1},\"lon\":[-73.98463439941406,-73.99722290039062],\"mode\":\"lines\",\"name\":\"\\ub9e4\\uc6b0\\ub290\\ub9bc (path)\",\"showlegend\":false,\"subplot\":\"mapbox\",\"type\":\"scattermapbox\",\"opacity\":0.8},{\"hovertemplate\":\"speed_cut=\\ub9e4\\uc6b0\\ub290\\ub9bc\\u003cbr\\u003eid=id0503659\\u003cbr\\u003elatitude=%{lat}\\u003cbr\\u003elongitude=%{lon}\\u003cextra\\u003e\\u003c\\u002fextra\\u003e\",\"lat\":[40.78450012207031,40.804832458496094],\"legendgroup\":\"\\ub9e4\\uc6b0\\ub290\\ub9bc\",\"line\":{\"color\":\"#636efa\",\"width\":1},\"lon\":[-73.95220947265625,-73.96610260009764],\"mode\":\"lines\",\"name\":\"\\ub9e4\\uc6b0\\ub290\\ub9bc (path)\",\"showlegend\":false,\"subplot\":\"mapbox\",\"type\":\"scattermapbox\",\"opacity\":0.8},{\"hovertemplate\":\"speed_cut=\\ub9e4\\uc6b0\\ub290\\ub9bc\\u003cbr\\u003eid=id0261033\\u003cbr\\u003elatitude=%{lat}\\u003cbr\\u003elongitude=%{lon}\\u003cextra\\u003e\\u003c\\u002fextra\\u003e\",\"lat\":[40.75505065917969,40.773868560791016],\"legendgroup\":\"\\ub9e4\\uc6b0\\ub290\\ub9bc\",\"line\":{\"color\":\"#636efa\",\"width\":1},\"lon\":[-73.97960662841797,-73.98236846923827],\"mode\":\"lines\",\"name\":\"\\ub9e4\\uc6b0\\ub290\\ub9bc (path)\",\"showlegend\":false,\"subplot\":\"mapbox\",\"type\":\"scattermapbox\",\"opacity\":0.8},{\"hovertemplate\":\"speed_cut=\\ub9e4\\uc6b0\\ub290\\ub9bc\\u003cbr\\u003eid=id2002463\\u003cbr\\u003elatitude=%{lat}\\u003cbr\\u003elongitude=%{lon}\\u003cextra\\u003e\\u003c\\u002fextra\\u003e\",\"lat\":[40.7793083190918,40.7683982849121],\"legendgroup\":\"\\ub9e4\\uc6b0\\ub290\\ub9bc\",\"line\":{\"color\":\"#636efa\",\"width\":1},\"lon\":[-73.96006774902342,-73.9656524658203],\"mode\":\"lines\",\"name\":\"\\ub9e4\\uc6b0\\ub290\\ub9bc (path)\",\"showlegend\":false,\"subplot\":\"mapbox\",\"type\":\"scattermapbox\",\"opacity\":0.8},{\"hovertemplate\":\"speed_cut=\\ub9e4\\uc6b0\\ub290\\ub9bc\\u003cbr\\u003eid=id0660195\\u003cbr\\u003elatitude=%{lat}\\u003cbr\\u003elongitude=%{lon}\\u003cextra\\u003e\\u003c\\u002fextra\\u003e\",\"lat\":[40.77922821044922,40.746257781982415],\"legendgroup\":\"\\ub9e4\\uc6b0\\ub290\\ub9bc\",\"line\":{\"color\":\"#636efa\",\"width\":1},\"lon\":[-73.95587921142578,-73.98580169677734],\"mode\":\"lines\",\"name\":\"\\ub9e4\\uc6b0\\ub290\\ub9bc (path)\",\"showlegend\":false,\"subplot\":\"mapbox\",\"type\":\"scattermapbox\",\"opacity\":0.8},{\"hovertemplate\":\"speed_cut=\\ub9e4\\uc6b0\\ub290\\ub9bc\\u003cbr\\u003eid=id1986470\\u003cbr\\u003elatitude=%{lat}\\u003cbr\\u003elongitude=%{lon}\\u003cextra\\u003e\\u003c\\u002fextra\\u003e\",\"lat\":[40.743770599365234,40.75796890258789],\"legendgroup\":\"\\ub9e4\\uc6b0\\ub290\\ub9bc\",\"line\":{\"color\":\"#636efa\",\"width\":1},\"lon\":[-73.98335266113281,-73.98609161376953],\"mode\":\"lines\",\"name\":\"\\ub9e4\\uc6b0\\ub290\\ub9bc (path)\",\"showlegend\":false,\"subplot\":\"mapbox\",\"type\":\"scattermapbox\",\"opacity\":0.8},{\"hovertemplate\":\"speed_cut=\\uc870\\uae08\\ub290\\ub9bc\\u003cbr\\u003eid=id0767292\\u003cbr\\u003elatitude=%{lat}\\u003cbr\\u003elongitude=%{lon}\\u003cextra\\u003e\\u003c\\u002fextra\\u003e\",\"lat\":[40.75085067749024,40.74156188964844],\"legendgroup\":\"\\uc870\\uae08\\ub290\\ub9bc\",\"line\":{\"color\":\"#EF553B\",\"width\":1},\"lon\":[-73.97830963134764,-73.993896484375],\"mode\":\"lines\",\"name\":\"\\uc870\\uae08\\ub290\\ub9bc (path)\",\"showlegend\":true,\"subplot\":\"mapbox\",\"type\":\"scattermapbox\",\"opacity\":0.8},{\"hovertemplate\":\"speed_cut=\\uc870\\uae08\\ub290\\ub9bc\\u003cbr\\u003eid=id0303696\\u003cbr\\u003elatitude=%{lat}\\u003cbr\\u003elongitude=%{lon}\\u003cextra\\u003e\\u003c\\u002fextra\\u003e\",\"lat\":[40.763145446777344,40.76424789428711],\"legendgroup\":\"\\uc870\\uae08\\ub290\\ub9bc\",\"line\":{\"color\":\"#EF553B\",\"width\":1},\"lon\":[-73.96985626220702,-73.95646667480467],\"mode\":\"lines\",\"name\":\"\\uc870\\uae08\\ub290\\ub9bc (path)\",\"showlegend\":false,\"subplot\":\"mapbox\",\"type\":\"scattermapbox\",\"opacity\":0.8},{\"hovertemplate\":\"speed_cut=\\uc870\\uae08\\ub290\\ub9bc\\u003cbr\\u003eid=id1423063\\u003cbr\\u003elatitude=%{lat}\\u003cbr\\u003elongitude=%{lon}\\u003cextra\\u003e\\u003c\\u002fextra\\u003e\",\"lat\":[40.76767349243164,40.777053833007805],\"legendgroup\":\"\\uc870\\uae08\\ub290\\ub9bc\",\"line\":{\"color\":\"#EF553B\",\"width\":1},\"lon\":[-73.98075866699219,-73.98257446289062],\"mode\":\"lines\",\"name\":\"\\uc870\\uae08\\ub290\\ub9bc (path)\",\"showlegend\":false,\"subplot\":\"mapbox\",\"type\":\"scattermapbox\",\"opacity\":0.8},{\"hovertemplate\":\"speed_cut=\\uc870\\uae08\\ub290\\ub9bc\\u003cbr\\u003eid=id2203238\\u003cbr\\u003elatitude=%{lat}\\u003cbr\\u003elongitude=%{lon}\\u003cextra\\u003e\\u003c\\u002fextra\\u003e\",\"lat\":[40.73989868164063,40.730010986328125],\"legendgroup\":\"\\uc870\\uae08\\ub290\\ub9bc\",\"line\":{\"color\":\"#EF553B\",\"width\":1},\"lon\":[-73.98174285888672,-73.9792709350586],\"mode\":\"lines\",\"name\":\"\\uc870\\uae08\\ub290\\ub9bc (path)\",\"showlegend\":false,\"subplot\":\"mapbox\",\"type\":\"scattermapbox\",\"opacity\":0.8},{\"hovertemplate\":\"speed_cut=\\uc870\\uae08\\ub290\\ub9bc\\u003cbr\\u003eid=id3083921\\u003cbr\\u003elatitude=%{lat}\\u003cbr\\u003elongitude=%{lon}\\u003cextra\\u003e\\u003c\\u002fextra\\u003e\",\"lat\":[40.763973236083984,40.76081848144531],\"legendgroup\":\"\\uc870\\uae08\\ub290\\ub9bc\",\"line\":{\"color\":\"#EF553B\",\"width\":1},\"lon\":[-73.99028778076173,-73.97960662841797],\"mode\":\"lines\",\"name\":\"\\uc870\\uae08\\ub290\\ub9bc (path)\",\"showlegend\":false,\"subplot\":\"mapbox\",\"type\":\"scattermapbox\",\"opacity\":0.8},{\"hovertemplate\":\"speed_cut=\\uc870\\uae08\\ub290\\ub9bc\\u003cbr\\u003eid=id0597402\\u003cbr\\u003elatitude=%{lat}\\u003cbr\\u003elongitude=%{lon}\\u003cextra\\u003e\\u003c\\u002fextra\\u003e\",\"lat\":[40.760250091552734,40.79518127441406],\"legendgroup\":\"\\uc870\\uae08\\ub290\\ub9bc\",\"line\":{\"color\":\"#EF553B\",\"width\":1},\"lon\":[-73.96861267089844,-73.96575927734375],\"mode\":\"lines\",\"name\":\"\\uc870\\uae08\\ub290\\ub9bc (path)\",\"showlegend\":false,\"subplot\":\"mapbox\",\"type\":\"scattermapbox\",\"opacity\":0.8},{\"hovertemplate\":\"speed_cut=\\uc870\\uae08\\ub290\\ub9bc\\u003cbr\\u003eid=id1944291\\u003cbr\\u003elatitude=%{lat}\\u003cbr\\u003elongitude=%{lon}\\u003cextra\\u003e\\u003c\\u002fextra\\u003e\",\"lat\":[40.756885528564446,40.74981689453125],\"legendgroup\":\"\\uc870\\uae08\\ub290\\ub9bc\",\"line\":{\"color\":\"#EF553B\",\"width\":1},\"lon\":[-73.9898910522461,-73.99140167236328],\"mode\":\"lines\",\"name\":\"\\uc870\\uae08\\ub290\\ub9bc (path)\",\"showlegend\":false,\"subplot\":\"mapbox\",\"type\":\"scattermapbox\",\"opacity\":0.8},{\"hovertemplate\":\"speed_cut=\\uc870\\uae08\\ub290\\ub9bc\\u003cbr\\u003eid=id2587483\\u003cbr\\u003elatitude=%{lat}\\u003cbr\\u003elongitude=%{lon}\\u003cextra\\u003e\\u003c\\u002fextra\\u003e\",\"lat\":[40.79246139526367,40.78707885742188],\"legendgroup\":\"\\uc870\\uae08\\ub290\\ub9bc\",\"line\":{\"color\":\"#EF553B\",\"width\":1},\"lon\":[-73.94084167480467,-73.95390319824217],\"mode\":\"lines\",\"name\":\"\\uc870\\uae08\\ub290\\ub9bc (path)\",\"showlegend\":false,\"subplot\":\"mapbox\",\"type\":\"scattermapbox\",\"opacity\":0.8},{\"hovertemplate\":\"speed_cut=\\uc870\\uae08\\ub290\\ub9bc\\u003cbr\\u003eid=id3485263\\u003cbr\\u003elatitude=%{lat}\\u003cbr\\u003elongitude=%{lon}\\u003cextra\\u003e\\u003c\\u002fextra\\u003e\",\"lat\":[40.73473739624024,40.7226448059082],\"legendgroup\":\"\\uc870\\uae08\\ub290\\ub9bc\",\"line\":{\"color\":\"#EF553B\",\"width\":1},\"lon\":[-74.0038833618164,-73.98736572265625],\"mode\":\"lines\",\"name\":\"\\uc870\\uae08\\ub290\\ub9bc (path)\",\"showlegend\":false,\"subplot\":\"mapbox\",\"type\":\"scattermapbox\",\"opacity\":0.8},{\"hovertemplate\":\"speed_cut=\\uc870\\uae08\\ub290\\ub9bc\\u003cbr\\u003eid=id2210145\\u003cbr\\u003elatitude=%{lat}\\u003cbr\\u003elongitude=%{lon}\\u003cextra\\u003e\\u003c\\u002fextra\\u003e\",\"lat\":[40.75053024291992,40.75751876831056],\"legendgroup\":\"\\uc870\\uae08\\ub290\\ub9bc\",\"line\":{\"color\":\"#EF553B\",\"width\":1},\"lon\":[-73.98738098144531,-73.98204803466798],\"mode\":\"lines\",\"name\":\"\\uc870\\uae08\\ub290\\ub9bc (path)\",\"showlegend\":false,\"subplot\":\"mapbox\",\"type\":\"scattermapbox\",\"opacity\":0.8},{\"hovertemplate\":\"speed_cut=\\uc870\\uae08\\ub290\\ub9bc\\u003cbr\\u003eid=id3796079\\u003cbr\\u003elatitude=%{lat}\\u003cbr\\u003elongitude=%{lon}\\u003cextra\\u003e\\u003c\\u002fextra\\u003e\",\"lat\":[40.7509651184082,40.74673461914063],\"legendgroup\":\"\\uc870\\uae08\\ub290\\ub9bc\",\"line\":{\"color\":\"#EF553B\",\"width\":1},\"lon\":[-73.97477722167967,-73.97140502929686],\"mode\":\"lines\",\"name\":\"\\uc870\\uae08\\ub290\\ub9bc (path)\",\"showlegend\":false,\"subplot\":\"mapbox\",\"type\":\"scattermapbox\",\"opacity\":0.8},{\"hovertemplate\":\"speed_cut=\\uc870\\uae08\\ub290\\ub9bc\\u003cbr\\u003eid=id2533481\\u003cbr\\u003elatitude=%{lat}\\u003cbr\\u003elongitude=%{lon}\\u003cextra\\u003e\\u003c\\u002fextra\\u003e\",\"lat\":[40.73553085327149,40.76554107666016],\"legendgroup\":\"\\uc870\\uae08\\ub290\\ub9bc\",\"line\":{\"color\":\"#EF553B\",\"width\":1},\"lon\":[-73.98988342285155,-73.97640228271484],\"mode\":\"lines\",\"name\":\"\\uc870\\uae08\\ub290\\ub9bc (path)\",\"showlegend\":false,\"subplot\":\"mapbox\",\"type\":\"scattermapbox\",\"opacity\":0.8},{\"hovertemplate\":\"speed_cut=\\uc870\\uae08\\ub290\\ub9bc\\u003cbr\\u003eid=id2237068\\u003cbr\\u003elatitude=%{lat}\\u003cbr\\u003elongitude=%{lon}\\u003cextra\\u003e\\u003c\\u002fextra\\u003e\",\"lat\":[40.744510650634766,40.7564582824707],\"legendgroup\":\"\\uc870\\uae08\\ub290\\ub9bc\",\"line\":{\"color\":\"#EF553B\",\"width\":1},\"lon\":[-73.98111724853516,-74.00170135498048],\"mode\":\"lines\",\"name\":\"\\uc870\\uae08\\ub290\\ub9bc (path)\",\"showlegend\":false,\"subplot\":\"mapbox\",\"type\":\"scattermapbox\",\"opacity\":0.8},{\"hovertemplate\":\"speed_cut=\\uc870\\uae08\\ub290\\ub9bc\\u003cbr\\u003eid=id1635353\\u003cbr\\u003elatitude=%{lat}\\u003cbr\\u003elongitude=%{lon}\\u003cextra\\u003e\\u003c\\u002fextra\\u003e\",\"lat\":[40.75918960571289,40.7098503112793],\"legendgroup\":\"\\uc870\\uae08\\ub290\\ub9bc\",\"line\":{\"color\":\"#EF553B\",\"width\":1},\"lon\":[-73.98509216308595,-73.96215057373048],\"mode\":\"lines\",\"name\":\"\\uc870\\uae08\\ub290\\ub9bc (path)\",\"showlegend\":false,\"subplot\":\"mapbox\",\"type\":\"scattermapbox\",\"opacity\":0.8},{\"hovertemplate\":\"speed_cut=\\uc870\\uae08\\ub290\\ub9bc\\u003cbr\\u003eid=id1365460\\u003cbr\\u003elatitude=%{lat}\\u003cbr\\u003elongitude=%{lon}\\u003cextra\\u003e\\u003c\\u002fextra\\u003e\",\"lat\":[40.7630615234375,40.76905059814453],\"legendgroup\":\"\\uc870\\uae08\\ub290\\ub9bc\",\"line\":{\"color\":\"#EF553B\",\"width\":1},\"lon\":[-73.97570037841797,-73.98491668701173],\"mode\":\"lines\",\"name\":\"\\uc870\\uae08\\ub290\\ub9bc (path)\",\"showlegend\":false,\"subplot\":\"mapbox\",\"type\":\"scattermapbox\",\"opacity\":0.8},{\"hovertemplate\":\"speed_cut=\\uc870\\uae08\\ub290\\ub9bc\\u003cbr\\u003eid=id3611226\\u003cbr\\u003elatitude=%{lat}\\u003cbr\\u003elongitude=%{lon}\\u003cextra\\u003e\\u003c\\u002fextra\\u003e\",\"lat\":[40.76215744018555,40.74748611450195],\"legendgroup\":\"\\uc870\\uae08\\ub290\\ub9bc\",\"line\":{\"color\":\"#EF553B\",\"width\":1},\"lon\":[-73.98597717285155,-73.97697448730467],\"mode\":\"lines\",\"name\":\"\\uc870\\uae08\\ub290\\ub9bc (path)\",\"showlegend\":false,\"subplot\":\"mapbox\",\"type\":\"scattermapbox\",\"opacity\":0.8},{\"hovertemplate\":\"speed_cut=\\uc870\\uae08\\ub290\\ub9bc\\u003cbr\\u003eid=id1018348\\u003cbr\\u003elatitude=%{lat}\\u003cbr\\u003elongitude=%{lon}\\u003cextra\\u003e\\u003c\\u002fextra\\u003e\",\"lat\":[40.74530792236328,40.74227523803711],\"legendgroup\":\"\\uc870\\uae08\\ub290\\ub9bc\",\"line\":{\"color\":\"#EF553B\",\"width\":1},\"lon\":[-74.00784301757811,-73.98967742919923],\"mode\":\"lines\",\"name\":\"\\uc870\\uae08\\ub290\\ub9bc (path)\",\"showlegend\":false,\"subplot\":\"mapbox\",\"type\":\"scattermapbox\",\"opacity\":0.8},{\"hovertemplate\":\"speed_cut=\\uc870\\uae08\\ub290\\ub9bc\\u003cbr\\u003eid=id1160561\\u003cbr\\u003elatitude=%{lat}\\u003cbr\\u003elongitude=%{lon}\\u003cextra\\u003e\\u003c\\u002fextra\\u003e\",\"lat\":[40.7457275390625,40.71868896484375],\"legendgroup\":\"\\uc870\\uae08\\ub290\\ub9bc\",\"line\":{\"color\":\"#EF553B\",\"width\":1},\"lon\":[-73.9908905029297,-74.0053482055664],\"mode\":\"lines\",\"name\":\"\\uc870\\uae08\\ub290\\ub9bc (path)\",\"showlegend\":false,\"subplot\":\"mapbox\",\"type\":\"scattermapbox\",\"opacity\":0.8},{\"hovertemplate\":\"speed_cut=\\uc870\\uae08\\ub290\\ub9bc\\u003cbr\\u003eid=id2939661\\u003cbr\\u003elatitude=%{lat}\\u003cbr\\u003elongitude=%{lon}\\u003cextra\\u003e\\u003c\\u002fextra\\u003e\",\"lat\":[40.75412368774414,40.77298355102539],\"legendgroup\":\"\\uc870\\uae08\\ub290\\ub9bc\",\"line\":{\"color\":\"#EF553B\",\"width\":1},\"lon\":[-73.97389221191406,-73.9782943725586],\"mode\":\"lines\",\"name\":\"\\uc870\\uae08\\ub290\\ub9bc (path)\",\"showlegend\":false,\"subplot\":\"mapbox\",\"type\":\"scattermapbox\",\"opacity\":0.8},{\"hovertemplate\":\"speed_cut=\\uc870\\uae08\\ub290\\ub9bc\\u003cbr\\u003eid=id3120328\\u003cbr\\u003elatitude=%{lat}\\u003cbr\\u003elongitude=%{lon}\\u003cextra\\u003e\\u003c\\u002fextra\\u003e\",\"lat\":[40.75320816040039,40.7714958190918],\"legendgroup\":\"\\uc870\\uae08\\ub290\\ub9bc\",\"line\":{\"color\":\"#EF553B\",\"width\":1},\"lon\":[-73.98626708984375,-73.95969390869139],\"mode\":\"lines\",\"name\":\"\\uc870\\uae08\\ub290\\ub9bc (path)\",\"showlegend\":false,\"subplot\":\"mapbox\",\"type\":\"scattermapbox\",\"opacity\":0.8},{\"hovertemplate\":\"speed_cut=\\uc870\\uae08\\ub290\\ub9bc\\u003cbr\\u003eid=id1139183\\u003cbr\\u003elatitude=%{lat}\\u003cbr\\u003elongitude=%{lon}\\u003cextra\\u003e\\u003c\\u002fextra\\u003e\",\"lat\":[40.76899337768555,40.76704025268555],\"legendgroup\":\"\\uc870\\uae08\\ub290\\ub9bc\",\"line\":{\"color\":\"#EF553B\",\"width\":1},\"lon\":[-73.96334075927734,-73.95381164550781],\"mode\":\"lines\",\"name\":\"\\uc870\\uae08\\ub290\\ub9bc (path)\",\"showlegend\":false,\"subplot\":\"mapbox\",\"type\":\"scattermapbox\",\"opacity\":0.8},{\"hovertemplate\":\"speed_cut=\\uc870\\uae08\\ub290\\ub9bc\\u003cbr\\u003eid=id1188146\\u003cbr\\u003elatitude=%{lat}\\u003cbr\\u003elongitude=%{lon}\\u003cextra\\u003e\\u003c\\u002fextra\\u003e\",\"lat\":[40.74298095703125,40.71076965332031],\"legendgroup\":\"\\uc870\\uae08\\ub290\\ub9bc\",\"line\":{\"color\":\"#EF553B\",\"width\":1},\"lon\":[-73.98845672607422,-74.01339721679686],\"mode\":\"lines\",\"name\":\"\\uc870\\uae08\\ub290\\ub9bc (path)\",\"showlegend\":false,\"subplot\":\"mapbox\",\"type\":\"scattermapbox\",\"opacity\":0.8},{\"hovertemplate\":\"speed_cut=\\uc870\\uae08\\ub290\\ub9bc\\u003cbr\\u003eid=id0092139\\u003cbr\\u003elatitude=%{lat}\\u003cbr\\u003elongitude=%{lon}\\u003cextra\\u003e\\u003c\\u002fextra\\u003e\",\"lat\":[40.72407150268555,40.75766372680664],\"legendgroup\":\"\\uc870\\uae08\\ub290\\ub9bc\",\"line\":{\"color\":\"#EF553B\",\"width\":1},\"lon\":[-74.00241088867188,-73.98356628417967],\"mode\":\"lines\",\"name\":\"\\uc870\\uae08\\ub290\\ub9bc (path)\",\"showlegend\":false,\"subplot\":\"mapbox\",\"type\":\"scattermapbox\",\"opacity\":0.8},{\"hovertemplate\":\"speed_cut=\\uc870\\uae08\\ub290\\ub9bc\\u003cbr\\u003eid=id3264393\\u003cbr\\u003elatitude=%{lat}\\u003cbr\\u003elongitude=%{lon}\\u003cextra\\u003e\\u003c\\u002fextra\\u003e\",\"lat\":[40.7665901184082,40.75624084472656],\"legendgroup\":\"\\uc870\\uae08\\ub290\\ub9bc\",\"line\":{\"color\":\"#EF553B\",\"width\":1},\"lon\":[-73.98652648925781,-73.97042846679686],\"mode\":\"lines\",\"name\":\"\\uc870\\uae08\\ub290\\ub9bc (path)\",\"showlegend\":false,\"subplot\":\"mapbox\",\"type\":\"scattermapbox\",\"opacity\":0.8},{\"hovertemplate\":\"speed_cut=\\uc870\\uae08\\ub290\\ub9bc\\u003cbr\\u003eid=id0951142\\u003cbr\\u003elatitude=%{lat}\\u003cbr\\u003elongitude=%{lon}\\u003cextra\\u003e\\u003c\\u002fextra\\u003e\",\"lat\":[40.7463493347168,40.742500305175774],\"legendgroup\":\"\\uc870\\uae08\\ub290\\ub9bc\",\"line\":{\"color\":\"#EF553B\",\"width\":1},\"lon\":[-73.97167205810547,-73.97420501708984],\"mode\":\"lines\",\"name\":\"\\uc870\\uae08\\ub290\\ub9bc (path)\",\"showlegend\":false,\"subplot\":\"mapbox\",\"type\":\"scattermapbox\",\"opacity\":0.8},{\"hovertemplate\":\"speed_cut=\\uc870\\uae08\\ub290\\ub9bc\\u003cbr\\u003eid=id2046505\\u003cbr\\u003elatitude=%{lat}\\u003cbr\\u003elongitude=%{lon}\\u003cextra\\u003e\\u003c\\u002fextra\\u003e\",\"lat\":[40.75112533569336,40.73820495605469],\"legendgroup\":\"\\uc870\\uae08\\ub290\\ub9bc\",\"line\":{\"color\":\"#EF553B\",\"width\":1},\"lon\":[-73.97836303710938,-73.98540496826173],\"mode\":\"lines\",\"name\":\"\\uc870\\uae08\\ub290\\ub9bc (path)\",\"showlegend\":false,\"subplot\":\"mapbox\",\"type\":\"scattermapbox\",\"opacity\":0.8},{\"hovertemplate\":\"speed_cut=\\uc870\\uae08\\ub290\\ub9bc\\u003cbr\\u003eid=id1495346\\u003cbr\\u003elatitude=%{lat}\\u003cbr\\u003elongitude=%{lon}\\u003cextra\\u003e\\u003c\\u002fextra\\u003e\",\"lat\":[40.73915481567384,40.74427795410156],\"legendgroup\":\"\\uc870\\uae08\\ub290\\ub9bc\",\"line\":{\"color\":\"#EF553B\",\"width\":1},\"lon\":[-73.99610137939453,-73.98767852783203],\"mode\":\"lines\",\"name\":\"\\uc870\\uae08\\ub290\\ub9bc (path)\",\"showlegend\":false,\"subplot\":\"mapbox\",\"type\":\"scattermapbox\",\"opacity\":0.8},{\"hovertemplate\":\"speed_cut=\\uc870\\uae08\\ub290\\ub9bc\\u003cbr\\u003eid=id0623536\\u003cbr\\u003elatitude=%{lat}\\u003cbr\\u003elongitude=%{lon}\\u003cextra\\u003e\\u003c\\u002fextra\\u003e\",\"lat\":[40.74463272094727,40.759124755859375],\"legendgroup\":\"\\uc870\\uae08\\ub290\\ub9bc\",\"line\":{\"color\":\"#EF553B\",\"width\":1},\"lon\":[-73.97919464111328,-73.97645568847656],\"mode\":\"lines\",\"name\":\"\\uc870\\uae08\\ub290\\ub9bc (path)\",\"showlegend\":false,\"subplot\":\"mapbox\",\"type\":\"scattermapbox\",\"opacity\":0.8},{\"hovertemplate\":\"speed_cut=\\uc870\\uae08\\ub290\\ub9bc\\u003cbr\\u003eid=id3578000\\u003cbr\\u003elatitude=%{lat}\\u003cbr\\u003elongitude=%{lon}\\u003cextra\\u003e\\u003c\\u002fextra\\u003e\",\"lat\":[40.73919296264648,40.74143600463867],\"legendgroup\":\"\\uc870\\uae08\\ub290\\ub9bc\",\"line\":{\"color\":\"#EF553B\",\"width\":1},\"lon\":[-73.98406982421875,-73.95230865478516],\"mode\":\"lines\",\"name\":\"\\uc870\\uae08\\ub290\\ub9bc (path)\",\"showlegend\":false,\"subplot\":\"mapbox\",\"type\":\"scattermapbox\",\"opacity\":0.8},{\"hovertemplate\":\"speed_cut=\\uc870\\uae08\\ub290\\ub9bc\\u003cbr\\u003eid=id1194222\\u003cbr\\u003elatitude=%{lat}\\u003cbr\\u003elongitude=%{lon}\\u003cextra\\u003e\\u003c\\u002fextra\\u003e\",\"lat\":[40.7253303527832,40.777881622314446],\"legendgroup\":\"\\uc870\\uae08\\ub290\\ub9bc\",\"line\":{\"color\":\"#EF553B\",\"width\":1},\"lon\":[-73.99237060546875,-73.98873138427734],\"mode\":\"lines\",\"name\":\"\\uc870\\uae08\\ub290\\ub9bc (path)\",\"showlegend\":false,\"subplot\":\"mapbox\",\"type\":\"scattermapbox\",\"opacity\":0.8},{\"hovertemplate\":\"speed_cut=\\uc870\\uae08\\ub290\\ub9bc\\u003cbr\\u003eid=id0049607\\u003cbr\\u003elatitude=%{lat}\\u003cbr\\u003elongitude=%{lon}\\u003cextra\\u003e\\u003c\\u002fextra\\u003e\",\"lat\":[40.75419235229492,40.762859344482415],\"legendgroup\":\"\\uc870\\uae08\\ub290\\ub9bc\",\"line\":{\"color\":\"#EF553B\",\"width\":1},\"lon\":[-73.97592163085938,-73.98892211914062],\"mode\":\"lines\",\"name\":\"\\uc870\\uae08\\ub290\\ub9bc (path)\",\"showlegend\":false,\"subplot\":\"mapbox\",\"type\":\"scattermapbox\",\"opacity\":0.8},{\"hovertemplate\":\"speed_cut=\\uc870\\uae08\\ub290\\ub9bc\\u003cbr\\u003eid=id0890358\\u003cbr\\u003elatitude=%{lat}\\u003cbr\\u003elongitude=%{lon}\\u003cextra\\u003e\\u003c\\u002fextra\\u003e\",\"lat\":[40.7617416381836,40.76359939575195],\"legendgroup\":\"\\uc870\\uae08\\ub290\\ub9bc\",\"line\":{\"color\":\"#EF553B\",\"width\":1},\"lon\":[-73.96864318847656,-73.98738861083984],\"mode\":\"lines\",\"name\":\"\\uc870\\uae08\\ub290\\ub9bc (path)\",\"showlegend\":false,\"subplot\":\"mapbox\",\"type\":\"scattermapbox\",\"opacity\":0.8},{\"hovertemplate\":\"speed_cut=\\uc870\\uae08\\ub290\\ub9bc\\u003cbr\\u003eid=id3825370\\u003cbr\\u003elatitude=%{lat}\\u003cbr\\u003elongitude=%{lon}\\u003cextra\\u003e\\u003c\\u002fextra\\u003e\",\"lat\":[40.74908065795898,40.6697654724121],\"legendgroup\":\"\\uc870\\uae08\\ub290\\ub9bc\",\"line\":{\"color\":\"#EF553B\",\"width\":1},\"lon\":[-74.00839233398438,-73.97919464111328],\"mode\":\"lines\",\"name\":\"\\uc870\\uae08\\ub290\\ub9bc (path)\",\"showlegend\":false,\"subplot\":\"mapbox\",\"type\":\"scattermapbox\",\"opacity\":0.8},{\"hovertemplate\":\"speed_cut=\\uc870\\uae08\\ub290\\ub9bc\\u003cbr\\u003eid=id1604579\\u003cbr\\u003elatitude=%{lat}\\u003cbr\\u003elongitude=%{lon}\\u003cextra\\u003e\\u003c\\u002fextra\\u003e\",\"lat\":[40.76555252075195,40.79889678955078],\"legendgroup\":\"\\uc870\\uae08\\ub290\\ub9bc\",\"line\":{\"color\":\"#EF553B\",\"width\":1},\"lon\":[-73.96790313720702,-73.96857452392578],\"mode\":\"lines\",\"name\":\"\\uc870\\uae08\\ub290\\ub9bc (path)\",\"showlegend\":false,\"subplot\":\"mapbox\",\"type\":\"scattermapbox\",\"opacity\":0.8},{\"hovertemplate\":\"speed_cut=\\uc870\\uae08\\ub290\\ub9bc\\u003cbr\\u003eid=id0051866\\u003cbr\\u003elatitude=%{lat}\\u003cbr\\u003elongitude=%{lon}\\u003cextra\\u003e\\u003c\\u002fextra\\u003e\",\"lat\":[40.7724494934082,40.755836486816406],\"legendgroup\":\"\\uc870\\uae08\\ub290\\ub9bc\",\"line\":{\"color\":\"#EF553B\",\"width\":1},\"lon\":[-73.96265411376953,-73.9784927368164],\"mode\":\"lines\",\"name\":\"\\uc870\\uae08\\ub290\\ub9bc (path)\",\"showlegend\":false,\"subplot\":\"mapbox\",\"type\":\"scattermapbox\",\"opacity\":0.8},{\"hovertemplate\":\"speed_cut=\\uc870\\uae08\\ub290\\ub9bc\\u003cbr\\u003eid=id0622637\\u003cbr\\u003elatitude=%{lat}\\u003cbr\\u003elongitude=%{lon}\\u003cextra\\u003e\\u003c\\u002fextra\\u003e\",\"lat\":[40.759868621826165,40.75054931640625],\"legendgroup\":\"\\uc870\\uae08\\ub290\\ub9bc\",\"line\":{\"color\":\"#EF553B\",\"width\":1},\"lon\":[-73.96180725097656,-73.97480010986328],\"mode\":\"lines\",\"name\":\"\\uc870\\uae08\\ub290\\ub9bc (path)\",\"showlegend\":false,\"subplot\":\"mapbox\",\"type\":\"scattermapbox\",\"opacity\":0.8},{\"hovertemplate\":\"speed_cut=\\uc870\\uae08\\ube60\\ub984\\u003cbr\\u003eid=id1214191\\u003cbr\\u003elatitude=%{lat}\\u003cbr\\u003elongitude=%{lon}\\u003cextra\\u003e\\u003c\\u002fextra\\u003e\",\"lat\":[40.74464797973633,40.72493362426758],\"legendgroup\":\"\\uc870\\uae08\\ube60\\ub984\",\"line\":{\"color\":\"#00cc96\",\"width\":1},\"lon\":[-73.99140930175781,-73.9950942993164],\"mode\":\"lines\",\"name\":\"\\uc870\\uae08\\ube60\\ub984 (path)\",\"showlegend\":true,\"subplot\":\"mapbox\",\"type\":\"scattermapbox\",\"opacity\":0.8},{\"hovertemplate\":\"speed_cut=\\uc870\\uae08\\ube60\\ub984\\u003cbr\\u003eid=id0213647\\u003cbr\\u003elatitude=%{lat}\\u003cbr\\u003elongitude=%{lon}\\u003cextra\\u003e\\u003c\\u002fextra\\u003e\",\"lat\":[40.75567626953125,40.72474670410156],\"legendgroup\":\"\\uc870\\uae08\\ube60\\ub984\",\"line\":{\"color\":\"#00cc96\",\"width\":1},\"lon\":[-73.96500396728516,-74.00196075439453],\"mode\":\"lines\",\"name\":\"\\uc870\\uae08\\ube60\\ub984 (path)\",\"showlegend\":false,\"subplot\":\"mapbox\",\"type\":\"scattermapbox\",\"opacity\":0.8},{\"hovertemplate\":\"speed_cut=\\uc870\\uae08\\ube60\\ub984\\u003cbr\\u003eid=id0584615\\u003cbr\\u003elatitude=%{lat}\\u003cbr\\u003elongitude=%{lon}\\u003cextra\\u003e\\u003c\\u002fextra\\u003e\",\"lat\":[40.755126953125,40.74041366577149],\"legendgroup\":\"\\uc870\\uae08\\ube60\\ub984\",\"line\":{\"color\":\"#00cc96\",\"width\":1},\"lon\":[-73.9874267578125,-73.98683166503906],\"mode\":\"lines\",\"name\":\"\\uc870\\uae08\\ube60\\ub984 (path)\",\"showlegend\":false,\"subplot\":\"mapbox\",\"type\":\"scattermapbox\",\"opacity\":0.8},{\"hovertemplate\":\"speed_cut=\\uc870\\uae08\\ube60\\ub984\\u003cbr\\u003eid=id0147704\\u003cbr\\u003elatitude=%{lat}\\u003cbr\\u003elongitude=%{lon}\\u003cextra\\u003e\\u003c\\u002fextra\\u003e\",\"lat\":[40.655078887939446,40.7249755859375],\"legendgroup\":\"\\uc870\\uae08\\ube60\\ub984\",\"line\":{\"color\":\"#00cc96\",\"width\":1},\"lon\":[-73.955322265625,-73.9844207763672],\"mode\":\"lines\",\"name\":\"\\uc870\\uae08\\ube60\\ub984 (path)\",\"showlegend\":false,\"subplot\":\"mapbox\",\"type\":\"scattermapbox\",\"opacity\":0.8},{\"hovertemplate\":\"speed_cut=\\uc870\\uae08\\ube60\\ub984\\u003cbr\\u003eid=id3098811\\u003cbr\\u003elatitude=%{lat}\\u003cbr\\u003elongitude=%{lon}\\u003cextra\\u003e\\u003c\\u002fextra\\u003e\",\"lat\":[40.73714065551758,40.72565841674805],\"legendgroup\":\"\\uc870\\uae08\\ube60\\ub984\",\"line\":{\"color\":\"#00cc96\",\"width\":1},\"lon\":[-73.99044036865233,-73.99471282958984],\"mode\":\"lines\",\"name\":\"\\uc870\\uae08\\ube60\\ub984 (path)\",\"showlegend\":false,\"subplot\":\"mapbox\",\"type\":\"scattermapbox\",\"opacity\":0.8},{\"hovertemplate\":\"speed_cut=\\uc870\\uae08\\ube60\\ub984\\u003cbr\\u003eid=id0255216\\u003cbr\\u003elatitude=%{lat}\\u003cbr\\u003elongitude=%{lon}\\u003cextra\\u003e\\u003c\\u002fextra\\u003e\",\"lat\":[40.75128173828125,40.76827239990234],\"legendgroup\":\"\\uc870\\uae08\\ube60\\ub984\",\"line\":{\"color\":\"#00cc96\",\"width\":1},\"lon\":[-73.93987274169923,-73.95292663574217],\"mode\":\"lines\",\"name\":\"\\uc870\\uae08\\ube60\\ub984 (path)\",\"showlegend\":false,\"subplot\":\"mapbox\",\"type\":\"scattermapbox\",\"opacity\":0.8},{\"hovertemplate\":\"speed_cut=\\uc870\\uae08\\ube60\\ub984\\u003cbr\\u003eid=id1394748\\u003cbr\\u003elatitude=%{lat}\\u003cbr\\u003elongitude=%{lon}\\u003cextra\\u003e\\u003c\\u002fextra\\u003e\",\"lat\":[40.67301177978516,40.73410034179688],\"legendgroup\":\"\\uc870\\uae08\\ube60\\ub984\",\"line\":{\"color\":\"#00cc96\",\"width\":1},\"lon\":[-73.96280670166014,-73.9994888305664],\"mode\":\"lines\",\"name\":\"\\uc870\\uae08\\ube60\\ub984 (path)\",\"showlegend\":false,\"subplot\":\"mapbox\",\"type\":\"scattermapbox\",\"opacity\":0.8},{\"hovertemplate\":\"speed_cut=\\uc870\\uae08\\ube60\\ub984\\u003cbr\\u003eid=id2875421\\u003cbr\\u003elatitude=%{lat}\\u003cbr\\u003elongitude=%{lon}\\u003cextra\\u003e\\u003c\\u002fextra\\u003e\",\"lat\":[40.76793670654297,40.765602111816406],\"legendgroup\":\"\\uc870\\uae08\\ube60\\ub984\",\"line\":{\"color\":\"#00cc96\",\"width\":1},\"lon\":[-73.98215484619139,-73.96463012695312],\"mode\":\"lines\",\"name\":\"\\uc870\\uae08\\ube60\\ub984 (path)\",\"showlegend\":false,\"subplot\":\"mapbox\",\"type\":\"scattermapbox\",\"opacity\":0.8},{\"hovertemplate\":\"speed_cut=\\uc870\\uae08\\ube60\\ub984\\u003cbr\\u003eid=id2619890\\u003cbr\\u003elatitude=%{lat}\\u003cbr\\u003elongitude=%{lon}\\u003cextra\\u003e\\u003c\\u002fextra\\u003e\",\"lat\":[40.77785873413086,40.75857162475586],\"legendgroup\":\"\\uc870\\uae08\\ube60\\ub984\",\"line\":{\"color\":\"#00cc96\",\"width\":1},\"lon\":[-73.94394683837889,-73.96356964111328],\"mode\":\"lines\",\"name\":\"\\uc870\\uae08\\ube60\\ub984 (path)\",\"showlegend\":false,\"subplot\":\"mapbox\",\"type\":\"scattermapbox\",\"opacity\":0.8},{\"hovertemplate\":\"speed_cut=\\uc870\\uae08\\ube60\\ub984\\u003cbr\\u003eid=id2003085\\u003cbr\\u003elatitude=%{lat}\\u003cbr\\u003elongitude=%{lon}\\u003cextra\\u003e\\u003c\\u002fextra\\u003e\",\"lat\":[40.75810241699219,40.790283203125],\"legendgroup\":\"\\uc870\\uae08\\ube60\\ub984\",\"line\":{\"color\":\"#00cc96\",\"width\":1},\"lon\":[-73.96311950683594,-73.96560668945312],\"mode\":\"lines\",\"name\":\"\\uc870\\uae08\\ube60\\ub984 (path)\",\"showlegend\":false,\"subplot\":\"mapbox\",\"type\":\"scattermapbox\",\"opacity\":0.8},{\"hovertemplate\":\"speed_cut=\\uc870\\uae08\\ube60\\ub984\\u003cbr\\u003eid=id2966759\\u003cbr\\u003elatitude=%{lat}\\u003cbr\\u003elongitude=%{lon}\\u003cextra\\u003e\\u003c\\u002fextra\\u003e\",\"lat\":[40.752891540527344,40.739990234375],\"legendgroup\":\"\\uc870\\uae08\\ube60\\ub984\",\"line\":{\"color\":\"#00cc96\",\"width\":1},\"lon\":[-73.97013854980467,-73.98188781738281],\"mode\":\"lines\",\"name\":\"\\uc870\\uae08\\ube60\\ub984 (path)\",\"showlegend\":false,\"subplot\":\"mapbox\",\"type\":\"scattermapbox\",\"opacity\":0.8},{\"hovertemplate\":\"speed_cut=\\uc870\\uae08\\ube60\\ub984\\u003cbr\\u003eid=id2673049\\u003cbr\\u003elatitude=%{lat}\\u003cbr\\u003elongitude=%{lon}\\u003cextra\\u003e\\u003c\\u002fextra\\u003e\",\"lat\":[40.71483612060546,40.789600372314446],\"legendgroup\":\"\\uc870\\uae08\\ube60\\ub984\",\"line\":{\"color\":\"#00cc96\",\"width\":1},\"lon\":[-74.0139389038086,-73.97001647949219],\"mode\":\"lines\",\"name\":\"\\uc870\\uae08\\ube60\\ub984 (path)\",\"showlegend\":false,\"subplot\":\"mapbox\",\"type\":\"scattermapbox\",\"opacity\":0.8},{\"hovertemplate\":\"speed_cut=\\uc870\\uae08\\ube60\\ub984\\u003cbr\\u003eid=id0858054\\u003cbr\\u003elatitude=%{lat}\\u003cbr\\u003elongitude=%{lon}\\u003cextra\\u003e\\u003c\\u002fextra\\u003e\",\"lat\":[40.77115631103516,40.766788482666016],\"legendgroup\":\"\\uc870\\uae08\\ube60\\ub984\",\"line\":{\"color\":\"#00cc96\",\"width\":1},\"lon\":[-73.98324584960938,-73.96295928955078],\"mode\":\"lines\",\"name\":\"\\uc870\\uae08\\ube60\\ub984 (path)\",\"showlegend\":false,\"subplot\":\"mapbox\",\"type\":\"scattermapbox\",\"opacity\":0.8},{\"hovertemplate\":\"speed_cut=\\uc870\\uae08\\ube60\\ub984\\u003cbr\\u003eid=id1049417\\u003cbr\\u003elatitude=%{lat}\\u003cbr\\u003elongitude=%{lon}\\u003cextra\\u003e\\u003c\\u002fextra\\u003e\",\"lat\":[40.7891731262207,40.794429779052734],\"legendgroup\":\"\\uc870\\uae08\\ube60\\ub984\",\"line\":{\"color\":\"#00cc96\",\"width\":1},\"lon\":[-73.9527587890625,-73.97160339355469],\"mode\":\"lines\",\"name\":\"\\uc870\\uae08\\ube60\\ub984 (path)\",\"showlegend\":false,\"subplot\":\"mapbox\",\"type\":\"scattermapbox\",\"opacity\":0.8},{\"hovertemplate\":\"speed_cut=\\uc870\\uae08\\ube60\\ub984\\u003cbr\\u003eid=id0566979\\u003cbr\\u003elatitude=%{lat}\\u003cbr\\u003elongitude=%{lon}\\u003cextra\\u003e\\u003c\\u002fextra\\u003e\",\"lat\":[40.79747772216797,40.80135726928711],\"legendgroup\":\"\\uc870\\uae08\\ube60\\ub984\",\"line\":{\"color\":\"#00cc96\",\"width\":1},\"lon\":[-73.96974182128906,-73.95948791503906],\"mode\":\"lines\",\"name\":\"\\uc870\\uae08\\ube60\\ub984 (path)\",\"showlegend\":false,\"subplot\":\"mapbox\",\"type\":\"scattermapbox\",\"opacity\":0.8},{\"hovertemplate\":\"speed_cut=\\uc870\\uae08\\ube60\\ub984\\u003cbr\\u003eid=id0434573\\u003cbr\\u003elatitude=%{lat}\\u003cbr\\u003elongitude=%{lon}\\u003cextra\\u003e\\u003c\\u002fextra\\u003e\",\"lat\":[40.782241821289055,40.64473342895508],\"legendgroup\":\"\\uc870\\uae08\\ube60\\ub984\",\"line\":{\"color\":\"#00cc96\",\"width\":1},\"lon\":[-73.94640350341797,-73.78192138671875],\"mode\":\"lines\",\"name\":\"\\uc870\\uae08\\ube60\\ub984 (path)\",\"showlegend\":false,\"subplot\":\"mapbox\",\"type\":\"scattermapbox\",\"opacity\":0.8},{\"hovertemplate\":\"speed_cut=\\uc870\\uae08\\ube60\\ub984\\u003cbr\\u003eid=id0889544\\u003cbr\\u003elatitude=%{lat}\\u003cbr\\u003elongitude=%{lon}\\u003cextra\\u003e\\u003c\\u002fextra\\u003e\",\"lat\":[40.7554817199707,40.74057769775391],\"legendgroup\":\"\\uc870\\uae08\\ube60\\ub984\",\"line\":{\"color\":\"#00cc96\",\"width\":1},\"lon\":[-73.97085571289062,-73.97972869873048],\"mode\":\"lines\",\"name\":\"\\uc870\\uae08\\ube60\\ub984 (path)\",\"showlegend\":false,\"subplot\":\"mapbox\",\"type\":\"scattermapbox\",\"opacity\":0.8},{\"hovertemplate\":\"speed_cut=\\uc870\\uae08\\ube60\\ub984\\u003cbr\\u003eid=id2357722\\u003cbr\\u003elatitude=%{lat}\\u003cbr\\u003elongitude=%{lon}\\u003cextra\\u003e\\u003c\\u002fextra\\u003e\",\"lat\":[40.709976196289055,40.69548034667969],\"legendgroup\":\"\\uc870\\uae08\\ube60\\ub984\",\"line\":{\"color\":\"#00cc96\",\"width\":1},\"lon\":[-74.00458526611328,-73.99742889404298],\"mode\":\"lines\",\"name\":\"\\uc870\\uae08\\ube60\\ub984 (path)\",\"showlegend\":false,\"subplot\":\"mapbox\",\"type\":\"scattermapbox\",\"opacity\":0.8},{\"hovertemplate\":\"speed_cut=\\uc870\\uae08\\ube60\\ub984\\u003cbr\\u003eid=id3638105\\u003cbr\\u003elatitude=%{lat}\\u003cbr\\u003elongitude=%{lon}\\u003cextra\\u003e\\u003c\\u002fextra\\u003e\",\"lat\":[40.68634033203125,40.72257232666016],\"legendgroup\":\"\\uc870\\uae08\\ube60\\ub984\",\"line\":{\"color\":\"#00cc96\",\"width\":1},\"lon\":[-73.97468566894531,-74.00359344482422],\"mode\":\"lines\",\"name\":\"\\uc870\\uae08\\ube60\\ub984 (path)\",\"showlegend\":false,\"subplot\":\"mapbox\",\"type\":\"scattermapbox\",\"opacity\":0.8},{\"hovertemplate\":\"speed_cut=\\uc870\\uae08\\ube60\\ub984\\u003cbr\\u003eid=id2322963\\u003cbr\\u003elatitude=%{lat}\\u003cbr\\u003elongitude=%{lon}\\u003cextra\\u003e\\u003c\\u002fextra\\u003e\",\"lat\":[40.78654861450195,40.734493255615234],\"legendgroup\":\"\\uc870\\uae08\\ube60\\ub984\",\"line\":{\"color\":\"#00cc96\",\"width\":1},\"lon\":[-73.97239685058595,-74.00151824951173],\"mode\":\"lines\",\"name\":\"\\uc870\\uae08\\ube60\\ub984 (path)\",\"showlegend\":false,\"subplot\":\"mapbox\",\"type\":\"scattermapbox\",\"opacity\":0.8},{\"hovertemplate\":\"speed_cut=\\uc870\\uae08\\ube60\\ub984\\u003cbr\\u003eid=id0626677\\u003cbr\\u003elatitude=%{lat}\\u003cbr\\u003elongitude=%{lon}\\u003cextra\\u003e\\u003c\\u002fextra\\u003e\",\"lat\":[40.78641128540039,40.77379989624024],\"legendgroup\":\"\\uc870\\uae08\\ube60\\ub984\",\"line\":{\"color\":\"#00cc96\",\"width\":1},\"lon\":[-73.95282745361328,-73.97776794433594],\"mode\":\"lines\",\"name\":\"\\uc870\\uae08\\ube60\\ub984 (path)\",\"showlegend\":false,\"subplot\":\"mapbox\",\"type\":\"scattermapbox\",\"opacity\":0.8},{\"hovertemplate\":\"speed_cut=\\uc870\\uae08\\ube60\\ub984\\u003cbr\\u003eid=id0372891\\u003cbr\\u003elatitude=%{lat}\\u003cbr\\u003elongitude=%{lon}\\u003cextra\\u003e\\u003c\\u002fextra\\u003e\",\"lat\":[40.77749633789063,40.78201675415039],\"legendgroup\":\"\\uc870\\uae08\\ube60\\ub984\",\"line\":{\"color\":\"#00cc96\",\"width\":1},\"lon\":[-73.9781494140625,-73.97631072998048],\"mode\":\"lines\",\"name\":\"\\uc870\\uae08\\ube60\\ub984 (path)\",\"showlegend\":false,\"subplot\":\"mapbox\",\"type\":\"scattermapbox\",\"opacity\":0.8},{\"hovertemplate\":\"speed_cut=\\uc870\\uae08\\ube60\\ub984\\u003cbr\\u003eid=id1158393\\u003cbr\\u003elatitude=%{lat}\\u003cbr\\u003elongitude=%{lon}\\u003cextra\\u003e\\u003c\\u002fextra\\u003e\",\"lat\":[40.761756896972656,40.76946258544922],\"legendgroup\":\"\\uc870\\uae08\\ube60\\ub984\",\"line\":{\"color\":\"#00cc96\",\"width\":1},\"lon\":[-73.96741485595702,-73.92103576660156],\"mode\":\"lines\",\"name\":\"\\uc870\\uae08\\ube60\\ub984 (path)\",\"showlegend\":false,\"subplot\":\"mapbox\",\"type\":\"scattermapbox\",\"opacity\":0.8},{\"hovertemplate\":\"speed_cut=\\uc870\\uae08\\ube60\\ub984\\u003cbr\\u003eid=id2529954\\u003cbr\\u003elatitude=%{lat}\\u003cbr\\u003elongitude=%{lon}\\u003cextra\\u003e\\u003c\\u002fextra\\u003e\",\"lat\":[40.76385116577149,40.7640037536621],\"legendgroup\":\"\\uc870\\uae08\\ube60\\ub984\",\"line\":{\"color\":\"#00cc96\",\"width\":1},\"lon\":[-73.96236419677734,-73.97434234619139],\"mode\":\"lines\",\"name\":\"\\uc870\\uae08\\ube60\\ub984 (path)\",\"showlegend\":false,\"subplot\":\"mapbox\",\"type\":\"scattermapbox\",\"opacity\":0.8},{\"hovertemplate\":\"speed_cut=\\uc870\\uae08\\ube60\\ub984\\u003cbr\\u003eid=id1036174\\u003cbr\\u003elatitude=%{lat}\\u003cbr\\u003elongitude=%{lon}\\u003cextra\\u003e\\u003c\\u002fextra\\u003e\",\"lat\":[40.750431060791016,40.78049087524414],\"legendgroup\":\"\\uc870\\uae08\\ube60\\ub984\",\"line\":{\"color\":\"#00cc96\",\"width\":1},\"lon\":[-73.98802947998048,-73.94779968261719],\"mode\":\"lines\",\"name\":\"\\uc870\\uae08\\ube60\\ub984 (path)\",\"showlegend\":false,\"subplot\":\"mapbox\",\"type\":\"scattermapbox\",\"opacity\":0.8},{\"hovertemplate\":\"speed_cut=\\uc870\\uae08\\ube60\\ub984\\u003cbr\\u003eid=id3572749\\u003cbr\\u003elatitude=%{lat}\\u003cbr\\u003elongitude=%{lon}\\u003cextra\\u003e\\u003c\\u002fextra\\u003e\",\"lat\":[40.78279113769531,40.770069122314446],\"legendgroup\":\"\\uc870\\uae08\\ube60\\ub984\",\"line\":{\"color\":\"#00cc96\",\"width\":1},\"lon\":[-73.95319366455078,-73.98792266845702],\"mode\":\"lines\",\"name\":\"\\uc870\\uae08\\ube60\\ub984 (path)\",\"showlegend\":false,\"subplot\":\"mapbox\",\"type\":\"scattermapbox\",\"opacity\":0.8},{\"hovertemplate\":\"speed_cut=\\uc870\\uae08\\ube60\\ub984\\u003cbr\\u003eid=id3528412\\u003cbr\\u003elatitude=%{lat}\\u003cbr\\u003elongitude=%{lon}\\u003cextra\\u003e\\u003c\\u002fextra\\u003e\",\"lat\":[40.785789489746094,40.77674865722656],\"legendgroup\":\"\\uc870\\uae08\\ube60\\ub984\",\"line\":{\"color\":\"#00cc96\",\"width\":1},\"lon\":[-73.9532470703125,-73.95974731445312],\"mode\":\"lines\",\"name\":\"\\uc870\\uae08\\ube60\\ub984 (path)\",\"showlegend\":false,\"subplot\":\"mapbox\",\"type\":\"scattermapbox\",\"opacity\":0.8},{\"hovertemplate\":\"speed_cut=\\uc870\\uae08\\ube60\\ub984\\u003cbr\\u003eid=id2302144\\u003cbr\\u003elatitude=%{lat}\\u003cbr\\u003elongitude=%{lon}\\u003cextra\\u003e\\u003c\\u002fextra\\u003e\",\"lat\":[40.831321716308594,40.862701416015625],\"legendgroup\":\"\\uc870\\uae08\\ube60\\ub984\",\"line\":{\"color\":\"#00cc96\",\"width\":1},\"lon\":[-73.89300537109375,-73.90413665771484],\"mode\":\"lines\",\"name\":\"\\uc870\\uae08\\ube60\\ub984 (path)\",\"showlegend\":false,\"subplot\":\"mapbox\",\"type\":\"scattermapbox\",\"opacity\":0.8},{\"hovertemplate\":\"speed_cut=\\uc870\\uae08\\ube60\\ub984\\u003cbr\\u003eid=id3291602\\u003cbr\\u003elatitude=%{lat}\\u003cbr\\u003elongitude=%{lon}\\u003cextra\\u003e\\u003c\\u002fextra\\u003e\",\"lat\":[40.75713348388672,40.7334213256836],\"legendgroup\":\"\\uc870\\uae08\\ube60\\ub984\",\"line\":{\"color\":\"#00cc96\",\"width\":1},\"lon\":[-73.9832763671875,-74.00246429443358],\"mode\":\"lines\",\"name\":\"\\uc870\\uae08\\ube60\\ub984 (path)\",\"showlegend\":false,\"subplot\":\"mapbox\",\"type\":\"scattermapbox\",\"opacity\":0.8},{\"hovertemplate\":\"speed_cut=\\uc870\\uae08\\ube60\\ub984\\u003cbr\\u003eid=id2438985\\u003cbr\\u003elatitude=%{lat}\\u003cbr\\u003elongitude=%{lon}\\u003cextra\\u003e\\u003c\\u002fextra\\u003e\",\"lat\":[40.76800155639648,40.78261184692384],\"legendgroup\":\"\\uc870\\uae08\\ube60\\ub984\",\"line\":{\"color\":\"#00cc96\",\"width\":1},\"lon\":[-73.97037506103516,-73.95343017578125],\"mode\":\"lines\",\"name\":\"\\uc870\\uae08\\ube60\\ub984 (path)\",\"showlegend\":false,\"subplot\":\"mapbox\",\"type\":\"scattermapbox\",\"opacity\":0.8},{\"hovertemplate\":\"speed_cut=\\uc870\\uae08\\ube60\\ub984\\u003cbr\\u003eid=id2078977\\u003cbr\\u003elatitude=%{lat}\\u003cbr\\u003elongitude=%{lon}\\u003cextra\\u003e\\u003c\\u002fextra\\u003e\",\"lat\":[40.76673126220703,40.805000305175774],\"legendgroup\":\"\\uc870\\uae08\\ube60\\ub984\",\"line\":{\"color\":\"#00cc96\",\"width\":1},\"lon\":[-73.96306610107422,-73.93858337402342],\"mode\":\"lines\",\"name\":\"\\uc870\\uae08\\ube60\\ub984 (path)\",\"showlegend\":false,\"subplot\":\"mapbox\",\"type\":\"scattermapbox\",\"opacity\":0.8},{\"hovertemplate\":\"speed_cut=\\uc870\\uae08\\ube60\\ub984\\u003cbr\\u003eid=id3730700\\u003cbr\\u003elatitude=%{lat}\\u003cbr\\u003elongitude=%{lon}\\u003cextra\\u003e\\u003c\\u002fextra\\u003e\",\"lat\":[40.73417663574219,40.74989700317384],\"legendgroup\":\"\\uc870\\uae08\\ube60\\ub984\",\"line\":{\"color\":\"#00cc96\",\"width\":1},\"lon\":[-73.99500274658203,-73.99164581298828],\"mode\":\"lines\",\"name\":\"\\uc870\\uae08\\ube60\\ub984 (path)\",\"showlegend\":false,\"subplot\":\"mapbox\",\"type\":\"scattermapbox\",\"opacity\":0.8},{\"hovertemplate\":\"speed_cut=\\uc870\\uae08\\ube60\\ub984\\u003cbr\\u003eid=id3988208\\u003cbr\\u003elatitude=%{lat}\\u003cbr\\u003elongitude=%{lon}\\u003cextra\\u003e\\u003c\\u002fextra\\u003e\",\"lat\":[40.78954315185546,40.79740524291992],\"legendgroup\":\"\\uc870\\uae08\\ube60\\ub984\",\"line\":{\"color\":\"#00cc96\",\"width\":1},\"lon\":[-73.96743774414062,-73.94892883300781],\"mode\":\"lines\",\"name\":\"\\uc870\\uae08\\ube60\\ub984 (path)\",\"showlegend\":false,\"subplot\":\"mapbox\",\"type\":\"scattermapbox\",\"opacity\":0.8},{\"hovertemplate\":\"speed_cut=\\uc870\\uae08\\ube60\\ub984\\u003cbr\\u003eid=id0243048\\u003cbr\\u003elatitude=%{lat}\\u003cbr\\u003elongitude=%{lon}\\u003cextra\\u003e\\u003c\\u002fextra\\u003e\",\"lat\":[40.79996109008789,40.81560134887695],\"legendgroup\":\"\\uc870\\uae08\\ube60\\ub984\",\"line\":{\"color\":\"#00cc96\",\"width\":1},\"lon\":[-73.9586410522461,-73.93981170654298],\"mode\":\"lines\",\"name\":\"\\uc870\\uae08\\ube60\\ub984 (path)\",\"showlegend\":false,\"subplot\":\"mapbox\",\"type\":\"scattermapbox\",\"opacity\":0.8},{\"hovertemplate\":\"speed_cut=\\uc870\\uae08\\ube60\\ub984\\u003cbr\\u003eid=id2135926\\u003cbr\\u003elatitude=%{lat}\\u003cbr\\u003elongitude=%{lon}\\u003cextra\\u003e\\u003c\\u002fextra\\u003e\",\"lat\":[40.764122009277344,40.74626541137695],\"legendgroup\":\"\\uc870\\uae08\\ube60\\ub984\",\"line\":{\"color\":\"#00cc96\",\"width\":1},\"lon\":[-73.9558334350586,-73.97246551513672],\"mode\":\"lines\",\"name\":\"\\uc870\\uae08\\ube60\\ub984 (path)\",\"showlegend\":false,\"subplot\":\"mapbox\",\"type\":\"scattermapbox\",\"opacity\":0.8},{\"hovertemplate\":\"speed_cut=\\uc870\\uae08\\ube60\\ub984\\u003cbr\\u003eid=id2700601\\u003cbr\\u003elatitude=%{lat}\\u003cbr\\u003elongitude=%{lon}\\u003cextra\\u003e\\u003c\\u002fextra\\u003e\",\"lat\":[40.75947952270508,40.749908447265625],\"legendgroup\":\"\\uc870\\uae08\\ube60\\ub984\",\"line\":{\"color\":\"#00cc96\",\"width\":1},\"lon\":[-73.99555969238281,-73.9881591796875],\"mode\":\"lines\",\"name\":\"\\uc870\\uae08\\ube60\\ub984 (path)\",\"showlegend\":false,\"subplot\":\"mapbox\",\"type\":\"scattermapbox\",\"opacity\":0.8},{\"hovertemplate\":\"speed_cut=\\uc870\\uae08\\ube60\\ub984\\u003cbr\\u003eid=id1030598\\u003cbr\\u003elatitude=%{lat}\\u003cbr\\u003elongitude=%{lon}\\u003cextra\\u003e\\u003c\\u002fextra\\u003e\",\"lat\":[40.73513412475586,40.71914291381836],\"legendgroup\":\"\\uc870\\uae08\\ube60\\ub984\",\"line\":{\"color\":\"#00cc96\",\"width\":1},\"lon\":[-74.00606536865233,-74.00506591796875],\"mode\":\"lines\",\"name\":\"\\uc870\\uae08\\ube60\\ub984 (path)\",\"showlegend\":false,\"subplot\":\"mapbox\",\"type\":\"scattermapbox\",\"opacity\":0.8},{\"hovertemplate\":\"speed_cut=\\ub9e4\\uc6b0\\ube60\\ub984\\u003cbr\\u003eid=id3667993\\u003cbr\\u003elatitude=%{lat}\\u003cbr\\u003elongitude=%{lon}\\u003cextra\\u003e\\u003c\\u002fextra\\u003e\",\"lat\":[40.73052978515625,40.746219635009766],\"legendgroup\":\"\\ub9e4\\uc6b0\\ube60\\ub984\",\"line\":{\"color\":\"#ab63fa\",\"width\":1},\"lon\":[-73.98052215576173,-73.99799346923827],\"mode\":\"lines\",\"name\":\"\\ub9e4\\uc6b0\\ube60\\ub984 (path)\",\"showlegend\":true,\"subplot\":\"mapbox\",\"type\":\"scattermapbox\",\"opacity\":0.8},{\"hovertemplate\":\"speed_cut=\\ub9e4\\uc6b0\\ube60\\ub984\\u003cbr\\u003eid=id3091695\\u003cbr\\u003elatitude=%{lat}\\u003cbr\\u003elongitude=%{lon}\\u003cextra\\u003e\\u003c\\u002fextra\\u003e\",\"lat\":[40.768253326416016,40.77399826049805],\"legendgroup\":\"\\ub9e4\\uc6b0\\ube60\\ub984\",\"line\":{\"color\":\"#ab63fa\",\"width\":1},\"lon\":[-73.98240661621094,-73.95751190185547],\"mode\":\"lines\",\"name\":\"\\ub9e4\\uc6b0\\ube60\\ub984 (path)\",\"showlegend\":false,\"subplot\":\"mapbox\",\"type\":\"scattermapbox\",\"opacity\":0.8},{\"hovertemplate\":\"speed_cut=\\ub9e4\\uc6b0\\ube60\\ub984\\u003cbr\\u003eid=id3545382\\u003cbr\\u003elatitude=%{lat}\\u003cbr\\u003elongitude=%{lon}\\u003cextra\\u003e\\u003c\\u002fextra\\u003e\",\"lat\":[40.78382110595703,40.79136657714844],\"legendgroup\":\"\\ub9e4\\uc6b0\\ube60\\ub984\",\"line\":{\"color\":\"#ab63fa\",\"width\":1},\"lon\":[-73.97989654541014,-73.97394561767578],\"mode\":\"lines\",\"name\":\"\\ub9e4\\uc6b0\\ube60\\ub984 (path)\",\"showlegend\":false,\"subplot\":\"mapbox\",\"type\":\"scattermapbox\",\"opacity\":0.8},{\"hovertemplate\":\"speed_cut=\\ub9e4\\uc6b0\\ube60\\ub984\\u003cbr\\u003eid=id0621879\\u003cbr\\u003elatitude=%{lat}\\u003cbr\\u003elongitude=%{lon}\\u003cextra\\u003e\\u003c\\u002fextra\\u003e\",\"lat\":[40.743614196777344,40.72272872924805],\"legendgroup\":\"\\ub9e4\\uc6b0\\ube60\\ub984\",\"line\":{\"color\":\"#ab63fa\",\"width\":1},\"lon\":[-73.95078277587889,-74.00621795654298],\"mode\":\"lines\",\"name\":\"\\ub9e4\\uc6b0\\ube60\\ub984 (path)\",\"showlegend\":false,\"subplot\":\"mapbox\",\"type\":\"scattermapbox\",\"opacity\":0.8},{\"hovertemplate\":\"speed_cut=\\ub9e4\\uc6b0\\ube60\\ub984\\u003cbr\\u003eid=id2995326\\u003cbr\\u003elatitude=%{lat}\\u003cbr\\u003elongitude=%{lon}\\u003cextra\\u003e\\u003c\\u002fextra\\u003e\",\"lat\":[40.74108123779297,40.73556137084961],\"legendgroup\":\"\\ub9e4\\uc6b0\\ube60\\ub984\",\"line\":{\"color\":\"#ab63fa\",\"width\":1},\"lon\":[-74.00586700439453,-73.99239349365233],\"mode\":\"lines\",\"name\":\"\\ub9e4\\uc6b0\\ube60\\ub984 (path)\",\"showlegend\":false,\"subplot\":\"mapbox\",\"type\":\"scattermapbox\",\"opacity\":0.8},{\"hovertemplate\":\"speed_cut=\\ub9e4\\uc6b0\\ube60\\ub984\\u003cbr\\u003eid=id2341955\\u003cbr\\u003elatitude=%{lat}\\u003cbr\\u003elongitude=%{lon}\\u003cextra\\u003e\\u003c\\u002fextra\\u003e\",\"lat\":[40.77948760986328,40.78915786743164],\"legendgroup\":\"\\ub9e4\\uc6b0\\ube60\\ub984\",\"line\":{\"color\":\"#ab63fa\",\"width\":1},\"lon\":[-73.95057678222656,-73.94364166259764],\"mode\":\"lines\",\"name\":\"\\ub9e4\\uc6b0\\ube60\\ub984 (path)\",\"showlegend\":false,\"subplot\":\"mapbox\",\"type\":\"scattermapbox\",\"opacity\":0.8},{\"hovertemplate\":\"speed_cut=\\ub9e4\\uc6b0\\ube60\\ub984\\u003cbr\\u003eid=id1973100\\u003cbr\\u003elatitude=%{lat}\\u003cbr\\u003elongitude=%{lon}\\u003cextra\\u003e\\u003c\\u002fextra\\u003e\",\"lat\":[40.82606887817384,40.7630729675293],\"legendgroup\":\"\\ub9e4\\uc6b0\\ube60\\ub984\",\"line\":{\"color\":\"#ab63fa\",\"width\":1},\"lon\":[-73.94337463378906,-73.98128509521484],\"mode\":\"lines\",\"name\":\"\\ub9e4\\uc6b0\\ube60\\ub984 (path)\",\"showlegend\":false,\"subplot\":\"mapbox\",\"type\":\"scattermapbox\",\"opacity\":0.8},{\"hovertemplate\":\"speed_cut=\\ub9e4\\uc6b0\\ube60\\ub984\\u003cbr\\u003eid=id0151990\\u003cbr\\u003elatitude=%{lat}\\u003cbr\\u003elongitude=%{lon}\\u003cextra\\u003e\\u003c\\u002fextra\\u003e\",\"lat\":[40.76192474365234,40.76654052734375],\"legendgroup\":\"\\ub9e4\\uc6b0\\ube60\\ub984\",\"line\":{\"color\":\"#ab63fa\",\"width\":1},\"lon\":[-73.97914123535155,-73.99016571044923],\"mode\":\"lines\",\"name\":\"\\ub9e4\\uc6b0\\ube60\\ub984 (path)\",\"showlegend\":false,\"subplot\":\"mapbox\",\"type\":\"scattermapbox\",\"opacity\":0.8},{\"hovertemplate\":\"speed_cut=\\ub9e4\\uc6b0\\ube60\\ub984\\u003cbr\\u003eid=id1745148\\u003cbr\\u003elatitude=%{lat}\\u003cbr\\u003elongitude=%{lon}\\u003cextra\\u003e\\u003c\\u002fextra\\u003e\",\"lat\":[40.75484848022461,40.72767639160156],\"legendgroup\":\"\\ub9e4\\uc6b0\\ube60\\ub984\",\"line\":{\"color\":\"#ab63fa\",\"width\":1},\"lon\":[-73.98343658447266,-74.00334930419923],\"mode\":\"lines\",\"name\":\"\\ub9e4\\uc6b0\\ube60\\ub984 (path)\",\"showlegend\":false,\"subplot\":\"mapbox\",\"type\":\"scattermapbox\",\"opacity\":0.8},{\"hovertemplate\":\"speed_cut=\\ub9e4\\uc6b0\\ube60\\ub984\\u003cbr\\u003eid=id1006263\\u003cbr\\u003elatitude=%{lat}\\u003cbr\\u003elongitude=%{lon}\\u003cextra\\u003e\\u003c\\u002fextra\\u003e\",\"lat\":[40.80038070678711,40.80709838867188],\"legendgroup\":\"\\ub9e4\\uc6b0\\ube60\\ub984\",\"line\":{\"color\":\"#ab63fa\",\"width\":1},\"lon\":[-73.96750640869139,-73.95350646972656],\"mode\":\"lines\",\"name\":\"\\ub9e4\\uc6b0\\ube60\\ub984 (path)\",\"showlegend\":false,\"subplot\":\"mapbox\",\"type\":\"scattermapbox\",\"opacity\":0.8},{\"hovertemplate\":\"speed_cut=\\ub9e4\\uc6b0\\ube60\\ub984\\u003cbr\\u003eid=id3100200\\u003cbr\\u003elatitude=%{lat}\\u003cbr\\u003elongitude=%{lon}\\u003cextra\\u003e\\u003c\\u002fextra\\u003e\",\"lat\":[40.784122467041016,40.77589797973633],\"legendgroup\":\"\\ub9e4\\uc6b0\\ube60\\ub984\",\"line\":{\"color\":\"#ab63fa\",\"width\":1},\"lon\":[-73.9544906616211,-73.96086883544923],\"mode\":\"lines\",\"name\":\"\\ub9e4\\uc6b0\\ube60\\ub984 (path)\",\"showlegend\":false,\"subplot\":\"mapbox\",\"type\":\"scattermapbox\",\"opacity\":0.8},{\"hovertemplate\":\"speed_cut=\\ub9e4\\uc6b0\\ube60\\ub984\\u003cbr\\u003eid=id2484944\\u003cbr\\u003elatitude=%{lat}\\u003cbr\\u003elongitude=%{lon}\\u003cextra\\u003e\\u003c\\u002fextra\\u003e\",\"lat\":[40.76678466796875,40.77938079833984],\"legendgroup\":\"\\ub9e4\\uc6b0\\ube60\\ub984\",\"line\":{\"color\":\"#ab63fa\",\"width\":1},\"lon\":[-73.95954132080078,-73.94471740722656],\"mode\":\"lines\",\"name\":\"\\ub9e4\\uc6b0\\ube60\\ub984 (path)\",\"showlegend\":false,\"subplot\":\"mapbox\",\"type\":\"scattermapbox\",\"opacity\":0.8},{\"hovertemplate\":\"speed_cut=\\ub9e4\\uc6b0\\ube60\\ub984\\u003cbr\\u003eid=id0294070\\u003cbr\\u003elatitude=%{lat}\\u003cbr\\u003elongitude=%{lon}\\u003cextra\\u003e\\u003c\\u002fextra\\u003e\",\"lat\":[40.78065872192384,40.76536560058594],\"legendgroup\":\"\\ub9e4\\uc6b0\\ube60\\ub984\",\"line\":{\"color\":\"#ab63fa\",\"width\":1},\"lon\":[-73.98385620117188,-73.9659652709961],\"mode\":\"lines\",\"name\":\"\\ub9e4\\uc6b0\\ube60\\ub984 (path)\",\"showlegend\":false,\"subplot\":\"mapbox\",\"type\":\"scattermapbox\",\"opacity\":0.8},{\"hovertemplate\":\"speed_cut=\\ub9e4\\uc6b0\\ube60\\ub984\\u003cbr\\u003eid=id3088186\\u003cbr\\u003elatitude=%{lat}\\u003cbr\\u003elongitude=%{lon}\\u003cextra\\u003e\\u003c\\u002fextra\\u003e\",\"lat\":[40.76067352294922,40.762725830078125],\"legendgroup\":\"\\ub9e4\\uc6b0\\ube60\\ub984\",\"line\":{\"color\":\"#ab63fa\",\"width\":1},\"lon\":[-73.98724365234375,-73.92682647705078],\"mode\":\"lines\",\"name\":\"\\ub9e4\\uc6b0\\ube60\\ub984 (path)\",\"showlegend\":false,\"subplot\":\"mapbox\",\"type\":\"scattermapbox\",\"opacity\":0.8},{\"hovertemplate\":\"speed_cut=\\ub9e4\\uc6b0\\ube60\\ub984\\u003cbr\\u003eid=id0429106\\u003cbr\\u003elatitude=%{lat}\\u003cbr\\u003elongitude=%{lon}\\u003cextra\\u003e\\u003c\\u002fextra\\u003e\",\"lat\":[40.75593185424805,40.75823974609375],\"legendgroup\":\"\\ub9e4\\uc6b0\\ube60\\ub984\",\"line\":{\"color\":\"#ab63fa\",\"width\":1},\"lon\":[-73.91887664794923,-73.98924255371094],\"mode\":\"lines\",\"name\":\"\\ub9e4\\uc6b0\\ube60\\ub984 (path)\",\"showlegend\":false,\"subplot\":\"mapbox\",\"type\":\"scattermapbox\",\"opacity\":0.8},{\"hovertemplate\":\"speed_cut=\\ub9e4\\uc6b0\\ube60\\ub984\\u003cbr\\u003eid=id2843597\\u003cbr\\u003elatitude=%{lat}\\u003cbr\\u003elongitude=%{lon}\\u003cextra\\u003e\\u003c\\u002fextra\\u003e\",\"lat\":[40.75821304321289,40.796680450439446],\"legendgroup\":\"\\ub9e4\\uc6b0\\ube60\\ub984\",\"line\":{\"color\":\"#ab63fa\",\"width\":1},\"lon\":[-73.98886108398438,-73.96269226074217],\"mode\":\"lines\",\"name\":\"\\ub9e4\\uc6b0\\ube60\\ub984 (path)\",\"showlegend\":false,\"subplot\":\"mapbox\",\"type\":\"scattermapbox\",\"opacity\":0.8},{\"hovertemplate\":\"speed_cut=\\ub9e4\\uc6b0\\ube60\\ub984\\u003cbr\\u003eid=id2583198\\u003cbr\\u003elatitude=%{lat}\\u003cbr\\u003elongitude=%{lon}\\u003cextra\\u003e\\u003c\\u002fextra\\u003e\",\"lat\":[40.70578384399414,40.643508911132805],\"legendgroup\":\"\\ub9e4\\uc6b0\\ube60\\ub984\",\"line\":{\"color\":\"#ab63fa\",\"width\":1},\"lon\":[-74.00952911376953,-73.79021453857422],\"mode\":\"lines\",\"name\":\"\\ub9e4\\uc6b0\\ube60\\ub984 (path)\",\"showlegend\":false,\"subplot\":\"mapbox\",\"type\":\"scattermapbox\",\"opacity\":0.8},{\"hovertemplate\":\"speed_cut=\\ub9e4\\uc6b0\\ube60\\ub984\\u003cbr\\u003eid=id1322047\\u003cbr\\u003elatitude=%{lat}\\u003cbr\\u003elongitude=%{lon}\\u003cextra\\u003e\\u003c\\u002fextra\\u003e\",\"lat\":[40.737281799316406,40.6446418762207],\"legendgroup\":\"\\ub9e4\\uc6b0\\ube60\\ub984\",\"line\":{\"color\":\"#ab63fa\",\"width\":1},\"lon\":[-74.00069427490233,-73.77690124511719],\"mode\":\"lines\",\"name\":\"\\ub9e4\\uc6b0\\ube60\\ub984 (path)\",\"showlegend\":false,\"subplot\":\"mapbox\",\"type\":\"scattermapbox\",\"opacity\":0.8},{\"hovertemplate\":\"speed_cut=\\ub9e4\\uc6b0\\ube60\\ub984\\u003cbr\\u003eid=id3388355\\u003cbr\\u003elatitude=%{lat}\\u003cbr\\u003elongitude=%{lon}\\u003cextra\\u003e\\u003c\\u002fextra\\u003e\",\"lat\":[40.68381118774414,40.74114227294922],\"legendgroup\":\"\\ub9e4\\uc6b0\\ube60\\ub984\",\"line\":{\"color\":\"#ab63fa\",\"width\":1},\"lon\":[-73.9951629638672,-73.99011993408203],\"mode\":\"lines\",\"name\":\"\\ub9e4\\uc6b0\\ube60\\ub984 (path)\",\"showlegend\":false,\"subplot\":\"mapbox\",\"type\":\"scattermapbox\",\"opacity\":0.8},{\"hovertemplate\":\"speed_cut=\\ub9e4\\uc6b0\\ube60\\ub984\\u003cbr\\u003eid=id1850636\\u003cbr\\u003elatitude=%{lat}\\u003cbr\\u003elongitude=%{lon}\\u003cextra\\u003e\\u003c\\u002fextra\\u003e\",\"lat\":[40.63109970092773,40.75043869018555],\"legendgroup\":\"\\ub9e4\\uc6b0\\ube60\\ub984\",\"line\":{\"color\":\"#ab63fa\",\"width\":1},\"lon\":[-74.02571868896483,-73.99453735351561],\"mode\":\"lines\",\"name\":\"\\ub9e4\\uc6b0\\ube60\\ub984 (path)\",\"showlegend\":false,\"subplot\":\"mapbox\",\"type\":\"scattermapbox\",\"opacity\":0.8},{\"hovertemplate\":\"speed_cut=\\ub9e4\\uc6b0\\ube60\\ub984\\u003cbr\\u003eid=id0037819\\u003cbr\\u003elatitude=%{lat}\\u003cbr\\u003elongitude=%{lon}\\u003cextra\\u003e\\u003c\\u002fextra\\u003e\",\"lat\":[40.756568908691406,40.740058898925774],\"legendgroup\":\"\\ub9e4\\uc6b0\\ube60\\ub984\",\"line\":{\"color\":\"#ab63fa\",\"width\":1},\"lon\":[-73.98641967773438,-73.99530029296875],\"mode\":\"lines\",\"name\":\"\\ub9e4\\uc6b0\\ube60\\ub984 (path)\",\"showlegend\":false,\"subplot\":\"mapbox\",\"type\":\"scattermapbox\",\"opacity\":0.8},{\"hovertemplate\":\"speed_cut=\\ub9e4\\uc6b0\\ube60\\ub984\\u003cbr\\u003eid=id3716633\\u003cbr\\u003elatitude=%{lat}\\u003cbr\\u003elongitude=%{lon}\\u003cextra\\u003e\\u003c\\u002fextra\\u003e\",\"lat\":[40.705509185791016,40.755401611328125],\"legendgroup\":\"\\ub9e4\\uc6b0\\ube60\\ub984\",\"line\":{\"color\":\"#ab63fa\",\"width\":1},\"lon\":[-74.00707244873048,-73.96813201904298],\"mode\":\"lines\",\"name\":\"\\ub9e4\\uc6b0\\ube60\\ub984 (path)\",\"showlegend\":false,\"subplot\":\"mapbox\",\"type\":\"scattermapbox\",\"opacity\":0.8},{\"hovertemplate\":\"speed_cut=\\ub9e4\\uc6b0\\ube60\\ub984\\u003cbr\\u003eid=id3666656\\u003cbr\\u003elatitude=%{lat}\\u003cbr\\u003elongitude=%{lon}\\u003cextra\\u003e\\u003c\\u002fextra\\u003e\",\"lat\":[40.75309753417969,40.645286560058594],\"legendgroup\":\"\\ub9e4\\uc6b0\\ube60\\ub984\",\"line\":{\"color\":\"#ab63fa\",\"width\":1},\"lon\":[-73.99340057373048,-73.7766876220703],\"mode\":\"lines\",\"name\":\"\\ub9e4\\uc6b0\\ube60\\ub984 (path)\",\"showlegend\":false,\"subplot\":\"mapbox\",\"type\":\"scattermapbox\",\"opacity\":0.8},{\"hovertemplate\":\"speed_cut=\\ub9e4\\uc6b0\\ube60\\ub984\\u003cbr\\u003eid=id0739381\\u003cbr\\u003elatitude=%{lat}\\u003cbr\\u003elongitude=%{lon}\\u003cextra\\u003e\\u003c\\u002fextra\\u003e\",\"lat\":[40.76717758178711,40.80809020996094],\"legendgroup\":\"\\ub9e4\\uc6b0\\ube60\\ub984\",\"line\":{\"color\":\"#ab63fa\",\"width\":1},\"lon\":[-73.99046325683594,-73.9640121459961],\"mode\":\"lines\",\"name\":\"\\ub9e4\\uc6b0\\ube60\\ub984 (path)\",\"showlegend\":false,\"subplot\":\"mapbox\",\"type\":\"scattermapbox\",\"opacity\":0.8},{\"hovertemplate\":\"speed_cut=\\ub9e4\\uc6b0\\ube60\\ub984\\u003cbr\\u003eid=id0787873\\u003cbr\\u003elatitude=%{lat}\\u003cbr\\u003elongitude=%{lon}\\u003cextra\\u003e\\u003c\\u002fextra\\u003e\",\"lat\":[40.64693832397461,40.70998001098633],\"legendgroup\":\"\\ub9e4\\uc6b0\\ube60\\ub984\",\"line\":{\"color\":\"#ab63fa\",\"width\":1},\"lon\":[-73.78984832763672,-74.005126953125],\"mode\":\"lines\",\"name\":\"\\ub9e4\\uc6b0\\ube60\\ub984 (path)\",\"showlegend\":false,\"subplot\":\"mapbox\",\"type\":\"scattermapbox\",\"opacity\":0.8},{\"hovertemplate\":\"speed_cut=\\ub9e4\\uc6b0\\ube60\\ub984\\u003cbr\\u003eid=id0419095\\u003cbr\\u003elatitude=%{lat}\\u003cbr\\u003elongitude=%{lon}\\u003cextra\\u003e\\u003c\\u002fextra\\u003e\",\"lat\":[40.744606018066406,40.768848419189446],\"legendgroup\":\"\\ub9e4\\uc6b0\\ube60\\ub984\",\"line\":{\"color\":\"#ab63fa\",\"width\":1},\"lon\":[-73.97144317626953,-73.86279296875],\"mode\":\"lines\",\"name\":\"\\ub9e4\\uc6b0\\ube60\\ub984 (path)\",\"showlegend\":false,\"subplot\":\"mapbox\",\"type\":\"scattermapbox\",\"opacity\":0.8},{\"hovertemplate\":\"speed_cut=\\ub9e4\\uc6b0\\ube60\\ub984\\u003cbr\\u003eid=id0480924\\u003cbr\\u003elatitude=%{lat}\\u003cbr\\u003elongitude=%{lon}\\u003cextra\\u003e\\u003c\\u002fextra\\u003e\",\"lat\":[40.72843170166016,40.73809051513672],\"legendgroup\":\"\\ub9e4\\uc6b0\\ube60\\ub984\",\"line\":{\"color\":\"#ab63fa\",\"width\":1},\"lon\":[-73.99981689453125,-74.05081176757811],\"mode\":\"lines\",\"name\":\"\\ub9e4\\uc6b0\\ube60\\ub984 (path)\",\"showlegend\":false,\"subplot\":\"mapbox\",\"type\":\"scattermapbox\",\"opacity\":0.8},{\"hovertemplate\":\"speed_cut=\\ub9e4\\uc6b0\\ube60\\ub984\\u003cbr\\u003eid=id0271875\\u003cbr\\u003elatitude=%{lat}\\u003cbr\\u003elongitude=%{lon}\\u003cextra\\u003e\\u003c\\u002fextra\\u003e\",\"lat\":[40.76412582397461,40.783740997314446],\"legendgroup\":\"\\ub9e4\\uc6b0\\ube60\\ub984\",\"line\":{\"color\":\"#ab63fa\",\"width\":1},\"lon\":[-73.97107696533203,-73.95669555664062],\"mode\":\"lines\",\"name\":\"\\ub9e4\\uc6b0\\ube60\\ub984 (path)\",\"showlegend\":false,\"subplot\":\"mapbox\",\"type\":\"scattermapbox\",\"opacity\":0.8},{\"hovertemplate\":\"speed_cut=\\ub9e4\\uc6b0\\ube60\\ub984\\u003cbr\\u003eid=id2723141\\u003cbr\\u003elatitude=%{lat}\\u003cbr\\u003elongitude=%{lon}\\u003cextra\\u003e\\u003c\\u002fextra\\u003e\",\"lat\":[40.752979278564446,40.70758056640625],\"legendgroup\":\"\\ub9e4\\uc6b0\\ube60\\ub984\",\"line\":{\"color\":\"#ab63fa\",\"width\":1},\"lon\":[-73.97933197021484,-74.00406646728516],\"mode\":\"lines\",\"name\":\"\\ub9e4\\uc6b0\\ube60\\ub984 (path)\",\"showlegend\":false,\"subplot\":\"mapbox\",\"type\":\"scattermapbox\",\"opacity\":0.8},{\"hovertemplate\":\"speed_cut=\\ub9e4\\uc6b0\\ube60\\ub984\\u003cbr\\u003eid=id3457947\\u003cbr\\u003elatitude=%{lat}\\u003cbr\\u003elongitude=%{lon}\\u003cextra\\u003e\\u003c\\u002fextra\\u003e\",\"lat\":[40.767120361328125,40.77658081054688],\"legendgroup\":\"\\ub9e4\\uc6b0\\ube60\\ub984\",\"line\":{\"color\":\"#ab63fa\",\"width\":1},\"lon\":[-73.9688720703125,-73.96205139160156],\"mode\":\"lines\",\"name\":\"\\ub9e4\\uc6b0\\ube60\\ub984 (path)\",\"showlegend\":false,\"subplot\":\"mapbox\",\"type\":\"scattermapbox\",\"opacity\":0.8},{\"hovertemplate\":\"speed_cut=\\ub9e4\\uc6b0\\ube60\\ub984\\u003cbr\\u003eid=id2035188\\u003cbr\\u003elatitude=%{lat}\\u003cbr\\u003elongitude=%{lon}\\u003cextra\\u003e\\u003c\\u002fextra\\u003e\",\"lat\":[40.76887130737305,40.75527572631836],\"legendgroup\":\"\\ub9e4\\uc6b0\\ube60\\ub984\",\"line\":{\"color\":\"#ab63fa\",\"width\":1},\"lon\":[-73.95445251464845,-73.96514892578125],\"mode\":\"lines\",\"name\":\"\\ub9e4\\uc6b0\\ube60\\ub984 (path)\",\"showlegend\":false,\"subplot\":\"mapbox\",\"type\":\"scattermapbox\",\"opacity\":0.8},{\"hovertemplate\":\"speed_cut=\\ub9e4\\uc6b0\\ube60\\ub984\\u003cbr\\u003eid=id0453108\\u003cbr\\u003elatitude=%{lat}\\u003cbr\\u003elongitude=%{lon}\\u003cextra\\u003e\\u003c\\u002fextra\\u003e\",\"lat\":[40.64477157592773,40.832279205322266],\"legendgroup\":\"\\ub9e4\\uc6b0\\ube60\\ub984\",\"line\":{\"color\":\"#ab63fa\",\"width\":1},\"lon\":[-73.78182983398438,-73.94233703613281],\"mode\":\"lines\",\"name\":\"\\ub9e4\\uc6b0\\ube60\\ub984 (path)\",\"showlegend\":false,\"subplot\":\"mapbox\",\"type\":\"scattermapbox\",\"opacity\":0.8},{\"hovertemplate\":\"speed_cut=\\ub9e4\\uc6b0\\ube60\\ub984\\u003cbr\\u003eid=id3413834\\u003cbr\\u003elatitude=%{lat}\\u003cbr\\u003elongitude=%{lon}\\u003cextra\\u003e\\u003c\\u002fextra\\u003e\",\"lat\":[40.66177749633789,40.773601531982415],\"legendgroup\":\"\\ub9e4\\uc6b0\\ube60\\ub984\",\"line\":{\"color\":\"#ab63fa\",\"width\":1},\"lon\":[-73.82536315917967,-73.87093353271484],\"mode\":\"lines\",\"name\":\"\\ub9e4\\uc6b0\\ube60\\ub984 (path)\",\"showlegend\":false,\"subplot\":\"mapbox\",\"type\":\"scattermapbox\",\"opacity\":0.8},{\"hovertemplate\":\"speed_cut=\\ub9e4\\uc6b0\\ube60\\ub984\\u003cbr\\u003eid=id3646444\\u003cbr\\u003elatitude=%{lat}\\u003cbr\\u003elongitude=%{lon}\\u003cextra\\u003e\\u003c\\u002fextra\\u003e\",\"lat\":[40.64687347412109,40.78129196166992],\"legendgroup\":\"\\ub9e4\\uc6b0\\ube60\\ub984\",\"line\":{\"color\":\"#ab63fa\",\"width\":1},\"lon\":[-73.79014587402342,-73.9521942138672],\"mode\":\"lines\",\"name\":\"\\ub9e4\\uc6b0\\ube60\\ub984 (path)\",\"showlegend\":false,\"subplot\":\"mapbox\",\"type\":\"scattermapbox\",\"opacity\":0.8},{\"hovertemplate\":\"speed_cut=\\ub9e4\\uc6b0\\ube60\\ub984\\u003cbr\\u003eid=id0345371\\u003cbr\\u003elatitude=%{lat}\\u003cbr\\u003elongitude=%{lon}\\u003cextra\\u003e\\u003c\\u002fextra\\u003e\",\"lat\":[40.64469146728516,40.70872116088867],\"legendgroup\":\"\\ub9e4\\uc6b0\\ube60\\ub984\",\"line\":{\"color\":\"#ab63fa\",\"width\":1},\"lon\":[-73.78196716308595,-73.9399185180664],\"mode\":\"lines\",\"name\":\"\\ub9e4\\uc6b0\\ube60\\ub984 (path)\",\"showlegend\":false,\"subplot\":\"mapbox\",\"type\":\"scattermapbox\",\"opacity\":0.8},{\"hovertemplate\":\"speed_cut=\\ub9e4\\uc6b0\\ube60\\ub984\\u003cbr\\u003eid=id2676557\\u003cbr\\u003elatitude=%{lat}\\u003cbr\\u003elongitude=%{lon}\\u003cextra\\u003e\\u003c\\u002fextra\\u003e\",\"lat\":[40.74818420410156,40.738807678222656],\"legendgroup\":\"\\ub9e4\\uc6b0\\ube60\\ub984\",\"line\":{\"color\":\"#ab63fa\",\"width\":1},\"lon\":[-73.97811889648438,-73.98301696777342],\"mode\":\"lines\",\"name\":\"\\ub9e4\\uc6b0\\ube60\\ub984 (path)\",\"showlegend\":false,\"subplot\":\"mapbox\",\"type\":\"scattermapbox\",\"opacity\":0.8},{\"hovertemplate\":\"speed_cut=\\ub9e4\\uc6b0\\ub290\\ub9bc\\u003cbr\\u003epassenger_count=%{marker.size}\\u003cbr\\u003elatitude=%{lat}\\u003cbr\\u003elongitude=%{lon}\\u003cextra\\u003e\\u003c\\u002fextra\\u003e\",\"lat\":[40.75983047485352,40.75983047485352,40.78168487548828,40.781299591064446,40.763519287109375,40.761749267578125,40.74432373046875,40.74211883544922,40.70718383789063,40.70901870727539,40.77495956420898,40.77154159545898,40.72530364990234,40.71965026855469,40.734371185302734,40.75623321533203,40.739540100097656,40.735721588134766,40.73308181762695,40.730018615722656,40.776123046875,40.77534103393555,40.777099609375,40.746826171875,40.74722671508789,40.74184036254882,40.7467155456543,40.75249862670898,40.72389602661133,40.72259521484375,40.76140594482422,40.76454162597656,40.74169921875,40.744140625,40.78596115112305,40.77871322631836,40.79790878295898,40.794048309326165,40.75261306762695,40.76639175415039,40.73777770996094,40.74677658081056,40.74413299560546,40.7393684387207,40.7302360534668,40.7324447631836,40.72117233276367,40.74240493774414,40.74275970458984,40.76290130615234,40.757469177246094,40.771968841552734,40.72243118286133,40.76266860961913,40.79058837890625,40.79840850830078,40.76341247558594,40.71963119506836,40.75000762939453,40.74380493164063,40.761695861816406,40.74729537963867,40.74566268920898,40.72234725952149,40.78450012207031,40.804832458496094,40.75505065917969,40.773868560791016,40.7793083190918,40.7683982849121,40.77922821044922,40.746257781982415,40.743770599365234,40.75796890258789],\"legendgroup\":\"\\ub9e4\\uc6b0\\ub290\\ub9bc\",\"lon\":[-73.97090148925781,-73.97090148925781,-73.98113250732422,-73.981201171875,-73.96932220458984,-73.97138977050781,-73.98423767089844,-73.97466278076173,-74.01651763916014,-74.0118637084961,-73.98088073730467,-73.9818115234375,-73.9925537109375,-73.9946060180664,-73.98973846435547,-73.99331665039062,-73.98706817626953,-73.98265838623048,-74.00662231445312,-74.00050354003906,-73.96235656738281,-73.96501922607422,-73.97775268554686,-73.99005889892578,-73.9910430908203,-74.0008773803711,-73.98993682861328,-73.97853851318358,-74.00457000732422,-74.00528717041014,-73.97090911865233,-73.97366333007811,-73.97492218017578,-73.97913360595702,-73.97699737548828,-73.9814453125,-73.97329711914062,-73.97196960449217,-73.98545074462889,-73.96286010742188,-73.99762725830078,-74.00828552246092,-74.00689697265625,-74.00737762451173,-73.99922180175781,-74.00647735595702,-73.98760986328125,-74.00107574462889,-73.97737884521484,-73.98320770263672,-73.96942901611328,-73.9827423095703,-73.98615264892578,-73.98597717285155,-73.949951171875,-73.95243072509764,-73.98194122314453,-73.99542999267578,-73.99179077148438,-73.98795318603516,-74.00177764892578,-73.98175048828125,-73.98463439941406,-73.99722290039062,-73.95220947265625,-73.96610260009764,-73.97960662841797,-73.98236846923827,-73.96006774902342,-73.9656524658203,-73.95587921142578,-73.98580169677734,-73.98335266113281,-73.98609161376953],\"marker\":{\"color\":\"#636efa\",\"size\":[2,2,1,1,2,2,2,2,1,1,2,2,2,2,1,1,1,1,1,1,1,1,1,1,2,2,1,1,1,1,1,1,1,1,1,1,1,1,1,1,1,1,1,1,1,1,1,1,1,1,1,1,1,1,1,1,1,1,1,1,1,1,2,2,2,2,4,4,1,1,5,5,1,1],\"sizemode\":\"area\",\"sizeref\":0.06},\"mode\":\"markers\",\"name\":\"\\ub9e4\\uc6b0\\ub290\\ub9bc (pickup\\u002fdropoff)\",\"showlegend\":true,\"subplot\":\"mapbox\",\"type\":\"scattermapbox\",\"line\":{\"width\":1},\"opacity\":0.8},{\"hovertemplate\":\"speed_cut=\\uc870\\uae08\\ub290\\ub9bc\\u003cbr\\u003epassenger_count=%{marker.size}\\u003cbr\\u003elatitude=%{lat}\\u003cbr\\u003elongitude=%{lon}\\u003cextra\\u003e\\u003c\\u002fextra\\u003e\",\"lat\":[40.75085067749024,40.74156188964844,40.763145446777344,40.76424789428711,40.76767349243164,40.777053833007805,40.73989868164063,40.730010986328125,40.763973236083984,40.76081848144531,40.760250091552734,40.79518127441406,40.756885528564446,40.74981689453125,40.79246139526367,40.78707885742188,40.73473739624024,40.7226448059082,40.75053024291992,40.75751876831056,40.7509651184082,40.74673461914063,40.73553085327149,40.76554107666016,40.744510650634766,40.7564582824707,40.75918960571289,40.7098503112793,40.7630615234375,40.76905059814453,40.76215744018555,40.74748611450195,40.74530792236328,40.74227523803711,40.7457275390625,40.71868896484375,40.75412368774414,40.77298355102539,40.75320816040039,40.7714958190918,40.76899337768555,40.76704025268555,40.74298095703125,40.71076965332031,40.72407150268555,40.75766372680664,40.7665901184082,40.75624084472656,40.7463493347168,40.742500305175774,40.75112533569336,40.73820495605469,40.73915481567384,40.74427795410156,40.74463272094727,40.759124755859375,40.73919296264648,40.74143600463867,40.7253303527832,40.777881622314446,40.75419235229492,40.762859344482415,40.7617416381836,40.76359939575195,40.74908065795898,40.6697654724121,40.76555252075195,40.79889678955078,40.7724494934082,40.755836486816406,40.759868621826165,40.75054931640625],\"legendgroup\":\"\\uc870\\uae08\\ub290\\ub9bc\",\"lon\":[-73.97830963134764,-73.993896484375,-73.96985626220702,-73.95646667480467,-73.98075866699219,-73.98257446289062,-73.98174285888672,-73.9792709350586,-73.99028778076173,-73.97960662841797,-73.96861267089844,-73.96575927734375,-73.9898910522461,-73.99140167236328,-73.94084167480467,-73.95390319824217,-74.0038833618164,-73.98736572265625,-73.98738098144531,-73.98204803466798,-73.97477722167967,-73.97140502929686,-73.98988342285155,-73.97640228271484,-73.98111724853516,-74.00170135498048,-73.98509216308595,-73.96215057373048,-73.97570037841797,-73.98491668701173,-73.98597717285155,-73.97697448730467,-74.00784301757811,-73.98967742919923,-73.9908905029297,-74.0053482055664,-73.97389221191406,-73.9782943725586,-73.98626708984375,-73.95969390869139,-73.96334075927734,-73.95381164550781,-73.98845672607422,-74.01339721679686,-74.00241088867188,-73.98356628417967,-73.98652648925781,-73.97042846679686,-73.97167205810547,-73.97420501708984,-73.97836303710938,-73.98540496826173,-73.99610137939453,-73.98767852783203,-73.97919464111328,-73.97645568847656,-73.98406982421875,-73.95230865478516,-73.99237060546875,-73.98873138427734,-73.97592163085938,-73.98892211914062,-73.96864318847656,-73.98738861083984,-74.00839233398438,-73.97919464111328,-73.96790313720702,-73.96857452392578,-73.96265411376953,-73.9784927368164,-73.96180725097656,-73.97480010986328],\"marker\":{\"color\":\"#EF553B\",\"size\":[1,1,4,4,1,1,2,2,2,2,2,2,1,1,2,2,1,1,2,2,1,1,3,3,2,2,5,5,1,1,1,1,2,2,1,1,1,1,1,1,1,1,4,4,1,1,2,2,1,1,5,5,1,1,2,2,1,1,1,1,2,2,1,1,4,4,1,1,1,1,5,5],\"sizemode\":\"area\",\"sizeref\":0.06},\"mode\":\"markers\",\"name\":\"\\uc870\\uae08\\ub290\\ub9bc (pickup\\u002fdropoff)\",\"showlegend\":true,\"subplot\":\"mapbox\",\"type\":\"scattermapbox\",\"line\":{\"width\":1},\"opacity\":0.8},{\"hovertemplate\":\"speed_cut=\\uc870\\uae08\\ube60\\ub984\\u003cbr\\u003epassenger_count=%{marker.size}\\u003cbr\\u003elatitude=%{lat}\\u003cbr\\u003elongitude=%{lon}\\u003cextra\\u003e\\u003c\\u002fextra\\u003e\",\"lat\":[40.74464797973633,40.72493362426758,40.75567626953125,40.72474670410156,40.755126953125,40.74041366577149,40.655078887939446,40.7249755859375,40.73714065551758,40.72565841674805,40.75128173828125,40.76827239990234,40.67301177978516,40.73410034179688,40.76793670654297,40.765602111816406,40.77785873413086,40.75857162475586,40.75810241699219,40.790283203125,40.752891540527344,40.739990234375,40.71483612060546,40.789600372314446,40.77115631103516,40.766788482666016,40.7891731262207,40.794429779052734,40.79747772216797,40.80135726928711,40.782241821289055,40.64473342895508,40.7554817199707,40.74057769775391,40.709976196289055,40.69548034667969,40.68634033203125,40.72257232666016,40.78654861450195,40.734493255615234,40.78641128540039,40.77379989624024,40.77749633789063,40.78201675415039,40.761756896972656,40.76946258544922,40.76385116577149,40.7640037536621,40.750431060791016,40.78049087524414,40.78279113769531,40.770069122314446,40.785789489746094,40.77674865722656,40.831321716308594,40.862701416015625,40.75713348388672,40.7334213256836,40.76800155639648,40.78261184692384,40.76673126220703,40.805000305175774,40.73417663574219,40.74989700317384,40.78954315185546,40.79740524291992,40.79996109008789,40.81560134887695,40.764122009277344,40.74626541137695,40.75947952270508,40.749908447265625,40.73513412475586,40.71914291381836],\"legendgroup\":\"\\uc870\\uae08\\ube60\\ub984\",\"lon\":[-73.99140930175781,-73.9950942993164,-73.96500396728516,-74.00196075439453,-73.9874267578125,-73.98683166503906,-73.955322265625,-73.9844207763672,-73.99044036865233,-73.99471282958984,-73.93987274169923,-73.95292663574217,-73.96280670166014,-73.9994888305664,-73.98215484619139,-73.96463012695312,-73.94394683837889,-73.96356964111328,-73.96311950683594,-73.96560668945312,-73.97013854980467,-73.98188781738281,-74.0139389038086,-73.97001647949219,-73.98324584960938,-73.96295928955078,-73.9527587890625,-73.97160339355469,-73.96974182128906,-73.95948791503906,-73.94640350341797,-73.78192138671875,-73.97085571289062,-73.97972869873048,-74.00458526611328,-73.99742889404298,-73.97468566894531,-74.00359344482422,-73.97239685058595,-74.00151824951173,-73.95282745361328,-73.97776794433594,-73.9781494140625,-73.97631072998048,-73.96741485595702,-73.92103576660156,-73.96236419677734,-73.97434234619139,-73.98802947998048,-73.94779968261719,-73.95319366455078,-73.98792266845702,-73.9532470703125,-73.95974731445312,-73.89300537109375,-73.90413665771484,-73.9832763671875,-74.00246429443358,-73.97037506103516,-73.95343017578125,-73.96306610107422,-73.93858337402342,-73.99500274658203,-73.99164581298828,-73.96743774414062,-73.94892883300781,-73.9586410522461,-73.93981170654298,-73.9558334350586,-73.97246551513672,-73.99555969238281,-73.9881591796875,-74.00606536865233,-74.00506591796875],\"marker\":{\"color\":\"#00cc96\",\"size\":[4,4,6,6,2,2,1,1,2,2,1,1,3,3,1,1,1,1,2,2,1,1,2,2,1,1,6,6,1,1,3,3,6,6,2,2,1,1,3,3,1,1,1,1,1,1,3,3,2,2,1,1,1,1,1,1,1,1,1,1,1,1,1,1,1,1,1,1,1,1,1,1,1,1],\"sizemode\":\"area\",\"sizeref\":0.06},\"mode\":\"markers\",\"name\":\"\\uc870\\uae08\\ube60\\ub984 (pickup\\u002fdropoff)\",\"showlegend\":true,\"subplot\":\"mapbox\",\"type\":\"scattermapbox\",\"line\":{\"width\":1},\"opacity\":0.8},{\"hovertemplate\":\"speed_cut=\\ub9e4\\uc6b0\\ube60\\ub984\\u003cbr\\u003epassenger_count=%{marker.size}\\u003cbr\\u003elatitude=%{lat}\\u003cbr\\u003elongitude=%{lon}\\u003cextra\\u003e\\u003c\\u002fextra\\u003e\",\"lat\":[40.73052978515625,40.746219635009766,40.768253326416016,40.77399826049805,40.78382110595703,40.79136657714844,40.743614196777344,40.72272872924805,40.74108123779297,40.73556137084961,40.77948760986328,40.78915786743164,40.82606887817384,40.7630729675293,40.76192474365234,40.76654052734375,40.75484848022461,40.72767639160156,40.80038070678711,40.80709838867188,40.784122467041016,40.77589797973633,40.76678466796875,40.77938079833984,40.78065872192384,40.76536560058594,40.76067352294922,40.762725830078125,40.75593185424805,40.75823974609375,40.75821304321289,40.796680450439446,40.70578384399414,40.643508911132805,40.737281799316406,40.6446418762207,40.68381118774414,40.74114227294922,40.63109970092773,40.75043869018555,40.756568908691406,40.740058898925774,40.705509185791016,40.755401611328125,40.75309753417969,40.645286560058594,40.76717758178711,40.80809020996094,40.64693832397461,40.70998001098633,40.744606018066406,40.768848419189446,40.72843170166016,40.73809051513672,40.76412582397461,40.783740997314446,40.752979278564446,40.70758056640625,40.767120361328125,40.77658081054688,40.76887130737305,40.75527572631836,40.64477157592773,40.832279205322266,40.66177749633789,40.773601531982415,40.64687347412109,40.78129196166992,40.64469146728516,40.70872116088867,40.74818420410156,40.738807678222656],\"legendgroup\":\"\\ub9e4\\uc6b0\\ube60\\ub984\",\"lon\":[-73.98052215576173,-73.99799346923827,-73.98240661621094,-73.95751190185547,-73.97989654541014,-73.97394561767578,-73.95078277587889,-74.00621795654298,-74.00586700439453,-73.99239349365233,-73.95057678222656,-73.94364166259764,-73.94337463378906,-73.98128509521484,-73.97914123535155,-73.99016571044923,-73.98343658447266,-74.00334930419923,-73.96750640869139,-73.95350646972656,-73.9544906616211,-73.96086883544923,-73.95954132080078,-73.94471740722656,-73.98385620117188,-73.9659652709961,-73.98724365234375,-73.92682647705078,-73.91887664794923,-73.98924255371094,-73.98886108398438,-73.96269226074217,-74.00952911376953,-73.79021453857422,-74.00069427490233,-73.77690124511719,-73.9951629638672,-73.99011993408203,-74.02571868896483,-73.99453735351561,-73.98641967773438,-73.99530029296875,-74.00707244873048,-73.96813201904298,-73.99340057373048,-73.7766876220703,-73.99046325683594,-73.9640121459961,-73.78984832763672,-74.005126953125,-73.97144317626953,-73.86279296875,-73.99981689453125,-74.05081176757811,-73.97107696533203,-73.95669555664062,-73.97933197021484,-74.00406646728516,-73.9688720703125,-73.96205139160156,-73.95445251464845,-73.96514892578125,-73.78182983398438,-73.94233703613281,-73.82536315917967,-73.87093353271484,-73.79014587402342,-73.9521942138672,-73.78196716308595,-73.9399185180664,-73.97811889648438,-73.98301696777342],\"marker\":{\"color\":\"#ab63fa\",\"size\":[1,1,2,2,1,1,1,1,1,1,1,1,1,1,1,1,1,1,1,1,1,1,1,1,1,1,1,1,1,1,1,1,1,1,1,1,1,1,1,1,6,6,1,1,2,2,6,6,1,1,1,1,1,1,5,5,1,1,1,1,1,1,1,1,2,2,1,1,2,2,1,1],\"sizemode\":\"area\",\"sizeref\":0.06},\"mode\":\"markers\",\"name\":\"\\ub9e4\\uc6b0\\ube60\\ub984 (pickup\\u002fdropoff)\",\"showlegend\":true,\"subplot\":\"mapbox\",\"type\":\"scattermapbox\",\"line\":{\"width\":1},\"opacity\":0.8}],                        {\"template\":{\"data\":{\"histogram2dcontour\":[{\"type\":\"histogram2dcontour\",\"colorbar\":{\"outlinewidth\":0,\"ticks\":\"\"},\"colorscale\":[[0.0,\"#0d0887\"],[0.1111111111111111,\"#46039f\"],[0.2222222222222222,\"#7201a8\"],[0.3333333333333333,\"#9c179e\"],[0.4444444444444444,\"#bd3786\"],[0.5555555555555556,\"#d8576b\"],[0.6666666666666666,\"#ed7953\"],[0.7777777777777778,\"#fb9f3a\"],[0.8888888888888888,\"#fdca26\"],[1.0,\"#f0f921\"]]}],\"choropleth\":[{\"type\":\"choropleth\",\"colorbar\":{\"outlinewidth\":0,\"ticks\":\"\"}}],\"histogram2d\":[{\"type\":\"histogram2d\",\"colorbar\":{\"outlinewidth\":0,\"ticks\":\"\"},\"colorscale\":[[0.0,\"#0d0887\"],[0.1111111111111111,\"#46039f\"],[0.2222222222222222,\"#7201a8\"],[0.3333333333333333,\"#9c179e\"],[0.4444444444444444,\"#bd3786\"],[0.5555555555555556,\"#d8576b\"],[0.6666666666666666,\"#ed7953\"],[0.7777777777777778,\"#fb9f3a\"],[0.8888888888888888,\"#fdca26\"],[1.0,\"#f0f921\"]]}],\"heatmap\":[{\"type\":\"heatmap\",\"colorbar\":{\"outlinewidth\":0,\"ticks\":\"\"},\"colorscale\":[[0.0,\"#0d0887\"],[0.1111111111111111,\"#46039f\"],[0.2222222222222222,\"#7201a8\"],[0.3333333333333333,\"#9c179e\"],[0.4444444444444444,\"#bd3786\"],[0.5555555555555556,\"#d8576b\"],[0.6666666666666666,\"#ed7953\"],[0.7777777777777778,\"#fb9f3a\"],[0.8888888888888888,\"#fdca26\"],[1.0,\"#f0f921\"]]}],\"heatmapgl\":[{\"type\":\"heatmapgl\",\"colorbar\":{\"outlinewidth\":0,\"ticks\":\"\"},\"colorscale\":[[0.0,\"#0d0887\"],[0.1111111111111111,\"#46039f\"],[0.2222222222222222,\"#7201a8\"],[0.3333333333333333,\"#9c179e\"],[0.4444444444444444,\"#bd3786\"],[0.5555555555555556,\"#d8576b\"],[0.6666666666666666,\"#ed7953\"],[0.7777777777777778,\"#fb9f3a\"],[0.8888888888888888,\"#fdca26\"],[1.0,\"#f0f921\"]]}],\"contourcarpet\":[{\"type\":\"contourcarpet\",\"colorbar\":{\"outlinewidth\":0,\"ticks\":\"\"}}],\"contour\":[{\"type\":\"contour\",\"colorbar\":{\"outlinewidth\":0,\"ticks\":\"\"},\"colorscale\":[[0.0,\"#0d0887\"],[0.1111111111111111,\"#46039f\"],[0.2222222222222222,\"#7201a8\"],[0.3333333333333333,\"#9c179e\"],[0.4444444444444444,\"#bd3786\"],[0.5555555555555556,\"#d8576b\"],[0.6666666666666666,\"#ed7953\"],[0.7777777777777778,\"#fb9f3a\"],[0.8888888888888888,\"#fdca26\"],[1.0,\"#f0f921\"]]}],\"surface\":[{\"type\":\"surface\",\"colorbar\":{\"outlinewidth\":0,\"ticks\":\"\"},\"colorscale\":[[0.0,\"#0d0887\"],[0.1111111111111111,\"#46039f\"],[0.2222222222222222,\"#7201a8\"],[0.3333333333333333,\"#9c179e\"],[0.4444444444444444,\"#bd3786\"],[0.5555555555555556,\"#d8576b\"],[0.6666666666666666,\"#ed7953\"],[0.7777777777777778,\"#fb9f3a\"],[0.8888888888888888,\"#fdca26\"],[1.0,\"#f0f921\"]]}],\"mesh3d\":[{\"type\":\"mesh3d\",\"colorbar\":{\"outlinewidth\":0,\"ticks\":\"\"}}],\"scatter\":[{\"fillpattern\":{\"fillmode\":\"overlay\",\"size\":10,\"solidity\":0.2},\"type\":\"scatter\"}],\"parcoords\":[{\"type\":\"parcoords\",\"line\":{\"colorbar\":{\"outlinewidth\":0,\"ticks\":\"\"}}}],\"scatterpolargl\":[{\"type\":\"scatterpolargl\",\"marker\":{\"colorbar\":{\"outlinewidth\":0,\"ticks\":\"\"}}}],\"bar\":[{\"error_x\":{\"color\":\"#2a3f5f\"},\"error_y\":{\"color\":\"#2a3f5f\"},\"marker\":{\"line\":{\"color\":\"white\",\"width\":0.5},\"pattern\":{\"fillmode\":\"overlay\",\"size\":10,\"solidity\":0.2}},\"type\":\"bar\"}],\"scattergeo\":[{\"type\":\"scattergeo\",\"marker\":{\"colorbar\":{\"outlinewidth\":0,\"ticks\":\"\"}}}],\"scatterpolar\":[{\"type\":\"scatterpolar\",\"marker\":{\"colorbar\":{\"outlinewidth\":0,\"ticks\":\"\"}}}],\"histogram\":[{\"marker\":{\"pattern\":{\"fillmode\":\"overlay\",\"size\":10,\"solidity\":0.2}},\"type\":\"histogram\"}],\"scattergl\":[{\"type\":\"scattergl\",\"marker\":{\"colorbar\":{\"outlinewidth\":0,\"ticks\":\"\"}}}],\"scatter3d\":[{\"type\":\"scatter3d\",\"line\":{\"colorbar\":{\"outlinewidth\":0,\"ticks\":\"\"}},\"marker\":{\"colorbar\":{\"outlinewidth\":0,\"ticks\":\"\"}}}],\"scattermapbox\":[{\"type\":\"scattermapbox\",\"marker\":{\"colorbar\":{\"outlinewidth\":0,\"ticks\":\"\"}}}],\"scatterternary\":[{\"type\":\"scatterternary\",\"marker\":{\"colorbar\":{\"outlinewidth\":0,\"ticks\":\"\"}}}],\"scattercarpet\":[{\"type\":\"scattercarpet\",\"marker\":{\"colorbar\":{\"outlinewidth\":0,\"ticks\":\"\"}}}],\"carpet\":[{\"aaxis\":{\"endlinecolor\":\"#2a3f5f\",\"gridcolor\":\"#C8D4E3\",\"linecolor\":\"#C8D4E3\",\"minorgridcolor\":\"#C8D4E3\",\"startlinecolor\":\"#2a3f5f\"},\"baxis\":{\"endlinecolor\":\"#2a3f5f\",\"gridcolor\":\"#C8D4E3\",\"linecolor\":\"#C8D4E3\",\"minorgridcolor\":\"#C8D4E3\",\"startlinecolor\":\"#2a3f5f\"},\"type\":\"carpet\"}],\"table\":[{\"cells\":{\"fill\":{\"color\":\"#EBF0F8\"},\"line\":{\"color\":\"white\"}},\"header\":{\"fill\":{\"color\":\"#C8D4E3\"},\"line\":{\"color\":\"white\"}},\"type\":\"table\"}],\"barpolar\":[{\"marker\":{\"line\":{\"color\":\"white\",\"width\":0.5},\"pattern\":{\"fillmode\":\"overlay\",\"size\":10,\"solidity\":0.2}},\"type\":\"barpolar\"}],\"pie\":[{\"automargin\":true,\"type\":\"pie\"}]},\"layout\":{\"autotypenumbers\":\"strict\",\"colorway\":[\"#636efa\",\"#EF553B\",\"#00cc96\",\"#ab63fa\",\"#FFA15A\",\"#19d3f3\",\"#FF6692\",\"#B6E880\",\"#FF97FF\",\"#FECB52\"],\"font\":{\"color\":\"#2a3f5f\"},\"hovermode\":\"closest\",\"hoverlabel\":{\"align\":\"left\"},\"paper_bgcolor\":\"white\",\"plot_bgcolor\":\"white\",\"polar\":{\"bgcolor\":\"white\",\"angularaxis\":{\"gridcolor\":\"#EBF0F8\",\"linecolor\":\"#EBF0F8\",\"ticks\":\"\"},\"radialaxis\":{\"gridcolor\":\"#EBF0F8\",\"linecolor\":\"#EBF0F8\",\"ticks\":\"\"}},\"ternary\":{\"bgcolor\":\"white\",\"aaxis\":{\"gridcolor\":\"#DFE8F3\",\"linecolor\":\"#A2B1C6\",\"ticks\":\"\"},\"baxis\":{\"gridcolor\":\"#DFE8F3\",\"linecolor\":\"#A2B1C6\",\"ticks\":\"\"},\"caxis\":{\"gridcolor\":\"#DFE8F3\",\"linecolor\":\"#A2B1C6\",\"ticks\":\"\"}},\"coloraxis\":{\"colorbar\":{\"outlinewidth\":0,\"ticks\":\"\"}},\"colorscale\":{\"sequential\":[[0.0,\"#0d0887\"],[0.1111111111111111,\"#46039f\"],[0.2222222222222222,\"#7201a8\"],[0.3333333333333333,\"#9c179e\"],[0.4444444444444444,\"#bd3786\"],[0.5555555555555556,\"#d8576b\"],[0.6666666666666666,\"#ed7953\"],[0.7777777777777778,\"#fb9f3a\"],[0.8888888888888888,\"#fdca26\"],[1.0,\"#f0f921\"]],\"sequentialminus\":[[0.0,\"#0d0887\"],[0.1111111111111111,\"#46039f\"],[0.2222222222222222,\"#7201a8\"],[0.3333333333333333,\"#9c179e\"],[0.4444444444444444,\"#bd3786\"],[0.5555555555555556,\"#d8576b\"],[0.6666666666666666,\"#ed7953\"],[0.7777777777777778,\"#fb9f3a\"],[0.8888888888888888,\"#fdca26\"],[1.0,\"#f0f921\"]],\"diverging\":[[0,\"#8e0152\"],[0.1,\"#c51b7d\"],[0.2,\"#de77ae\"],[0.3,\"#f1b6da\"],[0.4,\"#fde0ef\"],[0.5,\"#f7f7f7\"],[0.6,\"#e6f5d0\"],[0.7,\"#b8e186\"],[0.8,\"#7fbc41\"],[0.9,\"#4d9221\"],[1,\"#276419\"]]},\"xaxis\":{\"gridcolor\":\"#EBF0F8\",\"linecolor\":\"#EBF0F8\",\"ticks\":\"\",\"title\":{\"standoff\":15},\"zerolinecolor\":\"#EBF0F8\",\"automargin\":true,\"zerolinewidth\":2},\"yaxis\":{\"gridcolor\":\"#EBF0F8\",\"linecolor\":\"#EBF0F8\",\"ticks\":\"\",\"title\":{\"standoff\":15},\"zerolinecolor\":\"#EBF0F8\",\"automargin\":true,\"zerolinewidth\":2},\"scene\":{\"xaxis\":{\"backgroundcolor\":\"white\",\"gridcolor\":\"#DFE8F3\",\"linecolor\":\"#EBF0F8\",\"showbackground\":true,\"ticks\":\"\",\"zerolinecolor\":\"#EBF0F8\",\"gridwidth\":2},\"yaxis\":{\"backgroundcolor\":\"white\",\"gridcolor\":\"#DFE8F3\",\"linecolor\":\"#EBF0F8\",\"showbackground\":true,\"ticks\":\"\",\"zerolinecolor\":\"#EBF0F8\",\"gridwidth\":2},\"zaxis\":{\"backgroundcolor\":\"white\",\"gridcolor\":\"#DFE8F3\",\"linecolor\":\"#EBF0F8\",\"showbackground\":true,\"ticks\":\"\",\"zerolinecolor\":\"#EBF0F8\",\"gridwidth\":2}},\"shapedefaults\":{\"line\":{\"color\":\"#2a3f5f\"}},\"annotationdefaults\":{\"arrowcolor\":\"#2a3f5f\",\"arrowhead\":0,\"arrowwidth\":1},\"geo\":{\"bgcolor\":\"white\",\"landcolor\":\"white\",\"subunitcolor\":\"#C8D4E3\",\"showland\":true,\"showlakes\":true,\"lakecolor\":\"white\"},\"title\":{\"x\":0.05},\"mapbox\":{\"style\":\"light\"}}},\"mapbox\":{\"domain\":{\"x\":[0.0,1.0],\"y\":[0.0,1.0]},\"center\":{\"lat\":40.7322,\"lon\":-73.9052},\"zoom\":11,\"style\":\"carto-positron\"},\"legend\":{\"title\":{\"text\":\"\\ud3c9\\uade0\\uc18d\\ub825\"},\"tracegroupgap\":0},\"margin\":{\"t\":60}},                        {\"responsive\": true}                    ).then(function(){\n",
       "                            \n",
       "var gd = document.getElementById('bd1d46d0-4000-4c27-9a4c-915d10bb7e56');\n",
       "var x = new MutationObserver(function (mutations, observer) {{\n",
       "        var display = window.getComputedStyle(gd).display;\n",
       "        if (!display || display === 'none') {{\n",
       "            console.log([gd, 'removed!']);\n",
       "            Plotly.purge(gd);\n",
       "            observer.disconnect();\n",
       "        }}\n",
       "}});\n",
       "\n",
       "// Listen for the removal of the full notebook cells\n",
       "var notebookContainer = gd.closest('#notebook-container');\n",
       "if (notebookContainer) {{\n",
       "    x.observe(notebookContainer, {childList: true});\n",
       "}}\n",
       "\n",
       "// Listen for the clearing of the current output cell\n",
       "var outputEl = gd.closest('.output');\n",
       "if (outputEl) {{\n",
       "    x.observe(outputEl, {childList: true});\n",
       "}}\n",
       "\n",
       "                        })                };                });            </script>        </div>"
      ]
     },
     "metadata": {},
     "output_type": "display_data"
    }
   ],
   "source": [
    "fig3.show()"
   ]
  },
  {
   "cell_type": "code",
   "execution_count": 107,
   "id": "544249d6-f341-4303-91ef-a5d67f7e1f0a",
   "metadata": {},
   "outputs": [
    {
     "data": {
      "text/plain": [
       "'매우느림 (path)'"
      ]
     },
     "execution_count": 107,
     "metadata": {},
     "output_type": "execute_result"
    }
   ],
   "source": [
    "# for i in range(150):\n",
    "#     print(fig3.data[i])\n",
    "\n",
    "fig3.data[i]['legendgroup'] = fig3.data[i]['legendgroup'] + ' (path)'"
   ]
  },
  {
   "cell_type": "code",
   "execution_count": 108,
   "id": "aa27cad6-ebcb-426e-a9ed-8305016904bd",
   "metadata": {},
   "outputs": [
    {
     "data": {
      "text/plain": [
       "Scattermapbox({\n",
       "    'hovertemplate': '평균속력=매우느림<br>id=id1891478<br>latitude=%{lat}<br>longitude=%{lon}<extra></extra>',\n",
       "    'lat': array([40.75983047, 40.75983047]),\n",
       "    'legendgroup': '매우느림',\n",
       "    'line': {'color': '#636efa', 'width': 1},\n",
       "    'lon': array([-73.97090149, -73.97090149]),\n",
       "    'mode': 'lines',\n",
       "    'name': '매우느림',\n",
       "    'opacity': 0.8,\n",
       "    'showlegend': True,\n",
       "    'subplot': 'mapbox'\n",
       "})"
      ]
     },
     "execution_count": 108,
     "metadata": {},
     "output_type": "execute_result"
    }
   ],
   "source": [
    "fig3.data[0]"
   ]
  },
  {
   "cell_type": "code",
   "execution_count": 113,
   "id": "ac4e60c6-eff4-44e3-bacb-87eb1fd2634d",
   "metadata": {},
   "outputs": [],
   "source": [
    "for i in range(150):\n",
    "    if fig3.data[i].mode == 'lines':\n",
    "        fig3.data[i]['legendgroup'] + ' (path)'\n",
    "    else:\n",
    "        fig3.data[i]['legendgroup'] + ' (pickup/dropoff)'"
   ]
  },
  {
   "cell_type": "code",
   "execution_count": 112,
   "id": "a5ea6f2d-83f4-41bb-8e73-685c59783a70",
   "metadata": {},
   "outputs": [
    {
     "data": {
      "text/plain": [
       "150"
      ]
     },
     "execution_count": 112,
     "metadata": {},
     "output_type": "execute_result"
    }
   ],
   "source": [
    "len(fig3.data)"
   ]
  },
  {
   "cell_type": "code",
   "execution_count": null,
   "id": "c89c2c73-8e00-42ed-a7f6-a47d160d6eca",
   "metadata": {},
   "outputs": [],
   "source": []
  }
 ],
 "metadata": {
  "kernelspec": {
   "display_name": "Python 3 (ipykernel)",
   "language": "python",
   "name": "python3"
  },
  "language_info": {
   "codemirror_mode": {
    "name": "ipython",
    "version": 3
   },
   "file_extension": ".py",
   "mimetype": "text/x-python",
   "name": "python",
   "nbconvert_exporter": "python",
   "pygments_lexer": "ipython3",
   "version": "3.10.13"
  }
 },
 "nbformat": 4,
 "nbformat_minor": 5
}
